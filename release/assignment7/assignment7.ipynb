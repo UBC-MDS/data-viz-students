{
 "cells": [
  {
   "cell_type": "markdown",
   "metadata": {},
   "source": [
    "# Data Visualization\n",
    "\n",
    "## Assignment 7: Interactive Visualizations"
   ]
  },
  {
   "cell_type": "markdown",
   "metadata": {},
   "source": [
    "You can't learn technical subjects without hands-on practice. The assignments are an important part of the course. To submit this assignment you will need to make sure that you save your Jupyter notebook. \n",
    "\n",
    "Below are the links to 2 videos that explain:\n",
    "\n",
    "1. [How to save your Jupyter notebook](https://youtu.be/0aoLgBoAUSA) and,       \n",
    "2. [How to answer a question in a Jupyter notebook assignment](https://youtu.be/7j0WKhI3W4s)."
   ]
  },
  {
   "cell_type": "markdown",
   "metadata": {},
   "source": [
    "<div class=\"alert alert-info\" style=\"color:black\">\n",
    "    \n",
    "Assignment Learning Goals:\n",
    "\n",
    "By the end of the module, students are expected to:\n",
    "\n",
    "- Create selections within a plot.\n",
    "- Link selections between plots to highlight and select data.\n",
    "- Develop widgets to filter plotted data.\n",
    "- Share interactive visualizations without running a full dashboard or Python.\n",
    "    \n",
    "\n",
    "This assignment covers [Module 7](https://viz-learn.mds.ubc.ca/en/module7) of the online course. You should complete this module before attempting this assignment.\n",
    " \n",
    "</div>"
   ]
  },
  {
   "cell_type": "markdown",
   "metadata": {},
   "source": [
    "Any place you see `...`, you must fill in the function, variable, or data to complete the code. Substitute the `None` and the `raise NotImplementedError # No Answer - remove if you provide an answer` with your completed code and answers then proceed to run the cell!"
   ]
  },
  {
   "cell_type": "markdown",
   "metadata": {},
   "source": [
    "Note that some of the questions in this assignment will have hidden tests. This means that no feedback will be given as to the correctness of your solution. It will be left up to you to decide if your answer is sufficiently correct. These questions are worth 2 points."
   ]
  },
  {
   "cell_type": "code",
   "execution_count": null,
   "metadata": {},
   "outputs": [],
   "source": [
    "# Import libraries needed for this assignment\n",
    "\n",
    "from hashlib import sha1\n",
    "\n",
    "import altair as alt\n",
    "import pandas as pd\n",
    "import test_assignment7 as t\n",
    "from vega_datasets import data\n",
    "\n",
    "alt.data_transformers.enable(\"default\", max_rows=None)\n",
    "# Handle large data sets without embedding them in the notebook\n",
    "#alt.data_transformers.enable('data_server');"
   ]
  },
  {
   "cell_type": "markdown",
   "metadata": {},
   "source": [
    "# 0. Let's Bring the Action \n",
    "\n",
    "Welcome to the season play-offs. Not only have we gotten to the final round of the assignments but we've also gotten to the final game of batting season!\n",
    "\n",
    "In this week's game assignment, our goal is to try to showcase just how useful widgets, and interactivity is to communicating our insights to our audience. Yes, there are other ways to answer some of the questions in this assignment, but we want to really focus on how convenient and time-saving certain features can be.\n",
    "The data we are exploring are from [Sean Lahman's Baseball dataset](http://www.seanlahman.com/baseball-archive/statistics/)  - a baseball resource that has the statistics on players across many different leagues and years. The license can be viewed [here](http://www.seanlahman.com/baseball-archive/statistics/). \n",
    "\n",
    "This data has several modifications have been made so that the visualization process is a home run. \n",
    "\n",
    "***NOTE: This is a larger dataset and because of that, the interactivity component is going to be a little slower but just be a little patient.***\n",
    "\n",
    "It's important to note that in the real world, the data playing field is often not as well maintained as what we provide. Often data is messy and needs a lot of wrangling before we can even begin the task at hand. Think of it as cross-country skiing with lots of bumps and holes that need addressing. In this course, we really want to focus on visualizing the data since the wangling and cleaning part you learned already in [Programming in Python for Data Science ](https://prog-learn.mds.ubc.ca/)\n",
    "\n",
    "For this assignment we will be looking at 2 tables, one with the players statistics such as their height, date of birth etc. and a second with their game stats over each season they played and their position. \n",
    "The description of the columns of both datasets can be found below and they are available at the links provided .\n",
    "\n",
    "### [`baseball_players.json`](https://raw.githubusercontent.com/UBC-MDS/exploratory-data-viz/main/data/baseball_players.json): \n",
    "\n",
    "\n",
    "| Column            | Description                                                                            |\n",
    "|-------------------|:---------------------------------------------------------------------------------------|\n",
    "| player_id         | A unique code assigned to each player.                                                 |\n",
    "| birth_year        | Year player was born                                                                   |\n",
    "| birth_month       | Month  player was born                                                                 |\n",
    "| birth_day         | Day player was born                                                                    |\n",
    "| birth_date        | year, month and day player was born                                                    |\n",
    "| birth_country     | Country where player was born                                                          |\n",
    "| birth_state       | State where player was born                                                            |\n",
    "| birth_city        | City where player was born                                                             |\n",
    "| death_year        | Year player died                                                                       |\n",
    "| death_country     | Country where player died                                                              |\n",
    "| death_state       | State where player died                                                                |\n",
    "| name_first        | Player’s first name                                                                    |\n",
    "| name_last         | Player’s last name                                                                     |\n",
    "| name_given        | Player’s given name (typically first and middle)                                       |\n",
    "| height            | Player's height in inches                                                              |\n",
    "| weight            | Player's weight in pounds                                                              |\n",
    "| bats              | Player’s batting hand (left (L), right (R), or both (B))                               |\n",
    "| throws            | Player’s throwing hand (left(L) or right(R))                                           |\n",
    "| debut             | Date that player made first major league appearance                                    |\n",
    "| final_game        | Date that player made first major league appearance (blank if still active)            |\n",
    "| id_country        | The [ISO 3166-1 numeric code](https://en.wikipedia.org/wiki/ISO_3166-1_numeric) of the country in `first_nationality`                                    |\n",
    "| region            | The continent of which the country from `first_nationality` belongs to                 |\n",
    "| id                | The state code to create a US map                                                      |\n",
    "\n",
    "\n",
    "### [`states_df.json`](https://raw.githubusercontent.com/UBC-MDS/exploratory-data-viz/main/data/states_df.json) \n",
    "\n",
    "| Column            | Description                                                                            |\n",
    "|-------------------|:---------------------------------------------------------------------------------------|\n",
    "| birth_state       | The unique shortform of each State in the U                                            |\n",
    "| id                | The id used to map each state                                                          |\n",
    "| player_num        | Number of players                                                                      |\n",
    "\n",
    "\n",
    "### [`baseball_pitchers.json`](https://raw.githubusercontent.com/UBC-MDS/exploratory-data-viz/main/data/baseball_pitchers.json) \n",
    "\n",
    "| Column            | Description                                                                            |\n",
    "|-------------------|:---------------------------------------------------------------------------------------|\n",
    "| player_id         | A unique code assigned to each player.                                                 |\n",
    "| teamID            | Team                                                                                   |\n",
    "| W                 | Wins                                                                                   |\n",
    "| L                 | Losses                                                                                 |\n",
    "| G                 | Games                                                                                  |\n",
    "| GS                | Games Started                                                                          |\n",
    "| CG                | Complete Games                                                                         |\n",
    "| SHO               | Shutouts                                                                               |\n",
    "| SV                | Saves                                                                                  |\n",
    "| IPouts            | Outs Pitched (innings pitched x 3)                                                     |\n",
    "| H                 | Hits                                                                                   |\n",
    "| ER                | Earned Runs                                                                            |\n",
    "| HR                | Homeruns                                                                               |\n",
    "| BB                | Walks                                                                                  |\n",
    "| SO                | Strikeouts                                                                             |\n",
    "| BAOpp             | Opponent’s Batting Average                                                             |\n",
    "| ERA               | Earned Run Average                                                                     |\n",
    "| IBB               | Intentional Walks                                                                      |\n",
    "| HBP               | Batters Hit By Pitch                                                                   |\n",
    "| WP                | Wild Pitches                                                                           |\n",
    "| BFP               | Batters faced by Pitcher                                                               |\n",
    "| GF                | Games Finished                                                                         |\n",
    "| R                 | Runs Allowed                                                                           |\n",
    "| SH                | Sacrifices by opposing batters                                                         |\n",
    "| SF                | Sacrifice flies by opposing batters                                                    |\n",
    "| GIDP              | Grounded into double plays by opposing batter                                          |\n",
    "| name_last         | Player’s first name                                                                    |\n",
    "| name_first        | Player’s last name                                                                     |\n",
    "| id                | The id of the state the player was born                                                |\n",
    "| SO_per_BF         | Strikeout per batter faced                                                             |\n",
    "\n",
    "\n",
    "\n",
    "### [`baseball_players_stats.json`](https://raw.githubusercontent.com/UBC-MDS/exploratory-data-viz/main/data/baseball_players_stats.json) \n",
    "\n",
    "       \n",
    "| Column            | Description                                                                            |\n",
    "|-------------------|:---------------------------------------------------------------------------------------|\n",
    "| player_id         | A unique code assigned to each player.                                                 |\n",
    "| teamID            | Team                                                                                   |\n",
    "| lgID              | League; levels AA AL FL NL PL UA                                                       |\n",
    "| G                 | number of games in which a player played                                               |\n",
    "| AB                | At bat                                                                                 |\n",
    "| R                 | Runs                                                                                   |\n",
    "| H                 | Hits - times reached base because of a batted, fair ball without error by the defense  |\n",
    "| 2B                | Doubles: hits on which the batter reached second base safely                           |\n",
    "| 3B                | Triples: hits on which the batter reached third base safely                            |\n",
    "| HR                | Homeruns                                                                               |\n",
    "| RBI               | Runs Batted In                                                                         |\n",
    "| SB                | Stolen Bases                                                                           |\n",
    "| CS                | Caught Stealing                                                                        |\n",
    "| BB                | Base on Balls                                                                          |\n",
    "| SO                | Strikeouts                                                                             |\n",
    "| IBB               | Intentional walks                                                                      |\n",
    "| HBP               | Hit by pitch                                                                           |\n",
    "| SH                | Sacrifice hits                                                                         |\n",
    "| SF                | Sacrifice flies                                                                        |\n",
    "| GIDP              | Grounded into double plays                                                             |\n",
    "| name_first        | Player’s first name                                                                    |\n",
    "| name_last         | Player’s last name                                                                     |\n",
    "| bats              | Player’s batting hand (left (L), right (R), or both (B))                               |\n",
    "| throws            | Player’s throwing hand (left(L) or right(R))                                           |\n",
    "| team_name         | Team’s full name                                                                       |\n",
    "| salary            | Salary (USD)                                                                           |\n"
   ]
  },
  {
   "cell_type": "markdown",
   "metadata": {},
   "source": [
    "# 1. Let the Games Begin - Drafting the Players \n",
    "\n",
    "We expect basketball players to be taller than an average person's height to be able to shoot and dunk balls into the net but are similar statistics expected by baseball players? Of course there needs to be a lot of power to swing a ball and hit a home run but also agility is an asset when running to home base. These questions may lead us to questions such as  ***How are baseball player's height and weight distributed in the data?*** ***Is there a relationship between the two measurements?*** It would be interesting to visualize our players and see if there are any patterns in the data. "
   ]
  },
  {
   "cell_type": "markdown",
   "metadata": {},
   "source": [
    "**Question 1.1** \n",
    "    <br> {points: 1}\n",
    "\n",
    "Before we can start asking questions, we need to un-bench the players! \n",
    "\n",
    "Read in the data `baseball_players.json` from the link [we've provided](https://raw.githubusercontent.com/UBC-MDS/exploratory-data-viz/main/data/baseball_players.csv) named `players_url`. You may notice that the column for `birth_year` is a little weird. That's ok! This is how json is store the value in a way that accomodates \"date\" fields.\n",
    "\n",
    "*Assign your data to an object named `players_df`*."
   ]
  },
  {
   "cell_type": "code",
   "execution_count": null,
   "metadata": {
    "deletable": false,
    "nbgrader": {
     "cell_type": "code",
     "checksum": "5079ecd734e8a6b4ff97c42f419597b3",
     "grade": false,
     "grade_id": "cell-40a7fbad3a89382f",
     "locked": false,
     "schema_version": 3,
     "solution": true,
     "task": false
    }
   },
   "outputs": [],
   "source": [
    "players_url = 'https://raw.githubusercontent.com/UBC-MDS/exploratory-data-viz/main/data/baseball_players.json'\n",
    "players_df = None\n",
    "\n",
    "# your code here\n",
    "raise NotImplementedError # No Answer - remove if you provide an answer\n",
    "\n",
    "players_df"
   ]
  },
  {
   "cell_type": "code",
   "execution_count": null,
   "metadata": {
    "deletable": false,
    "editable": false,
    "nbgrader": {
     "cell_type": "code",
     "checksum": "0ecc3c819738ed4cb4f3608dc7e7ad9c",
     "grade": true,
     "grade_id": "cell-d113a6dadd36b930",
     "locked": true,
     "points": 1,
     "schema_version": 3,
     "solution": false,
     "task": false
    }
   },
   "outputs": [],
   "source": [
    "t.test_1_1(players_df)"
   ]
  },
  {
   "cell_type": "markdown",
   "metadata": {},
   "source": [
    "**Question 1.2** \n",
    "    <br> {points: 2}\n",
    "\n",
    "As always, it's important to know the limitations of our data. Which 3 columns are particularly problematic due to minimal data? \n",
    "\n",
    "*Assign your the column names as string elements in a list named `minimal_columns`*."
   ]
  },
  {
   "cell_type": "code",
   "execution_count": null,
   "metadata": {
    "deletable": false,
    "nbgrader": {
     "cell_type": "code",
     "checksum": "80a55e63c2023a5f9d39b153bf4a331a",
     "grade": false,
     "grade_id": "cell-0fcac7a7257a5470",
     "locked": false,
     "schema_version": 3,
     "solution": true,
     "task": false
    }
   },
   "outputs": [],
   "source": [
    "minimal_columns = None\n",
    "\n",
    "# your code here\n",
    "raise NotImplementedError # No Answer - remove if you provide an answer\n",
    "\n",
    "minimal_columns"
   ]
  },
  {
   "cell_type": "code",
   "execution_count": null,
   "metadata": {
    "deletable": false,
    "editable": false,
    "nbgrader": {
     "cell_type": "code",
     "checksum": "198b81488401d92d3a413fd8d51b8307",
     "grade": true,
     "grade_id": "cell-d93d65d6107216ba",
     "locked": true,
     "points": 2,
     "schema_version": 3,
     "solution": false,
     "task": false
    }
   },
   "outputs": [],
   "source": [
    "# check that the variable exists\n",
    "assert 'minimal_columns' in globals(\n",
    "), \"Please make sure that your solution is named 'minimal_columns'\"\n",
    "\n",
    "# This test has been intentionally hidden. It will be up to you to decide if your solution\n",
    "# is sufficiently good."
   ]
  },
  {
   "cell_type": "markdown",
   "metadata": {},
   "source": [
    "**Question 1.3** \n",
    "    <br> {points: 2}\n",
    "\n",
    "Now that the players are warmed up, let's plot!\n",
    "\n",
    "For this plot (and other plots in this lab)  we need to use the `players_url` as a data source instead of the dataframe object. This helps keep our Jupyter notebook smaller, else it may end up being over 100MB! \n",
    "Remember that since we are using a url source we need to make sure all of our columns are referenced with altair datatypes. \n",
    "\n",
    "Plot the players' height on the X-axis vs their weight on the Y-axis and assign a colour channel to the region column in a scatterplot using a circle mark (`mark_circle()`).\n",
    "\n",
    "Give the circle mark a size of 20.  Let's **NOT** include the 0 marks in each axis and make sure to include a title and proper axis labels, taking care to include units. \n",
    "\n",
    "*Assign your plot to an object named `players_hw_plot`*."
   ]
  },
  {
   "cell_type": "code",
   "execution_count": null,
   "metadata": {
    "deletable": false,
    "nbgrader": {
     "cell_type": "code",
     "checksum": "8fdd8bfd123d56f29ab35c1208d247ac",
     "grade": false,
     "grade_id": "cell-ef732df0ef736534",
     "locked": false,
     "schema_version": 3,
     "solution": true,
     "task": false
    }
   },
   "outputs": [],
   "source": [
    "players_hw_plot = None\n",
    "\n",
    "# your code here\n",
    "raise NotImplementedError # No Answer - remove if you provide an answer\n",
    "\n",
    "players_hw_plot"
   ]
  },
  {
   "cell_type": "code",
   "execution_count": null,
   "metadata": {
    "deletable": false,
    "editable": false,
    "nbgrader": {
     "cell_type": "code",
     "checksum": "c37015e77fe499d994767491d28c01e1",
     "grade": true,
     "grade_id": "cell-76f7f139ad34d75b",
     "locked": true,
     "points": 1,
     "schema_version": 3,
     "solution": false,
     "task": false
    }
   },
   "outputs": [],
   "source": [
    "t.test_1_3a(players_hw_plot)"
   ]
  },
  {
   "cell_type": "code",
   "execution_count": null,
   "metadata": {
    "deletable": false,
    "editable": false,
    "nbgrader": {
     "cell_type": "code",
     "checksum": "29cdd088bac366a25fdefc0e5a2142da",
     "grade": true,
     "grade_id": "cell-e6fb781f62900b6b",
     "locked": true,
     "points": 1,
     "schema_version": 3,
     "solution": false,
     "task": false
    }
   },
   "outputs": [],
   "source": [
    "t.test_1_3b(players_hw_plot)"
   ]
  },
  {
   "cell_type": "markdown",
   "metadata": {},
   "source": [
    "**Question 1.4** \n",
    "    <br> {points: 1}\n",
    "\n",
    "Ok, this is a great start but as you can see there are a few players that we may want to identify outside of the cluster. A great way to do this is to add the name of the player to a tooltip channel (a tooltip is a box with information that pops up when you mouse hovers over an observation). Using `players_hw_plot` from the previous question, assign the players' first, last name and `birth_country` to a tooltip channel. \n",
    "\n",
    "*Assign your plot to an object named `hw_tooltip_plot`*."
   ]
  },
  {
   "cell_type": "code",
   "execution_count": null,
   "metadata": {
    "deletable": false,
    "nbgrader": {
     "cell_type": "code",
     "checksum": "ae74f349660accde48961ccafb3f62c8",
     "grade": false,
     "grade_id": "cell-d9bdcf29971241cf",
     "locked": false,
     "schema_version": 3,
     "solution": true,
     "task": false
    }
   },
   "outputs": [],
   "source": [
    "hw_tooltip_plot = None\n",
    "\n",
    "# your code here\n",
    "raise NotImplementedError # No Answer - remove if you provide an answer\n",
    "\n",
    "hw_tooltip_plot"
   ]
  },
  {
   "cell_type": "code",
   "execution_count": null,
   "metadata": {
    "deletable": false,
    "editable": false,
    "nbgrader": {
     "cell_type": "code",
     "checksum": "8da296f8c7148696046d37cc0b870731",
     "grade": true,
     "grade_id": "cell-c51de77bce22c43a",
     "locked": true,
     "points": 1,
     "schema_version": 3,
     "solution": false,
     "task": false
    }
   },
   "outputs": [],
   "source": [
    "t.test_1_4(hw_tooltip_plot)"
   ]
  },
  {
   "cell_type": "markdown",
   "metadata": {},
   "source": [
    "**Question 1.5** \n",
    "    <br> {points: 3}\n",
    "\n",
    "Great! This helped us identify each player in the dataset. Currently, there seems to be quite a lot of saturation and overlap in the visualization. How about we use opacity to highlight certain points using the legend for region as a selection tool. \n",
    "\n",
    "- First, assign the region column to the field you want to select on and make sure to bind the legend using the `.selection_multi()` function. Save this in an object named `select_region`. \n",
    "- Using `hw_tooltip_plot` as a base, set the opacity channel to a condition where depending on `select_region`, either an opacity value of 0.8 or 0 will show. \n",
    "- To make sure this all works without any errors, you'll need to add the `.add_selection()` method making sure to take `select_region` as an input. \n",
    "\n",
    "\n",
    "*Assign your plot to an object named `hw_legend_plot`*."
   ]
  },
  {
   "cell_type": "code",
   "execution_count": null,
   "metadata": {
    "deletable": false,
    "nbgrader": {
     "cell_type": "code",
     "checksum": "90b32ccd3fbf3571717eede3653169d3",
     "grade": false,
     "grade_id": "cell-e14d6399572d94ed",
     "locked": false,
     "schema_version": 3,
     "solution": true,
     "task": false
    }
   },
   "outputs": [],
   "source": [
    "select_region = None\n",
    "hw_legend_plot = None\n",
    "\n",
    "# your code here\n",
    "raise NotImplementedError # No Answer - remove if you provide an answer\n",
    "hw_legend_plot"
   ]
  },
  {
   "cell_type": "code",
   "execution_count": null,
   "metadata": {
    "deletable": false,
    "editable": false,
    "nbgrader": {
     "cell_type": "code",
     "checksum": "c7aba6f426ea79cfff2e8eef458879dc",
     "grade": true,
     "grade_id": "cell-9d9f43090c938b59",
     "locked": true,
     "points": 1,
     "schema_version": 3,
     "solution": false,
     "task": false
    }
   },
   "outputs": [],
   "source": [
    "t.test_1_5a(select_region)"
   ]
  },
  {
   "cell_type": "code",
   "execution_count": null,
   "metadata": {
    "deletable": false,
    "editable": false,
    "nbgrader": {
     "cell_type": "code",
     "checksum": "805a258ed080cf95fd71cf381b3836bf",
     "grade": true,
     "grade_id": "cell-22d4edde5c09593d",
     "locked": true,
     "points": 1,
     "schema_version": 3,
     "solution": false,
     "task": false
    }
   },
   "outputs": [],
   "source": [
    "t.test_1_5b(select_region, hw_legend_plot)"
   ]
  },
  {
   "cell_type": "code",
   "execution_count": null,
   "metadata": {
    "deletable": false,
    "editable": false,
    "nbgrader": {
     "cell_type": "code",
     "checksum": "6c1bdcaf9d838c337f7925d0d373563f",
     "grade": true,
     "grade_id": "cell-961490415d635d1d",
     "locked": true,
     "points": 1,
     "schema_version": 3,
     "solution": false,
     "task": false
    }
   },
   "outputs": [],
   "source": [
    "t.test_1_5c(hw_legend_plot)"
   ]
  },
  {
   "cell_type": "markdown",
   "metadata": {},
   "source": [
    "**Question 1.6** \n",
    "    <br> {points: 1}\n",
    "    \n",
    "With this new interactive feature can you identify the number of players from Africa? \n",
    "\n",
    "*Assign the number in an object of type `int` named `african_players`*."
   ]
  },
  {
   "cell_type": "code",
   "execution_count": null,
   "metadata": {
    "deletable": false,
    "nbgrader": {
     "cell_type": "code",
     "checksum": "e7f503050d895f8659d00f564521a225",
     "grade": false,
     "grade_id": "cell-2433b0cc8975b950",
     "locked": false,
     "schema_version": 3,
     "solution": true,
     "task": false
    }
   },
   "outputs": [],
   "source": [
    "african_players = None\n",
    "\n",
    "# your code here\n",
    "raise NotImplementedError # No Answer - remove if you provide an answer\n",
    "\n",
    "african_players"
   ]
  },
  {
   "cell_type": "code",
   "execution_count": null,
   "metadata": {
    "deletable": false,
    "editable": false,
    "nbgrader": {
     "cell_type": "code",
     "checksum": "ef24afa111be4add96b16e32ebe6673f",
     "grade": true,
     "grade_id": "cell-5a34681479ba95a6",
     "locked": true,
     "points": 1,
     "schema_version": 3,
     "solution": false,
     "task": false
    }
   },
   "outputs": [],
   "source": [
    "t.test_1_6(african_players)"
   ]
  },
  {
   "cell_type": "markdown",
   "metadata": {},
   "source": [
    "# 2. Birth Dates with Selections\n",
    "\n",
    "Currently, the data we have contains all the possible players in the dataset. It would be nice to find a way to filter and select players based on when they were born. This might help us identify (loosely) if perhaps players general physics over time have changed. Are players body shapes changing due to the requirements of the game (more strength, agility?)  \n",
    "\n",
    "In the lecture, we explore how we can sync up multiple plots with a selection tool. Let's make a bar plot that counts up the players by the year they were born and use it as a tool to highlight the players in the scatter plot we made earlier.\n"
   ]
  },
  {
   "cell_type": "markdown",
   "metadata": {},
   "source": [
    "**Question 2.1** <br> {points: 2}\n",
    "    \n",
    "Before we add interactivity it's a good idea to make a static plot first. Using the `birth_year` column on the x-axis, make a bar plot that counts the values of players born in each year using `players_url` as a data source. Give it a nice colour and make sure that the labels are appropriate for each axis. Since we will be using it as a tool to select points for our earlier plot, do **NOT** give this plot a title. \n",
    "\n",
    "*Assign your plot to an object named `dob_plot`.*"
   ]
  },
  {
   "cell_type": "code",
   "execution_count": null,
   "metadata": {
    "deletable": false,
    "nbgrader": {
     "cell_type": "code",
     "checksum": "1f5339c23988df863c97f6b4c3949e38",
     "grade": false,
     "grade_id": "cell-5d0c27fa654f260c",
     "locked": false,
     "schema_version": 3,
     "solution": true,
     "task": false
    }
   },
   "outputs": [],
   "source": [
    "dob_plot = None\n",
    "\n",
    "# your code here\n",
    "raise NotImplementedError # No Answer - remove if you provide an answer\n",
    "\n",
    "dob_plot"
   ]
  },
  {
   "cell_type": "code",
   "execution_count": null,
   "metadata": {
    "deletable": false,
    "editable": false,
    "nbgrader": {
     "cell_type": "code",
     "checksum": "9a9595a818f85bfe5c17256ed07599ed",
     "grade": true,
     "grade_id": "cell-3afdfcdce6cf4352",
     "locked": true,
     "points": 1,
     "schema_version": 3,
     "solution": false,
     "task": false
    }
   },
   "outputs": [],
   "source": [
    "t.test_2_1a(dob_plot)"
   ]
  },
  {
   "cell_type": "code",
   "execution_count": null,
   "metadata": {
    "deletable": false,
    "editable": false,
    "nbgrader": {
     "cell_type": "code",
     "checksum": "69d9f574c2a6b062521be1be72a46c0c",
     "grade": true,
     "grade_id": "cell-f5fe3a84467b5070",
     "locked": true,
     "points": 1,
     "schema_version": 3,
     "solution": false,
     "task": false
    }
   },
   "outputs": [],
   "source": [
    "t.test_2_1b(dob_plot)"
   ]
  },
  {
   "cell_type": "markdown",
   "metadata": {},
   "source": [
    "**Question 2.2** \n",
    "    <br> {points: 5}\n",
    "    \n",
    "Now for the fun part! \n",
    "Create an  interval selection object named `interval`. We want to make sure we are encoding just the x-axis here. \n",
    "Next, using  the `dob_plot` we made in **Question 2.1** as a base, encode a colour condition so that when the interval bars are selected the bars are a `navy` and `lightgray` if not selected.  Add the `interval` as a selection option. Set the height and width of this plot to 100 and 600 respectively and save it in an object named  `bar_slider`. \n",
    "\n",
    "Using the `hw_tooltip_plot` plot made in **Question 1.4** let's add conditions to both the colour and opacity channels and save it in an object named `scatter_plot`. \n",
    "- For the colour channel, we want the condition so that if the points within the `interval` are selected, it should display the `region` colour, and if not, then it should display a `lightgray` colour. This will make it clearer which points are highlighted. \n",
    "- For the opacity channel, we are going to do something similar to the legend selection tool we did above. In this case, if the points are selected in `interval`, the opacity should be 0.8 and 0.01 for the points outside this interval. \n",
    "- Give this plot a width of 600 as well. \n",
    "- Don't forget to add the selection option to this plot with `add_selection()`.\n",
    "\n",
    "*Combine your plots vertically and save them in an object named `dob_combo_plot`.*"
   ]
  },
  {
   "cell_type": "code",
   "execution_count": null,
   "metadata": {
    "deletable": false,
    "nbgrader": {
     "cell_type": "code",
     "checksum": "7e21008ea9359379a6e1346f277fc6a2",
     "grade": false,
     "grade_id": "cell-976f9fac79100b44",
     "locked": false,
     "schema_version": 3,
     "solution": true,
     "task": false
    }
   },
   "outputs": [],
   "source": [
    "interval = None\n",
    "bar_slider = None\n",
    "scatter_plot = None\n",
    "dob_combo_plot = None\n",
    "\n",
    "# your code here\n",
    "raise NotImplementedError # No Answer - remove if you provide an answer\n",
    "dob_combo_plot"
   ]
  },
  {
   "cell_type": "code",
   "execution_count": null,
   "metadata": {
    "deletable": false,
    "editable": false,
    "nbgrader": {
     "cell_type": "code",
     "checksum": "93abc1c9b2f26fa7c124938431692ef6",
     "grade": true,
     "grade_id": "cell-b952984e40a5c303",
     "locked": true,
     "points": 1,
     "schema_version": 3,
     "solution": false,
     "task": false
    }
   },
   "outputs": [],
   "source": [
    "t.test_2_2a(interval)"
   ]
  },
  {
   "cell_type": "code",
   "execution_count": null,
   "metadata": {
    "deletable": false,
    "editable": false,
    "nbgrader": {
     "cell_type": "code",
     "checksum": "f84a98f4c33d92d2f693222d2b396a4d",
     "grade": true,
     "grade_id": "cell-95ff940b2061e20a",
     "locked": true,
     "points": 2,
     "schema_version": 3,
     "solution": false,
     "task": false
    }
   },
   "outputs": [],
   "source": [
    "t.test_2_2b(interval, bar_slider)"
   ]
  },
  {
   "cell_type": "code",
   "execution_count": null,
   "metadata": {
    "deletable": false,
    "editable": false,
    "nbgrader": {
     "cell_type": "code",
     "checksum": "9a06a2c7404e96b6c2211a4cdfdc9ffb",
     "grade": true,
     "grade_id": "cell-4f9e9de64039e9a4",
     "locked": true,
     "points": 1,
     "schema_version": 3,
     "solution": false,
     "task": false
    }
   },
   "outputs": [],
   "source": [
    "t.test_2_2c(interval, scatter_plot)"
   ]
  },
  {
   "cell_type": "code",
   "execution_count": null,
   "metadata": {
    "deletable": false,
    "editable": false,
    "nbgrader": {
     "cell_type": "code",
     "checksum": "c128f37855ab5145f9f859bbdc6dbd22",
     "grade": true,
     "grade_id": "cell-104da4377d156ee9",
     "locked": true,
     "points": 1,
     "schema_version": 3,
     "solution": false,
     "task": false
    }
   },
   "outputs": [],
   "source": [
    "t.test_2_2d(bar_slider, scatter_plot, dob_combo_plot)"
   ]
  },
  {
   "cell_type": "markdown",
   "metadata": {},
   "source": [
    "**Question 2.3** \n",
    "    <br> {points: 2}\n",
    "    \n",
    "Great, now that we have the plot above, let's try and loosely answer the question we posed - \"Are newer players from the 90s onwards generally taller than players in 1840-1860s\". \n",
    "\n",
    "*Assign either \"yes\" or \"No\" to an object of type string named `answer2_3`*."
   ]
  },
  {
   "cell_type": "code",
   "execution_count": null,
   "metadata": {
    "deletable": false,
    "nbgrader": {
     "cell_type": "code",
     "checksum": "8dd336a236b992cd11f9f928b7c9a58e",
     "grade": false,
     "grade_id": "cell-10602f1afa9a3a43",
     "locked": false,
     "schema_version": 3,
     "solution": true,
     "task": false
    }
   },
   "outputs": [],
   "source": [
    "answer2_3 = None\n",
    "\n",
    "# your code here\n",
    "raise NotImplementedError # No Answer - remove if you provide an answer\n",
    "\n",
    "answer2_3"
   ]
  },
  {
   "cell_type": "code",
   "execution_count": null,
   "metadata": {
    "deletable": false,
    "editable": false,
    "nbgrader": {
     "cell_type": "code",
     "checksum": "e4a5e88acf9142c1f05820d3e9487677",
     "grade": true,
     "grade_id": "cell-836108070d8e1e54",
     "locked": true,
     "points": 2,
     "schema_version": 3,
     "solution": false,
     "task": false
    }
   },
   "outputs": [],
   "source": [
    "# check that the variable exists\n",
    "assert 'answer2_3' in globals(\n",
    "), \"Please make sure that your solution is named 'answer2_3'\"\n",
    "\n",
    "# This test has been intentionally hidden. It will be up to you to decide if your solution\n",
    "# is sufficiently good."
   ]
  },
  {
   "cell_type": "markdown",
   "metadata": {},
   "source": [
    "#  3. Where in the World ?\n",
    "\n",
    "Baseball players originate from all around the world and we've seen this in the previous plots where we have been colouring by the continent but it would be interesting to go more granular? The majority of players are from the USA and it would be interesting to see if certain states are more prone to the sport over others. Do we expect more players to come from Texas or New York? What about colder States such as Alaska or Maine?\n",
    "\n",
    "We will also look at a new dataset and explore if better pitcher come from certain states in the US. \n",
    "\n",
    "Let's use the map as a tool to select points in our scatter plot we made earlier. "
   ]
  },
  {
   "cell_type": "markdown",
   "metadata": {},
   "source": [
    "**Question 3.1** <br> {points: 1}\n",
    "\n",
    "Use this opportunity to read the `us_10m` data from the `vega_datasets` we imported at the beginning of this assignment (where we import in all the libraries).\n",
    "\n",
    "You'll need to make sure you import the `url` and use `.topo_feature()`.\n",
    "\n",
    "*Save it in an object named `us_map`.* "
   ]
  },
  {
   "cell_type": "code",
   "execution_count": null,
   "metadata": {
    "deletable": false,
    "nbgrader": {
     "cell_type": "code",
     "checksum": "52515406b20622d2cb9d97dc23f794ab",
     "grade": false,
     "grade_id": "cell-0118f2b3f2edbd89",
     "locked": false,
     "schema_version": 3,
     "solution": true,
     "task": false
    }
   },
   "outputs": [],
   "source": [
    "us_map = None\n",
    "\n",
    "# your code here\n",
    "raise NotImplementedError # No Answer - remove if you provide an answer\n",
    "\n",
    "us_map"
   ]
  },
  {
   "cell_type": "code",
   "execution_count": null,
   "metadata": {
    "deletable": false,
    "editable": false,
    "nbgrader": {
     "cell_type": "code",
     "checksum": "c88b288312ea7bbc01a91ebd715b3207",
     "grade": true,
     "grade_id": "cell-039b775cb9b0edb6",
     "locked": true,
     "points": 1,
     "schema_version": 3,
     "solution": false,
     "task": false
    }
   },
   "outputs": [],
   "source": [
    "t.test_3_1(us_map)"
   ]
  },
  {
   "cell_type": "markdown",
   "metadata": {},
   "source": [
    "**Question 3.2** <br> {points: 5}\n",
    "\n",
    "Time to get charting! \n",
    "\n",
    "To make this map we will need to combine and create 2 Chart objects; one called `background` and the other called `states_plot`. \n",
    "\n",
    "To make the `background` plot: \n",
    "- Create a `.mark_geoshape()` chart using the `us_map` data from **Question 3.1**. \n",
    "- Give it a white colour and a grey stroke. \n",
    "    \n",
    "\n",
    "To make the `states_plot` plot: \n",
    "-  Create a `.mark_geoshape()` chart using the `us_map` data from **Question 3.1**, but this time give it a black stroke and a stroke width of 0.15. \n",
    "- This map will require us to lookup data from our other data source but before we do that we need to assign the `player_num` column from it (specifying a quantitative type) to a colour channel. We want to specify an appropriate colour scheme setting `scale=alt.Scale(scheme=....)` within the colour channel and giving it an appropriate title. \n",
    "- Assign `alt.Tooltip(\"birth_state:N\", title=\"State\")` and `alt.Tooltip(\"player_num:Q\", title=\"Number of players\")` within the tooltip channel.\n",
    "- Next lookup the data with `.transform_lookup()`, setting the lookup argument to `id` and the `from_` argument using `alt.LookupData()` to look up the  by the `id` column from the data stored at the url from `state_url` (that we have provided for you). Select the columns `birth_state` and `player_num` from this source. \n",
    "\n",
    "Combine the plots `states_plot` and `background` to make the complete plot named `players_map`. \n",
    "- Add the plots together so they are layered on one another.\n",
    "- give the combined plot a height of 250 and a width of 500. \n",
    "- Assign a `albersUsa` projection. \n",
    "\n",
    "If you need further help with this, take hints from **Question 4.3** in ***Assignment 6***. "
   ]
  },
  {
   "cell_type": "code",
   "execution_count": null,
   "metadata": {
    "deletable": false,
    "nbgrader": {
     "cell_type": "code",
     "checksum": "55eb8bcb6f01295106c8e87c10aa39fa",
     "grade": false,
     "grade_id": "cell-6982b4cf61885c71",
     "locked": false,
     "schema_version": 3,
     "solution": true,
     "task": false
    }
   },
   "outputs": [],
   "source": [
    "state_url = 'https://raw.githubusercontent.com/UBC-MDS/exploratory-data-viz/main/data/states_df.json'\n",
    "background = None\n",
    "countries = None\n",
    "players_map = None\n",
    "\n",
    "# your code here\n",
    "raise NotImplementedError # No Answer - remove if you provide an answer\n",
    "\n",
    "players_map"
   ]
  },
  {
   "cell_type": "code",
   "execution_count": null,
   "metadata": {
    "deletable": false,
    "editable": false,
    "nbgrader": {
     "cell_type": "code",
     "checksum": "f7093aeb5e2976edaa7589d483383754",
     "grade": true,
     "grade_id": "cell-c025d37137510d49",
     "locked": true,
     "points": 1,
     "schema_version": 3,
     "solution": false,
     "task": false
    }
   },
   "outputs": [],
   "source": [
    "t.test_3_2a(background)"
   ]
  },
  {
   "cell_type": "code",
   "execution_count": null,
   "metadata": {
    "deletable": false,
    "editable": false,
    "nbgrader": {
     "cell_type": "code",
     "checksum": "e4cfdee273538113819d97c979427888",
     "grade": true,
     "grade_id": "cell-571f7fa7d8913c45",
     "locked": true,
     "points": 1,
     "schema_version": 3,
     "solution": false,
     "task": false
    }
   },
   "outputs": [],
   "source": [
    "t.test_3_2b(states_plot, players_map)"
   ]
  },
  {
   "cell_type": "code",
   "execution_count": null,
   "metadata": {
    "deletable": false,
    "editable": false,
    "nbgrader": {
     "cell_type": "code",
     "checksum": "dd14091c321220b1bd9bb3fbf5398bba",
     "grade": true,
     "grade_id": "cell-b995d65e6e27516c",
     "locked": true,
     "points": 1,
     "schema_version": 3,
     "solution": false,
     "task": false
    }
   },
   "outputs": [],
   "source": [
    "t.test_3_2c(states_plot)"
   ]
  },
  {
   "cell_type": "code",
   "execution_count": null,
   "metadata": {
    "deletable": false,
    "editable": false,
    "nbgrader": {
     "cell_type": "code",
     "checksum": "4197d82f6aa6294e79fb13d29e75b546",
     "grade": true,
     "grade_id": "cell-15fd3c72e3c98ebd",
     "locked": true,
     "points": 1,
     "schema_version": 3,
     "solution": false,
     "task": false
    }
   },
   "outputs": [],
   "source": [
    "t.test_3_2d(states_plot)"
   ]
  },
  {
   "cell_type": "code",
   "execution_count": null,
   "metadata": {
    "deletable": false,
    "editable": false,
    "nbgrader": {
     "cell_type": "code",
     "checksum": "789e0492bfcab61b51732540ea8150bd",
     "grade": true,
     "grade_id": "cell-9fdd716d15701b95",
     "locked": true,
     "points": 1,
     "schema_version": 3,
     "solution": false,
     "task": false
    }
   },
   "outputs": [],
   "source": [
    "t.test_3_2e(background, states_plot, players_map)"
   ]
  },
  {
   "cell_type": "markdown",
   "metadata": {},
   "source": [
    "**Question 3.3** <br> {points: 4}\n",
    "\n",
    "Ok, so we have a map, what else can we do with it? \n",
    "\n",
    "\n",
    "What if we wanted to see compare pitching statistics and see if some states produces better pitchers? \n",
    "\n",
    "To do this we will be looking at the earned run average (ERA) of each pitcher and plot it vs the strikeout rate (Strikeouts/batter faced). \n",
    "\n",
    "In baseball ERA is a well known and accepted statistic to help measure the performance of a pitcher. [source]( https://www.mlb.com/glossary/standard-stats/earned-run-average#:~:text=ERA%20is%20the%20most%20commonly,runners%20will%20count%20against%20him). Teams and leagues want are pitchers where the opposing team is earning less runs and so a pitcher's with a lower ERA is a more successful player.\n",
    "\n",
    "Pitchers also want to strikeout as many players as they can in a game to avoid the opposing team from earning runs. A strikeout is when a batter gets three strikes at bat, with a strike being defined as:\n",
    " 1. a batter swinging at a pitch and misses, \n",
    " 2. a batter not swinging at a pitched ball that passes through the strike zone\n",
    " 3. a ball is hit foul. \n",
    " \n",
    "(you can read more about strikes [here](https://baseballrulesacademy.com/official-rule/nfhs/what-is-a-strike/)). \n",
    "\n",
    "We are using the statistic here of strikeouts per batter faced, meaning the number of players a pitcher strikeouts divided by all the batters they encounted. \n",
    "\n",
    "Pitchers want a higher strikeout/batter faced and a lower ERA. \n",
    "\n",
    "Baseball has a different level of popularity across the states in the US and so it would be interesting if there was a relationship between successful pitchers and the state they were born. Let's explore it. \n",
    " \n",
    "Since this question is a little tricky, we've given you the majority of the code where you can fill in the blank(`...`) and produce an interactive panel where the map we just made will act as a way to highlight the players from the selected state(s) in a new scatterplot that plots pitchers ERA vs strikeout rates. \n",
    "\n",
    "Here we are using a new dataset that is stored in a url in the object `pitcher_url`. \n",
    "Again, since we are using data stored at a url make sure to specify the type of each column. \n"
   ]
  },
  {
   "cell_type": "code",
   "execution_count": null,
   "metadata": {
    "deletable": false,
    "nbgrader": {
     "cell_type": "code",
     "checksum": "bf98a045badb80acdea8cb1795a66eb0",
     "grade": false,
     "grade_id": "cell-ea8bd06a4b45643c",
     "locked": false,
     "schema_version": 3,
     "solution": true,
     "task": false
    }
   },
   "outputs": [],
   "source": [
    "pitcher_url = 'https://raw.githubusercontent.com/UBC-MDS/exploratory-data-viz/main/data/baseball_pitchers.json'\n",
    "\n",
    "# state_select = alt....(fields=['id'])\n",
    "\n",
    "# states_select_map = ....encode(\n",
    "#     opacity=alt.condition(state_select, alt.value(0.8), alt.value(0.2)),\n",
    "#     tooltip=[\n",
    "#         alt....(\"birth_state:N\", title=\"State Player was Born\"),\n",
    "#         alt.Tooltip(\"player_num:...\", title=\"Number of players\"),\n",
    "#     ]).transform_lookup(\n",
    "#     lookup=\"id\",\n",
    "#     from_=alt....(state_url, \"id\", [\"birth_state\", \"player_num\"])\n",
    "# ).add_selection(...)\n",
    "\n",
    "# pitching_scatter = alt.Chart(...).mark_circle(size=20).encode(\n",
    "#     alt.X(\"...:Q\", \n",
    "#           title=\"ERA (earned run average)\",\n",
    "#           scale=alt.Scale(domain=[0, 55])\n",
    "#          ),\n",
    "#     alt.Y(\"SO_per_BF:Q\", \n",
    "#           ...=\"Strikeouts per batter faced\", \n",
    "#           ...=alt.Scale(domain=[0, 0.5])\n",
    "#          ),\n",
    "#     tooltip=[\"name_first:N\", \"name_last:N\"]\n",
    "# ).properties(width=500,\n",
    "#              title=\" There is a negative relationship between ERA and Strikout rates of pitchers\"\n",
    "#             ).transform_filter(...)\n",
    "\n",
    "# map_panel =  pitching_scatter & ...\n",
    "\n",
    "# map_panel\n",
    "\n",
    "# your code here\n",
    "raise NotImplementedError # No Answer - remove if you provide an answer\n",
    "\n"
   ]
  },
  {
   "cell_type": "code",
   "execution_count": null,
   "metadata": {
    "deletable": false,
    "editable": false,
    "nbgrader": {
     "cell_type": "code",
     "checksum": "c40509533d71f2aa31fd75a3d078c96c",
     "grade": true,
     "grade_id": "cell-e4507f776f69f781",
     "locked": true,
     "points": 1,
     "schema_version": 3,
     "solution": false,
     "task": false
    }
   },
   "outputs": [],
   "source": [
    "t.test_3_3a(state_select, states_select_map)"
   ]
  },
  {
   "cell_type": "code",
   "execution_count": null,
   "metadata": {
    "deletable": false,
    "editable": false,
    "nbgrader": {
     "cell_type": "code",
     "checksum": "414c11dd0dcec66e7c99ec50d6840963",
     "grade": true,
     "grade_id": "cell-daf96a44d34aff1a",
     "locked": true,
     "points": 1,
     "schema_version": 3,
     "solution": false,
     "task": false
    }
   },
   "outputs": [],
   "source": [
    "t.test_3_3b(state_select, pitching_scatter)"
   ]
  },
  {
   "cell_type": "code",
   "execution_count": null,
   "metadata": {
    "deletable": false,
    "editable": false,
    "nbgrader": {
     "cell_type": "code",
     "checksum": "590adc7f6ea43b93259cacecb6f97e68",
     "grade": true,
     "grade_id": "cell-fbe1ea4c5a8f2251",
     "locked": true,
     "points": 2,
     "schema_version": 3,
     "solution": false,
     "task": false
    }
   },
   "outputs": [],
   "source": [
    "# check that the variables exist\n",
    "assert ('states_select_map' in globals() and\n",
    "        'pitching_scatter' in globals() and\n",
    "        'map_panel' in globals()\n",
    "       ), \"Please make sure that your solutions are named 'states_select_map', 'pitching_scatter', and 'map_panel'\"\n",
    "\n",
    "# This test has been intentionally hidden. It will be up to you to decide if your solution\n",
    "# is sufficiently good."
   ]
  },
  {
   "cell_type": "markdown",
   "metadata": {},
   "source": [
    "**Question 3.4** <br> {points: 1}\n",
    "\n",
    "Using the plot above, where was the pitcher with the highest strikeout rate and lowest ERA born? \n",
    "\n",
    "A) California (CA) \n",
    "\n",
    "B) Texas (TX)\n",
    "\n",
    "C) Illinois (IL)\n",
    "\n",
    "D) New York (NY)\n",
    "\n",
    "\n",
    "*Answer in the cell below using the uppercase letter associated with your answer. Place your answer between `\"\"`, assign the correct answer to an object called `answer3_4`.*"
   ]
  },
  {
   "cell_type": "code",
   "execution_count": null,
   "metadata": {
    "deletable": false,
    "nbgrader": {
     "cell_type": "code",
     "checksum": "2ffba9f98a28b747780d92540385d12e",
     "grade": false,
     "grade_id": "cell-6142feda2d5e0c70",
     "locked": false,
     "schema_version": 3,
     "solution": true,
     "task": false
    }
   },
   "outputs": [],
   "source": [
    "answer3_4 = None\n",
    "\n",
    "# your code here\n",
    "raise NotImplementedError # No Answer - remove if you provide an answer\n",
    "answer3_4"
   ]
  },
  {
   "cell_type": "code",
   "execution_count": null,
   "metadata": {
    "deletable": false,
    "editable": false,
    "nbgrader": {
     "cell_type": "code",
     "checksum": "cef41de9842e5a19ddacb292cd4af279",
     "grade": true,
     "grade_id": "cell-2372aad370af4953",
     "locked": true,
     "points": 1,
     "schema_version": 3,
     "solution": false,
     "task": false
    }
   },
   "outputs": [],
   "source": [
    "t.test_3_4(answer3_4)"
   ]
  },
  {
   "cell_type": "markdown",
   "metadata": {},
   "source": [
    "# 4. Batting up! \n",
    "\n",
    "One of the columns in the data shows the way the player bats. We also know that around 10% of the population is left-handed. It would be interesting to see if the same statistics apply to the baseball players in the data. It might also be interesting to see if the state they are from affects the ratio of left-handed to right-handed batter. Let's make a bar plot, that counts the total of each type of batter Left, Right or Both (L, R, B). It's important to note here that there is a lot of missing values for this column so we should plot the count of those as well. We've already adjusted this in the data so that instead of blank data, we've replace it with \"No record\". This allows it to be selected as an option. \n",
    "\n",
    "Also generally speaking a right-handed player will usually bat right and a left-handed player will generally bat left [source](https://www.beabetterhitter.com/the-top-and-bottom-hand-swing/). That being said there are plenty of players that do not follow this. \n",
    "\n",
    "\n",
    "\n",
    "Here we see Rays Michael Perez who previously played for Tampa Bay and bats left:\n",
    "\n",
    "<img src=\"https://storage.googleapis.com/afs-prod/media/3b5837746f6d464aab4f0d11af4c0389/1000.jpeg\" alt=\"error 404\" width=\"40%\"> \n",
    "\n",
    "[[image source](https://apnews.com/article/mlb-tampa-bay-rays-kevin-cash-boston-red-sox-archive-d28c4711c096449f004f2b9fe46a2299/gallery/3b5837746f6d464aab4f0d11af4c0389)]\n",
    "\n",
    "And Frank Thomas (playing for the Oakland Athletics) who was a heavy hitting right batter before he retired:\n",
    "\n",
    "<img src=\"https://cdn.bleacherreport.net/images_root/slides/photos/000/353/197/80945570_original.jpg?1282348588\" alt=\"error 404\" width=\"60%\"> \n",
    "\n",
    "[[image source](https://bleacherreport.com/articles/440271-albert-pujols-and-the-20-greatest-right-handed-hitters-of-all-time)]\n",
    "\n",
    "\n",
    "For the interactive portion of these plots, we want to link the bar graph with the number of players that bat, left, right and both (and the missing ones) to the map of the players' birth state. Maybe there is a relationship between where players originate from and the way players bats? Let's find out.\n"
   ]
  },
  {
   "cell_type": "markdown",
   "metadata": {},
   "source": [
    "We want to create a horizontal bar plot that displays the percentage of left (L) batters, right batters (R), switch hitters who bat both ways (B) as well as the players missing this data.\n",
    "\n",
    "Make sure to set proper axis labels but do NOT give this plot a title since we need it as a base for the future combined interactive plot we will be making. Assign your plot to an object named bats_plot\n",
    "\n",
    "Hints:\n",
    "\n",
    "Since this is a new plot, let’s make it first without any interactivity. Create a horizontal bar plot that counts the number of left (L) batters, right batters ®, switch hitters who bat both ways (B) as well as the players missing in this data. We will be using this with the scatter plot from above. Sort the categorical variable so that the order of bar is L, R, B, and No record is the last bar. We want to make sure all the bars show even when there are no records for them so we need to specify the domain to contain all 4 categories (Hint: the domain should equal a list of values!). Also, give it a colour to spice it up!"
   ]
  },
  {
   "cell_type": "markdown",
   "metadata": {},
   "source": [
    "**Question 4.1** <br> {points: 3}\n",
    "\n",
    "\n",
    "We want to create a horizontal bar plot that displays the percentage of left (L) batters, right batters (R), switch hitters who bat both ways (B) as well as the players missing this data. Let's first make it without any interactivity. \n",
    "\n",
    "Make sure to set proper axis labels but do **NOT** give this plot a title since we need it as a base for the future combined interactive plot we will be making.\n",
    "\n",
    "*Hints:*\n",
    "*Create a horizontal bar plot that counts the number of left (L) batters, right batters (R), switch hitters and the players missing in this data. We will be using this with the scatter plot from above. Sort the categorical variable so that the order of bar is `L`, `R`, `B`, and `No record` is the last bar. We want to make sure all the bars show even when there are no records for them so we need to specify the domain to contain all 4 categories (The domain should equal a list of values!). Also, give it a colour to spice it up!*\n",
    "\n",
    "*Assign your plot to an object named `bats_plot`*."
   ]
  },
  {
   "cell_type": "code",
   "execution_count": null,
   "metadata": {
    "deletable": false,
    "nbgrader": {
     "cell_type": "code",
     "checksum": "0491b76734125df62dabc90fd19443fe",
     "grade": false,
     "grade_id": "cell-4eebb56f598cda99",
     "locked": false,
     "schema_version": 3,
     "solution": true,
     "task": false
    }
   },
   "outputs": [],
   "source": [
    "bats_plot = None\n",
    "\n",
    "# your code here\n",
    "raise NotImplementedError # No Answer - remove if you provide an answer\n",
    "\n",
    "bats_plot"
   ]
  },
  {
   "cell_type": "code",
   "execution_count": null,
   "metadata": {
    "deletable": false,
    "editable": false,
    "nbgrader": {
     "cell_type": "code",
     "checksum": "86473546ec1a88e4dcfe3812a5db1dbe",
     "grade": true,
     "grade_id": "cell-02fdce93339edf32",
     "locked": true,
     "points": 2,
     "schema_version": 3,
     "solution": false,
     "task": false
    }
   },
   "outputs": [],
   "source": [
    "# check that the variable exists\n",
    "assert 'bats_plot' in globals(\n",
    "), \"Please make sure that your solution is named 'bats_plot'\"\n",
    "\n",
    "# This test has been intentionally hidden. It will be up to you to decide if your solution\n",
    "# is sufficiently good."
   ]
  },
  {
   "cell_type": "code",
   "execution_count": null,
   "metadata": {
    "deletable": false,
    "editable": false,
    "nbgrader": {
     "cell_type": "code",
     "checksum": "2fffe34461f1119bf6ff899e30f580b7",
     "grade": true,
     "grade_id": "cell-445643698dfd1b20",
     "locked": true,
     "points": 1,
     "schema_version": 3,
     "solution": false,
     "task": false
    }
   },
   "outputs": [],
   "source": [
    "t.test_4_1b(bats_plot)"
   ]
  },
  {
   "cell_type": "markdown",
   "metadata": {},
   "source": [
    "**Question 4.2** <br> {points: 1}\n",
    "\n",
    "Which of the following statements is correct? \n",
    "\n",
    "A) Similar to regular life, left-batting (left-handed) players are approximately 10% of the players in the data.\n",
    "\n",
    "B) Unlike in regular life, the reverse happens. Instead, right-batting (right-handed) players are approximately 10% of the players in the data.\n",
    "\n",
    "C) In the data, left-batting players are around a quarter of the players.\n",
    "\n",
    "D) In the data, right-batting players are around a quarter of the players.\n",
    "\n",
    "\n",
    "*Answer in the cell below using the uppercase letter associated with your answer. Place your answer between `\"\"`, assign the correct answer to an object called `answer4_2`.*"
   ]
  },
  {
   "cell_type": "code",
   "execution_count": null,
   "metadata": {
    "deletable": false,
    "nbgrader": {
     "cell_type": "code",
     "checksum": "cf28761a855d86eb00d71c0d6418e28c",
     "grade": false,
     "grade_id": "cell-777a2e7469e144d9",
     "locked": false,
     "schema_version": 3,
     "solution": true,
     "task": false
    }
   },
   "outputs": [],
   "source": [
    "answer4_2 = None\n",
    "\n",
    "# your code here\n",
    "raise NotImplementedError # No Answer - remove if you provide an answer\n",
    "answer4_2"
   ]
  },
  {
   "cell_type": "code",
   "execution_count": null,
   "metadata": {
    "deletable": false,
    "editable": false,
    "nbgrader": {
     "cell_type": "code",
     "checksum": "d5efc9ecdb61c08ca6198b236f5cabe4",
     "grade": true,
     "grade_id": "cell-83878264bb4fc27a",
     "locked": true,
     "points": 1,
     "schema_version": 3,
     "solution": false,
     "task": false
    }
   },
   "outputs": [],
   "source": [
    "t.test_4_2(answer4_2)"
   ]
  },
  {
   "cell_type": "markdown",
   "metadata": {},
   "source": [
    "**Question 4.3** <br> {points: 3}\n",
    "\n",
    "Now let's filter the data in the bar plot based on the birth state of the players selected from the `states_select_map` plot we made in **Question 3.4**. \n",
    "\n",
    "Using the `state_select` selection tool (from **Question 3.4**), add a transformation filter to the `bats_plot` plot from **Question 4.1** and rename this object `filtered_bats_bars`.\n",
    "\n",
    "Combine `states_select_map` and `filtered_bats_bars` vertically and name the new plot `map_bat_plot`. \n"
   ]
  },
  {
   "cell_type": "code",
   "execution_count": null,
   "metadata": {
    "deletable": false,
    "nbgrader": {
     "cell_type": "code",
     "checksum": "718c319f9e6497e5c3d7848f188f4d28",
     "grade": false,
     "grade_id": "cell-f9e81505d3e42d48",
     "locked": false,
     "schema_version": 3,
     "solution": true,
     "task": false
    }
   },
   "outputs": [],
   "source": [
    "filtered_bats_bars = None\n",
    "map_bat_plot = None\n",
    "\n",
    "# your code here\n",
    "raise NotImplementedError # No Answer - remove if you provide an answer\n",
    "\n",
    "map_bat_plot"
   ]
  },
  {
   "cell_type": "code",
   "execution_count": null,
   "metadata": {
    "deletable": false,
    "editable": false,
    "nbgrader": {
     "cell_type": "code",
     "checksum": "3f4964e29b16259513dd4aa6b09f8143",
     "grade": true,
     "grade_id": "cell-57ee818087f31ee5",
     "locked": true,
     "points": 2,
     "schema_version": 3,
     "solution": false,
     "task": false
    }
   },
   "outputs": [],
   "source": [
    "t.test_4_3a(state_select, filtered_bats_bars)"
   ]
  },
  {
   "cell_type": "code",
   "execution_count": null,
   "metadata": {
    "deletable": false,
    "editable": false,
    "nbgrader": {
     "cell_type": "code",
     "checksum": "288d6ef1f6b112d43f90c7cf641e1405",
     "grade": true,
     "grade_id": "cell-03fcd6e50b45a5f4",
     "locked": true,
     "points": 1,
     "schema_version": 3,
     "solution": false,
     "task": false
    }
   },
   "outputs": [],
   "source": [
    "t.test_4_3b(states_select_map, filtered_bats_bars, map_bat_plot)"
   ]
  },
  {
   "cell_type": "markdown",
   "metadata": {},
   "source": [
    "**Question 4.4** <br> {points: 1}\n",
    "\n",
    "Of the players from Wyoming (WY), which side is the most dominant? \n",
    "\n",
    "*(Wyoming is square shaped and in the West - to me, Midwest but the [U.S. Census Bureau](https://web.archive.org/web/20130921053705/http://www.census.gov/geo/maps-data/maps/pdfs/reference/us_regdiv.pdf) says West)* \n",
    "\n",
    "A) Left (L)\n",
    "\n",
    "B) Right (R)\n",
    "\n",
    "C) Switch hitters (B)\n",
    "\n",
    "D) Left and Right have equal numbers of players\n",
    "\n",
    "\n",
    "*Answer in the cell below using the uppercase letter associated with your answer. Place your answer between `\"\"`, assign the correct answer to an object called `answer4.4`.*"
   ]
  },
  {
   "cell_type": "code",
   "execution_count": null,
   "metadata": {
    "deletable": false,
    "nbgrader": {
     "cell_type": "code",
     "checksum": "ac89be821b840fefe6fb239398df6c79",
     "grade": false,
     "grade_id": "cell-e600807eb9b5b292",
     "locked": false,
     "schema_version": 3,
     "solution": true,
     "task": false
    }
   },
   "outputs": [],
   "source": [
    "answer4_4 = None\n",
    "\n",
    "# your code here\n",
    "raise NotImplementedError # No Answer - remove if you provide an answer\n",
    "answer4_4"
   ]
  },
  {
   "cell_type": "code",
   "execution_count": null,
   "metadata": {
    "deletable": false,
    "editable": false,
    "nbgrader": {
     "cell_type": "code",
     "checksum": "06ba2092279fad4a3f1b0152fd1232be",
     "grade": true,
     "grade_id": "cell-5df39b4489253090",
     "locked": true,
     "points": 1,
     "schema_version": 3,
     "solution": false,
     "task": false
    }
   },
   "outputs": [],
   "source": [
    "t.test_4_4(answer4_4)"
   ]
  },
  {
   "cell_type": "markdown",
   "metadata": {},
   "source": [
    "**Question 4.5** <br> {points: 1}\n",
    "\n",
    "Of the players from New York, which side is the most dominant?\n",
    "\n",
    "A) Left\n",
    "\n",
    "B) Right \n",
    "\n",
    "C) Both\n",
    "\n",
    "D) Left and Right have equal numbers of players\n",
    "\n",
    "*Answer in the cell below using the uppercase letter associated with your answer. Place your answer between `\"\"`, assign the correct answer to an object called `answer4.5`.*"
   ]
  },
  {
   "cell_type": "code",
   "execution_count": null,
   "metadata": {
    "deletable": false,
    "nbgrader": {
     "cell_type": "code",
     "checksum": "ab93f9d24e8f97757c07e3179486e86b",
     "grade": false,
     "grade_id": "cell-6d73e500bbf98b32",
     "locked": false,
     "schema_version": 3,
     "solution": true,
     "task": false
    }
   },
   "outputs": [],
   "source": [
    "answer4_5 = None\n",
    "\n",
    "# your code here\n",
    "raise NotImplementedError # No Answer - remove if you provide an answer\n",
    "answer4_5"
   ]
  },
  {
   "cell_type": "code",
   "execution_count": null,
   "metadata": {
    "deletable": false,
    "editable": false,
    "nbgrader": {
     "cell_type": "code",
     "checksum": "37d2327ba1e783b11d64b828226c8df9",
     "grade": true,
     "grade_id": "cell-3a55fd9179fdb85b",
     "locked": true,
     "points": 1,
     "schema_version": 3,
     "solution": false,
     "task": false
    }
   },
   "outputs": [],
   "source": [
    "t.test_4_5(answer4_5)"
   ]
  },
  {
   "cell_type": "markdown",
   "metadata": {},
   "source": [
    "**Question 4.6** <br> {points: 1}\n",
    "\n",
    "How many players from New Hampshire bat left? \n",
    "\n",
    "*(New Hampshire is the small triangle state in the upper East coast.)*\n",
    "\n",
    "*Assign the number in an object of type `int` named `answer4_6`*."
   ]
  },
  {
   "cell_type": "code",
   "execution_count": null,
   "metadata": {
    "deletable": false,
    "nbgrader": {
     "cell_type": "code",
     "checksum": "3da3ec4aa883ad52ea006ec82d5e9c4d",
     "grade": false,
     "grade_id": "cell-27c8fa5c3c388051",
     "locked": false,
     "schema_version": 3,
     "solution": true,
     "task": false
    }
   },
   "outputs": [],
   "source": [
    "answer4_6 = None\n",
    "\n",
    "# your code here\n",
    "raise NotImplementedError # No Answer - remove if you provide an answer\n",
    "answer4_6"
   ]
  },
  {
   "cell_type": "code",
   "execution_count": null,
   "metadata": {
    "deletable": false,
    "editable": false,
    "nbgrader": {
     "cell_type": "code",
     "checksum": "25fa28ada5f7632f86e4bdf44a8ac56f",
     "grade": true,
     "grade_id": "cell-f3fe4bbf62adc0b7",
     "locked": true,
     "points": 1,
     "schema_version": 3,
     "solution": false,
     "task": false
    }
   },
   "outputs": [],
   "source": [
    "t.test_4_6(answer4_6)"
   ]
  },
  {
   "cell_type": "markdown",
   "metadata": {},
   "source": [
    "# 5. The Value of a Homerun?\n",
    "\n",
    "Well, we've explored the players' statistics but we have yet to ~celebrate~ analyze their achievements. Let's bring in some new data that contains each player's home runs and salary for players in 2016. \n",
    " \n",
    "To analyze our data better we will be adding interactivity using dropdown menus and radio buttons. "
   ]
  },
  {
   "cell_type": "markdown",
   "metadata": {},
   "source": [
    "**Question 5.1** <br> {points: 2}\n",
    "\n",
    "Read in the data `baseball_players_stats.csv` from the link [here](https://raw.githubusercontent.com/UBC-MDS/exploratory-data-viz/main/data/baseball_players_stats.json) that we've provided below.\n",
    "\n",
    "(This step is so you can take a look at the data) \n",
    "\n",
    "*Assign your answer as a dataframe to an object named `player_stats`*."
   ]
  },
  {
   "cell_type": "code",
   "execution_count": null,
   "metadata": {
    "deletable": false,
    "nbgrader": {
     "cell_type": "code",
     "checksum": "108cd55ce1c61a92bf68fe012d02d056",
     "grade": false,
     "grade_id": "cell-e7352e97e9c7572a",
     "locked": false,
     "schema_version": 3,
     "solution": true,
     "task": false
    }
   },
   "outputs": [],
   "source": [
    "batting_url = 'https://raw.githubusercontent.com/UBC-MDS/exploratory-data-viz/main/data/baseball_players_stats.json'\n",
    "player_stats = None\n",
    "\n",
    "# your code here\n",
    "raise NotImplementedError # No Answer - remove if you provide an answer\n",
    "\n",
    "player_stats"
   ]
  },
  {
   "cell_type": "code",
   "execution_count": null,
   "metadata": {
    "deletable": false,
    "editable": false,
    "nbgrader": {
     "cell_type": "code",
     "checksum": "dbda7daca0aed82427359bdacce102d5",
     "grade": true,
     "grade_id": "cell-9e24a8d16dec0231",
     "locked": true,
     "points": 2,
     "schema_version": 3,
     "solution": false,
     "task": false
    }
   },
   "outputs": [],
   "source": [
    "# check that the variable exists\n",
    "assert 'player_stats' in globals(\n",
    "), \"Please make sure that your solution is named 'player_stats'\"\n",
    "\n",
    "# This test has been intentionally hidden. It will be up to you to decide if your solution\n",
    "# is sufficiently good."
   ]
  },
  {
   "cell_type": "markdown",
   "metadata": {},
   "source": [
    "**Question 5.2** <br> {points: 2}\n",
    "\n",
    "This new dataset has been pre-filtered for the player in 2016 otherwise it would have been HUGE!\n",
    "\n",
    "let's analyze the players' successes and if they really *pay* off (pun intended) ! Are players with more home-runs also high paid players? Or are there likely other important factors involved in salary decisions? Is this the same for all teams? Let's take a look.\n",
    "\n",
    "Build a scatter plot using a circle mark (`mark_circle()`) that maps the players' home runs vs the players salary, assigning the colour to the team name they played on in 2016. \n",
    "Set the x-axis domain from 0-50. For the y-axis, set the domain from 500,000-50,000,000, and transform it to a log scale. You'll also have to use `nice=False` within the `alt.Scale()` function so that the axis gets properly restricted. \n",
    "Set the tooltip channel to the players' first name, last name and salary. Make sure there are proper labels for the axis and a title for the plot.\n",
    "\n",
    "\n",
    "*Assign your plot to an object named `stats_plot`*."
   ]
  },
  {
   "cell_type": "code",
   "execution_count": null,
   "metadata": {
    "deletable": false,
    "nbgrader": {
     "cell_type": "code",
     "checksum": "bdb7c77d299c908c7ed6bd4fa70c4e19",
     "grade": false,
     "grade_id": "cell-200ac6f4b7abdbaf",
     "locked": false,
     "schema_version": 3,
     "solution": true,
     "task": false
    }
   },
   "outputs": [],
   "source": [
    "batting_url = 'https://raw.githubusercontent.com/UBC-MDS/exploratory-data-viz/main/data/baseball_players_stats.json'\n",
    "\n",
    "stats_plot = None\n",
    "\n",
    "\n",
    "# your code here\n",
    "raise NotImplementedError # No Answer - remove if you provide an answer\n",
    "\n",
    "stats_plot"
   ]
  },
  {
   "cell_type": "code",
   "execution_count": null,
   "metadata": {
    "deletable": false,
    "editable": false,
    "nbgrader": {
     "cell_type": "code",
     "checksum": "38791048f48773bb952fd37ffbe80226",
     "grade": true,
     "grade_id": "cell-174cad27de8a2fd1",
     "locked": true,
     "points": 1,
     "schema_version": 3,
     "solution": false,
     "task": false
    }
   },
   "outputs": [],
   "source": [
    "t.test_5_2a(stats_plot)"
   ]
  },
  {
   "cell_type": "code",
   "execution_count": null,
   "metadata": {
    "deletable": false,
    "editable": false,
    "nbgrader": {
     "cell_type": "code",
     "checksum": "2d6954d619993ea25119c2d40b913ad8",
     "grade": true,
     "grade_id": "cell-753c080f86b93cc3",
     "locked": true,
     "points": 1,
     "schema_version": 3,
     "solution": false,
     "task": false
    }
   },
   "outputs": [],
   "source": [
    "t.test_5_2b(stats_plot)"
   ]
  },
  {
   "cell_type": "markdown",
   "metadata": {},
   "source": [
    "**Question 5.3** <br> {points: 4}\n",
    "\n",
    "Woahh, that's a big legend! It would be better if we could look at the Teams individually since either faceting on `team_name` or using a legend with a colour channel are both far too much to handle at once. This is a great opportunity for a dropdown menu where we can highlight the Team based on the selection we choose. \n",
    "\n",
    "First off, find all the unique values in the `team_name` column and save them in a list or an array in an object named `teams`. Make sure they are sorted alphabetically.  \n",
    "\n",
    "Create a dropdown menu using the `teams` as options within `.binding_select()` and saving this in an object named `dropdown_team` give this drop down an informative label like \"Team name\". \n",
    "\n",
    "Create a single selection tool using `.selection_single()` and set the fields to the leagues, binding it to the `dropdown_team` and saving this as `select_team`. \n",
    "\n",
    "Now it's time to connect these to the plot! Using the plot `stats_plot` from **Question 5.3** as a base.\n",
    "- Encode the colour channel so now it is only a single colour - navy.\n",
    "- Encode opacity channels to a condition where depending on `select_team`, either an opacity value of 0.8 or 0.08 will result. \n",
    "- Finally make sure to add the selection option with `select_team` using `.add_selection()` and `.transform_filter()`.\n",
    "- Save this plot in an object named `stats_drop_plot`. "
   ]
  },
  {
   "cell_type": "code",
   "execution_count": null,
   "metadata": {
    "deletable": false,
    "nbgrader": {
     "cell_type": "code",
     "checksum": "158d71bdb3a68e600327c6210ea5319b",
     "grade": false,
     "grade_id": "cell-2398533a7e9fa6f2",
     "locked": false,
     "schema_version": 3,
     "solution": true,
     "task": false
    }
   },
   "outputs": [],
   "source": [
    "teams = None\n",
    "dropdown_team = None\n",
    "select_team = None\n",
    "stats_drop_plot = None\n",
    "\n",
    "# your code here\n",
    "raise NotImplementedError # No Answer - remove if you provide an answer\n",
    "\n",
    "stats_drop_plot"
   ]
  },
  {
   "cell_type": "code",
   "execution_count": null,
   "metadata": {
    "deletable": false,
    "editable": false,
    "nbgrader": {
     "cell_type": "code",
     "checksum": "d4ddb1c61ae6d344c72f550653c58668",
     "grade": true,
     "grade_id": "cell-1ce12b5783cdf37f",
     "locked": true,
     "points": 1,
     "schema_version": 3,
     "solution": false,
     "task": false
    }
   },
   "outputs": [],
   "source": [
    "t.test_5_3a(teams)"
   ]
  },
  {
   "cell_type": "code",
   "execution_count": null,
   "metadata": {
    "deletable": false,
    "editable": false,
    "nbgrader": {
     "cell_type": "code",
     "checksum": "51c327c4b9b7fb1a44f95364d858f72a",
     "grade": true,
     "grade_id": "cell-096e2914c6c59ca7",
     "locked": true,
     "points": 1,
     "schema_version": 3,
     "solution": false,
     "task": false
    }
   },
   "outputs": [],
   "source": [
    "t.test_5_3b(teams, dropdown_team)"
   ]
  },
  {
   "cell_type": "code",
   "execution_count": null,
   "metadata": {
    "deletable": false,
    "editable": false,
    "nbgrader": {
     "cell_type": "code",
     "checksum": "72a23f1d59e02645f145f5977ba01ece",
     "grade": true,
     "grade_id": "cell-3500886a61e5e581",
     "locked": true,
     "points": 1,
     "schema_version": 3,
     "solution": false,
     "task": false
    }
   },
   "outputs": [],
   "source": [
    "t.test_5_3c(dropdown_team, select_team)"
   ]
  },
  {
   "cell_type": "code",
   "execution_count": null,
   "metadata": {
    "deletable": false,
    "editable": false,
    "nbgrader": {
     "cell_type": "code",
     "checksum": "8fad9fb233a22fdc9d529f09aba92ebd",
     "grade": true,
     "grade_id": "cell-bea14678d757290d",
     "locked": true,
     "points": 1,
     "schema_version": 3,
     "solution": false,
     "task": false
    }
   },
   "outputs": [],
   "source": [
    "t.test_5_3d(select_team, stats_drop_plot)"
   ]
  },
  {
   "cell_type": "markdown",
   "metadata": {},
   "source": [
    "**Question 5.4** <br> {points: 1}\n",
    "\n",
    "Of the following, which team tends to pay their high scoring home run players more than the others?\n",
    "\n",
    "A) Oakland Athletics\n",
    "\n",
    "B) Toronto Blue Jays\n",
    "\n",
    "C) Cincinnati Reds\n",
    "\n",
    "D) Chicago Cubs\n",
    "\n",
    "*Answer in the cell below using the uppercase letter associated with your answer. Place your answer between `\"\"`, assign the correct answer to an object called `answer5_4`.*"
   ]
  },
  {
   "cell_type": "code",
   "execution_count": null,
   "metadata": {
    "deletable": false,
    "nbgrader": {
     "cell_type": "code",
     "checksum": "e16a645a4502946770685a496590dc90",
     "grade": false,
     "grade_id": "cell-e5d63209cf79403a",
     "locked": false,
     "schema_version": 3,
     "solution": true,
     "task": false
    }
   },
   "outputs": [],
   "source": [
    "answer5_4 = None\n",
    "\n",
    "# your code here\n",
    "raise NotImplementedError # No Answer - remove if you provide an answer\n",
    "answer5_4"
   ]
  },
  {
   "cell_type": "code",
   "execution_count": null,
   "metadata": {
    "deletable": false,
    "editable": false,
    "nbgrader": {
     "cell_type": "code",
     "checksum": "0fb9dff1f9100a17853150d844e92590",
     "grade": true,
     "grade_id": "cell-4590306ea7d0229b",
     "locked": true,
     "points": 1,
     "schema_version": 3,
     "solution": false,
     "task": false
    }
   },
   "outputs": [],
   "source": [
    "t.test_5_4(answer5_4)"
   ]
  },
  {
   "cell_type": "markdown",
   "metadata": {},
   "source": [
    "**Question 5.5** <br> {points: 4}\n",
    "\n",
    "Great! Using the dropdown helps us see the players' home runs and salary on a team basis which helps with our analysis.\n",
    "\n",
    "Earlier we talked about batting left vs right side. Do you think that one side is paid more than the other? Are individual teams paying players differently base on how they bat?\n",
    "Are certain batters more likely to hit home runs? \n",
    "\n",
    "To answer these questions, let's add some radio buttons to highlight based on how players' bats. \n",
    "\n",
    "Begin by creating a list or an array of all the unique positions saving this in an object named `batting_side`. \n",
    "\n",
    "Using `.binding_radio()`, make a radio menu using `batting_side` as options and saving this in an object named `radio_position`. \n",
    "\n",
    "(We made a dropdown menu already for `team_name` in **Question 5.4** called  `dropdown_team`.) \n",
    "\n",
    "Create selection tool using `.selection_single()` and set the fields to both `team_name`and `bats`. Set the bind argument equal to a dictionary with the `bats`  and `team_name` columns as the keys and `radio_batting` and `dropdown_team` as the values. Save this as an object named `select_bat_and_team`. \n",
    "\n",
    "Finally, let's edit the `stats_plot`.\n",
    "- Set the color channel to a `navy` color. \n",
    "- Make sure to add the selection option **AND** the filtering option using `.add_selection()` and `.transform_filter()` but this time selecting on `select_bat_and_team`.\n",
    "\n",
    "Save this plot in an object named `stats_radio_plot`. "
   ]
  },
  {
   "cell_type": "code",
   "execution_count": null,
   "metadata": {
    "deletable": false,
    "nbgrader": {
     "cell_type": "code",
     "checksum": "c7381106107e9247cdda6592fb3e1556",
     "grade": false,
     "grade_id": "cell-9880bc2ce3b0210d",
     "locked": false,
     "schema_version": 3,
     "solution": true,
     "task": false
    }
   },
   "outputs": [],
   "source": [
    "batting_side = None\n",
    "radio_batting = None\n",
    "select_bat_and_team = None\n",
    "stats_radio_plot = None\n",
    "\n",
    "# your code here\n",
    "raise NotImplementedError # No Answer - remove if you provide an answer\n",
    "\n",
    "stats_radio_plot"
   ]
  },
  {
   "cell_type": "code",
   "execution_count": null,
   "metadata": {
    "deletable": false,
    "editable": false,
    "nbgrader": {
     "cell_type": "code",
     "checksum": "bab7eae4bd620d889b819001022dc20c",
     "grade": true,
     "grade_id": "cell-eea4d5f9895e1ff8",
     "locked": true,
     "points": 1,
     "schema_version": 3,
     "solution": false,
     "task": false
    }
   },
   "outputs": [],
   "source": [
    "t.test_5_5a(batting_side)"
   ]
  },
  {
   "cell_type": "code",
   "execution_count": null,
   "metadata": {
    "deletable": false,
    "editable": false,
    "nbgrader": {
     "cell_type": "code",
     "checksum": "6ea4f0c12fe1947e0ada798b3bad93d3",
     "grade": true,
     "grade_id": "cell-7a0ddb0db2fe889e",
     "locked": true,
     "points": 1,
     "schema_version": 3,
     "solution": false,
     "task": false
    }
   },
   "outputs": [],
   "source": [
    "t.test_5_5b(batting_side, radio_batting)"
   ]
  },
  {
   "cell_type": "code",
   "execution_count": null,
   "metadata": {
    "deletable": false,
    "editable": false,
    "nbgrader": {
     "cell_type": "code",
     "checksum": "a5a6fb8df75607fbde8de85458614967",
     "grade": true,
     "grade_id": "cell-047af22fa4714061",
     "locked": true,
     "points": 1,
     "schema_version": 3,
     "solution": false,
     "task": false
    }
   },
   "outputs": [],
   "source": [
    "t.test_5_5c(dropdown_team, radio_batting, select_bat_and_team)"
   ]
  },
  {
   "cell_type": "code",
   "execution_count": null,
   "metadata": {
    "deletable": false,
    "editable": false,
    "nbgrader": {
     "cell_type": "code",
     "checksum": "fc54123c7d1cbea409e55e603a305ff9",
     "grade": true,
     "grade_id": "cell-9a6c7946c5f26b7d",
     "locked": true,
     "points": 1,
     "schema_version": 3,
     "solution": false,
     "task": false
    }
   },
   "outputs": [],
   "source": [
    "t.test_5_5d(select_bat_and_team, stats_radio_plot)"
   ]
  },
  {
   "cell_type": "markdown",
   "metadata": {},
   "source": [
    "**Question 5.6** <br> {points: 1}\n",
    "\n",
    "Looking at the plot above, which players on the San Diego Padres get more home runs? (Remember this is too small of a data set to come to any firm conclusions here) \n",
    "\n",
    "A) Left batting players (L)\n",
    "\n",
    "B) Right batting player (R)\n",
    "\n",
    "C) Ambidextrous batting players (B) \n",
    "\n",
    "\n",
    "*Answer in the cell below using the uppercase letter associated with your answer. Place your answer between `\"\"`, assign the correct answer to an object called `answer5_6`.*"
   ]
  },
  {
   "cell_type": "code",
   "execution_count": null,
   "metadata": {
    "deletable": false,
    "nbgrader": {
     "cell_type": "code",
     "checksum": "1f850cb3993ff2a141fdc24404224168",
     "grade": false,
     "grade_id": "cell-ee068e649505a038",
     "locked": false,
     "schema_version": 3,
     "solution": true,
     "task": false
    }
   },
   "outputs": [],
   "source": [
    "answer5_6 = None\n",
    "\n",
    "# your code here\n",
    "raise NotImplementedError # No Answer - remove if you provide an answer\n",
    "answer5_6"
   ]
  },
  {
   "cell_type": "code",
   "execution_count": null,
   "metadata": {
    "deletable": false,
    "editable": false,
    "nbgrader": {
     "cell_type": "code",
     "checksum": "55a3bab7f19c0df53b5258181853ba47",
     "grade": true,
     "grade_id": "cell-528d7163f64b42de",
     "locked": true,
     "points": 1,
     "schema_version": 3,
     "solution": false,
     "task": false
    }
   },
   "outputs": [],
   "source": [
    "t.test_5_6(answer5_6)"
   ]
  },
  {
   "cell_type": "markdown",
   "metadata": {},
   "source": [
    "You did it! You completed all 7 assignments of Data Visualization. Congratulations! \n",
    "\n",
    "Let's now use these skills in our final project. "
   ]
  },
  {
   "cell_type": "markdown",
   "metadata": {},
   "source": [
    "## Before Submitting \n",
    "\n",
    "Before submitting your assignment please do the following:\n",
    "\n",
    "- Read through your solutions\n",
    "- **Restart your kernel, clear output and rerun your cells from top to bottom** \n",
    "- Makes sure that none of your code is broken \n",
    "- Verify that the tests from the questions you answered have obtained the output \"Success\"\n",
    "\n",
    "This is a simple way to make sure that you are submitting all the variables needed to mark the assignment. This method should help avoid losing marks due to changes in your environment.  "
   ]
  },
  {
   "cell_type": "markdown",
   "metadata": {},
   "source": [
    "## Attributions\n",
    "\n",
    "- MDS DSCI 531: Data Visualization I - [MDS's GitHub website](https://github.com/UBC-MDS/DSCI_531_viz-1) \n",
    "\n",
    "- The [Sean Lahman's Baseball dataset](http://www.seanlahman.com/baseball-archive/statistics/) "
   ]
  },
  {
   "cell_type": "code",
   "execution_count": null,
   "metadata": {},
   "outputs": [],
   "source": []
  },
  {
   "cell_type": "code",
   "execution_count": null,
   "metadata": {},
   "outputs": [],
   "source": []
  }
 ],
 "metadata": {
  "kernelspec": {
   "display_name": "Python 3",
   "language": "python",
   "name": "python3"
  },
  "language_info": {
   "codemirror_mode": {
    "name": "ipython",
    "version": 3
   },
   "file_extension": ".py",
   "mimetype": "text/x-python",
   "name": "python",
   "nbconvert_exporter": "python",
   "pygments_lexer": "ipython3",
   "version": "3.8.5"
  },
  "toc": {
   "base_numbering": 1,
   "nav_menu": {},
   "number_sections": false,
   "sideBar": true,
   "skip_h1_title": false,
   "title_cell": "Table of Contents",
   "title_sidebar": "Contents",
   "toc_cell": false,
   "toc_position": {
    "height": "calc(100% - 180px)",
    "left": "10px",
    "top": "150px",
    "width": "165px"
   },
   "toc_section_display": true,
   "toc_window_display": true
  }
 },
 "nbformat": 4,
 "nbformat_minor": 4
}
