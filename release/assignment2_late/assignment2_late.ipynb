{
 "cells": [
  {
   "cell_type": "markdown",
   "metadata": {},
   "source": [
    "# Data Visualization\n",
    "\n",
    "## Assignment 2: Visual Encoding Channels"
   ]
  },
  {
   "cell_type": "markdown",
   "metadata": {},
   "source": [
    "You can't learn technical subjects without hands-on practice. The assignments are an important part of the course. To submit this assignment you will need to make sure that you save your Jupyter notebook. \n",
    "\n",
    "Below are the links to 2 videos that explain:\n",
    "\n",
    "1. [How to save your Jupyter notebook](https://youtu.be/0aoLgBoAUSA) and,       \n",
    "2. [How to answer a question in a Jupyter notebook assignment](https://youtu.be/7j0WKhI3W4s)."
   ]
  },
  {
   "cell_type": "markdown",
   "metadata": {},
   "source": [
    "<div class=\"alert alert-info\" style=\"color:black\">\n",
    "    \n",
    "### Assignment Learning Goals:\n",
    "\n",
    "By the end of the module, students are expected to:\n",
    "\n",
    "- Choose effective visual channels for information display.\n",
    "- Visualize frequencies with bar plots.\n",
    "- Facet plots to explore more variables simultaneously.\n",
    "- Customize axes labels and scales.\n",
    "\n",
    "\n",
    "This assignment covers [Module 2](https://viz-learn.mds.ubc.ca/en/module2) of the online course. You should complete this module before attempting this assignment.\n",
    " \n",
    "</div>"
   ]
  },
  {
   "cell_type": "markdown",
   "metadata": {},
   "source": [
    "Any place you see `...`, you must fill in the function, variable, or data to complete the code. Substitute the `None` and the `raise NotImplementedError # No Answer - remove if you provide an answer` with your completed code and answers then proceed to run the cell!"
   ]
  },
  {
   "cell_type": "markdown",
   "metadata": {},
   "source": [
    "Note that some of the questions in this assignment will have hidden tests. This means that no feedback will be given as to the correctness of your solution. It will be left up to you to decide if your answer is sufficiently correct. These questions are worth 2 points."
   ]
  },
  {
   "cell_type": "code",
   "execution_count": null,
   "metadata": {},
   "outputs": [],
   "source": [
    "# Import libraries needed for this assignment\n",
    "\n",
    "from hashlib import sha1\n",
    "import altair as alt\n",
    "import pandas as pd\n",
    "import numpy as np\n",
    "from hashlib import sha1\n",
    "import test_assignment2 as t\n",
    "alt.data_transformers.disable_max_rows()\n"
   ]
  },
  {
   "cell_type": "markdown",
   "metadata": {},
   "source": [
    "## 0. Gapminder ... REVISITED!\n",
    "\n",
    "Remember the [Gapminder](https://www.gapminder.org) data that we explored in assignment 1? Well, it's making a comeback! \n",
    "\n",
    "Let's continue our exploration of this data. \n",
    "\n",
    "As a reminder, the data that we have provided to you contains values up until 2018 for most of the features.\n",
    "\n",
    "Here are the descriptions and column names just to remind yourself of the data that you are using. \n",
    "\n",
    "| Column                | Description                                                                                  |\n",
    "|-----------------------|--------------------------------------------------------------------------------------------|\n",
    "| country               | Country name                                                                                 |\n",
    "| year                  | Year of observation                                                                          |\n",
    "| population            | Population in the country at each year                                                       |\n",
    "| region                | Continent the country belongs to                                                             |\n",
    "| sub_region            | Sub-region the country belongs to                                                            |\n",
    "| income_group          | Income group [as specified by the world bank in 2018]                                                |\n",
    "| life_expectancy       | The mean number of years a newborn would <br>live if mortality patterns remained constant    |\n",
    "| income                | GDP per capita (in USD) <em>adjusted <br>for differences in purchasing power</em>            |\n",
    "| children_per_woman    | Average number of children born per woman                                                    |\n",
    "| child_mortality       | Deaths of children under 5 years <break>of age per 1000 live births                          |\n",
    "| pop_density           | Average number of people per km<sup>2</sup>                                                  |\n",
    "| co2_per_capita        | CO2 emissions from fossil fuels (tonnes per capita)                                          |\n",
    "| years_in_school_men   | Mean number of years in primary, secondary,<br>and tertiary school for 25-36 years old men   |\n",
    "| years_in_school_women | Mean number of years in primary, secondary,<br>and tertiary school for 25-36 years old women |\n",
    "\n",
    "[as specified by the world bank in 2018]: https://datahelpdesk.worldbank.org/knowledgebase/articles/378833-how-are-the-income-group-thresholds-determined\n",
    "    \n"
   ]
  },
  {
   "cell_type": "markdown",
   "metadata": {},
   "source": [
    "**Question 0.1** \n",
    "    <br> {points: 2}\n",
    "\n",
    "Before you do anything, you must read in the data just like we did in assignment 1. The preprocessed version of the 2018 Gapminder data is stored in a csv file named `world-data-gapminder.csv`.  \n",
    "\n",
    "Use `read_csv` from `pandas` to load the data from the `data` folder and  assign it to a variable named `gapminder_df`. \n",
    "\n",
    "Make sure to parse any time columns using the `parse_dates` argument.\n"
   ]
  },
  {
   "cell_type": "code",
   "execution_count": null,
   "metadata": {
    "deletable": false,
    "nbgrader": {
     "cell_type": "code",
     "checksum": "3d6664c1edb7b07186a957ef58d17e69",
     "grade": false,
     "grade_id": "cell-c9f7f8cd0079aaea",
     "locked": false,
     "schema_version": 3,
     "solution": true,
     "task": false
    }
   },
   "outputs": [],
   "source": [
    "gapminder_df = None\n",
    "\n",
    "# your code here\n",
    "raise NotImplementedError # No Answer - remove if you provide an answer\n",
    "gapminder_df.head()"
   ]
  },
  {
   "cell_type": "code",
   "execution_count": null,
   "metadata": {
    "deletable": false,
    "editable": false,
    "nbgrader": {
     "cell_type": "code",
     "checksum": "14882616e35d16e0ec3bacfc5e5e9409",
     "grade": true,
     "grade_id": "cell-67dfea2a3b04f9c2",
     "locked": true,
     "points": 1,
     "schema_version": 3,
     "solution": false,
     "task": false
    }
   },
   "outputs": [],
   "source": [
    "t.test_0_1_1(gapminder_df)"
   ]
  },
  {
   "cell_type": "code",
   "execution_count": null,
   "metadata": {
    "deletable": false,
    "editable": false,
    "nbgrader": {
     "cell_type": "code",
     "checksum": "38b2219440ab8ec57c3376f27ac777e5",
     "grade": true,
     "grade_id": "cell-740bef61230fd86f",
     "locked": true,
     "points": 1,
     "schema_version": 3,
     "solution": false,
     "task": false
    }
   },
   "outputs": [],
   "source": [
    "t.test_0_1_2(gapminder_df)"
   ]
  },
  {
   "cell_type": "markdown",
   "metadata": {},
   "source": [
    "# 1. Quick Questions \n",
    "\n",
    "This next section is something that we're calling \"Quick Questions\". Here we are going to ask some questions that confirm your knowledge and if you've been keeping up with your readings."
   ]
  },
  {
   "cell_type": "markdown",
   "metadata": {},
   "source": [
    "**Question 1.1** <br> {points: 1}  \n",
    "\n",
    "With respect to static (non-interactive) 3D plots, which of the following statements are true?\n",
    "\n",
    "Select all that apply:\n",
    "\n",
    "A) 3D plots should be avoided at all cost. \n",
    "\n",
    "B) 3D plots can sometimes be misleading in the information that it conveys. \n",
    "\n",
    "C) Many 3D plots can be more effectively represented with 2 dimensions. \n",
    "\n",
    "D) Using 3D plots is usually the only possible way to present it when we have 3-dimensional data.\n",
    "\n",
    "*To answer the question, select all that apply and add the letter(s) associated with the correct answer(s) to a list and assign it to a variable named `answer1_1`. For example, if you believe that A and B are True, then your answer would look like this:*\n",
    "\n",
    "`answer1_5 = [\"A\", \"B\"]`"
   ]
  },
  {
   "cell_type": "code",
   "execution_count": null,
   "metadata": {
    "deletable": false,
    "nbgrader": {
     "cell_type": "code",
     "checksum": "5700afd4dd7076c25fa8cf4e4629d44e",
     "grade": false,
     "grade_id": "cell-4119ecde7170d634",
     "locked": false,
     "schema_version": 3,
     "solution": true,
     "task": false
    }
   },
   "outputs": [],
   "source": [
    "answer1_1 = None\n",
    "\n",
    "# your code here\n",
    "raise NotImplementedError # No Answer - remove if you provide an answer\n",
    "answer1_1"
   ]
  },
  {
   "cell_type": "code",
   "execution_count": null,
   "metadata": {
    "deletable": false,
    "editable": false,
    "nbgrader": {
     "cell_type": "code",
     "checksum": "40801ef3faf031e20a7b539d6c81524b",
     "grade": true,
     "grade_id": "cell-5c1e1441432b79ed",
     "locked": true,
     "points": 1,
     "schema_version": 3,
     "solution": false,
     "task": false
    }
   },
   "outputs": [],
   "source": [
    "t.test_1_1(answer1_1)"
   ]
  },
  {
   "cell_type": "markdown",
   "metadata": {},
   "source": [
    "**Question 1.2** <br> {points: 1}  \n",
    "\n",
    "Generally speaking, which of the following is the easiest to compare when using plots?\n",
    "\n",
    "A) Angles\n",
    "\n",
    "B) Area\n",
    "\n",
    "C) Length/position\n",
    "\n",
    "D) Volume\n",
    "\n",
    "To answer the question, assign the letter associated with the correct answer to a variable in the code cell below.\n",
    "\n",
    "*Answer in the cell below using the uppercase letter associated with your answer. Place your answer between `\"\"`, assign the correct answer to an object called `answer1_2`.*\n"
   ]
  },
  {
   "cell_type": "code",
   "execution_count": null,
   "metadata": {
    "deletable": false,
    "nbgrader": {
     "cell_type": "code",
     "checksum": "e7d811753a66d18e14b09ca6cd1111e2",
     "grade": false,
     "grade_id": "cell-3c0596935f222b61",
     "locked": false,
     "schema_version": 3,
     "solution": true,
     "task": false
    }
   },
   "outputs": [],
   "source": [
    "answer1_2 = None\n",
    "\n",
    "# your code here\n",
    "raise NotImplementedError # No Answer - remove if you provide an answer\n",
    "answer1_2"
   ]
  },
  {
   "cell_type": "code",
   "execution_count": null,
   "metadata": {
    "deletable": false,
    "editable": false,
    "nbgrader": {
     "cell_type": "code",
     "checksum": "b338923d5cb8a0f2358a018cf91fe18c",
     "grade": true,
     "grade_id": "cell-e3077a0bf3df8868",
     "locked": true,
     "points": 1,
     "schema_version": 3,
     "solution": false,
     "task": false
    }
   },
   "outputs": [],
   "source": [
    "t.test_1_2(answer1_2)"
   ]
  },
  {
   "cell_type": "markdown",
   "metadata": {},
   "source": [
    "Use the plots below to answer the following 2 questions (ignore the code). "
   ]
  },
  {
   "cell_type": "code",
   "execution_count": null,
   "metadata": {},
   "outputs": [],
   "source": [
    "plot_a = alt.Chart(gapminder_df).mark_line().encode(\n",
    "    x='year', \n",
    "    y='population', \n",
    "    color='region').properties(\n",
    "    title='Plot A',width=300, height=200)\n",
    "\n",
    "plot_b = alt.Chart(gapminder_df).mark_line().encode(\n",
    "    x='year', \n",
    "    y='sum(population)', \n",
    "    color='region').properties(\n",
    "    title='Plot B',width=300, height=200)\n",
    "\n",
    "plot_c = alt.Chart(gapminder_df).mark_area().encode(\n",
    "    x='year', \n",
    "    y='sum(population)', \n",
    "    color='region').properties(\n",
    "    title='Plot C',width=300, height=200)\n",
    "\n",
    "plot_d = alt.Chart(gapminder_df).mark_circle().encode(\n",
    "    alt.X('year', scale=alt.Scale(zero=False)),\n",
    "    alt.Y('population'),\n",
    "    alt.Color('region')).properties(\n",
    "    title='Plot D',width=300, height=200)\n",
    "\n",
    "alt.vconcat(alt.hconcat(\n",
    "    plot_a, plot_b\n",
    ").resolve_scale(\n",
    "    color='independent'),  \n",
    "alt.hconcat(\n",
    "    plot_c, plot_d\n",
    ").resolve_scale(\n",
    "    color='independent'))"
   ]
  },
  {
   "cell_type": "markdown",
   "metadata": {},
   "source": [
    "**Question 1.3** <br> {points: 1}  \n",
    "\n",
    "Which plot is most effective in answer the question \"Between Africa and the Americas, which had the lowest population in 1960?\"\n",
    "\n",
    "A) `plot_a`\n",
    "\n",
    "B) `plot_b`\n",
    "\n",
    "C) `plot_c`\n",
    "\n",
    "D) `plot_d`\n",
    "\n",
    "To answer the question, assign the letter associated with the correct answer to a variable in the code cell below.\n",
    "\n",
    "*Answer in the cell below using the uppercase letter associated with your answer. Place your answer between `\"\"`, assign the correct answer to an object called `answer1_3`.*"
   ]
  },
  {
   "cell_type": "code",
   "execution_count": null,
   "metadata": {
    "deletable": false,
    "nbgrader": {
     "cell_type": "code",
     "checksum": "ad0582ca6f45f5a016152f2867702624",
     "grade": false,
     "grade_id": "cell-2a55de8b5d0d0156",
     "locked": false,
     "schema_version": 3,
     "solution": true,
     "task": false
    }
   },
   "outputs": [],
   "source": [
    "answer1_3 = None\n",
    "\n",
    "# your code here\n",
    "raise NotImplementedError # No Answer - remove if you provide an answer\n",
    "answer1_3"
   ]
  },
  {
   "cell_type": "code",
   "execution_count": null,
   "metadata": {
    "deletable": false,
    "editable": false,
    "nbgrader": {
     "cell_type": "code",
     "checksum": "bdbb03e1161a7a9b767e65d405db4e50",
     "grade": true,
     "grade_id": "cell-2ea8dc2a0f1ebf25",
     "locked": true,
     "points": 1,
     "schema_version": 3,
     "solution": false,
     "task": false
    }
   },
   "outputs": [],
   "source": [
    "t.test_1_3(answer1_3)"
   ]
  },
  {
   "cell_type": "markdown",
   "metadata": {},
   "source": [
    "**Question 1.4** <br> {points: 2}  \n",
    "\n",
    "Which plot is most effective in answer the question \"Between the years 1960 and 2000, how much growth did the global population sustain?\"\n",
    "\n",
    "A) `plot_a`\n",
    "\n",
    "B) `plot_b`\n",
    "\n",
    "C) `plot_c`\n",
    "\n",
    "D) `plot_d`\n",
    "\n",
    "To answer the question, assign the letter associated with the correct answer to a variable in the code cell below.\n",
    "\n",
    "*Answer in the cell below using the uppercase letter associated with your answer. Place your answer between `\"\"`, assign the correct answer to an object called `answer1_4`.*"
   ]
  },
  {
   "cell_type": "code",
   "execution_count": null,
   "metadata": {
    "deletable": false,
    "nbgrader": {
     "cell_type": "code",
     "checksum": "16964482d5ae92c96410de1a7737d370",
     "grade": false,
     "grade_id": "cell-886bfbdae911582a",
     "locked": false,
     "schema_version": 3,
     "solution": true,
     "task": false
    }
   },
   "outputs": [],
   "source": [
    "answer1_4 = None\n",
    "\n",
    "# your code here\n",
    "raise NotImplementedError # No Answer - remove if you provide an answer\n",
    "answer1_4"
   ]
  },
  {
   "cell_type": "code",
   "execution_count": null,
   "metadata": {
    "deletable": false,
    "editable": false,
    "nbgrader": {
     "cell_type": "code",
     "checksum": "2988c4596e494bada21d8546dfda8284",
     "grade": true,
     "grade_id": "cell-61ec38f8f1159c76",
     "locked": true,
     "points": 2,
     "schema_version": 3,
     "solution": false,
     "task": false
    }
   },
   "outputs": [],
   "source": [
    "# check that the variable exists\n",
    "assert 'answer1_4' in globals(\n",
    "), \"Please make sure that your solution is named 'answer1_4'\"\n",
    "\n",
    "# This test has been intentionally hidden. It will be up to you to decide if your solution\n",
    "# is sufficiently good."
   ]
  },
  {
   "cell_type": "markdown",
   "metadata": {},
   "source": [
    "**Question 1.5** <br> {points: 1}  \n",
    "\n",
    "In a histogram plot, what data types are displayed on each of the axes?\n",
    "\n",
    "\n",
    "A) Categorical on both the x and y axes.\n",
    "\n",
    "B) Numeric on one of the axis (either the x-axis or the y-axis) and categorical on the other.\n",
    "\n",
    "C) Numeric on both the x and y axes.\n",
    "\n",
    "D) Categorical on the x-axis and Numeric on the y-axis.\n",
    "\n",
    "*Answer in the cell below using the uppercase letter associated with your answer. Place your answer between `\"\"`, assign the correct answer to an object called `answer1_5`.*\n"
   ]
  },
  {
   "cell_type": "code",
   "execution_count": null,
   "metadata": {
    "deletable": false,
    "nbgrader": {
     "cell_type": "code",
     "checksum": "149621c7e52c183760512f075a29ad33",
     "grade": false,
     "grade_id": "cell-96e7bec4ab8b1e79",
     "locked": false,
     "schema_version": 3,
     "solution": true,
     "task": false
    }
   },
   "outputs": [],
   "source": [
    "answer1_5 = None\n",
    "\n",
    "# your code here\n",
    "raise NotImplementedError # No Answer - remove if you provide an answer\n",
    "answer1_5"
   ]
  },
  {
   "cell_type": "code",
   "execution_count": null,
   "metadata": {
    "deletable": false,
    "editable": false,
    "nbgrader": {
     "cell_type": "code",
     "checksum": "84a608bbf6f651abcb647db3648144ae",
     "grade": true,
     "grade_id": "cell-d35b18755e56c965",
     "locked": true,
     "points": 1,
     "schema_version": 3,
     "solution": false,
     "task": false
    }
   },
   "outputs": [],
   "source": [
    "t.test_1_5(answer1_5)"
   ]
  },
  {
   "cell_type": "markdown",
   "metadata": {},
   "source": [
    "**Question 1.6** <br> {points: 1}  \n",
    "\n",
    "When making bar charts or histograms and using the color channel, what kind of plot does Altair make by default? \n",
    "\n",
    "A) Stacked bar chart or histogram.\n",
    "\n",
    "B) Faceted bar chart or histogram.\n",
    "\n",
    "C) A bar chart or histogram that displays the mean of all categories in the color channel. \n",
    "\n",
    "D) A plot with a single bar displaying the total number of examples in the data.\n",
    "\n",
    "*Answer in the cell below using the uppercase letter associated with your answer. Place your answer between `\"\"`, assign the correct answer to an object called `answer1_6`.*\n"
   ]
  },
  {
   "cell_type": "code",
   "execution_count": null,
   "metadata": {
    "deletable": false,
    "nbgrader": {
     "cell_type": "code",
     "checksum": "eff8013e5079fe239f81c2f9df29f3fe",
     "grade": false,
     "grade_id": "cell-03de26ed4f522c40",
     "locked": false,
     "schema_version": 3,
     "solution": true,
     "task": false
    }
   },
   "outputs": [],
   "source": [
    "answer1_6 = None\n",
    "\n",
    "# your code here\n",
    "raise NotImplementedError # No Answer - remove if you provide an answer\n",
    "answer1_6"
   ]
  },
  {
   "cell_type": "code",
   "execution_count": null,
   "metadata": {
    "deletable": false,
    "editable": false,
    "nbgrader": {
     "cell_type": "code",
     "checksum": "a2e3f2a97ebfdf5eb4eda528ae544812",
     "grade": true,
     "grade_id": "cell-a000374b593d4f39",
     "locked": true,
     "points": 1,
     "schema_version": 3,
     "solution": false,
     "task": false
    }
   },
   "outputs": [],
   "source": [
    "t.test_1_6(answer1_6)"
   ]
  },
  {
   "cell_type": "markdown",
   "metadata": {},
   "source": [
    "**Question 1.7** <br> {points: 1}  \n",
    "\n",
    "To make a histogram what mark is needed? \n",
    "\n",
    "A) `.mark_hist()`\n",
    "\n",
    "B) `.mark_histogram()`\n",
    "\n",
    "C) `.mark_bars()`\n",
    "\n",
    "D) `.mark_bar()`\n",
    "\n",
    "*Answer in the cell below using the uppercase letter associated with your answer. Place your answer between `\"\"`, assign the correct answer to an object called `answer1_7`.*"
   ]
  },
  {
   "cell_type": "code",
   "execution_count": null,
   "metadata": {
    "deletable": false,
    "nbgrader": {
     "cell_type": "code",
     "checksum": "12f0748089618f14c45f1eecfc5a82ce",
     "grade": false,
     "grade_id": "cell-9fed5c09afe07f88",
     "locked": false,
     "schema_version": 3,
     "solution": true,
     "task": false
    }
   },
   "outputs": [],
   "source": [
    "answer1_7 = None\n",
    "\n",
    "# your code here\n",
    "raise NotImplementedError # No Answer - remove if you provide an answer\n",
    "answer1_7"
   ]
  },
  {
   "cell_type": "code",
   "execution_count": null,
   "metadata": {
    "deletable": false,
    "editable": false,
    "nbgrader": {
     "cell_type": "code",
     "checksum": "2af6a2c7dea4dc990cb6afb5febb7dd8",
     "grade": true,
     "grade_id": "cell-009d03d5a1effb89",
     "locked": true,
     "points": 1,
     "schema_version": 3,
     "solution": false,
     "task": false
    }
   },
   "outputs": [],
   "source": [
    "t.test_1_7(answer1_7)"
   ]
  },
  {
   "cell_type": "markdown",
   "metadata": {},
   "source": [
    "**Question 1.8** <br> {points: 1}  \n",
    "\n",
    "Let's now combine everything we've learned and see if we can identify which of the following statements are true.\n",
    "\n",
    "Select all that apply:\n",
    "\n",
    "A) Curvature is a type of channel used in visualizations.\n",
    "\n",
    "B) To facet our plots into a 2 * 3 grid, we would use `.facet(column=3, row=3)` \n",
    "\n",
    "C) Histograms help shows how the data is distributed. \n",
    "\n",
    "D) When plotting a single trend over time, it's better to use a line plot over an area plot.  \n",
    "\n",
    "*To answer the question, select all that apply and add the letter(s) associated with the correct answer(s) to a list and assign it to a variable named `answer1_5`. For example, if you believe that A and B are True, then your answer would look like this:*\n",
    "\n",
    "`answer1_8 = [\"A\", \"B\"]`\n"
   ]
  },
  {
   "cell_type": "code",
   "execution_count": null,
   "metadata": {
    "deletable": false,
    "nbgrader": {
     "cell_type": "code",
     "checksum": "6c23f09f29d373ed3c36fb76774f5426",
     "grade": false,
     "grade_id": "cell-f6e3ceb7c5f23d69",
     "locked": false,
     "schema_version": 3,
     "solution": true,
     "task": false
    }
   },
   "outputs": [],
   "source": [
    "answer1_8 = None\n",
    "\n",
    "# your code here\n",
    "raise NotImplementedError # No Answer - remove if you provide an answer\n",
    "answer1_8"
   ]
  },
  {
   "cell_type": "code",
   "execution_count": null,
   "metadata": {
    "deletable": false,
    "editable": false,
    "nbgrader": {
     "cell_type": "code",
     "checksum": "c1ed30468c7526249a7d7ec48e721cde",
     "grade": true,
     "grade_id": "cell-047dbda33643334c",
     "locked": true,
     "points": 1,
     "schema_version": 3,
     "solution": false,
     "task": false
    }
   },
   "outputs": [],
   "source": [
    "t.test_1_8(answer1_8)"
   ]
  },
  {
   "cell_type": "markdown",
   "metadata": {},
   "source": [
    "# 2. Family planning\n",
    "\n",
    "We learned in the [video from the previous assignment](https://www.youtube.com/watch?v=usdJgEwMinM) that there are many perception that people have regarding the statistics of countries around the world. Let's take a look and see if  child mortality is correlated with family sizes.\n",
    "\n",
    "***How has child mortality changed over time for different income levels? Does a country's income level have any relationship to the average family size?***\n",
    "\n",
    "\n",
    "Let's have a look at the data to see how this relationship has evolved over time.\n",
    "\n",
    "In the plots we are going to make,\n",
    "it is important to note that it is not possible to tell causation,\n",
    "just correlation.\n",
    "However,\n",
    "in the [Gapminder](https://www.gapminder.org/videos/) video library, there are a few videos on this topic\n",
    "(including [this](https://www.gapminder.org/answers/will-saving-poor-children-lead-to-overpopulation/)\n",
    "and [this](https://www.gapminder.org/videos/population-growth-explained-with-ikea-boxes/) one),\n",
    "discussing how reducing poverty can help slow down population growth\n",
    "through decreased family sizes.\n",
    "Current estimates suggest that the world population\n",
    "will stabilize around 11 billion people\n",
    "and the average number of children per woman\n",
    "will be close to two worldwide in the year 2100."
   ]
  },
  {
   "cell_type": "markdown",
   "metadata": {},
   "source": [
    "**Question 2.1**\n",
    "<br> {points: 1}\n",
    "\n",
    "Filter the data to include only the years 1918, 1938, 1958, 1978, 1998, and 2018.\n",
    "\n",
    "*Hint: You can do this elegantly by filtering the data by year using the function [`.isin()`](https://pandas.pydata.org/pandas-docs/stable/reference/api/pandas.DataFrame.isin.html). The first answer of this [Stack Overflow](https://stackoverflow.com/questions/12096252/use-a-list-of-values-to-select-rows-from-a-pandas-dataframe) page may be helpful.* \n",
    "\n",
    "*Save this new dataframe in an object named `gapminder_every20`.*"
   ]
  },
  {
   "cell_type": "code",
   "execution_count": null,
   "metadata": {
    "deletable": false,
    "nbgrader": {
     "cell_type": "code",
     "checksum": "0827506bf0470b2457469b2ec95e1ed0",
     "grade": false,
     "grade_id": "cell-ebbbbd75eb33a85b",
     "locked": false,
     "schema_version": 3,
     "solution": true,
     "task": false
    }
   },
   "outputs": [],
   "source": [
    "gapminder_every20 = None\n",
    "\n",
    "# your code here\n",
    "raise NotImplementedError # No Answer - remove if you provide an answer\n",
    "gapminder_every20"
   ]
  },
  {
   "cell_type": "code",
   "execution_count": null,
   "metadata": {
    "deletable": false,
    "editable": false,
    "nbgrader": {
     "cell_type": "code",
     "checksum": "18a5385061cf861b4c2562643c5faadd",
     "grade": true,
     "grade_id": "cell-91a206923665e063",
     "locked": true,
     "points": 1,
     "schema_version": 3,
     "solution": false,
     "task": false
    }
   },
   "outputs": [],
   "source": [
    "t.test_2_1(gapminder_every20)"
   ]
  },
  {
   "cell_type": "markdown",
   "metadata": {},
   "source": [
    "**Question 2.2** \n",
    "<br> {points: 2}\n",
    "\n",
    "With the filtered data `gapminder_every20` from  **Question 2.1**, make a scatter plot using filled circles with children per women on the x-axis, child mortality on the y-axis, and  color the circles by the income group.\n",
    "\n",
    "Make sure to specify a proper title and appropriate axis labels using the `title` argument in `alt.X()` and `alt.Y()`.\n",
    "\n",
    "*Save the plot in an object named `family_plot`.*"
   ]
  },
  {
   "cell_type": "code",
   "execution_count": null,
   "metadata": {
    "deletable": false,
    "nbgrader": {
     "cell_type": "code",
     "checksum": "2167af86179ae47627702f83584ac2f1",
     "grade": false,
     "grade_id": "cell-24a88edff591a94c",
     "locked": false,
     "schema_version": 3,
     "solution": true,
     "task": false
    }
   },
   "outputs": [],
   "source": [
    "family_plot = None\n",
    "\n",
    "# your code here\n",
    "raise NotImplementedError # No Answer - remove if you provide an answer\n",
    "family_plot"
   ]
  },
  {
   "cell_type": "code",
   "execution_count": null,
   "metadata": {
    "deletable": false,
    "editable": false,
    "nbgrader": {
     "cell_type": "code",
     "checksum": "7bd7115bc33cb3c4c224571249f70990",
     "grade": true,
     "grade_id": "cell-922a9b88fd97cb7d",
     "locked": true,
     "points": 1,
     "schema_version": 3,
     "solution": false,
     "task": false
    }
   },
   "outputs": [],
   "source": [
    "t.test_2_2_1(family_plot)"
   ]
  },
  {
   "cell_type": "code",
   "execution_count": null,
   "metadata": {
    "deletable": false,
    "editable": false,
    "nbgrader": {
     "cell_type": "code",
     "checksum": "7088bff58db138f468b30c48e2ca4560",
     "grade": true,
     "grade_id": "cell-16d1c71c2851ed6a",
     "locked": true,
     "points": 1,
     "schema_version": 3,
     "solution": false,
     "task": false
    }
   },
   "outputs": [],
   "source": [
    "t.test_2_2_2(family_plot)"
   ]
  },
  {
   "cell_type": "markdown",
   "metadata": {},
   "source": [
    "**Question 2.3** \n",
    "<br> {points: 1}\n",
    "\n",
    "Now add on to the plot `family_plot` from **Question 2.2**. \n",
    "\n",
    "Facet your data into six subplots, one for each year laid out in 3 columns and 2 rows. \n",
    "\n",
    "You shouldn't have to do any copy and pasting for this question. You should be able to take the plot `family_plot` and chain your desired `facet()` to it. \n",
    "\n",
    "*Save this plot in an object named `family_plot_faceted`.*"
   ]
  },
  {
   "cell_type": "code",
   "execution_count": null,
   "metadata": {
    "deletable": false,
    "nbgrader": {
     "cell_type": "code",
     "checksum": "829e1b5a1629ddfe3396aed036d47455",
     "grade": false,
     "grade_id": "cell-d87c477686acfb8b",
     "locked": false,
     "schema_version": 3,
     "solution": true,
     "task": false
    }
   },
   "outputs": [],
   "source": [
    "family_plot_faceted = None\n",
    "\n",
    "# your code here\n",
    "raise NotImplementedError # No Answer - remove if you provide an answer\n",
    "family_plot_faceted"
   ]
  },
  {
   "cell_type": "code",
   "execution_count": null,
   "metadata": {
    "deletable": false,
    "editable": false,
    "nbgrader": {
     "cell_type": "code",
     "checksum": "a416238f490f0e5e72c683215d035906",
     "grade": true,
     "grade_id": "cell-3f3eff45a62504e4",
     "locked": true,
     "points": 1,
     "schema_version": 3,
     "solution": false,
     "task": false
    }
   },
   "outputs": [],
   "source": [
    "t.test_2_3(family_plot_faceted)"
   ]
  },
  {
   "cell_type": "markdown",
   "metadata": {},
   "source": [
    "Take a look at the plot from **Question 2.3** and answer the following questions."
   ]
  },
  {
   "cell_type": "markdown",
   "metadata": {},
   "source": [
    "**Question 2.4** \n",
    "<br> {points: 1}\n",
    "\n",
    "Let's return to our original question and answer accordingly: \n",
    "\n",
    "> How has child mortality rates changed over time for different income levels?\n",
    "\n",
    "Select all that apply: \n",
    "\n",
    "A) Child mortality has decreased for high-income countries.\n",
    "\n",
    "B) Child mortality has decreased for middle-income countries. \n",
    "\n",
    "C) Child mortality has decreased for low-income countries.\n",
    "\n",
    "D) Child mortality has increased for high-income countries.\n",
    "\n",
    "E) Child mortality has increased for middle-income countries. \n",
    "\n",
    "F) Child mortality has increased for low-income countries.\n",
    "\n",
    "G) Child mortality has remained constant for high-income countries.\n",
    "\n",
    "H) Child mortality has remained constant for middle-income countries. \n",
    "\n",
    "I) Child mortality has remained constant for low-income countries.\n",
    "\n",
    "\n",
    "*To answer the question, select all that apply and add the letter(s) associated with the correct answer(s) to a list and assign it to a variable named `answer2_4`. For example, if you believe that A and B are True, then your answer would look like this:*\n",
    "\n",
    "`answer2_4 = [\"A\", \"B\"]`\n",
    "\n"
   ]
  },
  {
   "cell_type": "code",
   "execution_count": null,
   "metadata": {
    "deletable": false,
    "nbgrader": {
     "cell_type": "code",
     "checksum": "496e380b8e4873d5d85da9a2d06fd906",
     "grade": false,
     "grade_id": "cell-2b180c0414997f30",
     "locked": false,
     "schema_version": 3,
     "solution": true,
     "task": false
    }
   },
   "outputs": [],
   "source": [
    "answer2_4 = None\n",
    "\n",
    "# your code here\n",
    "raise NotImplementedError # No Answer - remove if you provide an answer\n",
    "answer2_4"
   ]
  },
  {
   "cell_type": "code",
   "execution_count": null,
   "metadata": {
    "deletable": false,
    "editable": false,
    "nbgrader": {
     "cell_type": "code",
     "checksum": "77cb25048a085a320a98a29f72982190",
     "grade": true,
     "grade_id": "cell-1c0d37c9eada6aa9",
     "locked": true,
     "points": 1,
     "schema_version": 3,
     "solution": false,
     "task": false
    }
   },
   "outputs": [],
   "source": [
    "t.test_2_4(answer2_4)"
   ]
  },
  {
   "cell_type": "markdown",
   "metadata": {},
   "source": [
    "**Question 2.5** \n",
    "<br> {points: 2}\n",
    "\n",
    "Let's take a look at the original statements that we wanted to explore: \n",
    "\n",
    "> Does a country's income level have any relationship to the average family size?\n",
    "\n",
    "Look at the visualization that you made above and select from the following:\n",
    "\n",
    "A) It appears that parents in countries with low child mortality tend to have **less** children.\n",
    "\n",
    "B) It appears that parents in countries with low child mortality tend to have **more** children.\n",
    "\n",
    "C) There is no apparent relationship between child mortality and the number of children women birth.\n",
    "\n",
    "\n",
    "Answer in the cell below using the uppercase letter associated with your answer. Place your answer between \"\", assign the correct answer to an object called `answer2_5`.\n"
   ]
  },
  {
   "cell_type": "code",
   "execution_count": null,
   "metadata": {
    "deletable": false,
    "nbgrader": {
     "cell_type": "code",
     "checksum": "0024381a1a036d7508aa7c6a51ebb6b8",
     "grade": false,
     "grade_id": "cell-d54b44a5113d2717",
     "locked": false,
     "schema_version": 3,
     "solution": true,
     "task": false
    }
   },
   "outputs": [],
   "source": [
    "answer2_5 = None\n",
    "\n",
    "# your code here\n",
    "raise NotImplementedError # No Answer - remove if you provide an answer\n",
    "answer2_5"
   ]
  },
  {
   "cell_type": "code",
   "execution_count": null,
   "metadata": {
    "deletable": false,
    "editable": false,
    "nbgrader": {
     "cell_type": "code",
     "checksum": "29a7fa7abee150cdcff3edb67aa0c292",
     "grade": true,
     "grade_id": "cell-3f5b83d3844c410f",
     "locked": true,
     "points": 2,
     "schema_version": 3,
     "solution": false,
     "task": false
    }
   },
   "outputs": [],
   "source": [
    "# check that the variable exists\n",
    "assert 'answer2_5' in globals(\n",
    "), \"Please make sure that your solution is named 'answer2_5'\"\n",
    "\n",
    "# This test has been intentionally hidden. It will be up to you to decide if your solution\n",
    "# is sufficiently good."
   ]
  },
  {
   "cell_type": "markdown",
   "metadata": {},
   "source": [
    "# 3. Carbon dioxide emissions\n",
    "\n",
    "CO2 emissions are often talked about in it's relation to climate change. \n",
    "\n",
    "Let's explore the year 2014 and answer the following questions: \n",
    "\n",
    "- ***Which countries emitted the most CO2 in tonnes and per capita?***\n",
    "\n",
    "- ***Which region is contributing the most to the total mass of Carbon Dioxide emissions?***\n",
    "\n",
    "*Note that the units for `co2_per_capita` is tonnes per person.*"
   ]
  },
  {
   "cell_type": "markdown",
   "metadata": {},
   "source": [
    "**Question 3.1** \n",
    "<br> {points: 1}\n",
    "\n",
    "Using the dataframe `gapminder_df`, what is the most recent year that `co2_per_capita` was measured?\n",
    "\n",
    "*Hint: What is the maximum year where the column `co2_per_capita` does not have null values.*\n",
    "\n",
    "*Save the year in an object of type `int` named `most_recent_co2`.*"
   ]
  },
  {
   "cell_type": "code",
   "execution_count": null,
   "metadata": {
    "deletable": false,
    "nbgrader": {
     "cell_type": "code",
     "checksum": "1a5060f89687576f6da85a597298622f",
     "grade": false,
     "grade_id": "cell-e7ab27f6fc43d3d6",
     "locked": false,
     "schema_version": 3,
     "solution": true,
     "task": false
    }
   },
   "outputs": [],
   "source": [
    "most_recent_co2 = None \n",
    "\n",
    "# your code here\n",
    "raise NotImplementedError # No Answer - remove if you provide an answer\n",
    "most_recent_co2"
   ]
  },
  {
   "cell_type": "code",
   "execution_count": null,
   "metadata": {
    "deletable": false,
    "editable": false,
    "nbgrader": {
     "cell_type": "code",
     "checksum": "8ae71c13fcb86ca934121f05ce6d2a9c",
     "grade": true,
     "grade_id": "cell-57e6704ae2a03b57",
     "locked": true,
     "points": 1,
     "schema_version": 3,
     "solution": false,
     "task": false
    }
   },
   "outputs": [],
   "source": [
    "t.test_3_1(most_recent_co2)"
   ]
  },
  {
   "cell_type": "markdown",
   "metadata": {},
   "source": [
    "**Question 3.2** \n",
    "<br> {points: 1}\n",
    "\n",
    "Filter the data to include only the most recent year when `'co2_per_capita` was measured (the answer to **Question 3.1**)\n",
    "\n",
    "\n",
    "*Save the dataframe in an object named `gm_recent_co2`.*"
   ]
  },
  {
   "cell_type": "code",
   "execution_count": null,
   "metadata": {
    "deletable": false,
    "nbgrader": {
     "cell_type": "code",
     "checksum": "a6abcfad595208a48531152ebcf05f6f",
     "grade": false,
     "grade_id": "cell-898a71eec0258d08",
     "locked": false,
     "schema_version": 3,
     "solution": true,
     "task": false
    }
   },
   "outputs": [],
   "source": [
    "gm_recent_co2 = None \n",
    "\n",
    "# your code here\n",
    "raise NotImplementedError # No Answer - remove if you provide an answer\n",
    "gm_recent_co2.head()"
   ]
  },
  {
   "cell_type": "code",
   "execution_count": null,
   "metadata": {
    "deletable": false,
    "editable": false,
    "nbgrader": {
     "cell_type": "code",
     "checksum": "30261ab2dc84b36ec1af9e5e93345bcd",
     "grade": true,
     "grade_id": "cell-6c7df83a4fa229f7",
     "locked": true,
     "points": 1,
     "schema_version": 3,
     "solution": false,
     "task": false
    }
   },
   "outputs": [],
   "source": [
    "t.test_3_2(gm_recent_co2)"
   ]
  },
  {
   "cell_type": "markdown",
   "metadata": {},
   "source": [
    "**Question 3.3** \n",
    "<br> {points: 1}\n",
    "\n",
    "From the dataframe `gm_recent_co2`, use [`nlargest`](https://pandas.pydata.org/pandas-docs/stable/reference/api/pandas.DataFrame.nlargest.html) to select the top 40 countries in CO2 production per capita for that year.\n",
    "\n",
    "*Save the result as a **dataframe** in an object named `co2_top_40`.*"
   ]
  },
  {
   "cell_type": "code",
   "execution_count": null,
   "metadata": {
    "deletable": false,
    "nbgrader": {
     "cell_type": "code",
     "checksum": "a29013e6e889128fcac72bd4784c50f7",
     "grade": false,
     "grade_id": "cell-16254b6207f3469b",
     "locked": false,
     "schema_version": 3,
     "solution": true,
     "task": false
    }
   },
   "outputs": [],
   "source": [
    "co2_top_40 = None\n",
    "\n",
    "# your code here\n",
    "raise NotImplementedError # No Answer - remove if you provide an answer"
   ]
  },
  {
   "cell_type": "code",
   "execution_count": null,
   "metadata": {
    "deletable": false,
    "editable": false,
    "nbgrader": {
     "cell_type": "code",
     "checksum": "e721956c3d26dccaa786cc9afe43be88",
     "grade": true,
     "grade_id": "cell-b0a0ff5e21d7c0d0",
     "locked": true,
     "points": 1,
     "schema_version": 3,
     "solution": false,
     "task": false
    }
   },
   "outputs": [],
   "source": [
    "t.test_3_3(co2_top_40)"
   ]
  },
  {
   "cell_type": "markdown",
   "metadata": {},
   "source": [
    "**Question 3.4** \n",
    "<br> {points: 2}\n",
    "\n",
    "Let's plot the data from the object `co2_top_40`. Since we have only one value per country per year, create a bar chart to visualize it. Map the CO2 per capita as on the x-axis, the country on the y-axis, and the region as the color.\n",
    "\n",
    "[Sort](https://altair-viz.github.io/gallery/bar_chart_sorted.html) your bar chart so that the highest CO2 per capita is the closest to the x-axis (the bottom of the chart). \n",
    "\n",
    "Don't forget to give your plot an appropriate title and axis labels.\n",
    "\n",
    "*Save the plot in an object named `co2_plot`.*\n"
   ]
  },
  {
   "cell_type": "code",
   "execution_count": null,
   "metadata": {
    "deletable": false,
    "nbgrader": {
     "cell_type": "code",
     "checksum": "ad90b0de7f4eb0f2046c1674fbb1cbf6",
     "grade": false,
     "grade_id": "cell-f84454c5f5c62cff",
     "locked": false,
     "schema_version": 3,
     "solution": true,
     "task": false
    }
   },
   "outputs": [],
   "source": [
    "co2_plot = None\n",
    "\n",
    "# your code here\n",
    "raise NotImplementedError # No Answer - remove if you provide an answer\n",
    "co2_plot"
   ]
  },
  {
   "cell_type": "code",
   "execution_count": null,
   "metadata": {
    "deletable": false,
    "editable": false,
    "nbgrader": {
     "cell_type": "code",
     "checksum": "f71be9f0118f0f312c9287778245b47f",
     "grade": true,
     "grade_id": "cell-ec98bf89d962ef30",
     "locked": true,
     "points": 1,
     "schema_version": 3,
     "solution": false,
     "task": false
    }
   },
   "outputs": [],
   "source": [
    "t.test_3_4_1(co2_plot)"
   ]
  },
  {
   "cell_type": "code",
   "execution_count": null,
   "metadata": {
    "deletable": false,
    "editable": false,
    "nbgrader": {
     "cell_type": "code",
     "checksum": "1b84c69a426011f8b7bbf67ecd47154a",
     "grade": true,
     "grade_id": "cell-c3fc376ae237fd8e",
     "locked": true,
     "points": 1,
     "schema_version": 3,
     "solution": false,
     "task": false
    }
   },
   "outputs": [],
   "source": [
    "t.test_3_4_2(co2_plot)"
   ]
  },
  {
   "cell_type": "markdown",
   "metadata": {},
   "source": [
    "Using the plot above, answer the following questions. "
   ]
  },
  {
   "cell_type": "markdown",
   "metadata": {},
   "source": [
    "**Question 3.5** \n",
    "<br> {points: 1}\n",
    "\n",
    "Which country emits the most Carbon Dioxide per capita? \n",
    "\n",
    "*Save your answers as a string in an object named `answer3_5`*. "
   ]
  },
  {
   "cell_type": "code",
   "execution_count": null,
   "metadata": {
    "deletable": false,
    "nbgrader": {
     "cell_type": "code",
     "checksum": "010e549b283effd676d502df64d7df15",
     "grade": false,
     "grade_id": "cell-b375a1992d235d77",
     "locked": false,
     "schema_version": 3,
     "solution": true,
     "task": false
    }
   },
   "outputs": [],
   "source": [
    "answer3_5 = None\n",
    "\n",
    "# your code here\n",
    "raise NotImplementedError # No Answer - remove if you provide an answer\n",
    "\n",
    "answer3_5"
   ]
  },
  {
   "cell_type": "code",
   "execution_count": null,
   "metadata": {
    "deletable": false,
    "editable": false,
    "nbgrader": {
     "cell_type": "code",
     "checksum": "e3940b17b1a8d0e77fcfd35f357a20d4",
     "grade": true,
     "grade_id": "cell-c692e1ea33076d85",
     "locked": true,
     "points": 1,
     "schema_version": 3,
     "solution": false,
     "task": false
    }
   },
   "outputs": [],
   "source": [
    "t.test_3_5(answer3_5)"
   ]
  },
  {
   "cell_type": "markdown",
   "metadata": {},
   "source": [
    "**Question 3.6** \n",
    "<br> {points: 1}\n",
    "\n",
    "How many of the top 40 CO2 carbon-emitting countries are from Africa?\n",
    "\n",
    "*Save your answers in an object of type `int` named `answer3_6`*. "
   ]
  },
  {
   "cell_type": "code",
   "execution_count": null,
   "metadata": {
    "deletable": false,
    "nbgrader": {
     "cell_type": "code",
     "checksum": "514e7e0c0319cac789e1e462e3113a2a",
     "grade": false,
     "grade_id": "cell-1b5e24d030e8fb6c",
     "locked": false,
     "schema_version": 3,
     "solution": true,
     "task": false
    }
   },
   "outputs": [],
   "source": [
    "answer3_6 = None\n",
    "\n",
    "# your code here\n",
    "raise NotImplementedError # No Answer - remove if you provide an answer\n",
    "answer3_6"
   ]
  },
  {
   "cell_type": "code",
   "execution_count": null,
   "metadata": {
    "deletable": false,
    "editable": false,
    "nbgrader": {
     "cell_type": "code",
     "checksum": "d94cb7eaf18a0cc34bb782dae43f8ebc",
     "grade": true,
     "grade_id": "cell-39e1149ede3c3acb",
     "locked": true,
     "points": 1,
     "schema_version": 3,
     "solution": false,
     "task": false
    }
   },
   "outputs": [],
   "source": [
    "t.test_3_6(answer3_6)"
   ]
  },
  {
   "cell_type": "markdown",
   "metadata": {},
   "source": [
    "**Question 3.7** \n",
    "<br> {points: 2}\n",
    "\n",
    "Which European country emits the most CO2 per capita?\n",
    "\n",
    "*Save your answers as a string in an object named `answer3_7`*. "
   ]
  },
  {
   "cell_type": "code",
   "execution_count": null,
   "metadata": {
    "deletable": false,
    "nbgrader": {
     "cell_type": "code",
     "checksum": "46d78def415ad50192e303de32ac71f8",
     "grade": false,
     "grade_id": "cell-eb497ad2308828ec",
     "locked": false,
     "schema_version": 3,
     "solution": true,
     "task": false
    }
   },
   "outputs": [],
   "source": [
    "answer3_7 = None \n",
    "\n",
    "# your code here\n",
    "raise NotImplementedError # No Answer - remove if you provide an answer\n",
    "answer3_7"
   ]
  },
  {
   "cell_type": "code",
   "execution_count": null,
   "metadata": {
    "deletable": false,
    "editable": false,
    "nbgrader": {
     "cell_type": "code",
     "checksum": "5848929e9d5e6f0a92667135c936c4e2",
     "grade": true,
     "grade_id": "cell-accc44e1cbe4cf32",
     "locked": true,
     "points": 2,
     "schema_version": 3,
     "solution": false,
     "task": false
    }
   },
   "outputs": [],
   "source": [
    "# check that the variable exists\n",
    "assert 'answer3_7' in globals(\n",
    "), \"Please make sure that your solution is named 'answer3_7'\"\n",
    "\n",
    "# This test has been intentionally hidden. It will be up to you to decide if your solution\n",
    "# is sufficiently good."
   ]
  },
  {
   "cell_type": "markdown",
   "metadata": {},
   "source": [
    "**Question 3.8** \n",
    "<br> {points: 1}\n",
    "\n",
    "In addition to Carbon Dioxide per capita, the total emission for the entire population also matters for a country’s overall Carbon Dioxide emissions. \n",
    "\n",
    "From the dataset `gapminder_df`, compute a new column in your data set called `co2_total` which contains the total co2 emissions for a country's total population.\n",
    "\n",
    "*Save this new dataframe in an object named `gm_co2_total`.*"
   ]
  },
  {
   "cell_type": "code",
   "execution_count": null,
   "metadata": {
    "deletable": false,
    "nbgrader": {
     "cell_type": "code",
     "checksum": "fe2b93ac035a84c2e82fdfe5d79d25c4",
     "grade": false,
     "grade_id": "cell-84a39dfef547ec60",
     "locked": false,
     "schema_version": 3,
     "solution": true,
     "task": false
    }
   },
   "outputs": [],
   "source": [
    "gm_co2_total = None\n",
    "\n",
    "# your code here\n",
    "raise NotImplementedError # No Answer - remove if you provide an answer\n",
    "gm_co2_total"
   ]
  },
  {
   "cell_type": "code",
   "execution_count": null,
   "metadata": {
    "deletable": false,
    "editable": false,
    "nbgrader": {
     "cell_type": "code",
     "checksum": "29f074336b0079d79062ff11bf873c69",
     "grade": true,
     "grade_id": "cell-5d0a36efc065a572",
     "locked": true,
     "points": 1,
     "schema_version": 3,
     "solution": false,
     "task": false
    }
   },
   "outputs": [],
   "source": [
    "t.test_3_8(gm_co2_total)"
   ]
  },
  {
   "cell_type": "markdown",
   "metadata": {},
   "source": [
    "**Question 3.9** \n",
    "<br> {points: 1}\n",
    "\n",
    "Let's now explore the top 40 countries with the total CO2 production from 2014. Do you think they will be the same 40 countries that we saw for CO2 levels per capita? \n",
    "\n",
    "From the dataframe `gm_co2_total` that we made in **Question 3.8** , filter the data to only include data from the `year` 2014. Then use [`nlargest`](https://pandas.pydata.org/pandas-docs/stable/reference/api/pandas.DataFrame.nlargest.html) like you did in **Question 3.3** to select the top 40 countries in total CO2 production per for the year 2014.\n",
    "\n",
    "*Save the data in an object named `co2_total_top_40`.*"
   ]
  },
  {
   "cell_type": "code",
   "execution_count": null,
   "metadata": {
    "deletable": false,
    "nbgrader": {
     "cell_type": "code",
     "checksum": "45827236e78879056e5de70c31dde453",
     "grade": false,
     "grade_id": "cell-c7706b543500a630",
     "locked": false,
     "schema_version": 3,
     "solution": true,
     "task": false
    }
   },
   "outputs": [],
   "source": [
    "co2_total_top_40 = None\n",
    "\n",
    "# your code here\n",
    "raise NotImplementedError # No Answer - remove if you provide an answer\n",
    "co2_total_top_40"
   ]
  },
  {
   "cell_type": "code",
   "execution_count": null,
   "metadata": {
    "deletable": false,
    "editable": false,
    "nbgrader": {
     "cell_type": "code",
     "checksum": "8476687ce40d5a7dbc3993b4d575f9dd",
     "grade": true,
     "grade_id": "cell-09ddf765e1a6dba3",
     "locked": true,
     "points": 1,
     "schema_version": 3,
     "solution": false,
     "task": false
    }
   },
   "outputs": [],
   "source": [
    "t.test_3_9(co2_total_top_40)"
   ]
  },
  {
   "cell_type": "markdown",
   "metadata": {},
   "source": [
    "**Question 3.10** \n",
    "<br> {points: 2}\n",
    "\n",
    "Let's plot the data from the object `co2_total_top_40` like we did before but this time, we will see in absolute terms which countries produced the most CO2 levels in the year 2014. \n",
    "\n",
    "Again, we have only one value per country per year so we can create a bar chart to visualize it. Map the total CO2 production the x-axis, the country on the y-axis, and the region as the color.\n",
    "\n",
    "Sort your bar chart so that the highest CO2 producing country is the closest to the x-axis (the bottom of the chart). Don't forget to give your plot an appropriate title and axis labels.\n",
    "\n",
    "*Save the plot in an object named `co2_total_plot`.*\n"
   ]
  },
  {
   "cell_type": "code",
   "execution_count": null,
   "metadata": {
    "deletable": false,
    "nbgrader": {
     "cell_type": "code",
     "checksum": "40070d82bbf570045556d3d55644b69f",
     "grade": false,
     "grade_id": "cell-993baa989b153ee2",
     "locked": false,
     "schema_version": 3,
     "solution": true,
     "task": false
    }
   },
   "outputs": [],
   "source": [
    "co2_total_plot = None\n",
    "\n",
    "# your code here\n",
    "raise NotImplementedError # No Answer - remove if you provide an answer\n",
    "co2_total_plot"
   ]
  },
  {
   "cell_type": "code",
   "execution_count": null,
   "metadata": {
    "deletable": false,
    "editable": false,
    "nbgrader": {
     "cell_type": "code",
     "checksum": "46a128cddcf75de7f479b7e79fbba6de",
     "grade": true,
     "grade_id": "cell-18b4b03b2b10e930",
     "locked": true,
     "points": 1,
     "schema_version": 3,
     "solution": false,
     "task": false
    }
   },
   "outputs": [],
   "source": [
    "t.test_3_10_1(co2_total_plot)"
   ]
  },
  {
   "cell_type": "code",
   "execution_count": null,
   "metadata": {
    "deletable": false,
    "editable": false,
    "nbgrader": {
     "cell_type": "code",
     "checksum": "32c5754ed297bf3fc4b98474025dd6b9",
     "grade": true,
     "grade_id": "cell-0ed1a1355ae33e8a",
     "locked": true,
     "points": 1,
     "schema_version": 3,
     "solution": false,
     "task": false
    }
   },
   "outputs": [],
   "source": [
    "t.test_3_10_2(co2_total_plot)"
   ]
  },
  {
   "cell_type": "markdown",
   "metadata": {},
   "source": [
    "**Question 3.11** \n",
    "<br> {points: 1}\n",
    "\n",
    "Which country emits the most total Carbon Dioxide mass? \n",
    "\n",
    "*Save your answers as a string in an object named `answer3_12`*. "
   ]
  },
  {
   "cell_type": "code",
   "execution_count": null,
   "metadata": {
    "deletable": false,
    "nbgrader": {
     "cell_type": "code",
     "checksum": "b1da10729be50b009bb91d5c2f4e2a71",
     "grade": false,
     "grade_id": "cell-590bcf9286147926",
     "locked": false,
     "schema_version": 3,
     "solution": true,
     "task": false
    }
   },
   "outputs": [],
   "source": [
    "answer3_11 = None\n",
    "\n",
    "# your code here\n",
    "raise NotImplementedError # No Answer - remove if you provide an answer\n",
    "answer3_11"
   ]
  },
  {
   "cell_type": "code",
   "execution_count": null,
   "metadata": {
    "deletable": false,
    "editable": false,
    "nbgrader": {
     "cell_type": "code",
     "checksum": "50709144ff8cca3588ca54235fbb428a",
     "grade": true,
     "grade_id": "cell-0f9fb9924cea285a",
     "locked": true,
     "points": 1,
     "schema_version": 3,
     "solution": false,
     "task": false
    }
   },
   "outputs": [],
   "source": [
    "t.test_3_11(answer3_11)"
   ]
  },
  {
   "cell_type": "markdown",
   "metadata": {},
   "source": [
    "**Question 3.12** \n",
    "<br> {points: 1}\n",
    "\n",
    "How many countries appear in both top 40 dataframes (from `co2_top_40` from **Question 3.3** and `co2_total_top_40` **Question 3.10**)? \n",
    "\n",
    "*Hint: You can solve this in a few different ways. We used sets and [`intersection`](https://www.w3schools.com/python/ref_set_intersection.asp).*\n",
    "\n",
    "*Save your answers in an object of type `int` named `answer3_13`*.  "
   ]
  },
  {
   "cell_type": "code",
   "execution_count": null,
   "metadata": {
    "deletable": false,
    "nbgrader": {
     "cell_type": "code",
     "checksum": "ecbcd99c73a790d11ef72b3fa713f58a",
     "grade": false,
     "grade_id": "cell-74b4cfc8f20e7fb6",
     "locked": false,
     "schema_version": 3,
     "solution": true,
     "task": false
    }
   },
   "outputs": [],
   "source": [
    "answer3_12 = None\n",
    "\n",
    "# your code here\n",
    "raise NotImplementedError # No Answer - remove if you provide an answer\n",
    "answer3_12"
   ]
  },
  {
   "cell_type": "code",
   "execution_count": null,
   "metadata": {
    "deletable": false,
    "editable": false,
    "nbgrader": {
     "cell_type": "code",
     "checksum": "29f6563acfb552395687bc0d0ebf7236",
     "grade": true,
     "grade_id": "cell-ce217306b7258cd8",
     "locked": true,
     "points": 1,
     "schema_version": 3,
     "solution": false,
     "task": false
    }
   },
   "outputs": [],
   "source": [
    "t.test_3_12(answer3_12)"
   ]
  },
  {
   "cell_type": "markdown",
   "metadata": {},
   "source": [
    "**Question 3.13** \n",
    "<br> {points: 2}\n",
    "\n",
    "Let's now explore the total CO2 emission levels on a continent level. ***What was the total amount of CO2 emission in 2014 and which continent contributed the most to it?***\n",
    "\n",
    "Using `gm_co2_total` from **Question 3.8**, plot the new column `co2_total` over time in an area chart, but instead of plotting one area for each country, plot one for each region which represents the sum of all countries co2 emissions in that region.\n",
    "\n",
    "Don't forget to give your plot an appropriate title and axis labels.\n",
    "\n",
    "*Hint: You'll need to use aggregation for your y-axis and `region` should be used for color.*\n",
    "\n",
    "*Save the plot in an object named `total_co2_plot`.*"
   ]
  },
  {
   "cell_type": "code",
   "execution_count": null,
   "metadata": {
    "deletable": false,
    "nbgrader": {
     "cell_type": "code",
     "checksum": "eb4c1f1fac301e5a9f98ad7c58d3d2e4",
     "grade": false,
     "grade_id": "cell-3b3c70d9de6804aa",
     "locked": false,
     "schema_version": 3,
     "solution": true,
     "task": false
    }
   },
   "outputs": [],
   "source": [
    "total_co2_plot = None \n",
    "\n",
    "# your code here\n",
    "raise NotImplementedError # No Answer - remove if you provide an answer\n",
    "total_co2_plot"
   ]
  },
  {
   "cell_type": "code",
   "execution_count": null,
   "metadata": {
    "deletable": false,
    "editable": false,
    "nbgrader": {
     "cell_type": "code",
     "checksum": "0325339aaf455d9a49a66bafa01ec6ea",
     "grade": true,
     "grade_id": "cell-f4c3071422e6193b",
     "locked": true,
     "points": 1,
     "schema_version": 3,
     "solution": false,
     "task": false
    }
   },
   "outputs": [],
   "source": [
    "t.test_3_13_1(total_co2_plot)"
   ]
  },
  {
   "cell_type": "code",
   "execution_count": null,
   "metadata": {
    "deletable": false,
    "editable": false,
    "nbgrader": {
     "cell_type": "code",
     "checksum": "7dc24ce51bee1efae96d154945c266a6",
     "grade": true,
     "grade_id": "cell-ce806c355a6a5aa2",
     "locked": true,
     "points": 1,
     "schema_version": 3,
     "solution": false,
     "task": false
    }
   },
   "outputs": [],
   "source": [
    "t.test_3_13_2(total_co2_plot)"
   ]
  },
  {
   "cell_type": "markdown",
   "metadata": {},
   "source": [
    "**Question 3.14** \n",
    "<br> {points: 1}\n",
    "\n",
    "In 1960, approximately what was the total mass of co2 emissions for all 5 continents? \n",
    "\n",
    "A) 5,000,000,000 tonnes\n",
    "\n",
    "B) 7,000,000,000 tonnes\n",
    "\n",
    "C) 9,000,000,000 tonnes\n",
    "\n",
    "D) 10,000,000,000 tonnes\n",
    "\n",
    "Answer in the cell below using the uppercase letter associated with your answer. Place your answer between \"\", assign the correct answer to an object called `answer3_12`.\n"
   ]
  },
  {
   "cell_type": "code",
   "execution_count": null,
   "metadata": {
    "deletable": false,
    "nbgrader": {
     "cell_type": "code",
     "checksum": "6d9a14e56124b88b851f9103bae55ade",
     "grade": false,
     "grade_id": "cell-ef85bc760bb5bfa8",
     "locked": false,
     "schema_version": 3,
     "solution": true,
     "task": false
    }
   },
   "outputs": [],
   "source": [
    "answer3_14 = None\n",
    "\n",
    "# your code here\n",
    "raise NotImplementedError # No Answer - remove if you provide an answer\n",
    "answer3_14"
   ]
  },
  {
   "cell_type": "code",
   "execution_count": null,
   "metadata": {
    "deletable": false,
    "editable": false,
    "nbgrader": {
     "cell_type": "code",
     "checksum": "14db924f3c1a85539faff1fee13407ed",
     "grade": true,
     "grade_id": "cell-f5b831eb9a57a5c5",
     "locked": true,
     "points": 1,
     "schema_version": 3,
     "solution": false,
     "task": false
    }
   },
   "outputs": [],
   "source": [
    "t.test_3_14(answer3_14)"
   ]
  },
  {
   "cell_type": "markdown",
   "metadata": {},
   "source": [
    "**Question 3.15** \n",
    "<br> {points: 1}\n",
    "\n",
    "Which continent emitted the most absolute Carbon Dioxide in 2014? \n",
    "\n",
    "*Save your answers as a string in an object named `answer3_16`*. "
   ]
  },
  {
   "cell_type": "code",
   "execution_count": null,
   "metadata": {
    "deletable": false,
    "nbgrader": {
     "cell_type": "code",
     "checksum": "8c4f670f266b127daa5042b96885e46e",
     "grade": false,
     "grade_id": "cell-f979d3e6ad523618",
     "locked": false,
     "schema_version": 3,
     "solution": true,
     "task": false
    }
   },
   "outputs": [],
   "source": [
    "answer3_15 = None\n",
    "\n",
    "# your code here\n",
    "raise NotImplementedError # No Answer - remove if you provide an answer\n",
    "answer3_15"
   ]
  },
  {
   "cell_type": "code",
   "execution_count": null,
   "metadata": {
    "deletable": false,
    "editable": false,
    "nbgrader": {
     "cell_type": "code",
     "checksum": "754ad4c44eab86c10a3fed522c0566ad",
     "grade": true,
     "grade_id": "cell-c44642cebb1366fb",
     "locked": true,
     "points": 1,
     "schema_version": 3,
     "solution": false,
     "task": false
    }
   },
   "outputs": [],
   "source": [
    "t.test_3_15(answer3_15)"
   ]
  },
  {
   "cell_type": "markdown",
   "metadata": {},
   "source": [
    "# 4. Income vs CO2 per capita\n",
    "\n",
    "After looking at the Carbon Dioxide emission, it would be interesting to see if there was a relationship between a country's income and their CO2 production per capital."
   ]
  },
  {
   "cell_type": "markdown",
   "metadata": {},
   "source": [
    "**Question 4.1** \n",
    "<br> {points: 1}\n",
    "\n",
    "Take `gapminder_df` and filter it to include the years 1979 and 2014.\n",
    "\n",
    "*Hint: You can do this in a similar way as you did in Question 2.2* \n",
    "\n",
    "*Save this new dataframe in an object named `gm_selection`.*"
   ]
  },
  {
   "cell_type": "code",
   "execution_count": null,
   "metadata": {
    "deletable": false,
    "nbgrader": {
     "cell_type": "code",
     "checksum": "81587571fc4e83f27f97f70f74b90d2d",
     "grade": false,
     "grade_id": "cell-6b7b3a8ec6e0c732",
     "locked": false,
     "schema_version": 3,
     "solution": true,
     "task": false
    }
   },
   "outputs": [],
   "source": [
    "gm_selection = None\n",
    "# your code here\n",
    "raise NotImplementedError # No Answer - remove if you provide an answer\n",
    "gm_selection "
   ]
  },
  {
   "cell_type": "code",
   "execution_count": null,
   "metadata": {
    "deletable": false,
    "editable": false,
    "nbgrader": {
     "cell_type": "code",
     "checksum": "f95f0a42adb40555d904848306d27e69",
     "grade": true,
     "grade_id": "cell-bc97ea60fb952e63",
     "locked": true,
     "points": 1,
     "schema_version": 3,
     "solution": false,
     "task": false
    }
   },
   "outputs": [],
   "source": [
    "t.test_4_1(gm_selection)"
   ]
  },
  {
   "cell_type": "markdown",
   "metadata": {},
   "source": [
    "**Question 4.2** \n",
    "<br> {points: 2}\n",
    "\n",
    "Let's make a scatter plot.\n",
    "- Make a scatter plot using `mark_circle`.\n",
    "- Map the income and CO2 levels per capital to appropriate axes.\n",
    "- Map the region to the colour channel. \n",
    "- Add a title and change the plot dimensions to a width of 400 and a height of 250\n",
    "- Add informative axis labels and a title \n",
    "\n",
    "*Save this plot in an object named `income_plot`.*"
   ]
  },
  {
   "cell_type": "code",
   "execution_count": null,
   "metadata": {
    "deletable": false,
    "nbgrader": {
     "cell_type": "code",
     "checksum": "e2363112dae59377a22ed488a46b8187",
     "grade": false,
     "grade_id": "cell-30a65cf4d9b0bf9c",
     "locked": false,
     "schema_version": 3,
     "solution": true,
     "task": false
    }
   },
   "outputs": [],
   "source": [
    "income_plot = None\n",
    "\n",
    "# your code here\n",
    "raise NotImplementedError # No Answer - remove if you provide an answer\n",
    "income_plot"
   ]
  },
  {
   "cell_type": "code",
   "execution_count": null,
   "metadata": {
    "deletable": false,
    "editable": false,
    "nbgrader": {
     "cell_type": "code",
     "checksum": "382a7de297cf080e7eb7181d18edecc9",
     "grade": true,
     "grade_id": "cell-5dda365956ae0047",
     "locked": true,
     "points": 1,
     "schema_version": 3,
     "solution": false,
     "task": false
    }
   },
   "outputs": [],
   "source": [
    "t.test_4_2_1(income_plot)"
   ]
  },
  {
   "cell_type": "code",
   "execution_count": null,
   "metadata": {
    "deletable": false,
    "editable": false,
    "nbgrader": {
     "cell_type": "code",
     "checksum": "cf1c7cb60cbc01e16d0d10e36ff1a7a6",
     "grade": true,
     "grade_id": "cell-e33b6e1a77a060e2",
     "locked": true,
     "points": 1,
     "schema_version": 3,
     "solution": false,
     "task": false
    }
   },
   "outputs": [],
   "source": [
    "t.test_4_2_1(income_plot)"
   ]
  },
  {
   "cell_type": "markdown",
   "metadata": {},
   "source": [
    "**Question 4.3** \n",
    "<br> {points: 1}\n",
    "\n",
    "Now facet the `income_plot` by `year`.\n",
    "\n",
    "*Save it in an object named `income_plot_faceted`.*"
   ]
  },
  {
   "cell_type": "code",
   "execution_count": null,
   "metadata": {
    "deletable": false,
    "nbgrader": {
     "cell_type": "code",
     "checksum": "a3a95d113c32303303b3efecc869ba34",
     "grade": false,
     "grade_id": "cell-e625b4046c4de4a4",
     "locked": false,
     "schema_version": 3,
     "solution": true,
     "task": false
    }
   },
   "outputs": [],
   "source": [
    "# your code here\n",
    "raise NotImplementedError # No Answer - remove if you provide an answer\n",
    "income_plot_faceted"
   ]
  },
  {
   "cell_type": "code",
   "execution_count": null,
   "metadata": {
    "deletable": false,
    "editable": false,
    "nbgrader": {
     "cell_type": "code",
     "checksum": "e71c96abd7a1cf7fcfd5072aa22f1d50",
     "grade": true,
     "grade_id": "cell-b85cfbd4adf6c6bc",
     "locked": true,
     "points": 1,
     "schema_version": 3,
     "solution": false,
     "task": false
    }
   },
   "outputs": [],
   "source": [
    "t.test_4_3(income_plot_faceted)"
   ]
  },
  {
   "cell_type": "markdown",
   "metadata": {},
   "source": [
    "**Question 4.4** \n",
    "<br> {points: 2}\n",
    "\n",
    "Does it appear that to be a positive, negative, or no relationship between the income of a country and the CO2 emission per capita?\n",
    "\n",
    "*Answer as either \"positive\", \"negative\" or \"no relationship\" in object of type string named `answer4_4`.*"
   ]
  },
  {
   "cell_type": "code",
   "execution_count": null,
   "metadata": {
    "deletable": false,
    "nbgrader": {
     "cell_type": "code",
     "checksum": "0fca731ffa4839a0764eadf3a2c68705",
     "grade": false,
     "grade_id": "cell-470ecf5f44285958",
     "locked": false,
     "schema_version": 3,
     "solution": true,
     "task": false
    }
   },
   "outputs": [],
   "source": [
    "answer4_4 = None\n",
    "\n",
    "# your code here\n",
    "raise NotImplementedError # No Answer - remove if you provide an answer\n",
    "\n",
    "answer4_4"
   ]
  },
  {
   "cell_type": "code",
   "execution_count": null,
   "metadata": {
    "deletable": false,
    "editable": false,
    "nbgrader": {
     "cell_type": "code",
     "checksum": "7f0c2bea792537b0a69bb79d4a27b391",
     "grade": true,
     "grade_id": "cell-9d9d9b00ce0ca2a2",
     "locked": true,
     "points": 2,
     "schema_version": 3,
     "solution": false,
     "task": false
    }
   },
   "outputs": [],
   "source": [
    "# check that the variable exists\n",
    "assert 'answer4_4' in globals(\n",
    "), \"Please make sure that your solution is named 'answer4_4'\"\n",
    "\n",
    "# This test has been intentionally hidden. It will be up to you to decide if your solution\n",
    "# is sufficiently good."
   ]
  },
  {
   "cell_type": "markdown",
   "metadata": {},
   "source": [
    "**Question 4.5** \n",
    "<br> {points: 1}\n",
    "\n",
    "Looking at the 2 plots from 1979 and 2014, did income per CO2 emission per capital appear to flatten at all? \n",
    "\n",
    "*Answer as either \"Yes\" or \"No\" in an object named `answer4_5`*."
   ]
  },
  {
   "cell_type": "code",
   "execution_count": null,
   "metadata": {
    "deletable": false,
    "nbgrader": {
     "cell_type": "code",
     "checksum": "ed519be1b39e35d852cdd98df5fc6e54",
     "grade": false,
     "grade_id": "cell-b2e9061eca87cedc",
     "locked": false,
     "schema_version": 3,
     "solution": true,
     "task": false
    }
   },
   "outputs": [],
   "source": [
    "answer4_5 = None\n",
    "\n",
    "# your code here\n",
    "raise NotImplementedError # No Answer - remove if you provide an answer\n",
    "answer4_5"
   ]
  },
  {
   "cell_type": "code",
   "execution_count": null,
   "metadata": {
    "deletable": false,
    "editable": false,
    "nbgrader": {
     "cell_type": "code",
     "checksum": "b20a1ff71fb2c46da3335426c26b50ee",
     "grade": true,
     "grade_id": "cell-ae1e8f0f3aa17152",
     "locked": true,
     "points": 1,
     "schema_version": 3,
     "solution": false,
     "task": false
    }
   },
   "outputs": [],
   "source": [
    "t.test_4_5(answer4_5)"
   ]
  },
  {
   "cell_type": "markdown",
   "metadata": {},
   "source": [
    "## Before Submitting \n",
    "\n",
    "Before submitting your assignment please do the following:\n",
    "\n",
    "- Read through your solutions\n",
    "- **Restart your kernel, clear output and rerun your cells from top to bottom** \n",
    "- Makes sure that none of your code is broken \n",
    "- Verify that the tests from the questions you answered have obtained the output \"Success\"\n",
    "\n",
    "This is a simple way to make sure that you are submitting all the variables needed to mark the assignment. This method should help avoid losing marks due to changes in your environment.  "
   ]
  },
  {
   "cell_type": "markdown",
   "metadata": {},
   "source": [
    "## Attributions\n",
    "- Gapminder dataset processed and uploaded by Joel Ostblom - [UofTCoders/workshops-dc-py](https://github.com/UofTCoders/workshops-dc-py)\n",
    "\n",
    "- Original Gapminder data - [The Gapminder Foundation](https://www.gapminder.org/)\n",
    "\n",
    "\n",
    "- MDS DSCI 531: Data Visualization I - [MDS's GitHub website](https://github.com/UBC-MDS/DSCI_531_viz-1) \n"
   ]
  }
 ],
 "metadata": {
  "kernelspec": {
   "display_name": "Python 3",
   "language": "python",
   "name": "python3"
  },
  "language_info": {
   "codemirror_mode": {
    "name": "ipython",
    "version": 3
   },
   "file_extension": ".py",
   "mimetype": "text/x-python",
   "name": "python",
   "nbconvert_exporter": "python",
   "pygments_lexer": "ipython3",
   "version": "3.8.5"
  },
  "toc": {
   "base_numbering": 1,
   "nav_menu": {},
   "number_sections": false,
   "sideBar": true,
   "skip_h1_title": false,
   "title_cell": "Table of Contents",
   "title_sidebar": "Contents",
   "toc_cell": false,
   "toc_position": {},
   "toc_section_display": true,
   "toc_window_display": true
  }
 },
 "nbformat": 4,
 "nbformat_minor": 4
}
