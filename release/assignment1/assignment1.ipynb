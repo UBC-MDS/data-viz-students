{
 "cells": [
  {
   "cell_type": "markdown",
   "metadata": {},
   "source": [
    "# Data Visualization\n",
    "\n",
    "## Assignment 1: Why Visualize Data?"
   ]
  },
  {
   "cell_type": "markdown",
   "metadata": {},
   "source": [
    "You can't learn technical subjects without hands-on practice. The assignments are an important part of the course. To submit this assignment you will need to make sure that you save your Jupyter notebook. \n",
    "\n",
    "Below are the links to 2 videos that explain:\n",
    "\n",
    "1. [How to save your Jupyter notebook](https://youtu.be/0aoLgBoAUSA) and,       \n",
    "2. [How to answer a question in a Jupyter notebook assignment](https://youtu.be/7j0WKhI3W4s)."
   ]
  },
  {
   "cell_type": "markdown",
   "metadata": {},
   "source": [
    "<div class=\"alert alert-info\" style=\"color:black\">\n",
    "    \n",
    "### Assignment Learning Goals:\n",
    "\n",
    "By the end of the module, students are expected to:\n",
    "\n",
    "- Explain the importance of data visualizations.\n",
    "- Describe the role of the grammar of graphics in data visualization.\n",
    "- Create point and line visualizations in `altair`.\n",
    "- Transform data directly in `altair` instead of `pandas`.\n",
    "- Combine graphical marks via layering.\n",
    "\n",
    "\n",
    "This assignment covers [Module 1](https://viz-learn.mds.ubc.ca/en/module1) of the online course. You should complete this module before attempting this assignment.\n",
    " \n",
    "</div>"
   ]
  },
  {
   "cell_type": "markdown",
   "metadata": {},
   "source": [
    "Any place you see `...`, you must fill in the function, variable, or data to complete the code. Substitute the `None` and the `raise NotImplementedError # No Answer - remove if you provide an answer` with your completed code and answers then proceed to run the cell!"
   ]
  },
  {
   "cell_type": "markdown",
   "metadata": {},
   "source": [
    "Note that some of the questions in this assignment will have hidden tests. This means that no feedback will be given as to the correctness of your solution. It will be left up to you to decide if your answer is sufficiently correct. These questions are worth 1 more point than indicated."
   ]
  },
  {
   "cell_type": "code",
   "execution_count": null,
   "metadata": {},
   "outputs": [],
   "source": [
    "# Import libraries needed for this assignment\n",
    "from hashlib import sha1\n",
    "import altair as alt\n",
    "import pandas as pd\n",
    "\n",
    "import test_assignment1 as t"
   ]
  },
  {
   "cell_type": "markdown",
   "metadata": {},
   "source": [
    "##  Gapminder\n",
    "\n",
    "![](https://www.gapminder.org/wp-content/themes/gapminder2/images/logo.png)\n",
    "\n",
    "The Gapminder foundation strives to educate people about the public health status\n",
    "in countries all around the world\n",
    "and fight devastating misconceptions that hinder world development.\n",
    "This information is important both for our capacity to make considerate choices as individuals\n",
    "and from an industry perspective in understanding where markets are emerging.\n",
    "In their research,\n",
    "Gapminder has discovered that most people don't really know what the world looks like today.\n",
    "\n",
    "**Do you?** \n",
    "\n",
    "Feel free to take [this 7-8 min quiz to find out](https://forms.gapminder.org/s3/test-2018).\n",
    "It is not mandatory or for marks but it may spark your curiosity to learn more about this lab's data set!\n",
    "\n",
    "Also, don't worry if you get a low score on this quiz. When some of the instructors of this course took it for the first time, we also didn't shine too brightly. "
   ]
  },
  {
   "cell_type": "markdown",
   "metadata": {},
   "source": [
    "# 1. Getting Motivated\n",
    "\n",
    "We are going to ease into this lab by first watching <a href=\"https://www.youtube.com/watch?v=usdJgEwMinM\" target=\"_blank\">this 20 min video of Hans Rosling</a>,  a public health professor at Karolinska Institute\n",
    "who founded Gapminder together with his son and his son's wife.\n",
    "Although the video is almost 15 years old, it is a formidable demonstration of how to present data in a way that engages your audience while conveying a strong, important message. (The original clip has over 3 million views,\n",
    "but we linked you one of better video quality).\n",
    "\n",
    "Once you have finished watching this, answer the multiple-choice questions below. "
   ]
  },
  {
   "cell_type": "markdown",
   "metadata": {},
   "source": [
    "**Question 1.1** <br> {points: 1}  \n",
    "\n",
    "Which question did Hans Rosling ask his students on his \"pretest\" before the course began? \n",
    " \n",
    "A) Which continent has the highest mortality rate?\n",
    "\n",
    "B) Which country has the highest mortality rate?\n",
    "\n",
    "C) Which continent has the highest child mortality rate?\n",
    "\n",
    "D) Which country has the highest child mortality rate?\n",
    "\n",
    "To answer the question, assign the letter associated with the correct answer to a variable in the code cell below.\n",
    "\n",
    "*Answer in the cell below using the uppercase letter associated with your answer. Place your answer between `\"\"`, assign the correct answer to an object called `answer1_1`.*\n",
    "\n",
    " For example: \n",
    "\n",
    "`answer1_1 = \"B\"`\n"
   ]
  },
  {
   "cell_type": "code",
   "execution_count": null,
   "metadata": {
    "deletable": false,
    "nbgrader": {
     "cell_type": "code",
     "checksum": "e13d12bbeeb8588611b0f6fbc0c0f121",
     "grade": false,
     "grade_id": "cell-783eee9b9d645f61",
     "locked": false,
     "schema_version": 3,
     "solution": true,
     "task": false
    }
   },
   "outputs": [],
   "source": [
    "answer1_1 = None\n",
    "\n",
    "# your code here\n",
    "raise NotImplementedError # No Answer - remove if you provide an answer\n",
    "answer1_1"
   ]
  },
  {
   "cell_type": "code",
   "execution_count": null,
   "metadata": {
    "deletable": false,
    "editable": false,
    "nbgrader": {
     "cell_type": "code",
     "checksum": "ed8516b7850abd00bd25439c1f86db24",
     "grade": true,
     "grade_id": "cell-1219322fccdfeb53",
     "locked": true,
     "points": 1,
     "schema_version": 3,
     "solution": false,
     "task": false
    }
   },
   "outputs": [],
   "source": [
    "t.test_1_1(answer1_1)"
   ]
  },
  {
   "cell_type": "markdown",
   "metadata": {},
   "source": [
    "**Question 1.2** <br> {points: 1}  \n",
    "\n",
    "Which animal did Hans say knew more about the world statistically than Swedish students?\n",
    "\n",
    "*Save your answers as a string in an object named `answer1_2`*. \n",
    "\n",
    "For example: \n",
    "\n",
    "`answer1_2 = \"elephants\"`\n"
   ]
  },
  {
   "cell_type": "code",
   "execution_count": null,
   "metadata": {
    "deletable": false,
    "nbgrader": {
     "cell_type": "code",
     "checksum": "9752c2d2e60f0e3bd3d2aaaf252e0964",
     "grade": false,
     "grade_id": "cell-1489f7e4954577b0",
     "locked": false,
     "schema_version": 3,
     "solution": true,
     "task": false
    }
   },
   "outputs": [],
   "source": [
    "answer1_2 = None\n",
    "\n",
    "# your code here\n",
    "raise NotImplementedError # No Answer - remove if you provide an answer\n",
    "answer1_2"
   ]
  },
  {
   "cell_type": "code",
   "execution_count": null,
   "metadata": {
    "deletable": false,
    "editable": false,
    "nbgrader": {
     "cell_type": "code",
     "checksum": "55c7317312a311c47518291a51e1bbc6",
     "grade": true,
     "grade_id": "cell-aca1e0d1a3f7fd22",
     "locked": true,
     "points": 1,
     "schema_version": 3,
     "solution": false,
     "task": false
    }
   },
   "outputs": [],
   "source": [
    "t.test_1_2(answer1_2)"
   ]
  },
  {
   "cell_type": "markdown",
   "metadata": {},
   "source": [
    "**Question 1.3** <br> {points: 1}  \n",
    "\n",
    "What was the problem that Hans has to overcome with his students?\n",
    "\n",
    "A) Ignorance\n",
    "\n",
    "B) Intelligence\n",
    "\n",
    "C) Preconceived ideas\n",
    "\n",
    "D) work ethic\n",
    "\n",
    "To answer the question, assign the letter associated with the correct answer to a variable in the code cell below.\n",
    "\n",
    "*Answer in the cell below using the uppercase letter associated with your answer. Place your answer between `\"\"`, assign the correct answer to an object called `answer1_3`.*"
   ]
  },
  {
   "cell_type": "code",
   "execution_count": null,
   "metadata": {
    "deletable": false,
    "nbgrader": {
     "cell_type": "code",
     "checksum": "d5440070a16b2893244e715a2b2931f7",
     "grade": false,
     "grade_id": "cell-2bd2cccd7b31d846",
     "locked": false,
     "schema_version": 3,
     "solution": true,
     "task": false
    }
   },
   "outputs": [],
   "source": [
    "answer1_3 = None\n",
    "\n",
    "# your code here\n",
    "raise NotImplementedError # No Answer - remove if you provide an answer\n",
    "answer1_3"
   ]
  },
  {
   "cell_type": "code",
   "execution_count": null,
   "metadata": {
    "deletable": false,
    "editable": false,
    "nbgrader": {
     "cell_type": "code",
     "checksum": "45511f53f6bc3c94a7288abfaad6281e",
     "grade": true,
     "grade_id": "cell-ce161f3221aa4904",
     "locked": true,
     "points": 1,
     "schema_version": 3,
     "solution": false,
     "task": false
    }
   },
   "outputs": [],
   "source": [
    "t.test_1_3(answer1_3)"
   ]
  },
  {
   "cell_type": "markdown",
   "metadata": {},
   "source": [
    "**Question 1.4** <br> {points: 1}  \n",
    "\n",
    "For the 1962 data that Hans showed for fertility rate vs life expectancy, what were the trends among the Industrialized countries and the developing countries? \n",
    "\n",
    "A) In the industrialized countries families tend to be smaller, with longer life expectancies and in the \"developing counties\" families tend to be larger with shorter life expectancies. \n",
    "\n",
    "B) In the industrialized countries families tend to be larger, with longer life expectancies and in the developing countries families tend to be smaller with shorter life expectancies. \n",
    "\n",
    "C) In the industrialized countries families tend to be larger, with shorter life expectancies and in the developing countries families tend to be smaller with longer life expectancies. \n",
    "\n",
    "D) In the industrialized countries families tend to be smaller, with shorter life expectancies and in the developing countries families tend to be larger with longer life expectancies. \n",
    "\n",
    "To answer the question, assign the letter associated with the correct answer to a variable in the code cell below.\n",
    "\n",
    "*Answer in the cell below using the uppercase letter associated with your answer. Place your answer between `\"\"`, assign the correct answer to an object called `answer1_4`.*"
   ]
  },
  {
   "cell_type": "code",
   "execution_count": null,
   "metadata": {
    "deletable": false,
    "nbgrader": {
     "cell_type": "code",
     "checksum": "f596b7565e2b2e52372cdac79addb7e2",
     "grade": false,
     "grade_id": "cell-fa0323890f60a4fa",
     "locked": false,
     "schema_version": 3,
     "solution": true,
     "task": false
    }
   },
   "outputs": [],
   "source": [
    "answer1_4 = None\n",
    "\n",
    "# your code here\n",
    "raise NotImplementedError # No Answer - remove if you provide an answer\n",
    "answer1_4"
   ]
  },
  {
   "cell_type": "code",
   "execution_count": null,
   "metadata": {
    "deletable": false,
    "editable": false,
    "nbgrader": {
     "cell_type": "code",
     "checksum": "9b1811cddad0d179bd792e9d97802870",
     "grade": true,
     "grade_id": "cell-67b9cf30b09243c5",
     "locked": true,
     "points": 1,
     "schema_version": 3,
     "solution": false,
     "task": false
    }
   },
   "outputs": [],
   "source": [
    "t.test_1_4(answer1_4)"
   ]
  },
  {
   "cell_type": "markdown",
   "metadata": {},
   "source": [
    "**Question 1.5** <br> {points: 1}  \n",
    "\n",
    "\n",
    "What changed in the 1962 fertility rate vs life expectancy data as time progressed into the years 2000?\n",
    "\n",
    "Select all that apply:\n",
    "\n",
    "A) On average, the life expectancy among industrialized countries seemed to have decreased.\n",
    "\n",
    "B) On average, the life expectancy among developing countries seemed to have increased.\n",
    "\n",
    "C) On average, the size of families among industrialized countries seemed to have increased.\n",
    "\n",
    "D) On average, the size of families among developing countries seemed to have decreased.\n",
    "\n",
    "*To answer the question, select all that apply and add the letter(s) associated with the correct answer(s) to a list and assign it to a variable named `answer1_5`. For example, if you believe that A and B are True, then your answer would look like this:*\n",
    "\n",
    "`answer1_5 = [\"A\", \"B\"]`\n"
   ]
  },
  {
   "cell_type": "code",
   "execution_count": null,
   "metadata": {
    "deletable": false,
    "nbgrader": {
     "cell_type": "code",
     "checksum": "9d4bc293b69c525c393f837c971d6968",
     "grade": false,
     "grade_id": "cell-e4f4ba84fa23c55f",
     "locked": false,
     "schema_version": 3,
     "solution": true,
     "task": false
    }
   },
   "outputs": [],
   "source": [
    "answer1_5 = None\n",
    "\n",
    "# your code here\n",
    "raise NotImplementedError # No Answer - remove if you provide an answer\n",
    "answer1_5"
   ]
  },
  {
   "cell_type": "code",
   "execution_count": null,
   "metadata": {
    "deletable": false,
    "editable": false,
    "nbgrader": {
     "cell_type": "code",
     "checksum": "ca4f96d1c870651d5653fcea8d60900e",
     "grade": true,
     "grade_id": "cell-e74807afd293f8a4",
     "locked": true,
     "points": 1,
     "schema_version": 3,
     "solution": false,
     "task": false
    }
   },
   "outputs": [],
   "source": [
    "t.test_1_5(answer1_5)"
   ]
  },
  {
   "cell_type": "markdown",
   "metadata": {},
   "source": [
    "**Question 1.6** <br> {points: 1}  \n",
    "\n",
    "In the second  world income distribution visualization that Hans presents, for the 1970 data, which continent contributed most to those living in absolute poverty. \n",
    "\n",
    "*Save your answers as a string in an object named `answer1_6`*. \n"
   ]
  },
  {
   "cell_type": "code",
   "execution_count": null,
   "metadata": {
    "deletable": false,
    "nbgrader": {
     "cell_type": "code",
     "checksum": "b688f5b5f042b2212f6a63f2478b6448",
     "grade": false,
     "grade_id": "cell-2acf1672f0ffa039",
     "locked": false,
     "schema_version": 3,
     "solution": true,
     "task": false
    }
   },
   "outputs": [],
   "source": [
    "answer1_6 = None\n",
    "\n",
    "# your code here\n",
    "raise NotImplementedError # No Answer - remove if you provide an answer\n",
    "answer1_6"
   ]
  },
  {
   "cell_type": "code",
   "execution_count": null,
   "metadata": {
    "deletable": false,
    "editable": false,
    "nbgrader": {
     "cell_type": "code",
     "checksum": "02bcbd342bffbd03115b184ce89b7ef7",
     "grade": true,
     "grade_id": "cell-abc602937881a280",
     "locked": true,
     "points": 1,
     "schema_version": 3,
     "solution": false,
     "task": false
    }
   },
   "outputs": [],
   "source": [
    "t.test_1_6(answer1_6)"
   ]
  },
  {
   "cell_type": "markdown",
   "metadata": {},
   "source": [
    "**Question 1.7** <br> {points: 1}  \n",
    "\n",
    "What type of relationship did Hans notice between child survival rate and GDP per Capita (on a log scale) among continents?\n",
    "\n",
    "\n",
    "A) There was no relationship evident\n",
    "\n",
    "B) Linear\n",
    "\n",
    "C) Quadratic\n",
    "\n",
    "D) Logarithmic\n",
    "\n",
    "*Answer in the cell below using the uppercase letter associated with your answer. Place your answer between `\"\"`, assign the correct answer to an object called `answer1_7`.*"
   ]
  },
  {
   "cell_type": "code",
   "execution_count": null,
   "metadata": {
    "deletable": false,
    "nbgrader": {
     "cell_type": "code",
     "checksum": "51df4dc2b724c44c839aaa024f84bd65",
     "grade": false,
     "grade_id": "cell-953068d374e14c14",
     "locked": false,
     "schema_version": 3,
     "solution": true,
     "task": false
    }
   },
   "outputs": [],
   "source": [
    "answer1_7 = None\n",
    "\n",
    "# your code here\n",
    "raise NotImplementedError # No Answer - remove if you provide an answer\n",
    "answer1_7"
   ]
  },
  {
   "cell_type": "code",
   "execution_count": null,
   "metadata": {
    "deletable": false,
    "editable": false,
    "nbgrader": {
     "cell_type": "code",
     "checksum": "716a6a7cf96a990d81b6f88d37fd0abc",
     "grade": true,
     "grade_id": "cell-ceb55617980573af",
     "locked": true,
     "points": 1,
     "schema_version": 3,
     "solution": false,
     "task": false
    }
   },
   "outputs": [],
   "source": [
    "t.test_1_7(answer1_7)"
   ]
  },
  {
   "cell_type": "markdown",
   "metadata": {},
   "source": [
    "**Question 1.8** <br> {points: 1}  \n",
    "\n",
    "Which of the following statements is true? \n",
    "\n",
    "A) Hans noticed that most countries within a continent progressed through time at similar survival vs GDP rates. \n",
    "\n",
    "B) Hans noticed that there was a huge amount of variation among the countries for the survival vs GDP rates. \n",
    "\n",
    "C) Hans pointed out that from 1970 to 2000, South Korea showed little signs of advancement. \n",
    "\n",
    "D) Hans commented that the survival vs GDP rate within a country was relatively the same among different income levels. \n",
    "\n",
    "*Answer in the cell below using the uppercase letter associated with your answer. Place your answer between `\"\"`, assign the correct answer to an object called `answer1_8`.*"
   ]
  },
  {
   "cell_type": "code",
   "execution_count": null,
   "metadata": {
    "deletable": false,
    "nbgrader": {
     "cell_type": "code",
     "checksum": "62940bc16c8e597cdb4e44c599f6f39a",
     "grade": false,
     "grade_id": "cell-c38ef6290d15f5b2",
     "locked": false,
     "schema_version": 3,
     "solution": true,
     "task": false
    }
   },
   "outputs": [],
   "source": [
    "answer1_8 = None\n",
    "\n",
    "# your code here\n",
    "raise NotImplementedError # No Answer - remove if you provide an answer\n",
    "answer1_8"
   ]
  },
  {
   "cell_type": "code",
   "execution_count": null,
   "metadata": {
    "deletable": false,
    "editable": false,
    "nbgrader": {
     "cell_type": "code",
     "checksum": "efee0d5ebe8b0c6cca15d6aded493d0c",
     "grade": true,
     "grade_id": "cell-766fc68ada5b4a33",
     "locked": true,
     "points": 1,
     "schema_version": 3,
     "solution": false,
     "task": false
    }
   },
   "outputs": [],
   "source": [
    "t.test_1_8(answer1_8)"
   ]
  },
  {
   "cell_type": "markdown",
   "metadata": {},
   "source": [
    "**Question 1.9** <br> {points: 2}  \n",
    "\n",
    "Where did Hans get the inspiration to name the dataset \"gapminder\"?\n",
    "\n",
    "A) The gap between the mean score of his Swedish students and the chimpanzees. \n",
    "\n",
    "B) The difference between industrialized and developing countries from the first diagram he presented. \n",
    "\n",
    "C) The London Metro station. \n",
    "\n",
    "D) The Store \"The Gap\".  \n",
    "\n",
    "*Answer in the cell below using the uppercase letter associated with your answer. Place your answer between `\"\"`, assign the correct answer to an object called `answer1_9`.*"
   ]
  },
  {
   "cell_type": "code",
   "execution_count": null,
   "metadata": {
    "deletable": false,
    "nbgrader": {
     "cell_type": "code",
     "checksum": "8366d332ca64f2ee40fbb7c3449e3e9a",
     "grade": false,
     "grade_id": "cell-aac5a309f3ebc5f6",
     "locked": false,
     "schema_version": 3,
     "solution": true,
     "task": false
    }
   },
   "outputs": [],
   "source": [
    "answer1_9 = None\n",
    "\n",
    "# your code here\n",
    "raise NotImplementedError # No Answer - remove if you provide an answer\n",
    "answer1_9"
   ]
  },
  {
   "cell_type": "code",
   "execution_count": null,
   "metadata": {
    "deletable": false,
    "editable": false,
    "nbgrader": {
     "cell_type": "code",
     "checksum": "f033932c6af603dd09d318c985fad0a1",
     "grade": true,
     "grade_id": "cell-5dd939f0752a133e",
     "locked": true,
     "points": 2,
     "schema_version": 3,
     "solution": false,
     "task": false
    }
   },
   "outputs": [],
   "source": [
    "# check that the variable exists\n",
    "assert 'answer1_9' in globals(\n",
    "), \"Please make sure that your solution is named 'answer1_9'\"\n",
    "\n",
    "# This test has been intentionally hidden. It will be up to you to decide if your solution\n",
    "# is sufficiently good."
   ]
  },
  {
   "cell_type": "markdown",
   "metadata": {},
   "source": [
    "**Question 1.10** <br> {points: 1}  \n",
    "\n",
    "The following has no correct answer (in the sense we will accept anything you answer here) but do you think Han's visualization helped you grasp his insights faster and more effectively than had he simply read them out or showed your numerical values?\n",
    "\n",
    "\n",
    "*Answer your comment in a string below and assign it to an object called `answer1_10`. Note that this is more of a thought-provoking question so the auto-grader will only check that your comment is not too short*."
   ]
  },
  {
   "cell_type": "code",
   "execution_count": null,
   "metadata": {
    "deletable": false,
    "nbgrader": {
     "cell_type": "code",
     "checksum": "9c23c89f891533e3d51e6fd36d222541",
     "grade": false,
     "grade_id": "cell-7c6e8f5067cceddb",
     "locked": false,
     "schema_version": 3,
     "solution": true,
     "task": false
    }
   },
   "outputs": [],
   "source": [
    "answer1_10 = None\n",
    "\n",
    "# your code here\n",
    "raise NotImplementedError # No Answer - remove if you provide an answer\n",
    "answer1_10"
   ]
  },
  {
   "cell_type": "code",
   "execution_count": null,
   "metadata": {
    "deletable": false,
    "editable": false,
    "nbgrader": {
     "cell_type": "code",
     "checksum": "bf9586d62171d4264d100d99d43d42e2",
     "grade": true,
     "grade_id": "cell-fedc145f1713329c",
     "locked": true,
     "points": 1,
     "schema_version": 3,
     "solution": false,
     "task": false
    }
   },
   "outputs": [],
   "source": [
    "t.test_1_10(answer1_10)"
   ]
  },
  {
   "cell_type": "markdown",
   "metadata": {},
   "source": [
    "# 2.  Gapminder bubble chart\n",
    "\n",
    "**Example:**   \n",
    "\n",
    "![](img/life_fertility.jpg)\n",
    "     \n",
    "[Source](https://bit.ly/2YNoFMV)\n",
    "\n",
    "\n",
    "\n",
    "\"Bubble chart\" plots have become quite famous from their appearance in the Gapminder talks and are widely used in other areas as well.\n",
    "\n",
    "Let's start by recreating a simple version of this chart ourselves!\n",
    "\n",
    "There will be some data wrangling involved in this assignment. Since this course is primarily about visualization and this is the first assignment, we will be providing some hints and starter questions to help you wrangle your data.\n",
    "\n",
    "Note: since you do have wrangling experience from [Programming in Python for Data Science](https://prog-learn.mds.ubc.ca/), we will not always do this in the future. \n",
    "\n",
    "The data that we have provided to you contains values up until 2018 for most of the features.\n",
    "You will not use all the columns in the data set, but here is a description of what they contain\n",
    "that you can refer back to throughout the assignment.\n",
    "\n",
    "| Column                | Description                                                                                  |\n",
    "|-----------------------|----------------------------------------------------------------------------------------------|\n",
    "| country               | Country name                                                                                 |\n",
    "| year                  | Year of observation                                                                          |\n",
    "| population            | Population in the country at each year                                                       |\n",
    "| region                | Continent the country belongs to                                                             |\n",
    "| sub_region            | Sub-region the country belongs to                                                            |\n",
    "| income_group          | Income group [as specified by the world bank in 2018]                                                |\n",
    "| life_expectancy       | The mean number of years a newborn would <br>live if mortality patterns remained constant    |\n",
    "| income                | GDP per capita (in USD) <em>adjusted <br>for differences in purchasing power</em>            |\n",
    "| children_per_woman    | Average number of children born per woman                                                    |\n",
    "| child_mortality       | Deaths of children under 5 years <break>of age per 1000 live births                          |\n",
    "| pop_density           | Average number of people per km<sup>2</sup>                                                  |\n",
    "| co2_per_capita        | CO2 emissions from fossil fuels (tonnes per capita)                                          |\n",
    "| years_in_school_men   | Mean number of years in primary, secondary,<br>and tertiary school for 25-36 years old men   |\n",
    "| years_in_school_women | Mean number of years in primary, secondary,<br>and tertiary school for 25-36 years old women |\n",
    "\n",
    "[as specified by the world bank in 2018]: https://datahelpdesk.worldbank.org/knowledgebase/articles/378833-how-are-the-income-group-thresholds-determined"
   ]
  },
  {
   "cell_type": "markdown",
   "metadata": {},
   "source": [
    "**Question 2.1** \n",
    "    <br> {points: 3}\n",
    "\n",
    "Before you do anything, you must read in the data. We have provided you with a preprocessed version of the 2018 Gapminder data in a csv file named `world-data-gapminder.csv`.  \n",
    "\n",
    "Use `read_csv` from `pandas` to load the data from the `data` folder and  assign it to a variable named `gapminder_df`. Set the `parse_dates` argument to `['year']` to ensure that Altair recognizes this column as time data.\n",
    "\n",
    "It would also be useful to take a look at the first 5 rows of your data to see how it's presented. \n",
    "\n",
    "*Hint: Observe in particular how the values from the `year` column present. You'll need this in the upcoming questions.*\n"
   ]
  },
  {
   "cell_type": "code",
   "execution_count": null,
   "metadata": {
    "deletable": false,
    "nbgrader": {
     "cell_type": "code",
     "checksum": "449fcd55c51fff48bb6ba41a2850383a",
     "grade": false,
     "grade_id": "cell-06d6719747a1a988",
     "locked": false,
     "schema_version": 3,
     "solution": true,
     "task": false
    }
   },
   "outputs": [],
   "source": [
    "gapminder_df = None\n",
    "\n",
    "# your code here\n",
    "raise NotImplementedError # No Answer - remove if you provide an answer"
   ]
  },
  {
   "cell_type": "code",
   "execution_count": null,
   "metadata": {
    "deletable": false,
    "editable": false,
    "nbgrader": {
     "cell_type": "code",
     "checksum": "cdacb2ac007ff83970d5d5bb4a5025cf",
     "grade": true,
     "grade_id": "cell-be1b67f40e146ed3",
     "locked": true,
     "points": 2,
     "schema_version": 3,
     "solution": false,
     "task": false
    }
   },
   "outputs": [],
   "source": [
    "# check that the variable exists\n",
    "assert 'gapminder_df' in globals(\n",
    "), \"Please make sure that your solution is named 'gapminder_df'\"\n",
    "\n",
    "# This test has been intentionally hidden. It will be up to you to decide if your solution\n",
    "# is sufficiently good."
   ]
  },
  {
   "cell_type": "code",
   "execution_count": null,
   "metadata": {
    "deletable": false,
    "editable": false,
    "nbgrader": {
     "cell_type": "code",
     "checksum": "b6716a415d3f4b120788d9bb22edf7b0",
     "grade": true,
     "grade_id": "cell-2fe0ceab8316aa2f",
     "locked": true,
     "points": 1,
     "schema_version": 3,
     "solution": false,
     "task": false
    }
   },
   "outputs": [],
   "source": [
    "t.test_2_1b(gapminder_df)"
   ]
  },
  {
   "cell_type": "markdown",
   "metadata": {},
   "source": [
    "**Question 2.2**\n",
    "<br> {points: 1}\n",
    "\n",
    "What are the dimensions of `gapminder_df`? \n",
    "\n",
    "*Save this as a tuple in an object named `gapminder_df_shape`.*"
   ]
  },
  {
   "cell_type": "code",
   "execution_count": null,
   "metadata": {
    "deletable": false,
    "nbgrader": {
     "cell_type": "code",
     "checksum": "77f3f1f0aa071b7eee6f15880e1c2eb0",
     "grade": false,
     "grade_id": "cell-51992300142583ec",
     "locked": false,
     "schema_version": 3,
     "solution": true,
     "task": false
    }
   },
   "outputs": [],
   "source": [
    "gapminder_df_shape = None\n",
    "\n",
    "# your code here\n",
    "raise NotImplementedError # No Answer - remove if you provide an answer\n",
    "gapminder_df_shape"
   ]
  },
  {
   "cell_type": "code",
   "execution_count": null,
   "metadata": {
    "deletable": false,
    "editable": false,
    "nbgrader": {
     "cell_type": "code",
     "checksum": "a4a43cfb1cfe39ed4faf2e312b7d3061",
     "grade": true,
     "grade_id": "cell-0a4967e7b9d7d912",
     "locked": true,
     "points": 1,
     "schema_version": 3,
     "solution": false,
     "task": false
    }
   },
   "outputs": [],
   "source": [
    "t.test_2_2(gapminder_df_shape)"
   ]
  },
  {
   "cell_type": "markdown",
   "metadata": {},
   "source": [
    "**Question 2.3** \n",
    "<br> {points: 1}\n",
    "\n",
    "For this visualization that we are going to make, we want to concentrate on observations from the 1962.\n",
    "\n",
    "Our question that we are hoping to answer is ***\"Does there appear to be a relationship between the number of children per woman and life expectancy in the year 1962.***\n",
    "\n",
    "Let's filter the `gapminder_df` object so that it only contains the 1962 observations. \n",
    "\n",
    "*Save the filtered data in an object named `gapminder_df_1962`.*"
   ]
  },
  {
   "cell_type": "code",
   "execution_count": null,
   "metadata": {
    "deletable": false,
    "nbgrader": {
     "cell_type": "code",
     "checksum": "bd92f6617ae07643fd3adc72d305f299",
     "grade": false,
     "grade_id": "cell-9296789db9e817e9",
     "locked": false,
     "schema_version": 3,
     "solution": true,
     "task": false
    }
   },
   "outputs": [],
   "source": [
    "gapminder_df_1962 = None\n",
    "\n",
    "# your code here\n",
    "raise NotImplementedError # No Answer - remove if you provide an answer\n",
    "gapminder_df_1962.head()"
   ]
  },
  {
   "cell_type": "code",
   "execution_count": null,
   "metadata": {
    "deletable": false,
    "editable": false,
    "nbgrader": {
     "cell_type": "code",
     "checksum": "68b8bc2c0825217e982f3f854b6ccea9",
     "grade": true,
     "grade_id": "cell-5f1ef5782fc752fb",
     "locked": true,
     "points": 1,
     "schema_version": 3,
     "solution": false,
     "task": false
    }
   },
   "outputs": [],
   "source": [
    "t.test_2_3(gapminder_df_1962)"
   ]
  },
  {
   "cell_type": "markdown",
   "metadata": {},
   "source": [
    "**Question 2.4** \n",
    "<br> {points: 3}\n",
    "\n",
    "Now let’s create a similar bubble chart to what you saw in the video using the `gapminder_df_1962` data:\n",
    "\n",
    "- Use a circle mark (`mark_circle()`) to recreate the bubble geom of the plot in the video.\n",
    "- Map the children per woman variable to the x-axis and the life expectancy variable to the y-axis.\n",
    "- Map the region variable to the color argument, and the population variable to the size argument.\n",
    "\n",
    "Don't worry about getting axis labels and sizes to be exactly like in the video,\n",
    "we will return to this code later in the lab to customize it.\n",
    "\n",
    "*Assign your plot to a variable named `bubble_plot`.*\n"
   ]
  },
  {
   "cell_type": "code",
   "execution_count": null,
   "metadata": {
    "deletable": false,
    "nbgrader": {
     "cell_type": "code",
     "checksum": "cb17f1ce75063f4bb0ce97d0bb618726",
     "grade": false,
     "grade_id": "cell-c855d841502afa1b",
     "locked": false,
     "schema_version": 3,
     "solution": true,
     "task": false
    }
   },
   "outputs": [],
   "source": [
    "bubble_plot = None\n",
    "\n",
    "# your code here\n",
    "raise NotImplementedError # No Answer - remove if you provide an answer\n",
    "bubble_plot"
   ]
  },
  {
   "cell_type": "code",
   "execution_count": null,
   "metadata": {
    "deletable": false,
    "editable": false,
    "nbgrader": {
     "cell_type": "code",
     "checksum": "f86996b065066bdd0d410dd62a96c8fe",
     "grade": true,
     "grade_id": "cell-88fb6c47cc96c92d",
     "locked": true,
     "points": 1,
     "schema_version": 3,
     "solution": false,
     "task": false
    }
   },
   "outputs": [],
   "source": [
    "t.test_2_4a(bubble_plot)"
   ]
  },
  {
   "cell_type": "code",
   "execution_count": null,
   "metadata": {
    "deletable": false,
    "editable": false,
    "nbgrader": {
     "cell_type": "code",
     "checksum": "6f2298676089157ea98ebc38c8e65fce",
     "grade": true,
     "grade_id": "cell-4de8df9710dca246",
     "locked": true,
     "points": 1,
     "schema_version": 3,
     "solution": false,
     "task": false
    }
   },
   "outputs": [],
   "source": [
    "t.test_2_4b(bubble_plot)"
   ]
  },
  {
   "cell_type": "code",
   "execution_count": null,
   "metadata": {
    "deletable": false,
    "editable": false,
    "nbgrader": {
     "cell_type": "code",
     "checksum": "9ee69d329551b14607b5240e7fc3cec5",
     "grade": true,
     "grade_id": "cell-e4cd38b87bb6dec5",
     "locked": true,
     "points": 1,
     "schema_version": 3,
     "solution": false,
     "task": false
    }
   },
   "outputs": [],
   "source": [
    "t.test_2_4c(bubble_plot)"
   ]
  },
  {
   "cell_type": "markdown",
   "metadata": {},
   "source": [
    "**Question 2.5** <br> {points: 1}\n",
    "\n",
    "Let's return to the question we initially had - ***\"Does there appear to be a relationship between the number of children per woman and life expectancy in the year 1962.***\n",
    "\n",
    "Which of the following would you say is *most* accurate? \n",
    "\n",
    "A) There appears to be a cluster of countries that have higher children per woman rates with lower life expectancy and a cluster of countries with higher children per woman rates and higher life expectancy.\n",
    "\n",
    "B) There seems to be a positive linear relationship between the number of children per woman and life expectancy. \n",
    "\n",
    "C) There seems to be a negative linear relationship between the number of children per woman and life expectancy. \n",
    "\n",
    "D)  There appears to be a cluster of countries that have higher children per woman rates with lower life expectancy and a cluster of countries with lower children per woman rates and higher life expectancy.\n",
    "  \n",
    "\n",
    "*Answer in the cell below using the uppercase letter associated with your answer. Place your answer between `\"\"`, assign the correct answer to an object called `answer2_5`.*"
   ]
  },
  {
   "cell_type": "code",
   "execution_count": null,
   "metadata": {
    "deletable": false,
    "nbgrader": {
     "cell_type": "code",
     "checksum": "9cb70b14019a0905dba36c218b7355ac",
     "grade": false,
     "grade_id": "cell-f3fdf26e1e61b59b",
     "locked": false,
     "schema_version": 3,
     "solution": true,
     "task": false
    }
   },
   "outputs": [],
   "source": [
    "answer2_5 = None\n",
    "\n",
    "# your code here\n",
    "raise NotImplementedError # No Answer - remove if you provide an answer\n",
    "answer2_5"
   ]
  },
  {
   "cell_type": "code",
   "execution_count": null,
   "metadata": {
    "deletable": false,
    "editable": false,
    "nbgrader": {
     "cell_type": "code",
     "checksum": "60869f589ce41b47e070848553f20116",
     "grade": true,
     "grade_id": "cell-c974434157d4cd73",
     "locked": true,
     "points": 1,
     "schema_version": 3,
     "solution": false,
     "task": false
    }
   },
   "outputs": [],
   "source": [
    "t.test_2_5(answer2_5)"
   ]
  },
  {
   "cell_type": "markdown",
   "metadata": {},
   "source": [
    "# 3. Education balance\n",
    "\n",
    "For this next section, we are interested in seeing if women attend school for the same amount of time as men. Does family income have a relationship with this ratio?\n",
    "\n",
    "Let’s find out what the data says about this.\n",
    "\n",
    "*Note that many popular datasets have sex as a feature where the possible values are male and female. This representation reflects how the data were collected and is not meant to imply that, for example, gender is binary.*\n"
   ]
  },
  {
   "cell_type": "markdown",
   "metadata": {},
   "source": [
    "**Question 3.1** \n",
    "<br> {points: 1}\n",
    "\n",
    "Assign a new column from the `gapminder_df` dataframe named `women_men_school_ratio` that represents the ratio between the number of years in school for women and men (calculate it so that the value 1 means as many years for both, and 0.5 means half as many for women compared to men).\n",
    "\n",
    "Name the dataframe object containing this column `gapminder_ratio_df`."
   ]
  },
  {
   "cell_type": "code",
   "execution_count": null,
   "metadata": {
    "deletable": false,
    "nbgrader": {
     "cell_type": "code",
     "checksum": "0c541d620d124992b8149cde1e1ee000",
     "grade": false,
     "grade_id": "cell-05e4f921e7c87f55",
     "locked": false,
     "schema_version": 3,
     "solution": true,
     "task": false
    }
   },
   "outputs": [],
   "source": [
    "gapminder_ratio_df = None \n",
    "\n",
    "# your code here\n",
    "raise NotImplementedError # No Answer - remove if you provide an answer\n",
    "gapminder_ratio_df.tail()"
   ]
  },
  {
   "cell_type": "code",
   "execution_count": null,
   "metadata": {
    "deletable": false,
    "editable": false,
    "nbgrader": {
     "cell_type": "code",
     "checksum": "c956949a2e545730aca2018c7ab74434",
     "grade": true,
     "grade_id": "cell-0e116941c8c1f754",
     "locked": true,
     "points": 1,
     "schema_version": 3,
     "solution": false,
     "task": false
    }
   },
   "outputs": [],
   "source": [
    "t.test_3_1(gapminder_ratio_df)"
   ]
  },
  {
   "cell_type": "markdown",
   "metadata": {},
   "source": [
    "**Question 3.2** \n",
    "<br> {points: 1}\n",
    "\n",
    "Filter the `gapminder_ratio_df` dataframe to only contain values from 1971 to 2014 inclusive, since those are the years where the education data has been recorded.\n",
    "\n",
    "*Save the filtered data in an object named `gapminder_ratio_filtered`.*"
   ]
  },
  {
   "cell_type": "code",
   "execution_count": null,
   "metadata": {
    "deletable": false,
    "nbgrader": {
     "cell_type": "code",
     "checksum": "935248aa2a7026214aec762399aee2c0",
     "grade": false,
     "grade_id": "cell-e21f83225a5c7860",
     "locked": false,
     "schema_version": 3,
     "solution": true,
     "task": false
    }
   },
   "outputs": [],
   "source": [
    "gapminder_ratio_filtered = None\n",
    "\n",
    "# your code here\n",
    "raise NotImplementedError # No Answer - remove if you provide an answer\n",
    "gapminder_ratio_filtered.head()"
   ]
  },
  {
   "cell_type": "code",
   "execution_count": null,
   "metadata": {
    "deletable": false,
    "editable": false,
    "nbgrader": {
     "cell_type": "code",
     "checksum": "1d20b02ed3c236c61ec3e6d2203eb9dc",
     "grade": true,
     "grade_id": "cell-906c342205b23342",
     "locked": true,
     "points": 1,
     "schema_version": 3,
     "solution": false,
     "task": false
    }
   },
   "outputs": [],
   "source": [
    "t.test_3_2(gapminder_ratio_filtered)"
   ]
  },
  {
   "cell_type": "markdown",
   "metadata": {},
   "source": [
    "**Question 3.3** \n",
    "<br> {points: 3}\n",
    "\n",
    "Next, create a line plot from the `gapminder_ratio_filtered` data, showing how the ratio of women to men years in school has changed over time.\n",
    "\n",
    "- Use a line mark (`mark_line`) \n",
    "- Map time (`year`) to the x-axis\n",
    "- Map the **mean** women to men school ratio that we recently created in `gapminder_ratio_df`.\n",
    "- Colour the data by income group.\n",
    "\n",
    "\n",
    "*Save the plot in an object named `line_plot`.*\n"
   ]
  },
  {
   "cell_type": "code",
   "execution_count": null,
   "metadata": {
    "deletable": false,
    "nbgrader": {
     "cell_type": "code",
     "checksum": "7a6ed1d353946be7d41b34de9be4e150",
     "grade": false,
     "grade_id": "cell-cbf45d4d15c277aa",
     "locked": false,
     "schema_version": 3,
     "solution": true,
     "task": false
    }
   },
   "outputs": [],
   "source": [
    "line_plot = None\n",
    "\n",
    "# your code here\n",
    "raise NotImplementedError # No Answer - remove if you provide an answer\n",
    "line_plot"
   ]
  },
  {
   "cell_type": "code",
   "execution_count": null,
   "metadata": {
    "deletable": false,
    "editable": false,
    "nbgrader": {
     "cell_type": "code",
     "checksum": "6dfd5dcbac9a6d3071b9654373ce3cae",
     "grade": true,
     "grade_id": "cell-047b21a2984871ec",
     "locked": true,
     "points": 1,
     "schema_version": 3,
     "solution": false,
     "task": false
    }
   },
   "outputs": [],
   "source": [
    "t.test_3_3a(line_plot)"
   ]
  },
  {
   "cell_type": "code",
   "execution_count": null,
   "metadata": {
    "deletable": false,
    "editable": false,
    "nbgrader": {
     "cell_type": "code",
     "checksum": "ff5cbffd4188cfd0f2839f8548bb767c",
     "grade": true,
     "grade_id": "cell-72b3cfd611b84ba2",
     "locked": true,
     "points": 1,
     "schema_version": 3,
     "solution": false,
     "task": false
    }
   },
   "outputs": [],
   "source": [
    "t.test_3_3b(line_plot)"
   ]
  },
  {
   "cell_type": "code",
   "execution_count": null,
   "metadata": {
    "deletable": false,
    "editable": false,
    "nbgrader": {
     "cell_type": "code",
     "checksum": "69f597f4cb15297b270cfba3b780d642",
     "grade": true,
     "grade_id": "cell-a99ce9410d642746",
     "locked": true,
     "points": 1,
     "schema_version": 3,
     "solution": false,
     "task": false
    }
   },
   "outputs": [],
   "source": [
    "t.test_3_3c(line_plot)"
   ]
  },
  {
   "cell_type": "markdown",
   "metadata": {},
   "source": [
    "**Question 3.4** \n",
    "<br> {points: 1}\n",
    "\n",
    "In the legend of the plot in **Question 3.3**, you'll notice that it's not quite ordered correctly. \n",
    "\n",
    "We go from \"High\" to \"Low\" and then to the \"middle\" income groups. We can specify the correct order by using the `sort` parameter in `alt.Color()` instead of simply setting `color` equal to the desired column. [This comment on GitHub](https://github.com/altair-viz/altair/issues/1059#issuecomment-409944083) may give you a bit of direction.\n",
    "\n",
    "Recreate the plot above, but this time sorting the legend of the `income_group` from high to low. \n",
    "\n",
    "Make sure that you order the income groups correctly in a list so that when you assign it to the `sort` argument within `alt.Color()`, the legend will read in descending order.\n",
    "\n",
    "*Save the plot in an object named `line_plot_sorted`.*"
   ]
  },
  {
   "cell_type": "code",
   "execution_count": null,
   "metadata": {
    "deletable": false,
    "nbgrader": {
     "cell_type": "code",
     "checksum": "bf27bc1d1dc4e3b7ed879e8f97af7a0d",
     "grade": false,
     "grade_id": "cell-55c18bc6fd064468",
     "locked": false,
     "schema_version": 3,
     "solution": true,
     "task": false
    }
   },
   "outputs": [],
   "source": [
    "line_plot_sorted = None\n",
    "\n",
    "# your code here\n",
    "raise NotImplementedError # No Answer - remove if you provide an answer\n",
    "line_plot_sorted"
   ]
  },
  {
   "cell_type": "code",
   "execution_count": null,
   "metadata": {
    "deletable": false,
    "editable": false,
    "nbgrader": {
     "cell_type": "code",
     "checksum": "ae4d673309e97a17fd7195ef55f2738f",
     "grade": true,
     "grade_id": "cell-2c9673e8f313c67e",
     "locked": true,
     "points": 1,
     "schema_version": 3,
     "solution": false,
     "task": false
    }
   },
   "outputs": [],
   "source": [
    "t.test_3_4(line_plot_sorted)"
   ]
  },
  {
   "cell_type": "markdown",
   "metadata": {},
   "source": [
    "**Question 3.5** \n",
    "<br> {points: 2}\n",
    "\n",
    "Use layering to add a [square mark](https://altair-viz.github.io/user_guide/marks.html) for every data point in the plot `line_plot_sorted` from **Question 3.4** (so one per yearly mean in each group). \n",
    "\n",
    "*Hint: This question is much more simple than you likely think, refer to the slides if this is causing any confusion.*\n",
    "\n",
    "\n",
    "*Save the layered plot in an object named `plots_combined`.*"
   ]
  },
  {
   "cell_type": "code",
   "execution_count": null,
   "metadata": {
    "deletable": false,
    "nbgrader": {
     "cell_type": "code",
     "checksum": "774df540a4c062ce250e84a6819d78f0",
     "grade": false,
     "grade_id": "cell-733a6236ba0db709",
     "locked": false,
     "schema_version": 3,
     "solution": true,
     "task": false
    }
   },
   "outputs": [],
   "source": [
    "plots_combined = None\n",
    "\n",
    "# your code here\n",
    "raise NotImplementedError # No Answer - remove if you provide an answer\n",
    "plots_combined"
   ]
  },
  {
   "cell_type": "code",
   "execution_count": null,
   "metadata": {
    "deletable": false,
    "editable": false,
    "nbgrader": {
     "cell_type": "code",
     "checksum": "5c735dc38470c8094739bea169108175",
     "grade": true,
     "grade_id": "cell-5b897ee41665cb18",
     "locked": true,
     "points": 2,
     "schema_version": 3,
     "solution": false,
     "task": false
    }
   },
   "outputs": [],
   "source": [
    "# check that the variable exists\n",
    "assert 'plots_combined' in globals(\n",
    "), \"Please make sure that your solution is named 'plots_combined'\"\n",
    "\n",
    "# This test has been intentionally hidden. It will be up to you to decide if your solution\n",
    "# is sufficiently good."
   ]
  },
  {
   "cell_type": "markdown",
   "metadata": {},
   "source": [
    "**Question 3.6** \n",
    "<br> {points: 1}\n",
    "\n",
    "Ok let's now return to our original question - Do women around the world go to school less than men?  \n",
    "\n",
    "Which of the following statements is true? Select all that apply: \n",
    "\n",
    "A) Over time, the ratio of years in school for women to men has increased for all income groups.\n",
    "\n",
    "B) As of 2014, all income groups have ratios of years in school for women to men of at least 1. \n",
    "\n",
    "C) As of 2014, the number of years in school for women exceeds those of men for the high income group.\n",
    "\n",
    "D) In 1985, men completed approximately twice as many year in school as women in the low income group. \n",
    "\n",
    "*To answer the question, select all that apply and add the letter(s) associated with the correct answer(s) to a list and assign it to a variable named `answer3_6`. For example, if you believe that A and B are True, then your answer would look like this:*\n",
    "\n",
    "`answer3_6 = [\"A\", \"B\"]`"
   ]
  },
  {
   "cell_type": "code",
   "execution_count": null,
   "metadata": {
    "deletable": false,
    "nbgrader": {
     "cell_type": "code",
     "checksum": "781f98ccf65b3c2d008a774682a028e2",
     "grade": false,
     "grade_id": "cell-d8ece0aea277fdaf",
     "locked": false,
     "schema_version": 3,
     "solution": true,
     "task": false
    }
   },
   "outputs": [],
   "source": [
    "answer3_6 = None\n",
    "\n",
    "# your code here\n",
    "raise NotImplementedError # No Answer - remove if you provide an answer\n",
    "answer3_6"
   ]
  },
  {
   "cell_type": "code",
   "execution_count": null,
   "metadata": {
    "deletable": false,
    "editable": false,
    "nbgrader": {
     "cell_type": "code",
     "checksum": "be0f73ee441bd0989d26c9694fbe2937",
     "grade": true,
     "grade_id": "cell-747562a4b7c3e7c9",
     "locked": true,
     "points": 1,
     "schema_version": 3,
     "solution": false,
     "task": false
    }
   },
   "outputs": [],
   "source": [
    "t.test_3_6(answer3_6)"
   ]
  },
  {
   "cell_type": "markdown",
   "metadata": {},
   "source": [
    "# 4. Chart Beautification\n",
    "\n",
    "Let's make our charts from question 2 look more like the Gapminder bubble chart! \n",
    "Beautifying charts can take a long time, but it is also satisfying when you end up with a really nice looking chart in the end. We will learn more about how to create charts for communication later, but these parameters are usually enough to create basic communication charts and to help you in your data exploration.\n",
    "\n",
    "In order to start the beautification process, we will have to remind ourselves of `alt.X()` and `alt.Y()` that we learned in the second module of [Programming in Python for Data Science](https://prog-learn.mds.ubc.ca/). We learned how to add titles and axis labels, as well as change the plotting size. Let's add these to one of the plots we made."
   ]
  },
  {
   "cell_type": "markdown",
   "metadata": {},
   "source": [
    "**Question 4.1** \n",
    "<br> {points: 1}\n",
    "\n",
    "First, let's begin with the dimensions of a plot. \n",
    "\n",
    "Copy in your code for `bubble_plot` from **Question 2.4** and confirm that your scatter plot is generated properly so that you didn't miss to copy anything.\n",
    "Add the arguments `width=700` and `height=400` to the plot. If you can't remember how to do this, take a look at exercise 31: *Quick Viz with Altair* in [Module 1 of Programming in Python for Data Science](https://prog-learn.mds.ubc.ca/en/module1).\n",
    "\n",
    "*Save the plot with new dimensions in an object named `plot_dim`.*"
   ]
  },
  {
   "cell_type": "code",
   "execution_count": null,
   "metadata": {
    "deletable": false,
    "nbgrader": {
     "cell_type": "code",
     "checksum": "366180f454f2a9227e17e1a06c5aa718",
     "grade": false,
     "grade_id": "cell-b7a377fe0f513f3b",
     "locked": false,
     "schema_version": 3,
     "solution": true,
     "task": false
    }
   },
   "outputs": [],
   "source": [
    "plot_dim = None \n",
    "\n",
    "# your code here\n",
    "raise NotImplementedError # No Answer - remove if you provide an answer\n",
    "plot_dim"
   ]
  },
  {
   "cell_type": "code",
   "execution_count": null,
   "metadata": {
    "deletable": false,
    "editable": false,
    "nbgrader": {
     "cell_type": "code",
     "checksum": "363cd3162bedf0b402fc6cb6f1d0cb0d",
     "grade": true,
     "grade_id": "cell-9cacce2f5397393a",
     "locked": true,
     "points": 1,
     "schema_version": 3,
     "solution": false,
     "task": false
    }
   },
   "outputs": [],
   "source": [
    "t.test_4_1(plot_dim)"
   ]
  },
  {
   "cell_type": "markdown",
   "metadata": {},
   "source": [
    "**Question 4.2** \n",
    "<br> {points: 2}\n",
    "\n",
    "Next, let's add a title to the chart! Make sure it's meaningful to what you are trying to convey.  \n",
    "\n",
    "This can be done by using the plot `plot_dim` from **Question 4.1**  and adding `.properties()` with the argument `title` (which is how we learned it in exercise 31: *Quick Viz with Altair* in [Module 1 of Programming in Python for Data Science](https://prog-learn.mds.ubc.ca/en/module1)). \n",
    "\n",
    "You shouldn't have to copy and paste the plot code above and you should be able to simply take the plotting object and include `.properties()` .\n",
    "\n",
    "Assign the new plot in a variable named `title_plot`.\n",
    "\n"
   ]
  },
  {
   "cell_type": "code",
   "execution_count": null,
   "metadata": {
    "deletable": false,
    "nbgrader": {
     "cell_type": "code",
     "checksum": "bfc0126374b7184a0ce260614f4ec578",
     "grade": false,
     "grade_id": "cell-e6ddb6119067f1cc",
     "locked": false,
     "schema_version": 3,
     "solution": true,
     "task": false
    }
   },
   "outputs": [],
   "source": [
    "title_plot = None \n",
    "\n",
    "# your code here\n",
    "raise NotImplementedError # No Answer - remove if you provide an answer\n",
    "title_plot"
   ]
  },
  {
   "cell_type": "code",
   "execution_count": null,
   "metadata": {
    "deletable": false,
    "editable": false,
    "nbgrader": {
     "cell_type": "code",
     "checksum": "2afe2224c3950240ef709f2845dc4cd2",
     "grade": true,
     "grade_id": "cell-85f2104b5655053e",
     "locked": true,
     "points": 2,
     "schema_version": 3,
     "solution": false,
     "task": false
    }
   },
   "outputs": [],
   "source": [
    "# check that the variable exists\n",
    "assert 'title_plot' in globals(\n",
    "), \"Please make sure that your solution is named 'title_plot'\"\n",
    "\n",
    "# This test has been intentionally hidden. It will be up to you to decide if your solution\n",
    "# is sufficiently good."
   ]
  },
  {
   "cell_type": "markdown",
   "metadata": {},
   "source": [
    "**Question 4.3** \n",
    "<br> {points: 3}\n",
    "\n",
    "Using `title_plot` from **Question 4.2**, let's now assign proper titles for the axis and the legends. The titles should include spaces instead of underscores and have appropriate capitalization.\n",
    "\n",
    "To do this, we need to assign our desired axis title as a string to the encoding porting of the plot.\n",
    "\n",
    "Let's change the x axis label as an example. We want to change the title for this axis to `Children per woman`. \n"
   ]
  },
  {
   "cell_type": "code",
   "execution_count": null,
   "metadata": {},
   "outputs": [],
   "source": [
    "title_plot.encoding.x.title = 'Children per woman'\n",
    "title_plot"
   ]
  },
  {
   "cell_type": "markdown",
   "metadata": {},
   "source": [
    "We can see now that `title_plot` has a new x-axis label reflecting our change. \n",
    "\n",
    "Do the same thing for the `y` axis, the `color` legend, and the `size` legend titles. If a chart label has units (e.g., life expectancy), they should be specified in the corresponding labels. Be sure to include the unit in your label for `life_expectancy`!"
   ]
  },
  {
   "cell_type": "code",
   "execution_count": null,
   "metadata": {
    "deletable": false,
    "nbgrader": {
     "cell_type": "code",
     "checksum": "e7422e9e1da3283fd9823b80e96294cd",
     "grade": false,
     "grade_id": "cell-29854a66d4ffce18",
     "locked": false,
     "schema_version": 3,
     "solution": true,
     "task": false
    }
   },
   "outputs": [],
   "source": [
    "\n",
    "# your code here\n",
    "raise NotImplementedError # No Answer - remove if you provide an answer\n",
    "title_plot"
   ]
  },
  {
   "cell_type": "code",
   "execution_count": null,
   "metadata": {
    "deletable": false,
    "editable": false,
    "nbgrader": {
     "cell_type": "code",
     "checksum": "d2a3ae38c0d107ae576423ff0efbae02",
     "grade": true,
     "grade_id": "cell-23139ebf14009685",
     "locked": true,
     "points": 1,
     "schema_version": 3,
     "solution": false,
     "task": false
    }
   },
   "outputs": [],
   "source": [
    "t.test_4_3a(title_plot)"
   ]
  },
  {
   "cell_type": "code",
   "execution_count": null,
   "metadata": {
    "deletable": false,
    "editable": false,
    "nbgrader": {
     "cell_type": "code",
     "checksum": "124516f42ab4ebf38d0ae6bc746a6acd",
     "grade": true,
     "grade_id": "cell-d8e0f0984250953f",
     "locked": true,
     "points": 1,
     "schema_version": 3,
     "solution": false,
     "task": false
    }
   },
   "outputs": [],
   "source": [
    "t.test_4_3b(title_plot)"
   ]
  },
  {
   "cell_type": "code",
   "execution_count": null,
   "metadata": {
    "deletable": false,
    "editable": false,
    "nbgrader": {
     "cell_type": "code",
     "checksum": "c2886d83db4e78d6a206f2030d0d7e9f",
     "grade": true,
     "grade_id": "cell-b72c78c3a92930b4",
     "locked": true,
     "points": 1,
     "schema_version": 3,
     "solution": false,
     "task": false
    }
   },
   "outputs": [],
   "source": [
    "t.test_4_3c(title_plot)"
   ]
  },
  {
   "cell_type": "markdown",
   "metadata": {},
   "source": [
    "In the next assignment, we will talk more about changing the appearance of a plot by changing the axis scales, or the label and title font size. Hang tight, you're almost there!"
   ]
  },
  {
   "cell_type": "markdown",
   "metadata": {},
   "source": [
    "## Before Submitting \n",
    "\n",
    "Before submitting your assignment please do the following:\n",
    "\n",
    "- Read through your solutions\n",
    "- **Restart your kernel, clear output and rerun your cells from top to bottom** \n",
    "- Makes sure that none of your code is broken \n",
    "- Verify that the tests from the questions you answered have obtained the output \"Success\"\n",
    "\n",
    "This is a simple way to make sure that you are submitting all the variables needed to mark the assignment. This method should help avoid losing marks due to changes in your environment.  "
   ]
  },
  {
   "cell_type": "markdown",
   "metadata": {},
   "source": [
    "## Attributions\n",
    "- Gapminder dataset processed and uploaded by Joel Ostblom - [UofTCoders/workshops-dc-py](https://github.com/UofTCoders/workshops-dc-py)\n",
    "\n",
    "- Original Gapminder data - [The Gapminder Foundation](https://www.gapminder.org/)\n",
    "\n",
    "\n",
    "- MDS DSCI 531: Data Visualization I - [MDS's GitHub website](https://github.com/UBC-MDS/DSCI_531_viz-1) \n"
   ]
  }
 ],
 "metadata": {
  "kernelspec": {
   "display_name": "Python 3",
   "language": "python",
   "name": "python3"
  },
  "language_info": {
   "codemirror_mode": {
    "name": "ipython",
    "version": 3
   },
   "file_extension": ".py",
   "mimetype": "text/x-python",
   "name": "python",
   "nbconvert_exporter": "python",
   "pygments_lexer": "ipython3",
   "version": "3.8.5"
  },
  "toc": {
   "base_numbering": 1,
   "nav_menu": {},
   "number_sections": false,
   "sideBar": true,
   "skip_h1_title": false,
   "title_cell": "Table of Contents",
   "title_sidebar": "Contents",
   "toc_cell": false,
   "toc_position": {},
   "toc_section_display": true,
   "toc_window_display": true
  }
 },
 "nbformat": 4,
 "nbformat_minor": 4
}
