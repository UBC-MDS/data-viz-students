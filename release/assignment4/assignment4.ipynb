{
 "cells": [
  {
   "cell_type": "markdown",
   "metadata": {},
   "source": [
    "# Data Visualization\n",
    "\n",
    "## Assignment 4: Visualizing Distributions and Exploratory Data Analysis"
   ]
  },
  {
   "cell_type": "markdown",
   "metadata": {},
   "source": [
    "You can't learn technical subjects without hands-on practice. The assignments are an important part of the course. To submit this assignment you will need to make sure that you save your Jupyter notebook. \n",
    "\n",
    "Below are the links to 2 videos that explain:\n",
    "\n",
    "1. [How to save your Jupyter notebook](https://youtu.be/0aoLgBoAUSA) and,       \n",
    "2. [How to answer a question in a Jupyter notebook assignment](https://youtu.be/7j0WKhI3W4s)."
   ]
  },
  {
   "cell_type": "markdown",
   "metadata": {},
   "source": [
    "<div class=\"alert alert-info\" style=\"color:black\">\n",
    "    \n",
    "### Assignment Learning Goals:\n",
    "\n",
    "By the end of the module, students are expected to:\n",
    "\n",
    "- Create heatmaps to visualize 2D distributions\n",
    "- Visualize correlations and counts of categorical variables.\n",
    "- Use repeated plot grids to investigate multiple data frame columns in the same plot.\n",
    "\n",
    "This assignment covers [Module 4](https://viz-learn.mds.ubc.ca/en/module4) of the online course. You should complete this module before attempting this assignment.\n",
    " \n",
    "   \n",
    "</div>"
   ]
  },
  {
   "cell_type": "markdown",
   "metadata": {},
   "source": [
    "**Hint:** If you are encountering issues passing tests with repeat plots - some tests are looking for one method of making a repeat plot, and others another. Try alternating between alt.repeat() in your encodings or .repeat() at the end with and without arguments in .repeat(). Ultimately there are a lot of ways to make plots that look like repeat plots, the tests are just looking for specific ways. Also post to Piazza if you are getting stuck passing a test.     "
   ]
  },
  {
   "cell_type": "markdown",
   "metadata": {},
   "source": [
    "Any place you see `...`, you must fill in the function, variable, or data to complete the code. Substitute the `None` and the `raise NotImplementedError # No Answer - remove if you provide an answer` with your completed code and answers then proceed to run the cell!"
   ]
  },
  {
   "cell_type": "markdown",
   "metadata": {},
   "source": [
    "Note that some of the questions in this assignment will have hidden tests. This means that no feedback will be given as to the correctness of your solution. It will be left up to you to decide if your answer is sufficiently correct. These questions are worth 2 points."
   ]
  },
  {
   "cell_type": "code",
   "execution_count": null,
   "metadata": {},
   "outputs": [],
   "source": [
    "# Import libraries needed for this assignment\n",
    "\n",
    "from hashlib import sha1\n",
    "import altair as alt\n",
    "import pandas as pd\n",
    "import test_assignment4 as t\n",
    "# Handle large data sets without embedding them in the notebook\n",
    "# alt.data_transformers.enable('data_server');"
   ]
  },
  {
   "cell_type": "markdown",
   "metadata": {},
   "source": [
    "## 0. ACT II \n",
    "\n",
    "Welcome back dearest **VIZARD**! \n",
    "\n",
    "\n",
    "<img src='img/vizard.png' width=40%>\n",
    "\n",
    "\n",
    "<div>Icon made by <a href=\"https://www.freepik.com\" title=\"Freepik\">Freepik</a> from <a href=\"https://www.flaticon.com/\" title=\"Flaticon\">www.flaticon.com</a></div>\n",
    "\n",
    "\n",
    "In the last assignment, we left you on a bit of a cliff hanger! We started some analysis so that we could begin our new venture into the land of online streaming. We wanted to get an insight into the different movies available for our streaming platform and get a better understanding of the market before we launched our service Betterflix™.\n",
    "\n",
    "<img src='img/betterflix.png' width=40%>\n",
    "\n",
    "\n",
    "Now that we've developed the tools in our toolbox, we are going to continue on our venture to really solidify our knowledge of what we are getting into. \n",
    "\n",
    "**Lights, camera, action!** 🔦🎥 🎬"
   ]
  },
  {
   "cell_type": "markdown",
   "metadata": {},
   "source": [
    "## 1. Prologue\n",
    "\n",
    "Let's dive in! \n",
    "\n",
    "Since we want to put \"good\" movies on our streaming platform, we should take a look at the distribution of how the viewers have rated the films! This will tell us the range of ratings that viewers give to movies, as well as what are the most common ratings - this will allow us to see what ratings are exceptionally high, so we can add these movies to our streaming platform. \n",
    "\n",
    "The `vote_average` column gives the average score that reviewers awarded the film. Voters assigned a rating of 1 as the lower score and 5 being the highest. "
   ]
  },
  {
   "cell_type": "markdown",
   "metadata": {},
   "source": [
    "**Question 1.1** \n",
    "    <br> {points: 1}\n",
    "\n",
    "Read in the data `lab2-movies.json`. When thinking about what function to use to read this in, note that this is a `.json` file. \n",
    "\n",
    "*Name the dataframe object you create `movies_df`*"
   ]
  },
  {
   "cell_type": "code",
   "execution_count": null,
   "metadata": {
    "deletable": false,
    "nbgrader": {
     "cell_type": "code",
     "checksum": "19da632c6db62227e9e48dcf7edf19da",
     "grade": false,
     "grade_id": "cell-d87f9c8d2b9de7cc",
     "locked": false,
     "schema_version": 3,
     "solution": true,
     "task": false
    }
   },
   "outputs": [],
   "source": [
    "movies_df = None\n",
    "\n",
    "# your code here\n",
    "raise NotImplementedError # No Answer - remove if you provide an answer\n",
    "movies_df"
   ]
  },
  {
   "cell_type": "code",
   "execution_count": null,
   "metadata": {
    "deletable": false,
    "editable": false,
    "nbgrader": {
     "cell_type": "code",
     "checksum": "484858bb5aafc30988dba07a6b498abf",
     "grade": true,
     "grade_id": "cell-018ab3595292ecde",
     "locked": true,
     "points": 1,
     "schema_version": 3,
     "solution": false,
     "task": false
    }
   },
   "outputs": [],
   "source": [
    "t.test_1_1(movies_df)"
   ]
  },
  {
   "cell_type": "markdown",
   "metadata": {},
   "source": [
    "**Question 1.2** <br> {points: 2}  \n",
    "\n",
    "Now that we have the data in Python, let's examine the distribution of the `vote_average column`. We will do this by making a histogram of the `vote_average` column. Set the number of `maxbins` to 40 and don't forget to give it an appropriate title and axis labels.\n",
    "\n",
    "*Save the plot in an object named `vote_histogram_plot`.*"
   ]
  },
  {
   "cell_type": "code",
   "execution_count": null,
   "metadata": {
    "deletable": false,
    "nbgrader": {
     "cell_type": "code",
     "checksum": "c2931e2df36db4a32a399e41a7fc917d",
     "grade": false,
     "grade_id": "cell-f809f2a98abcabba",
     "locked": false,
     "schema_version": 3,
     "solution": true,
     "task": false
    }
   },
   "outputs": [],
   "source": [
    "vote_histogram_plot = None\n",
    "\n",
    "# your code here\n",
    "raise NotImplementedError # No Answer - remove if you provide an answer\n",
    "vote_histogram_plot"
   ]
  },
  {
   "cell_type": "code",
   "execution_count": null,
   "metadata": {
    "deletable": false,
    "editable": false,
    "nbgrader": {
     "cell_type": "code",
     "checksum": "42030b615a6beabbb318d0379205d8f7",
     "grade": true,
     "grade_id": "cell-a1ee8d9bf3a3427f",
     "locked": true,
     "points": 1,
     "schema_version": 3,
     "solution": false,
     "task": false
    }
   },
   "outputs": [],
   "source": [
    "t.test_1_2(vote_histogram_plot)"
   ]
  },
  {
   "cell_type": "code",
   "execution_count": null,
   "metadata": {
    "deletable": false,
    "editable": false,
    "nbgrader": {
     "cell_type": "code",
     "checksum": "df8502f90cffeeaf79cc4da97ed2ace1",
     "grade": true,
     "grade_id": "cell-984ceba24d1ffb21",
     "locked": true,
     "points": 1,
     "schema_version": 3,
     "solution": false,
     "task": false
    }
   },
   "outputs": [],
   "source": [
    "t.test_titles(vote_histogram_plot)"
   ]
  },
  {
   "cell_type": "markdown",
   "metadata": {},
   "source": [
    "**Question 1.3** <br> {points: 2}  \n",
    "\n",
    "Remember that the `vote_average` column has the average rating by voter who can score movies from 1-5. We want to make sure we are adding \"good\" movies to our platform.\n",
    "\n",
    "If we wanted to add movies to our streaming site that only had a rating greater than 4, how many movies would we be putting on our site? \n",
    "\n",
    "A) Less than one hundred\n",
    "\n",
    "B) Hundreds\n",
    "\n",
    "C) Thousands \n",
    "\n",
    "D) Hundreds of thousands\n",
    "\n",
    "To answer the question, assign the letter associated with the correct answer to a variable in the code cell below.\n",
    "\n",
    "*Answer in the cell below using the uppercase letter associated with your answer. Place your answer between `\"\"`, assign the correct answer to an object called `answer1_3`.*"
   ]
  },
  {
   "cell_type": "code",
   "execution_count": null,
   "metadata": {
    "deletable": false,
    "nbgrader": {
     "cell_type": "code",
     "checksum": "58cbacf1637c99ee2e13895e1ed66e51",
     "grade": false,
     "grade_id": "cell-6ccb5273868a5411",
     "locked": false,
     "schema_version": 3,
     "solution": true,
     "task": false
    }
   },
   "outputs": [],
   "source": [
    "answer1_3 = None\n",
    "\n",
    "# your code here\n",
    "raise NotImplementedError # No Answer - remove if you provide an answer\n",
    "answer1_3"
   ]
  },
  {
   "cell_type": "code",
   "execution_count": null,
   "metadata": {
    "deletable": false,
    "editable": false,
    "nbgrader": {
     "cell_type": "code",
     "checksum": "0eb57b534d91bc149305fcbd5311c9ef",
     "grade": true,
     "grade_id": "cell-2fe52deefead63f7",
     "locked": true,
     "points": 2,
     "schema_version": 3,
     "solution": false,
     "task": false
    }
   },
   "outputs": [],
   "source": [
    "# check that the variable exists\n",
    "assert 'answer1_3' in globals(\n",
    "), \"Please make sure that your solution is named 'answer1_3'\"\n",
    "\n",
    "# This test has been intentionally hidden. It will be up to you to decide if your solution\n",
    "# is sufficiently good."
   ]
  },
  {
   "cell_type": "markdown",
   "metadata": {},
   "source": [
    "**Question 1.4** <br> {points: 1}  \n",
    "\n",
    "Would you be able to easily answer the above question if the visualization was a density plot? \n",
    "\n",
    "A) Yes\n",
    "\n",
    "B) No\n",
    "\n",
    "*Answer in the cell below using the uppercase letter associated with your answer. Place your answer between `\"\"`, assign the correct answer to an object called `answer1_4`.*"
   ]
  },
  {
   "cell_type": "code",
   "execution_count": null,
   "metadata": {
    "deletable": false,
    "nbgrader": {
     "cell_type": "code",
     "checksum": "3249372b31e69ff433f51b0e1fbf4ebe",
     "grade": false,
     "grade_id": "cell-268e226a67532413",
     "locked": false,
     "schema_version": 3,
     "solution": true,
     "task": false
    }
   },
   "outputs": [],
   "source": [
    "answer1_4 = None\n",
    "\n",
    "# your code here\n",
    "raise NotImplementedError # No Answer - remove if you provide an answer\n",
    "answer1_4"
   ]
  },
  {
   "cell_type": "code",
   "execution_count": null,
   "metadata": {
    "deletable": false,
    "editable": false,
    "nbgrader": {
     "cell_type": "code",
     "checksum": "7ddec8a62c55e624ed92e3fd8c510d28",
     "grade": true,
     "grade_id": "cell-d5437092254c2391",
     "locked": true,
     "points": 1,
     "schema_version": 3,
     "solution": false,
     "task": false
    }
   },
   "outputs": [],
   "source": [
    "t.test_1_4(answer1_4)"
   ]
  },
  {
   "cell_type": "markdown",
   "metadata": {},
   "source": [
    "**Question 1.5** <br> {points: 1}  \n",
    "\n",
    "Having this one plot is great, but it might help our analysis to see the distribution of the number of votes each film got as well the distributions of the other numeric columns in our data.\n",
    "\n",
    "First, you need to extract the column names for all numeric columns except `id` and save them to a variable as a list. \n",
    "\n",
    "*Hint: [`.select_dtypes()`](https://pandas.pydata.org/pandas-docs/stable/reference/api/pandas.DataFrame.select_dtypes.html) method can help here, or you can do it manually.*\n",
    "\n",
    "*Save this in a list named `numeric_cols`.*\n"
   ]
  },
  {
   "cell_type": "code",
   "execution_count": null,
   "metadata": {
    "deletable": false,
    "nbgrader": {
     "cell_type": "code",
     "checksum": "4595b406f1021b60934b222d754fab07",
     "grade": false,
     "grade_id": "cell-abb447c6e441e6fc",
     "locked": false,
     "schema_version": 3,
     "solution": true,
     "task": false
    }
   },
   "outputs": [],
   "source": [
    "numeric_cols = None\n",
    "\n",
    "# your code here\n",
    "raise NotImplementedError # No Answer - remove if you provide an answer\n",
    "numeric_cols"
   ]
  },
  {
   "cell_type": "code",
   "execution_count": null,
   "metadata": {
    "deletable": false,
    "editable": false,
    "nbgrader": {
     "cell_type": "code",
     "checksum": "3b9408768a9ade2d9e0fa4ddb85074a7",
     "grade": true,
     "grade_id": "cell-ec8a35cf98b90e44",
     "locked": true,
     "points": 1,
     "schema_version": 3,
     "solution": false,
     "task": false
    }
   },
   "outputs": [],
   "source": [
    "t.test_1_5(numeric_cols)"
   ]
  },
  {
   "cell_type": "markdown",
   "metadata": {},
   "source": [
    "**Question 1.6** <br> {points: 2}  \n",
    "\n",
    "Use the Altair approach to repeating charts, `.repeat()`, to create a histogram for each of these numeric columns in a grid with 2 columns and 3 rows. Gives these charts a height of 150, and a width of 250.\n",
    "\n",
    "Make sure to set maxbins to 40.\n",
    "\n",
    "It is in the `.repeat()` function where you should specify an overall title.\n",
    "\n",
    "*Save the plot in an object named `numeric_hist_plots`.*"
   ]
  },
  {
   "cell_type": "code",
   "execution_count": null,
   "metadata": {
    "deletable": false,
    "nbgrader": {
     "cell_type": "code",
     "checksum": "3b043b26bb2996866159ba9ef5652273",
     "grade": false,
     "grade_id": "cell-7b97c7bb8c1dc614",
     "locked": false,
     "schema_version": 3,
     "solution": true,
     "task": false
    }
   },
   "outputs": [],
   "source": [
    "numeric_hist_plots = None\n",
    "\n",
    "# your code here\n",
    "raise NotImplementedError # No Answer - remove if you provide an answer\n",
    "numeric_hist_plots"
   ]
  },
  {
   "cell_type": "code",
   "execution_count": null,
   "metadata": {
    "deletable": false,
    "editable": false,
    "nbgrader": {
     "cell_type": "code",
     "checksum": "6f5f820fe7f6f866d93464719cb4a95f",
     "grade": true,
     "grade_id": "cell-ced604f5cacf46f6",
     "locked": true,
     "points": 1,
     "schema_version": 3,
     "solution": false,
     "task": false
    }
   },
   "outputs": [],
   "source": [
    "t.test_1_6(numeric_hist_plots)"
   ]
  },
  {
   "cell_type": "code",
   "execution_count": null,
   "metadata": {
    "deletable": false,
    "editable": false,
    "nbgrader": {
     "cell_type": "code",
     "checksum": "45ca586b98fa7994a6457ffa0fad8a6b",
     "grade": true,
     "grade_id": "cell-42c8209f4de78044",
     "locked": true,
     "points": 1,
     "schema_version": 3,
     "solution": false,
     "task": false
    }
   },
   "outputs": [],
   "source": [
    "t.test_main_title(numeric_hist_plots)"
   ]
  },
  {
   "cell_type": "markdown",
   "metadata": {},
   "source": [
    "**Question 1.7** <br> {points: 1}  \n",
    "\n",
    "Does the `vote_count` column has the same distribution shape as the `vote_average` column? \n",
    "\n",
    "\n",
    "*Answer as either \"Yes\" or \"No\" as a string in an object named `answer1_7`*. "
   ]
  },
  {
   "cell_type": "code",
   "execution_count": null,
   "metadata": {
    "deletable": false,
    "nbgrader": {
     "cell_type": "code",
     "checksum": "96a71e70c346abd7a4988aa1c4ed8c54",
     "grade": false,
     "grade_id": "cell-c718de3e707b9a85",
     "locked": false,
     "schema_version": 3,
     "solution": true,
     "task": false
    }
   },
   "outputs": [],
   "source": [
    "answer1_7 = None\n",
    "\n",
    "# your code here\n",
    "raise NotImplementedError # No Answer - remove if you provide an answer\n",
    "answer1_7"
   ]
  },
  {
   "cell_type": "code",
   "execution_count": null,
   "metadata": {
    "deletable": false,
    "editable": false,
    "nbgrader": {
     "cell_type": "code",
     "checksum": "c6870b658e3926ba1e9c1fc6fc8db605",
     "grade": true,
     "grade_id": "cell-0dcbd6f0e0a6960f",
     "locked": true,
     "points": 1,
     "schema_version": 3,
     "solution": false,
     "task": false
    }
   },
   "outputs": [],
   "source": [
    "t.test_1_7(answer1_7)"
   ]
  },
  {
   "cell_type": "markdown",
   "metadata": {},
   "source": [
    "Something to ponder: Would you expect the `vote_count` to have a bell shaped distribution? AKA, would it makes sense that there are less films with lower voting amounts than average voting amounts? "
   ]
  },
  {
   "cell_type": "markdown",
   "metadata": {},
   "source": [
    "**Question 1.8** <br> {points: 1}  \n",
    "\n",
    "When a bell-shape distribution (normal distribution) has a long left tail we say it is \"skewed to the left\" or a **negatively-skewed distribution**. When we see this, it indicates that the data have a few very small values. One of the consequences this has (which can impact decisions we make in our future machine learning or statistical analysis) is that it drives the mean downward, but it does not greatly affect the median.\n",
    "\n",
    "When a bell-shape distribution (normal distribution) has a long right tail we say the opposite, that it is \"skewed to the right\" or is a **positively-skewed distribution**.When we see this, it indicates that the data have a few very large values. One of the consequences this has is that it drives the mean upward, but it still does not greatly affect the median.\n",
    "\n",
    "Which is the case for the `runtime` distribution?\n",
    "\n",
    "A) Normally distributed (bell-shaped)  \n",
    "\n",
    "B) Normally distributed with a negatively-skewed distribution\n",
    "\n",
    "C) Normally distributed with  with a positively-skewed distribution\n",
    "\n",
    "D) Uniformly distributed (the same count values for all x-values)\n",
    "\n",
    "To answer the question, assign the letter associated with the correct answer to a variable in the code cell below.\n",
    "\n",
    "*Answer in the cell below using the uppercase letter associated with your answer. Place your answer between `\"\"`, assign the correct answer to an object called `answer1_8`.*\n"
   ]
  },
  {
   "cell_type": "code",
   "execution_count": null,
   "metadata": {
    "deletable": false,
    "nbgrader": {
     "cell_type": "code",
     "checksum": "d9cfcb7dba48a5648edd1e3409bfe12f",
     "grade": false,
     "grade_id": "cell-8b352ac4c7d0306c",
     "locked": false,
     "schema_version": 3,
     "solution": true,
     "task": false
    }
   },
   "outputs": [],
   "source": [
    "answer1_8 = None\n",
    "\n",
    "# your code here\n",
    "raise NotImplementedError # No Answer - remove if you provide an answer\n",
    "answer1_8"
   ]
  },
  {
   "cell_type": "code",
   "execution_count": null,
   "metadata": {
    "deletable": false,
    "editable": false,
    "nbgrader": {
     "cell_type": "code",
     "checksum": "d47a736d901b3ea08fa826d5f0f3cc1a",
     "grade": true,
     "grade_id": "cell-6c7224e33cbea868",
     "locked": true,
     "points": 1,
     "schema_version": 3,
     "solution": false,
     "task": false
    }
   },
   "outputs": [],
   "source": [
    "t.test_1_8(answer1_8)"
   ]
  },
  {
   "cell_type": "markdown",
   "metadata": {},
   "source": [
    "Seeing the distributions of each of the numeric columns on their own can help Betterflix get an idea of the movies that are available to be added to our platform but it still leaves us with some questions unanswered, like \"what if a movie has a lot of revenue but not good ratings? \n",
    "\n",
    "Combing information could allow us to find movies that are high in both!"
   ]
  },
  {
   "cell_type": "markdown",
   "metadata": {},
   "source": [
    "# 2. Pairwise Numerical Columns\n",
    "\n",
    "We've only been exploring a single numeric column at a time up until now. This time, we are going to visualize 2 numeric columns in a single plot!"
   ]
  },
  {
   "cell_type": "markdown",
   "metadata": {},
   "source": [
    "**Question 2.1** <br> {points: 2}  \n",
    "\n",
    "Let's create a scatterplot matrix (SPLOM) for all numerical columns except id. This is going to be a time-intensive plot to create so we are going to create this in separate steps to help you get the idea. \n",
    "\n",
    "First, let's make a scatter plot that visualizes just the `vote_average` column on the y-axis with all the numeric columns from the list `numeric_cols` that you made in **Question 1.5** on the x-axis. \n",
    "\n",
    "You should display these plots as a single row and display them with a height and width of 120 so they can be seen without scrolling. \n",
    "\n",
    "*Save the plot in an object named `num_row_plot`.*"
   ]
  },
  {
   "cell_type": "code",
   "execution_count": null,
   "metadata": {
    "deletable": false,
    "nbgrader": {
     "cell_type": "code",
     "checksum": "db732fa7a4bfea231f84377d06bf00fe",
     "grade": false,
     "grade_id": "cell-f0c23e27a509cf9d",
     "locked": false,
     "schema_version": 3,
     "solution": true,
     "task": false
    }
   },
   "outputs": [],
   "source": [
    "num_row_plot = None\n",
    "\n",
    "# your code here\n",
    "raise NotImplementedError # No Answer - remove if you provide an answer\n",
    "num_row_plot"
   ]
  },
  {
   "cell_type": "code",
   "execution_count": null,
   "metadata": {
    "deletable": false,
    "editable": false,
    "nbgrader": {
     "cell_type": "code",
     "checksum": "582524986df25c9fdba4721e0e3f1c78",
     "grade": true,
     "grade_id": "cell-e0eeec61ab9820c2",
     "locked": true,
     "points": 2,
     "schema_version": 3,
     "solution": false,
     "task": false
    }
   },
   "outputs": [],
   "source": [
    "t.test_2_1(num_row_plot)"
   ]
  },
  {
   "cell_type": "markdown",
   "metadata": {},
   "source": [
    "**Question 2.2** <br> {points: 2}  \n",
    "\n",
    "Ok so we have `vote_average` being compared with every other possible numeric column but it will be useful to see all numeric columns compared to each other and hence make that scatterplot matrix (SPLOM) we discussed. \n",
    "\n",
    "We can do that now by instead of mapping `vote_average` to the y-axis, we repeat it as we did for the x-axis in **Question 2.1.**. \n",
    "\n",
    "You should display these plots with a height and width of 80 so they can be seen without scrolling. Each row and column should be represented on each row and column of a 5 x 5 grid of graphs.\n",
    "\n",
    "\n",
    "*Save the plot in an object named `num_matrix_plot`.*"
   ]
  },
  {
   "cell_type": "code",
   "execution_count": null,
   "metadata": {
    "deletable": false,
    "nbgrader": {
     "cell_type": "code",
     "checksum": "f124bb389f025621dbdded72ef76913f",
     "grade": false,
     "grade_id": "cell-6e79601ec906f24d",
     "locked": false,
     "schema_version": 3,
     "solution": true,
     "task": false
    }
   },
   "outputs": [],
   "source": [
    "num_matrix_plot = None\n",
    "\n",
    "# your code here\n",
    "raise NotImplementedError # No Answer - remove if you provide an answer\n",
    "num_matrix_plot"
   ]
  },
  {
   "cell_type": "code",
   "execution_count": null,
   "metadata": {
    "deletable": false,
    "editable": false,
    "nbgrader": {
     "cell_type": "code",
     "checksum": "b1dc2ada28f2eea4f8d1efe280515ec0",
     "grade": true,
     "grade_id": "cell-f1aa08fb36106f35",
     "locked": true,
     "points": 2,
     "schema_version": 3,
     "solution": false,
     "task": false
    }
   },
   "outputs": [],
   "source": [
    "t.test_2_2(num_matrix_plot)"
   ]
  },
  {
   "cell_type": "markdown",
   "metadata": {},
   "source": [
    "**Question 2.3** <br> {points: 2}  \n",
    "\n",
    "This plot seems to do the job of showing us a scatter plot for all the possible pairings of the numeric columns but, it could be a lot clearer. Let's remake and clean up this plot by making a new plot from scatch and doing the following: \n",
    "\n",
    "- Setting opacity to 0.5\n",
    "- Setting the size of the points to 10\n",
    "- Removing the necessity of displaying the zero value for both the x and y axes unless the data actually starts at zero. This will help get a better idea of the shape that's being made. we can use `scale=alt.Scale(zero=False)` for this.\n",
    "- Reduce each subplots height and width to 120. \n",
    "- Finally, configure the axes ([`configure_axis`](https://altair-viz.github.io/user_guide/generated/toplevel/altair.Chart.html#altair.Chart.configure_axis))  to remove the axes labels (this can be found using the argument `labels` in the `configure_axis` method. Plots don't have to look perfect during EDA, the point here is to pick up trends, not necessarily to read all labels.\n",
    "\n",
    "*Save the plot in an object named `clean_matrix_plot`.*"
   ]
  },
  {
   "cell_type": "code",
   "execution_count": null,
   "metadata": {
    "deletable": false,
    "nbgrader": {
     "cell_type": "code",
     "checksum": "b8f6f56d16e4775a3cf35962fbc98637",
     "grade": false,
     "grade_id": "cell-f86ac5a9c92a8e37",
     "locked": false,
     "schema_version": 3,
     "solution": true,
     "task": false
    }
   },
   "outputs": [],
   "source": [
    "clean_matrix_plot = None\n",
    "\n",
    "# your code here\n",
    "raise NotImplementedError # No Answer - remove if you provide an answer\n",
    "clean_matrix_plot"
   ]
  },
  {
   "cell_type": "code",
   "execution_count": null,
   "metadata": {},
   "outputs": [],
   "source": [
    "str(clean_matrix_plot.spec.encoding.x.axis)"
   ]
  },
  {
   "cell_type": "code",
   "execution_count": null,
   "metadata": {},
   "outputs": [],
   "source": [
    "assert not str(clean_matrix_plot.spec.encoding.x.axis) == 'Axis({\\n  labels: False\\n})', \"Instead of removing the axes labels in the x channel, use the method 'configure_axis()' as specified in the question.\"\n",
    "assert not str(clean_matrix_plot.spec.encoding.y.axis) == 'Axis({\\n  labels: False\\n})', \"Instead of removing the axes labels in the y channel, use the method 'configure_axis()' as specified in the question.\""
   ]
  },
  {
   "cell_type": "code",
   "execution_count": null,
   "metadata": {
    "deletable": false,
    "editable": false,
    "nbgrader": {
     "cell_type": "code",
     "checksum": "604b023722745e4afaeb49e72ed33ea2",
     "grade": true,
     "grade_id": "cell-61f3e12d10c41114",
     "locked": true,
     "points": 2,
     "schema_version": 3,
     "solution": false,
     "task": false
    }
   },
   "outputs": [],
   "source": [
    "t.test_2_3(clean_matrix_plot)"
   ]
  },
  {
   "cell_type": "markdown",
   "metadata": {},
   "source": [
    "Do you notice how the diagonal plots have a perfection positive relationship? That should happen since it's plotting the same variable on each axis!"
   ]
  },
  {
   "cell_type": "markdown",
   "metadata": {},
   "source": [
    "**Question 2.4** <br> {points: 2}  \n",
    "\n",
    "Are there any columns that appear to have a positive relationship with the `vote_average` column? \n",
    "\n",
    "\n",
    "To answer the question, assign the column names as strings in a list assigned to a variable named `answer2_4`. If there are no columns that are displaying a slightly positive relationship, then submit an empty list (`[]`). \n",
    "\n",
    "Example: \n",
    "\n",
    "`answer2_4 = ['runtime', 'budget', 'revenue']` \n",
    "\n",
    "Hint: List the best supported column(s) that correlate with vote_average."
   ]
  },
  {
   "cell_type": "code",
   "execution_count": null,
   "metadata": {
    "deletable": false,
    "nbgrader": {
     "cell_type": "code",
     "checksum": "fce7111e910a8b36ef009bc30885afaa",
     "grade": false,
     "grade_id": "cell-bcc5dcbece109b03",
     "locked": false,
     "schema_version": 3,
     "solution": true,
     "task": false
    }
   },
   "outputs": [],
   "source": [
    "answer2_4 = None\n",
    "\n",
    "# your code here\n",
    "raise NotImplementedError # No Answer - remove if you provide an answer\n",
    "answer2_4"
   ]
  },
  {
   "cell_type": "code",
   "execution_count": null,
   "metadata": {
    "deletable": false,
    "editable": false,
    "nbgrader": {
     "cell_type": "code",
     "checksum": "a7b7d98d2088d257c66ed2f216d2bfc9",
     "grade": true,
     "grade_id": "cell-8ca9bd7a6dda8840",
     "locked": true,
     "points": 2,
     "schema_version": 3,
     "solution": false,
     "task": false
    }
   },
   "outputs": [],
   "source": [
    "# check that the variable exists\n",
    "assert 'answer2_4' in globals(\n",
    "), \"Please make sure that your solution is named 'answer1_3'\"\n",
    "\n",
    "# This test has been intentionally hidden. It will be up to you to decide if your solution\n",
    "# is sufficiently good.\n"
   ]
  },
  {
   "cell_type": "markdown",
   "metadata": {},
   "source": [
    "Another way of viewing the pairwise relationships between numerical columns is to assess their ***correlation coefficients***.\n",
    "\n",
    "correlation coefficients: Measures the strength of a relationship between two different variables. they can take on values from -1 to 1. A positive value means that when one variable increases, the other variable will also increase. A negative relationship means that when one variable increases, the other variable tends to decrease. If the correlation\n",
    "coefficient is zero, then there is no relationship between the two variables. \n",
    "\n",
    "We've calculated the correlation coefficients for you and saved them in the dataframe `corr_df`. \n",
    "\n"
   ]
  },
  {
   "cell_type": "code",
   "execution_count": null,
   "metadata": {},
   "outputs": [],
   "source": [
    "corr_df = movies_df[numeric_cols].corr('pearson').stack().reset_index(name='correlation')\n",
    "corr_df.head()"
   ]
  },
  {
   "cell_type": "markdown",
   "metadata": {},
   "source": [
    "**Question 2.5** <br> {points: 1}  \n",
    "\n",
    "Use this dataframe above and the scaffolding  code below to plot the calculated correlation coefficients between each of the numeric variables.\n",
    "\n",
    "Fill in the blanks to create the plot."
   ]
  },
  {
   "cell_type": "code",
   "execution_count": null,
   "metadata": {
    "deletable": false,
    "nbgrader": {
     "cell_type": "code",
     "checksum": "4c23350bf55fede94b889a1b57ce54cd",
     "grade": false,
     "grade_id": "cell-0238856b70f9b019",
     "locked": false,
     "schema_version": 3,
     "solution": true,
     "task": false
    }
   },
   "outputs": [],
   "source": [
    "# cc_plot = alt.Chart(...).mark_circle()....(\n",
    "#     alt.X(...),\n",
    "#     alt.Y('...),\n",
    "#     alt.Size('correlation'),\n",
    "#     alt.Color('correlation')\n",
    "# ).....(...='Correlation coefficient between numeric variables')\n",
    "\n",
    "# your code here\n",
    "raise NotImplementedError # No Answer - remove if you provide an answer\n",
    "\n",
    "cc_plot"
   ]
  },
  {
   "cell_type": "code",
   "execution_count": null,
   "metadata": {
    "deletable": false,
    "editable": false,
    "nbgrader": {
     "cell_type": "code",
     "checksum": "01dc61d63ae4f20334d650a1daf9891b",
     "grade": true,
     "grade_id": "cell-689cb13abb95d35d",
     "locked": true,
     "points": 1,
     "schema_version": 3,
     "solution": false,
     "task": false
    }
   },
   "outputs": [],
   "source": [
    "t.test_2_5(cc_plot)"
   ]
  },
  {
   "cell_type": "markdown",
   "metadata": {},
   "source": [
    "**Question 2.6** <br> {points: 1}  \n",
    "\n",
    "Which two **differing** columns appear to have the highest positive linear correlation?\n",
    "\n",
    "To answer the question, assign the column names as strings in a list assigned to a variable named `answer2_6`. \n",
    "\n",
    "Example: \n",
    "\n",
    "`answer2_6 = ['runtime', 'budget']` "
   ]
  },
  {
   "cell_type": "code",
   "execution_count": null,
   "metadata": {
    "deletable": false,
    "nbgrader": {
     "cell_type": "code",
     "checksum": "c2cddb7d29397ac6d22bd6792a0716b4",
     "grade": false,
     "grade_id": "cell-a744ab1c2f508c06",
     "locked": false,
     "schema_version": 3,
     "solution": true,
     "task": false
    }
   },
   "outputs": [],
   "source": [
    "answer2_6 = None\n",
    "\n",
    "# your code here\n",
    "raise NotImplementedError # No Answer - remove if you provide an answer\n",
    "answer2_6"
   ]
  },
  {
   "cell_type": "code",
   "execution_count": null,
   "metadata": {
    "deletable": false,
    "editable": false,
    "nbgrader": {
     "cell_type": "code",
     "checksum": "8de608810cd8d36b97d6433f77a4f180",
     "grade": true,
     "grade_id": "cell-ba5a7427b75d0033",
     "locked": true,
     "points": 1,
     "schema_version": 3,
     "solution": false,
     "task": false
    }
   },
   "outputs": [],
   "source": [
    "t.test_2_6(answer2_6)"
   ]
  },
  {
   "cell_type": "markdown",
   "metadata": {},
   "source": [
    "**Question 2.7** <br> {points: 1}  \n",
    "\n",
    "2D histograms can also be used as a good alternative when your scatter plots become oversaturated. In a similar way that you created the scatterplot matrix (SPLOM) from **Question 2.3**, you use similar code to make a “heatmap-like” 2D histogram instead. \n",
    "\n",
    "Make sure that you\n",
    "\n",
    "- Use the `movies_df` dataframe. \n",
    "- Setting the `maxbins` parameter to 25 for both axes.\n",
    "- Remove the necessity of displaying the zero value for both the x and y axes unless the data actually starts at zero. This will help get a better idea of the shape that's being made. we can use `scale=alt.Scale(zero=False)` for this.\n",
    "- Reduce each subplots height and width to 120. \n",
    "- Finally, configure the axes ([`configure_axis`](https://altair-viz.github.io/user_guide/generated/toplevel/altair.Chart.html#altair.Chart.configure_axis)) to remove the axes labels \n",
    "\n",
    "\n",
    "*Save the plot in an object named `hist_matrix_plot`.*"
   ]
  },
  {
   "cell_type": "code",
   "execution_count": null,
   "metadata": {
    "deletable": false,
    "nbgrader": {
     "cell_type": "code",
     "checksum": "8670d93264f5ae29cf3bb1a91c0cbe99",
     "grade": false,
     "grade_id": "cell-833626014c77f4e6",
     "locked": false,
     "schema_version": 3,
     "solution": true,
     "task": false
    }
   },
   "outputs": [],
   "source": [
    "hist_matrix_plot = None\n",
    "# your code here\n",
    "raise NotImplementedError # No Answer - remove if you provide an answer\n",
    "hist_matrix_plot"
   ]
  },
  {
   "cell_type": "code",
   "execution_count": null,
   "metadata": {},
   "outputs": [],
   "source": [
    "hist_matrix_plot.spec.encoding.color.aggregate"
   ]
  },
  {
   "cell_type": "code",
   "execution_count": null,
   "metadata": {
    "deletable": false,
    "editable": false,
    "nbgrader": {
     "cell_type": "code",
     "checksum": "0fdcaa669b3214c59a6a46d730047e14",
     "grade": true,
     "grade_id": "cell-4a3fcb447385e0c9",
     "locked": true,
     "points": 1,
     "schema_version": 3,
     "solution": false,
     "task": false
    }
   },
   "outputs": [],
   "source": [
    "t.test_2_7(hist_matrix_plot)"
   ]
  },
  {
   "cell_type": "markdown",
   "metadata": {},
   "source": [
    "In the last assignment, we used revenue as a way to identify potential movies that we would want to add to our platform. After looking at the above plots we've identified a small correlation between `revenue` and `vote_average` so it made sense to do so. We've also learned from looking at the `budget` and `vote_average` relationship, that that just because a movie has a large budget, doesn't mean it will be a high rated movie! For Betterflix, that means we can't plan to add a film before it's been released. We need to wait for the reviews or revenue before deciding on if a film should be added to our roster."
   ]
  },
  {
   "cell_type": "markdown",
   "metadata": {},
   "source": [
    "# 3. EDA of Numerical Columns Conditioned on a Categorical Column\n",
    "\n",
    "In the last lab, we looked at how gross revenue was distributed among the genre of movies and how budget was distributed among different production studios. However, it may be useful for our analysis to look at how the movie genre affects the distribution of all the numeric columns. We then will independently analyze how the studio is affected by the numeric columns. \n"
   ]
  },
  {
   "cell_type": "markdown",
   "metadata": {},
   "source": [
    "**Question 3.1** <br> {points: 1}  \n",
    "\n",
    "Let's start with the movie genres.\n",
    "\n",
    "We observed last time in the dataframe that each film has multiple genre categories in a list in the `genres` column. \n",
    "\n",
    "We used the [`.explode()`](https://pandas.pydata.org/pandas-docs/stable/reference/api/pandas.Series.explode.html) pandas method for this which then created additional rows, 1 for each of the genres in the list. \n",
    "\n",
    "Recap: Exploding multiple columns in a dataframe at a time runs a risk of duplicated rows if not mapped correctly which could affect your analysis. Note that for these assignments we will using `.explode()` with a single column at a time to avoid this. \n",
    "\n",
    "Just like last time, create a new dataframe that will create rows for every existing genre in the `genres` column using the `.explode()` method.\n",
    "\n",
    "\n",
    "*Save this new dataframe in an object named `movie_genres_df`.*"
   ]
  },
  {
   "cell_type": "code",
   "execution_count": null,
   "metadata": {
    "deletable": false,
    "nbgrader": {
     "cell_type": "code",
     "checksum": "bbc34e8cb424ce71eb9a767cdc6f611e",
     "grade": false,
     "grade_id": "cell-cda2058d048dccea",
     "locked": false,
     "schema_version": 3,
     "solution": true,
     "task": false
    }
   },
   "outputs": [],
   "source": [
    "movie_genres_df = None\n",
    "\n",
    "# your code here\n",
    "raise NotImplementedError # No Answer - remove if you provide an answer\n",
    "movie_genres_df.head()"
   ]
  },
  {
   "cell_type": "code",
   "execution_count": null,
   "metadata": {
    "deletable": false,
    "editable": false,
    "nbgrader": {
     "cell_type": "code",
     "checksum": "9783e12b0a61e2e29435b7d6131e3291",
     "grade": true,
     "grade_id": "cell-99c0593cdddfef04",
     "locked": true,
     "points": 1,
     "schema_version": 3,
     "solution": false,
     "task": false
    }
   },
   "outputs": [],
   "source": [
    "t.test_3_1(movie_genres_df)"
   ]
  },
  {
   "cell_type": "markdown",
   "metadata": {},
   "source": [
    "**Question 3.2** <br> {points: 2}  \n",
    "\n",
    "Now we can make our multiple plots. \n",
    "\n",
    "Use the same strategy of repeating plots that we used earlier in this assignment to create a boxplot for all numerical values from the `movie_genres_df` dataframe. Map the genre on the y-axis and each of the numeric columns on the x-axis. use the numeric columns from the previous exercises. Give the y-axis and appropriate column label and remove the necessity of displaying the zero value for the x-axes. Display the plots in 2 columns and with a height and width of 200 and 360 respectively so that you do not need to scroll to view all the plots in their entirety. \n",
    "\n",
    "*Save the plot in an object named `genre_boxplots`.*"
   ]
  },
  {
   "cell_type": "code",
   "execution_count": null,
   "metadata": {
    "deletable": false,
    "nbgrader": {
     "cell_type": "code",
     "checksum": "545cfe0a780ea57066a74b0a59d182f3",
     "grade": false,
     "grade_id": "cell-3ea4da59f55f60cd",
     "locked": false,
     "schema_version": 3,
     "solution": true,
     "task": false
    }
   },
   "outputs": [],
   "source": [
    "genre_boxplots = None\n",
    "\n",
    "# your code here\n",
    "raise NotImplementedError # No Answer - remove if you provide an answer\n",
    "genre_boxplots"
   ]
  },
  {
   "cell_type": "code",
   "execution_count": null,
   "metadata": {
    "deletable": false,
    "editable": false,
    "nbgrader": {
     "cell_type": "code",
     "checksum": "d174dd277721a131f1b26981240b50c2",
     "grade": true,
     "grade_id": "cell-54c5da9f1b1821f1",
     "locked": true,
     "points": 2,
     "schema_version": 3,
     "solution": false,
     "task": false
    }
   },
   "outputs": [],
   "source": [
    "t.test_3_2(genre_boxplots)"
   ]
  },
  {
   "cell_type": "markdown",
   "metadata": {},
   "source": [
    "Now that you have this visualization, analyze it and reflect over what you see by answering the following questions. "
   ]
  },
  {
   "cell_type": "markdown",
   "metadata": {},
   "source": [
    "**Question 3.3** <br> {points: 1}  \n",
    "\n",
    "Which movie genres has the highest `vote_average` median?\n",
    "\n",
    "\n",
    "*Save your movie genre as a string in an object named `answer3_3`*. "
   ]
  },
  {
   "cell_type": "code",
   "execution_count": null,
   "metadata": {
    "deletable": false,
    "nbgrader": {
     "cell_type": "code",
     "checksum": "55b54dea6e173516bdefc0adeee5ce67",
     "grade": false,
     "grade_id": "cell-00fdebd127130749",
     "locked": false,
     "schema_version": 3,
     "solution": true,
     "task": false
    }
   },
   "outputs": [],
   "source": [
    "answer3_3 = None\n",
    "\n",
    "# your code here\n",
    "raise NotImplementedError # No Answer - remove if you provide an answer\n",
    "answer3_3"
   ]
  },
  {
   "cell_type": "code",
   "execution_count": null,
   "metadata": {
    "deletable": false,
    "editable": false,
    "nbgrader": {
     "cell_type": "code",
     "checksum": "a738ca1267b30bbfd6a57d28b877f46d",
     "grade": true,
     "grade_id": "cell-3cdc65d9fdb58c75",
     "locked": true,
     "points": 1,
     "schema_version": 3,
     "solution": false,
     "task": false
    }
   },
   "outputs": [],
   "source": [
    "t.test_3_3(answer3_3)"
   ]
  },
  {
   "cell_type": "markdown",
   "metadata": {},
   "source": [
    "**Question 3.4** <br> {points: 2}  \n",
    "\n",
    "Which movie genre shows the least amount of revenue outliers in its boxplot?\n",
    "\n",
    "\n",
    "*Save your movie genre as a string in an object named `answer3_4`*. "
   ]
  },
  {
   "cell_type": "code",
   "execution_count": null,
   "metadata": {
    "deletable": false,
    "nbgrader": {
     "cell_type": "code",
     "checksum": "c241bb38ee140498bb73259b594b2c3a",
     "grade": false,
     "grade_id": "cell-c9cccafbe588993d",
     "locked": false,
     "schema_version": 3,
     "solution": true,
     "task": false
    }
   },
   "outputs": [],
   "source": [
    "answer3_4 = None\n",
    "\n",
    "# your code here\n",
    "raise NotImplementedError # No Answer - remove if you provide an answer\n",
    "answer3_4"
   ]
  },
  {
   "cell_type": "code",
   "execution_count": null,
   "metadata": {
    "deletable": false,
    "editable": false,
    "nbgrader": {
     "cell_type": "code",
     "checksum": "d6604f6355e50b90904e1d9ae267ab63",
     "grade": true,
     "grade_id": "cell-594c1c0eafb9c1b3",
     "locked": true,
     "points": 2,
     "schema_version": 3,
     "solution": false,
     "task": false
    }
   },
   "outputs": [],
   "source": [
    "# check that the variable exists\n",
    "assert 'answer3_4' in globals(\n",
    "), \"Please make sure that your solution is named 'answer1_3'\"\n",
    "\n",
    "# This test has been intentionally hidden. It will be up to you to decide if your solution\n",
    "# is sufficiently good.\n"
   ]
  },
  {
   "cell_type": "markdown",
   "metadata": {},
   "source": [
    "**Question 3.5** <br> {points: 1}  \n",
    "\n",
    "Which movie genre has the highest budget median in it's boxplot?\n",
    "\n",
    "\n",
    "*Save your movie genre as a string in an object named `answer3_5`*. "
   ]
  },
  {
   "cell_type": "code",
   "execution_count": null,
   "metadata": {
    "deletable": false,
    "nbgrader": {
     "cell_type": "code",
     "checksum": "0e8cb4961a4466fa5a1de4ee5fb4bc9a",
     "grade": false,
     "grade_id": "cell-0fa6e5d16f0e839a",
     "locked": false,
     "schema_version": 3,
     "solution": true,
     "task": false
    }
   },
   "outputs": [],
   "source": [
    "answer3_5 = None\n",
    "\n",
    "# your code here\n",
    "raise NotImplementedError # No Answer - remove if you provide an answer\n",
    "answer3_5"
   ]
  },
  {
   "cell_type": "code",
   "execution_count": null,
   "metadata": {
    "deletable": false,
    "editable": false,
    "nbgrader": {
     "cell_type": "code",
     "checksum": "4a0e567b912db4cf0ee51bbaaa75715a",
     "grade": true,
     "grade_id": "cell-a9a6753917ddaab2",
     "locked": true,
     "points": 1,
     "schema_version": 3,
     "solution": false,
     "task": false
    }
   },
   "outputs": [],
   "source": [
    "t.test_3_5(answer3_5)"
   ]
  },
  {
   "cell_type": "markdown",
   "metadata": {},
   "source": [
    "**Question 3.6** <br> {points: 1}  \n",
    "\n",
    "Which column contains the most outliers for all movie genres?\n",
    "\n",
    "\n",
    "*Save your column name as a string in an object named `answer3_6`*. "
   ]
  },
  {
   "cell_type": "code",
   "execution_count": null,
   "metadata": {
    "deletable": false,
    "nbgrader": {
     "cell_type": "code",
     "checksum": "84222a79369465f43afceb320788a476",
     "grade": false,
     "grade_id": "cell-fc7489fe9a4529a0",
     "locked": false,
     "schema_version": 3,
     "solution": true,
     "task": false
    }
   },
   "outputs": [],
   "source": [
    "answer3_6 = None\n",
    "\n",
    "# your code here\n",
    "raise NotImplementedError # No Answer - remove if you provide an answer\n",
    "answer3_6"
   ]
  },
  {
   "cell_type": "code",
   "execution_count": null,
   "metadata": {
    "deletable": false,
    "editable": false,
    "nbgrader": {
     "cell_type": "code",
     "checksum": "dbd9e5fa9fef8de703194bf404e70c13",
     "grade": true,
     "grade_id": "cell-cb335385bce7e3bb",
     "locked": true,
     "points": 1,
     "schema_version": 3,
     "solution": false,
     "task": false
    }
   },
   "outputs": [],
   "source": [
    "t.test_3_6(answer3_6)"
   ]
  },
  {
   "cell_type": "markdown",
   "metadata": {},
   "source": [
    "**Question 3.7** <br> {points: 1}  \n",
    "\n",
    "Let's now address the `studios` column. \n",
    "\n",
    "In the previous assignment, We visualized the `studios` column with the  `budget` column only. I think we can agree that observing all the numeric columns with the studio, could be insightful. \n",
    "\n",
    "Just like in **Question 3.1**, create a new dataframe that will create rows for every existing genre in the `studios` column using the `.explode()` method.\n",
    "\n",
    "\n",
    "*Save this new dataframe in an object named `movie_studios_df`.*"
   ]
  },
  {
   "cell_type": "code",
   "execution_count": null,
   "metadata": {
    "deletable": false,
    "nbgrader": {
     "cell_type": "code",
     "checksum": "6b288e9b2cfe343aba34dbfa61271d8e",
     "grade": false,
     "grade_id": "cell-04630578d95d25da",
     "locked": false,
     "schema_version": 3,
     "solution": true,
     "task": false
    }
   },
   "outputs": [],
   "source": [
    "movie_studios_df = None\n",
    "\n",
    "# your code here\n",
    "raise NotImplementedError # No Answer - remove if you provide an answer\n",
    "movie_studios_df.head()"
   ]
  },
  {
   "cell_type": "code",
   "execution_count": null,
   "metadata": {
    "deletable": false,
    "editable": false,
    "nbgrader": {
     "cell_type": "code",
     "checksum": "907ade7bf546bc0c17b462fc837e20aa",
     "grade": true,
     "grade_id": "cell-b4e04ae1db43d016",
     "locked": true,
     "points": 1,
     "schema_version": 3,
     "solution": false,
     "task": false
    }
   },
   "outputs": [],
   "source": [
    "t.test_3_7(movie_studios_df)"
   ]
  },
  {
   "cell_type": "markdown",
   "metadata": {},
   "source": [
    "**Question 3.8** <br> {points: 1}  \n",
    "\n",
    "\n",
    "Now see how the numerical columns vary with different production studios. We did this in the previous question but only looked at the `budget` column. \n",
    "\n",
    "In a similar plot to that of **Question 3.2** create a boxplot for all numerical values from the `movie_studios_df` dataframe. Map the studio on the y-axis and each of the numeric columns on the x-axis. Give the y-axis and appropriate column label and remove the necessity of displaying the zero value for the x-axes. Display the plots in 2 columns and with a height and width of 200 and 320 respectively so that you do not need to scroll to view all the plots in their entirety. \n",
    "\n",
    "*Save the plot in an object named `rev_boxplot`.*"
   ]
  },
  {
   "cell_type": "code",
   "execution_count": null,
   "metadata": {
    "deletable": false,
    "nbgrader": {
     "cell_type": "code",
     "checksum": "b9d66ea8620fd468228d4775cf716a1a",
     "grade": false,
     "grade_id": "cell-755f89ddbb5cc150",
     "locked": false,
     "schema_version": 3,
     "solution": true,
     "task": false
    }
   },
   "outputs": [],
   "source": [
    "rev_boxplot = None\n",
    "\n",
    "# your code here\n",
    "raise NotImplementedError # No Answer - remove if you provide an answer\n",
    "rev_boxplot"
   ]
  },
  {
   "cell_type": "code",
   "execution_count": null,
   "metadata": {
    "deletable": false,
    "editable": false,
    "nbgrader": {
     "cell_type": "code",
     "checksum": "96e8dff81c42e06703bb2e118ed8479b",
     "grade": true,
     "grade_id": "cell-5c1a2f458a25a1de",
     "locked": true,
     "points": 1,
     "schema_version": 3,
     "solution": false,
     "task": false
    }
   },
   "outputs": [],
   "source": [
    "t.test_3_8(rev_boxplot)"
   ]
  },
  {
   "cell_type": "markdown",
   "metadata": {},
   "source": [
    "**Question 3.9** <br> {points: 1}  \n",
    "\n",
    "Which studio on average, seems to produce the lowest-rated films?\n",
    "\n",
    "\n",
    "*Save your studio as a string in an object named `answer3_9`*. "
   ]
  },
  {
   "cell_type": "code",
   "execution_count": null,
   "metadata": {
    "deletable": false,
    "nbgrader": {
     "cell_type": "code",
     "checksum": "8a14086f75c309f7ecb3bfbe8bb55294",
     "grade": false,
     "grade_id": "cell-707c451aa51806cb",
     "locked": false,
     "schema_version": 3,
     "solution": true,
     "task": false
    }
   },
   "outputs": [],
   "source": [
    "answer3_9 = None\n",
    "\n",
    "# your code here\n",
    "raise NotImplementedError # No Answer - remove if you provide an answer\n",
    "answer3_9"
   ]
  },
  {
   "cell_type": "code",
   "execution_count": null,
   "metadata": {
    "deletable": false,
    "editable": false,
    "nbgrader": {
     "cell_type": "code",
     "checksum": "e07f8e0e6b18a5c3115b4cc4fc4bd4e7",
     "grade": true,
     "grade_id": "cell-aa1ebdab20f4c9f1",
     "locked": true,
     "points": 1,
     "schema_version": 3,
     "solution": false,
     "task": false
    }
   },
   "outputs": [],
   "source": [
    "t.test_3_9(answer3_9)"
   ]
  },
  {
   "cell_type": "markdown",
   "metadata": {},
   "source": [
    "**Question 3.10** <br> {points: 1}  \n",
    "\n",
    "Which studio has the largest range of gross revenue?\n",
    "\n",
    "\n",
    "*Save your studio as a string in an object named `answer3_10`*. "
   ]
  },
  {
   "cell_type": "code",
   "execution_count": null,
   "metadata": {
    "deletable": false,
    "nbgrader": {
     "cell_type": "code",
     "checksum": "3d73888dc02ec218a24ed0f4348b5b06",
     "grade": false,
     "grade_id": "cell-2817653c3267efac",
     "locked": false,
     "schema_version": 3,
     "solution": true,
     "task": false
    }
   },
   "outputs": [],
   "source": [
    "answer3_10 = None\n",
    "\n",
    "# your code here\n",
    "raise NotImplementedError # No Answer - remove if you provide an answer\n",
    "answer3_10"
   ]
  },
  {
   "cell_type": "code",
   "execution_count": null,
   "metadata": {
    "deletable": false,
    "editable": false,
    "nbgrader": {
     "cell_type": "code",
     "checksum": "2cd0f8040cd70c06bd275f37e8648240",
     "grade": true,
     "grade_id": "cell-069339dde61e161e",
     "locked": true,
     "points": 1,
     "schema_version": 3,
     "solution": false,
     "task": false
    }
   },
   "outputs": [],
   "source": [
    "t.test_3_10(answer3_10)"
   ]
  },
  {
   "cell_type": "markdown",
   "metadata": {},
   "source": [
    "**Question 3.11** <br> {points: 1}  \n",
    "\n",
    "Which studio has the most consistent runtime with the films it produces?\n",
    "\n",
    "\n",
    "*Save your studio as a string in an object named `answer3_11`*. "
   ]
  },
  {
   "cell_type": "code",
   "execution_count": null,
   "metadata": {
    "deletable": false,
    "nbgrader": {
     "cell_type": "code",
     "checksum": "16534ad6cd67ef124d0c01a54eff6220",
     "grade": false,
     "grade_id": "cell-40da8f65303ab9b3",
     "locked": false,
     "schema_version": 3,
     "solution": true,
     "task": false
    }
   },
   "outputs": [],
   "source": [
    "answer3_11 = None\n",
    "\n",
    "# your code here\n",
    "raise NotImplementedError # No Answer - remove if you provide an answer\n",
    "answer3_11"
   ]
  },
  {
   "cell_type": "code",
   "execution_count": null,
   "metadata": {
    "deletable": false,
    "editable": false,
    "nbgrader": {
     "cell_type": "code",
     "checksum": "7aa9e5c90e6bec7d45eca3e7d87edde2",
     "grade": true,
     "grade_id": "cell-b08c12a65a40e781",
     "locked": true,
     "points": 1,
     "schema_version": 3,
     "solution": false,
     "task": false
    }
   },
   "outputs": [],
   "source": [
    "t.test_3_11(answer3_11)"
   ]
  },
  {
   "cell_type": "markdown",
   "metadata": {},
   "source": [
    "# 4. EDA of Categorical Columns\n",
    "\n",
    "So far we, examine the numeric columns in our data, but thats not all the data we have! We don't know that much about the relationship between categorical columns and categorical and numeric columns. We would generally want to examine all areas of our data during exploratory data analysis since finding a small insight such as \"Animation movies tend to be rated higher on average\" can be very valuable for Betterflix! We could anticipate adding more of those films even before they have been released! \n",
    "\n",
    "Since we are a new starting business, our cashflow and funding is limited. We can only afford to purchase from a few studios since we get to purchase the rights to films as a package deal (this helps us spend less!). \n",
    "\n",
    "We want to select films from studios that carry an assortment from all genres to help please everyone.  Asking a question such as *Which studios would you want to set up a deal with due to them offering the largest variety of film genres on a count basis?* would help us with this goal. \n",
    "\n",
    "As the final step of our EDA, and before you hand your analysis over to the investors, let’s explore which studios have the greatest assortment of movie genres."
   ]
  },
  {
   "cell_type": "markdown",
   "metadata": {},
   "source": [
    "**Question 4.1** <br> {points: 1}  \n",
    "\n",
    "We now are going to produce a dataframe that has produced a row for each studio and each genre. We need both since we are counting the combinations. This can use done using the `.explode()` method again.\n",
    "\n",
    "Explode the `genres` column from the `movie_studios_df` object.\n",
    "\n",
    "*Save this new dataframe in an object named `genres_studios_df`.*"
   ]
  },
  {
   "cell_type": "code",
   "execution_count": null,
   "metadata": {
    "deletable": false,
    "nbgrader": {
     "cell_type": "code",
     "checksum": "dc1aa1099c8cdad40dcb839ea430afeb",
     "grade": false,
     "grade_id": "cell-74cbc9496fd0077b",
     "locked": false,
     "schema_version": 3,
     "solution": true,
     "task": false
    }
   },
   "outputs": [],
   "source": [
    "genres_studios_df = None\n",
    "\n",
    "# your code here\n",
    "raise NotImplementedError # No Answer - remove if you provide an answer\n",
    "genres_studios_df.shape"
   ]
  },
  {
   "cell_type": "code",
   "execution_count": null,
   "metadata": {
    "deletable": false,
    "editable": false,
    "nbgrader": {
     "cell_type": "code",
     "checksum": "20228ac43712afe7b4b59ca4a681564a",
     "grade": true,
     "grade_id": "cell-0f57dc2b514ba620",
     "locked": true,
     "points": 1,
     "schema_version": 3,
     "solution": false,
     "task": false
    }
   },
   "outputs": [],
   "source": [
    "t.test_4_1(genres_studios_df)"
   ]
  },
  {
   "cell_type": "markdown",
   "metadata": {},
   "source": [
    "**Question 4.2** <br> {points: 2}  \n",
    "\n",
    "\n",
    "Using `mark_rect()` to make a sort of \"heat map\", map the x and y axis to the genres and studios, respectively. Map the count to the color channel. Again, give it an appropriate title and axis labels.\n",
    "\n",
    "*Save the plot in an object named `genres_studio_heatmap`.*"
   ]
  },
  {
   "cell_type": "code",
   "execution_count": null,
   "metadata": {
    "deletable": false,
    "nbgrader": {
     "cell_type": "code",
     "checksum": "7e7da0c1d4e9e482f5d041fe8c952618",
     "grade": false,
     "grade_id": "cell-16cf1d8d4dd154ee",
     "locked": false,
     "schema_version": 3,
     "solution": true,
     "task": false
    }
   },
   "outputs": [],
   "source": [
    "genres_studio_heatmap = None\n",
    "\n",
    "# your code here\n",
    "raise NotImplementedError # No Answer - remove if you provide an answer\n",
    "genres_studio_heatmap"
   ]
  },
  {
   "cell_type": "code",
   "execution_count": null,
   "metadata": {
    "deletable": false,
    "editable": false,
    "nbgrader": {
     "cell_type": "code",
     "checksum": "761e01c3042bd20935bf3dc08dbbdfc5",
     "grade": true,
     "grade_id": "cell-49b530d57880cac1",
     "locked": true,
     "points": 1,
     "schema_version": 3,
     "solution": false,
     "task": false
    }
   },
   "outputs": [],
   "source": [
    "t.test_4_2(genres_studio_heatmap)"
   ]
  },
  {
   "cell_type": "code",
   "execution_count": null,
   "metadata": {
    "deletable": false,
    "editable": false,
    "nbgrader": {
     "cell_type": "code",
     "checksum": "34bcb4c9b11d7bbad498e235348a6dd4",
     "grade": true,
     "grade_id": "cell-034f49c6d5eb465f",
     "locked": true,
     "points": 1,
     "schema_version": 3,
     "solution": false,
     "task": false
    }
   },
   "outputs": [],
   "source": [
    "t.test_titles(genres_studio_heatmap)"
   ]
  },
  {
   "cell_type": "markdown",
   "metadata": {},
   "source": [
    "**Question 4.3** <br> {points: 2}  \n",
    "\n",
    "Make a similar plot to the one above, mapping the x and y-axis with the genres and studios, respectively. This time, use a square mark and map the count to color and size.  Again, give it an appropriate title and axis labels.  \n",
    "\n",
    "*Save the plot in an object named `genres_studio_plot`.*"
   ]
  },
  {
   "cell_type": "code",
   "execution_count": null,
   "metadata": {
    "deletable": false,
    "nbgrader": {
     "cell_type": "code",
     "checksum": "d63a25324ec598b4570e4427d45df1a8",
     "grade": false,
     "grade_id": "cell-5bac18a1bab2967f",
     "locked": false,
     "schema_version": 3,
     "solution": true,
     "task": false
    }
   },
   "outputs": [],
   "source": [
    "genres_studio_plot = None\n",
    "\n",
    "# your code here\n",
    "raise NotImplementedError # No Answer - remove if you provide an answer\n",
    "genres_studio_plot"
   ]
  },
  {
   "cell_type": "code",
   "execution_count": null,
   "metadata": {
    "deletable": false,
    "editable": false,
    "nbgrader": {
     "cell_type": "code",
     "checksum": "7dcf850b1a34fb8a490e2d704740db5d",
     "grade": true,
     "grade_id": "cell-69760d237197f796",
     "locked": true,
     "points": 1,
     "schema_version": 3,
     "solution": false,
     "task": false
    }
   },
   "outputs": [],
   "source": [
    "t.test_4_3(genres_studio_plot)"
   ]
  },
  {
   "cell_type": "code",
   "execution_count": null,
   "metadata": {
    "deletable": false,
    "editable": false,
    "nbgrader": {
     "cell_type": "code",
     "checksum": "4ae4108ae5de74c8ff79ae0b14bf9e6c",
     "grade": true,
     "grade_id": "cell-0e78208da20ac8e8",
     "locked": true,
     "points": 1,
     "schema_version": 3,
     "solution": false,
     "task": false
    }
   },
   "outputs": [],
   "source": [
    "t.test_titles(genres_studio_heatmap)"
   ]
  },
  {
   "cell_type": "markdown",
   "metadata": {},
   "source": [
    "**Question 4.4** <br> {points: 2}  \n",
    "\n",
    "Which of the 2 plots made in **Question 4.2** and **Question 4.3** you think helps best answer our question *\"Which studios have the greatest assortment of movie genres?\"*?\n",
    "\n",
    "\n",
    "A) `genres_studio_heatmap` from **Question 4.2** \n",
    "\n",
    "B) `genres_studio_plot` from  **Question 4.3**\n",
    "\n",
    "To answer the question, assign the letter associated with the correct answer to a variable in the code cell below.\n",
    "\n",
    "*Answer in the cell below using the uppercase letter associated with your answer. Place your answer between `\"\"`, assign the correct answer to an object called `answer4_4`.*"
   ]
  },
  {
   "cell_type": "code",
   "execution_count": null,
   "metadata": {
    "deletable": false,
    "nbgrader": {
     "cell_type": "code",
     "checksum": "bda379c03b489719c4a1968a62b278a1",
     "grade": false,
     "grade_id": "cell-6f581cea321f59c8",
     "locked": false,
     "schema_version": 3,
     "solution": true,
     "task": false
    }
   },
   "outputs": [],
   "source": [
    "answer4_4 = None\n",
    "\n",
    "# your code here\n",
    "raise NotImplementedError # No Answer - remove if you provide an answer\n",
    "answer4_4"
   ]
  },
  {
   "cell_type": "code",
   "execution_count": null,
   "metadata": {
    "deletable": false,
    "editable": false,
    "nbgrader": {
     "cell_type": "code",
     "checksum": "c16b8228e6e0a1bdb3a2856eed5a5907",
     "grade": true,
     "grade_id": "cell-2f5b132b734163cb",
     "locked": true,
     "points": 2,
     "schema_version": 3,
     "solution": false,
     "task": false
    }
   },
   "outputs": [],
   "source": [
    "# check that the variable exists\n",
    "assert 'answer4_4' in globals(\n",
    "), \"Please make sure that your solution is named 'answer1_3'\"\n",
    "\n",
    "# This test has been intentionally hidden. It will be up to you to decide if your solution\n",
    "# is sufficiently good.\n"
   ]
  },
  {
   "cell_type": "markdown",
   "metadata": {},
   "source": [
    "**Question 4.5** <br> {points: 1}  \n",
    "\n",
    "\n",
    "Which genres does Marvel Studios produce? \n",
    "\n",
    "Add all the genres as string elements in a list named `answer4_5`. For example, if Marvel Studio produces 2 genres, 'Action' and 'Animation', your solution will look like this:\n",
    "\n",
    "answer4_5 = [\"Action\", \"Animation\"]"
   ]
  },
  {
   "cell_type": "code",
   "execution_count": null,
   "metadata": {
    "deletable": false,
    "nbgrader": {
     "cell_type": "code",
     "checksum": "d91fef2b53faa558fa994de2ba4b03a5",
     "grade": false,
     "grade_id": "cell-9d2510b33d8550a3",
     "locked": false,
     "schema_version": 3,
     "solution": true,
     "task": false
    }
   },
   "outputs": [],
   "source": [
    "answer4_5 = None \n",
    "\n",
    "# your code here\n",
    "raise NotImplementedError # No Answer - remove if you provide an answer\n",
    "answer4_5"
   ]
  },
  {
   "cell_type": "code",
   "execution_count": null,
   "metadata": {
    "deletable": false,
    "editable": false,
    "nbgrader": {
     "cell_type": "code",
     "checksum": "abbe954485cd32ffec33a23002078d11",
     "grade": true,
     "grade_id": "cell-ac550f449d138635",
     "locked": true,
     "points": 1,
     "schema_version": 3,
     "solution": false,
     "task": false
    }
   },
   "outputs": [],
   "source": [
    "t.test_4_5(answer4_5)"
   ]
  },
  {
   "cell_type": "markdown",
   "metadata": {},
   "source": [
    "**Question 4.6** <br> {points: 1}  \n",
    "\n",
    "How many studios produce war films?\n",
    "\n",
    "*Answer in the cell below to an object of type `int` called `answer4_6`.*"
   ]
  },
  {
   "cell_type": "code",
   "execution_count": null,
   "metadata": {
    "deletable": false,
    "nbgrader": {
     "cell_type": "code",
     "checksum": "588f0885d0dcc97dbb76de663dcf6abd",
     "grade": false,
     "grade_id": "cell-2c5169bcb4955c83",
     "locked": false,
     "schema_version": 3,
     "solution": true,
     "task": false
    }
   },
   "outputs": [],
   "source": [
    "answer4_6 = None \n",
    "\n",
    "# your code here\n",
    "raise NotImplementedError # No Answer - remove if you provide an answer\n",
    "answer4_6"
   ]
  },
  {
   "cell_type": "code",
   "execution_count": null,
   "metadata": {
    "deletable": false,
    "editable": false,
    "nbgrader": {
     "cell_type": "code",
     "checksum": "1c593b5876d4c4ea5c860eca16f72c13",
     "grade": true,
     "grade_id": "cell-2ad4593bfab55df9",
     "locked": true,
     "points": 1,
     "schema_version": 3,
     "solution": false,
     "task": false
    }
   },
   "outputs": [],
   "source": [
    "t.test_4_6(answer4_6)"
   ]
  },
  {
   "cell_type": "markdown",
   "metadata": {},
   "source": [
    "**Question 4.7** <br> {points: 1}  \n",
    "\n",
    "What genre does the Canal+ studio produce the most?\n",
    "\n",
    "*Answer in the cell below as a string in an object called `answer4_7`.*"
   ]
  },
  {
   "cell_type": "code",
   "execution_count": null,
   "metadata": {
    "deletable": false,
    "nbgrader": {
     "cell_type": "code",
     "checksum": "b18f71610ef0542aadd5ef6565ff1de1",
     "grade": false,
     "grade_id": "cell-f8bc03bf8404694a",
     "locked": false,
     "schema_version": 3,
     "solution": true,
     "task": false
    }
   },
   "outputs": [],
   "source": [
    "answer4_7 = None \n",
    "\n",
    "# your code here\n",
    "raise NotImplementedError # No Answer - remove if you provide an answer\n",
    "answer4_7"
   ]
  },
  {
   "cell_type": "code",
   "execution_count": null,
   "metadata": {
    "deletable": false,
    "editable": false,
    "nbgrader": {
     "cell_type": "code",
     "checksum": "b45f3314df7b1dbe02d55dbf125884ca",
     "grade": true,
     "grade_id": "cell-58685663e7a86822",
     "locked": true,
     "points": 1,
     "schema_version": 3,
     "solution": false,
     "task": false
    }
   },
   "outputs": [],
   "source": [
    "t.test_4_7(answer4_7)"
   ]
  },
  {
   "cell_type": "markdown",
   "metadata": {},
   "source": [
    "**Question 4.8** <br> {points: 1}  \n",
    "\n",
    "Who produces the largest count of action films?\n",
    "\n",
    "*Answer in the cell below as a string in an object called `answer4_8`.*"
   ]
  },
  {
   "cell_type": "code",
   "execution_count": null,
   "metadata": {
    "deletable": false,
    "nbgrader": {
     "cell_type": "code",
     "checksum": "f83684f94e69c4c7b73604047de1ae8b",
     "grade": false,
     "grade_id": "cell-0a876e81627ded0c",
     "locked": false,
     "schema_version": 3,
     "solution": true,
     "task": false
    }
   },
   "outputs": [],
   "source": [
    "answer4_8 = None \n",
    "\n",
    "# your code here\n",
    "raise NotImplementedError # No Answer - remove if you provide an answer\n",
    "answer4_8"
   ]
  },
  {
   "cell_type": "code",
   "execution_count": null,
   "metadata": {
    "deletable": false,
    "editable": false,
    "nbgrader": {
     "cell_type": "code",
     "checksum": "87f33dec16cc5c85a64a95f4df22810e",
     "grade": true,
     "grade_id": "cell-5dc0755880e7cf6c",
     "locked": true,
     "points": 1,
     "schema_version": 3,
     "solution": false,
     "task": false
    }
   },
   "outputs": [],
   "source": [
    "t.test_4_8(answer4_8)"
   ]
  },
  {
   "cell_type": "markdown",
   "metadata": {},
   "source": [
    "**Question 4.9** <br> {points: 1}  \n",
    "\n",
    "Let's return back to our question - *Which 2 studios would you want to set up a deal with due to them offering the largest variety of film genres on a count basis?*\n",
    "\n",
    "*Answer the studio(s) as string(s) in a list and name the object `answer4_9`.*"
   ]
  },
  {
   "cell_type": "code",
   "execution_count": null,
   "metadata": {
    "deletable": false,
    "nbgrader": {
     "cell_type": "code",
     "checksum": "d3cf381c1a9b0b9d50f3f7012619e8c8",
     "grade": false,
     "grade_id": "cell-99e08eac0abdb200",
     "locked": false,
     "schema_version": 3,
     "solution": true,
     "task": false
    }
   },
   "outputs": [],
   "source": [
    "answer4_9 = None \n",
    "\n",
    "# your code here\n",
    "raise NotImplementedError # No Answer - remove if you provide an answer\n",
    "answer4_9"
   ]
  },
  {
   "cell_type": "code",
   "execution_count": null,
   "metadata": {
    "deletable": false,
    "editable": false,
    "nbgrader": {
     "cell_type": "code",
     "checksum": "2d012bcdf3cd8bd0725c6a4db551a943",
     "grade": true,
     "grade_id": "cell-c9071d0ed65282c1",
     "locked": true,
     "points": 1,
     "schema_version": 3,
     "solution": false,
     "task": false
    }
   },
   "outputs": [],
   "source": [
    "t.test_4_9(answer4_9)"
   ]
  },
  {
   "cell_type": "markdown",
   "metadata": {},
   "source": [
    "The plots above are great for comparing absolute counts,\n",
    "but that means that studios with smaller production volume get drowned out. Let's instead visualize the proportion within each studio for each genre.\n",
    "\n",
    "Below we have kindly calculated the proportion for each studio  - genre pair, so that for each studio, the genre proportions add up to 1.(you're welcome!) "
   ]
  },
  {
   "cell_type": "code",
   "execution_count": null,
   "metadata": {},
   "outputs": [],
   "source": [
    "normalized_df = genres_studios_df.groupby('studios')['genres'].value_counts(normalize=True).reset_index(name='proportion')\n",
    "normalized_df"
   ]
  },
  {
   "cell_type": "markdown",
   "metadata": {},
   "source": [
    "**Question 4.10** <br> {points: 2}  \n",
    "\n",
    "Take the `normalized_df` dataframe that we made above and visualize the proportions now using `mark_circle` (for a change). Make a plot mapping `genres` on the x-axis and `studios` on the y-axis and this time assigning `proportion` to both the color and size channel. Make sure you continue to give the plot an appropriate title and axis labels.\n",
    "\n",
    "*Save the plot in an object named `normalized_plot`.*"
   ]
  },
  {
   "cell_type": "code",
   "execution_count": null,
   "metadata": {
    "deletable": false,
    "nbgrader": {
     "cell_type": "code",
     "checksum": "370ccad3ad813493535b584cd7883ba4",
     "grade": false,
     "grade_id": "cell-5536e6a42babe36d",
     "locked": false,
     "schema_version": 3,
     "solution": true,
     "task": false
    }
   },
   "outputs": [],
   "source": [
    "normalized_plot = None\n",
    "\n",
    "# your code here\n",
    "raise NotImplementedError # No Answer - remove if you provide an answer\n",
    "normalized_plot"
   ]
  },
  {
   "cell_type": "code",
   "execution_count": null,
   "metadata": {
    "deletable": false,
    "editable": false,
    "nbgrader": {
     "cell_type": "code",
     "checksum": "d8bb0aa7c3ee06a9a77410dc84ae5476",
     "grade": true,
     "grade_id": "cell-6a38c21cabc31c2e",
     "locked": true,
     "points": 1,
     "schema_version": 3,
     "solution": false,
     "task": false
    }
   },
   "outputs": [],
   "source": [
    "t.test_4_10(normalized_plot)"
   ]
  },
  {
   "cell_type": "code",
   "execution_count": null,
   "metadata": {
    "deletable": false,
    "editable": false,
    "nbgrader": {
     "cell_type": "code",
     "checksum": "024370248e7766d0ed1c0e85f0783dfd",
     "grade": true,
     "grade_id": "cell-38f843c630a7455b",
     "locked": true,
     "points": 1,
     "schema_version": 3,
     "solution": false,
     "task": false
    }
   },
   "outputs": [],
   "source": [
    "t.test_titles(genres_studio_heatmap)"
   ]
  },
  {
   "cell_type": "markdown",
   "metadata": {},
   "source": [
    "**Question 4.11** <br> {points: 1}  \n",
    "\n",
    "After looking at your answer to **Question 4.10**, is there an  additional studios to the ones from **Question 4.9** that may need to be considered when making business deals for Betterflix? We are looking for a studio that can contribute the most variety of genres. \n",
    "\n",
    "*Answer the ADDITIONAL studio as a string in a list and name the object `answer4_11`.*"
   ]
  },
  {
   "cell_type": "code",
   "execution_count": null,
   "metadata": {
    "deletable": false,
    "nbgrader": {
     "cell_type": "code",
     "checksum": "f879cc56c28cfe58ecd5a72bb920b9c0",
     "grade": false,
     "grade_id": "cell-6ac5ec522ee489d4",
     "locked": false,
     "schema_version": 3,
     "solution": true,
     "task": false
    }
   },
   "outputs": [],
   "source": [
    "answer4_11 = None \n",
    "\n",
    "# your code here\n",
    "raise NotImplementedError # No Answer - remove if you provide an answer\n",
    "answer4_11"
   ]
  },
  {
   "cell_type": "code",
   "execution_count": null,
   "metadata": {
    "deletable": false,
    "editable": false,
    "nbgrader": {
     "cell_type": "code",
     "checksum": "4f4d82e6cfda2cfb7e6a8373a3b276db",
     "grade": true,
     "grade_id": "cell-30fae81514f8eccd",
     "locked": true,
     "points": 1,
     "schema_version": 3,
     "solution": false,
     "task": false
    }
   },
   "outputs": [],
   "source": [
    "t.test_4_11(answer4_11)"
   ]
  },
  {
   "cell_type": "markdown",
   "metadata": {},
   "source": [
    "Another useful insight we can see from the normalized plot above, is that now we can see Marvel Studios produces mostly Action and Science Fiction films and very few comedy ones. Before, using absolute numbers, it appeared that Marvel Studios produced approximately equal numbers of Action, Comedy and Science Fiction films. "
   ]
  },
  {
   "cell_type": "markdown",
   "metadata": {},
   "source": [
    "Dearest Vizard, you've done it! We're proud of your efforts to get Betterflix off the ground. \n",
    "\n",
    "We've now got a good idea of what studios we should approach with offers for Betterflix as well as not to base the success of a film on the budget! This information is crucial for the success of the company.\n",
    "\n",
    "This is excellent work.\n",
    "Now that we know what you are capable of we will be sure to contact you when we launch our next project: Bestify."
   ]
  },
  {
   "cell_type": "markdown",
   "metadata": {},
   "source": [
    "## Before Submitting \n",
    "\n",
    "Before submitting your assignment please do the following:\n",
    "\n",
    "- Read through your solutions\n",
    "- **Restart your kernel, clear output and rerun your cells from top to bottom** \n",
    "- Makes sure that none of your code is broken \n",
    "- Verify that the tests from the questions you answered have obtained the output \"Success\"\n",
    "\n",
    "This is a simple way to make sure that you are submitting all the variables needed to mark the assignment. This method should help avoid losing marks due to changes in your environment.  "
   ]
  },
  {
   "cell_type": "markdown",
   "metadata": {},
   "source": [
    "## Attributions\n",
    "- Gapminder dataset processed and uploaded by Joel Ostblom - [UofTCoders/workshops-dc-py](https://github.com/UofTCoders/workshops-dc-py)\n",
    "\n",
    "- Original Gapminder data - [The Gapminder Foundation](https://www.gapminder.org/)\n",
    "\n",
    "\n",
    "- MDS DSCI 531: Data Visualization I - [MDS's GitHub website](https://github.com/UBC-MDS/DSCI_531_viz-1) \n"
   ]
  }
 ],
 "metadata": {
  "kernelspec": {
   "display_name": "Python 3",
   "language": "python",
   "name": "python3"
  },
  "language_info": {
   "codemirror_mode": {
    "name": "ipython",
    "version": 3
   },
   "file_extension": ".py",
   "mimetype": "text/x-python",
   "name": "python",
   "nbconvert_exporter": "python",
   "pygments_lexer": "ipython3",
   "version": "3.8.5"
  },
  "toc": {
   "base_numbering": 1,
   "nav_menu": {},
   "number_sections": false,
   "sideBar": true,
   "skip_h1_title": false,
   "title_cell": "Table of Contents",
   "title_sidebar": "Contents",
   "toc_cell": false,
   "toc_position": {},
   "toc_section_display": true,
   "toc_window_display": true
  }
 },
 "nbformat": 4,
 "nbformat_minor": 4
}
