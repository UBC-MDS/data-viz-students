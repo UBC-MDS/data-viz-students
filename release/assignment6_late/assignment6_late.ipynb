{
 "cells": [
  {
   "cell_type": "markdown",
   "metadata": {},
   "source": [
    "# Data Visualization\n",
    "\n",
    "## Assignment 6: Narrative, Figure Composition and Geographical Visualization"
   ]
  },
  {
   "cell_type": "markdown",
   "metadata": {},
   "source": [
    "You can't learn technical subjects without hands-on practice. The assignments are an important part of the course. To submit this assignment you will need to make sure that you save your Jupyter notebook. \n",
    "\n",
    "Below are the links to 2 videos that explain:\n",
    "\n",
    "1. [How to save your Jupyter notebook](https://youtu.be/0aoLgBoAUSA) and,       \n",
    "2. [How to answer a question in a Jupyter notebook assignment](https://youtu.be/7j0WKhI3W4s)."
   ]
  },
  {
   "cell_type": "markdown",
   "metadata": {},
   "source": [
    "<div class=\"alert alert-info\" style=\"color:black\">\n",
    "    \n",
    "Assignment Learning Goals:\n",
    "\n",
    "By the end of the module, students are expected to:\n",
    "\n",
    "- Create a narrative with visualizations\n",
    "- Layout plots in panels of a figure grid\n",
    "- Visualize geographical data on maps\n",
    "- Save figures outside the notebook\n",
    "\n",
    "\n",
    "This assignment covers [Module 6](https://viz-learn.mds.ubc.ca/en/module6) of the online course. You should complete this module before attempting this assignment.\n",
    " \n",
    "</div>"
   ]
  },
  {
   "cell_type": "markdown",
   "metadata": {},
   "source": [
    "Any place you see `...`, you must fill in the function, variable, or data to complete the code. Substitute the `None` and the `raise NotImplementedError # No Answer - remove if you provide an answer` with your completed code and answers then proceed to run the cell!"
   ]
  },
  {
   "cell_type": "markdown",
   "metadata": {},
   "source": [
    "Note that some of the questions in this assignment will have hidden tests. This means that no feedback will be given as to the correctness of your solution. It will be left up to you to decide if your answer is sufficiently correct. These questions are worth 2 points."
   ]
  },
  {
   "cell_type": "code",
   "execution_count": null,
   "metadata": {},
   "outputs": [],
   "source": [
    "# Import libraries needed for this assignment\n",
    "\n",
    "from hashlib import sha1\n",
    "import altair as alt\n",
    "import pandas as pd\n",
    "import numpy as np\n",
    "import test_assignment6 as t\n",
    "from vega_datasets import data\n"
   ]
  },
  {
   "cell_type": "markdown",
   "metadata": {},
   "source": [
    "# 0. The Back Story\n",
    "\n",
    "For this assignment, instead of looking around us, we will look inside.\n",
    "There are over 7,000 languages spoken across this globe (we will be exploring only 17 of them) , but it would be interesting to know whether some of these at least allow for more rapid information transmission than others. The implications of this reach beyond just communication also restrict many of your thoughts to those that can be expressed in words (again, fascinating!). This means that you could potentially (minorly) upgrade the rate at which you distribute information by learning a new language. And it could mean that there are groups of people who have access to faster thinking than others, just because their language can convey information at a higher rate, what an enormous advantage!\n"
   ]
  },
  {
   "cell_type": "markdown",
   "metadata": {},
   "source": [
    "## 0.1 The data\n",
    "\n",
    "To aid our exploration of whether some languages are more efficient at conveying information than others, we have obtained data from [a study in Science Advances in 2019](https://advances.sciencemag.org/content/5/9/eaaw2594). There is also a popular science version of this article published in [The Economist](https://www.economist.com/graphic-detail/2019/09/28/why-are-some-languages-spoken-faster-than-others).\n",
    "\n",
    "We have compiled two tables, one with general information on the languages we are studying and one with experimental data where they recorded people speaking a certain text in different languages and noted down how fast they spoke, etc. You can find a description of the columns of both datasets below and they are available in the `data/` folder.\n",
    "\n",
    "***Note: many popular datasets have sex as a feature where the possible values are male and female. This representation reflects how the data were collected and is not meant to imply that, for example, sex is binary.***\n",
    "\n",
    "---\n",
    "\n",
    "<center><h3>Languages dataset</h4></center>\n",
    "\n",
    "| Column              | Description                                                       |\n",
    "|---------------------|-------------------------------------------------------------------|\n",
    "| iso_lang            | [ISO_639-3 language code](https://en.wikipedia.org/wiki/ISO_639-3)|\n",
    "| language            | Language name                                                     |\n",
    "| information density | Bits of information per syllable in the language                  |\n",
    "| distinct_syllables  | The number of different syllables in the language                 |\n",
    "| continent           | The continent where the language originated from. This was derived from the original column \"Family and subfamily\" where languages were categorized by their originating cotinent (for more details see [here](https://advances.sciencemag.org/content/advances/suppl/2019/08/29/5.9.eaaw2594.DC1/aaw2594_SM.pdf))            |\n",
    "| id                  | The [ISO 3166-1 numeric code](https://en.wikipedia.org/wiki/ISO_3166-1_numeric) of the country the language is spoken|\n",
    "| lat                  | The country's latitude coordinate as per [google's developer tool](https://developers.google.com/public-data/docs/canonical/countries_csv)|\n",
    "| long                  | The country's longitude coordinate as per [google's developer tool](https://developers.google.com/public-data/docs/canonical/countries_csv)|\n",
    "\n",
    "---\n",
    "\n",
    "<center><h3>Spoken texts dataset</h4></center>\n",
    "\n",
    "| Column    | Description                                                        |\n",
    "|-----------|--------------------------------------------------------------------|\n",
    "| speaker   | Speaker ID                                                         |\n",
    "| iso_lang  | [ISO_639-3 language code](https://en.wikipedia.org/wiki/ISO_639-3) |\n",
    "| text      | Text ID                                                            |\n",
    "| sex       | The sex of the speaker                                             |\n",
    "| duration  | The number of seconds it took to speak the text                    |\n",
    "| syllables | Number of syllables uttered during the speech                      |\n",
    "| age       | The age of the speaker                                             |\n",
    "\n",
    "---\n"
   ]
  },
  {
   "cell_type": "markdown",
   "metadata": {},
   "source": [
    "**Question 0.1** <br> {points: 1}\n",
    "\n",
    "Read in the `languages.csv` data and take a look at the languages we have information on. \n",
    "\n",
    "*Save the dataframe in an object named `lang_df`*. "
   ]
  },
  {
   "cell_type": "code",
   "execution_count": null,
   "metadata": {
    "deletable": false,
    "nbgrader": {
     "cell_type": "code",
     "checksum": "4a1f31191c4a968e4e87e28e11eb1268",
     "grade": false,
     "grade_id": "cell-e74c02bbd3145b6a",
     "locked": false,
     "schema_version": 3,
     "solution": true,
     "task": false
    }
   },
   "outputs": [],
   "source": [
    "lang_df = None\n",
    "\n",
    "# your code here\n",
    "raise NotImplementedError # No Answer - remove if you provide an answer\n",
    "\n",
    "lang_df"
   ]
  },
  {
   "cell_type": "code",
   "execution_count": null,
   "metadata": {
    "deletable": false,
    "editable": false,
    "nbgrader": {
     "cell_type": "code",
     "checksum": "24addc1b1fa325143c4514c2130be35b",
     "grade": true,
     "grade_id": "cell-7d3e89189f8820ef",
     "locked": true,
     "points": 1,
     "schema_version": 3,
     "solution": false,
     "task": false
    }
   },
   "outputs": [],
   "source": [
    "t.test_0_1(lang_df)"
   ]
  },
  {
   "cell_type": "markdown",
   "metadata": {},
   "source": [
    "**Question 0.2** <br> {points: 1}\n",
    "\n",
    "Each language had a unique number of possible syllables that could be used to communicated with. \n",
    "\n",
    "For example, Japanese only has a possibility of a few hundred, whereas the english language has around 7000. \n",
    "\n",
    "This makes you think how many distinct syllables you could possibly be using each day. \n",
    "\n",
    "Just from looking at the data, obtain the row of with the language that has the greatest number of distinct syllables?\n",
    "\n",
    "*Save your answer as a dataframe object named `answer0_2`*. "
   ]
  },
  {
   "cell_type": "code",
   "execution_count": null,
   "metadata": {
    "deletable": false,
    "nbgrader": {
     "cell_type": "code",
     "checksum": "3679b3953665f551aa4275db7e695711",
     "grade": false,
     "grade_id": "cell-b5d68af25df3d091",
     "locked": false,
     "schema_version": 3,
     "solution": true,
     "task": false
    }
   },
   "outputs": [],
   "source": [
    "answer0_2 = None \n",
    "\n",
    "# your code here\n",
    "raise NotImplementedError # No Answer - remove if you provide an answer\n",
    "\n",
    "answer0_2"
   ]
  },
  {
   "cell_type": "code",
   "execution_count": null,
   "metadata": {
    "deletable": false,
    "editable": false,
    "nbgrader": {
     "cell_type": "code",
     "checksum": "5fe0e64a456eb56c0fce8b551b81b8d3",
     "grade": true,
     "grade_id": "cell-d2f34c9dbe30e47d",
     "locked": true,
     "points": 1,
     "schema_version": 3,
     "solution": false,
     "task": false
    }
   },
   "outputs": [],
   "source": [
    "t.test_0_2(answer0_2)"
   ]
  },
  {
   "cell_type": "markdown",
   "metadata": {},
   "source": [
    "**Question 0.3** <br> {points: 2}\n",
    "\n",
    "Information density is essentially explaining how much information is packed into the syllables of a language and information density therefore can be used as a good estimate of the average amount of information per syllable.\n",
    "\n",
    "For example. If a language has an information density of 4.23, a second language with an information density of 8.46 would be twice as informative! This means that with equal amounts of syllables, the second language would be communicating twice as much information. \n",
    "\n",
    "This is not to be confused with the speech rate, which is how quickly the language is spoken. \n",
    "\n",
    "\n",
    "What is the language with the greatest information density? \n",
    "\n",
    "*Save your answer as a string in an object named `answer0_3`*. "
   ]
  },
  {
   "cell_type": "code",
   "execution_count": null,
   "metadata": {
    "deletable": false,
    "nbgrader": {
     "cell_type": "code",
     "checksum": "d44edbcdc8bef2d3639c7b0a5bd3f69b",
     "grade": false,
     "grade_id": "cell-24b936b26d6ce207",
     "locked": false,
     "schema_version": 3,
     "solution": true,
     "task": false
    }
   },
   "outputs": [],
   "source": [
    "answer0_3 = None \n",
    "\n",
    "# your code here\n",
    "raise NotImplementedError # No Answer - remove if you provide an answer\n",
    "\n",
    "answer0_3"
   ]
  },
  {
   "cell_type": "code",
   "execution_count": null,
   "metadata": {
    "deletable": false,
    "editable": false,
    "nbgrader": {
     "cell_type": "code",
     "checksum": "b6c994615991605ee168d5c2017eb7ea",
     "grade": true,
     "grade_id": "cell-4631b2a410b9cad9",
     "locked": true,
     "points": 2,
     "schema_version": 3,
     "solution": false,
     "task": false
    }
   },
   "outputs": [],
   "source": [
    "# check that the variable exists\n",
    "assert 'answer0_3' in globals(\n",
    "), \"Please make sure that your solution is named 'answer0_3'\"\n",
    "\n",
    "# This test has been intentionally hidden. It will be up to you to decide if your solution\n",
    "# is sufficiently good."
   ]
  },
  {
   "cell_type": "markdown",
   "metadata": {},
   "source": [
    "# 1. Language exploration\n",
    "\n",
    "Let’s start our analysis by getting familiar with potential differences and similarities between the languages in this data set. A language's information density is going to be important in how quickly a speaker can convey information, since information is transfered in form of a syllable but it would be interesting to see if the number of distinct syllables also is relevant in how information is transfered.  \n",
    "\n",
    "Try and see if there are any patterns in the data by organizing the languages by these two variables - `distinct_syllables` and `information_density`."
   ]
  },
  {
   "cell_type": "markdown",
   "metadata": {},
   "source": [
    "**Question 1.1** <br> {points: 2}  \n",
    "\n",
    "Create a scatterplot of the information density of each language versus the number of distinct syllables. Map `information_density` to the x-axis and `distinct_syllables` to the y-axis. Scale your axis so that it does not include the zero ticks on the x  and y axis. Assign a size of 50 to each point. \n",
    "\n",
    "Make sure to give each axis a label. Since we will be layering this plot, there is no need to add a title yet. \n",
    "\n",
    "*Save this plot in an object named `den_syl_plot`.*"
   ]
  },
  {
   "cell_type": "code",
   "execution_count": null,
   "metadata": {
    "deletable": false,
    "nbgrader": {
     "cell_type": "code",
     "checksum": "c062c3c0c34f92a16f3c409b1c9caa10",
     "grade": false,
     "grade_id": "cell-a8eaa13f74500aba",
     "locked": false,
     "schema_version": 3,
     "solution": true,
     "task": false
    }
   },
   "outputs": [],
   "source": [
    "den_syl_plot = None\n",
    "\n",
    "# your code here\n",
    "raise NotImplementedError # No Answer - remove if you provide an answer\n",
    "\n",
    "den_syl_plot"
   ]
  },
  {
   "cell_type": "code",
   "execution_count": null,
   "metadata": {
    "deletable": false,
    "editable": false,
    "nbgrader": {
     "cell_type": "code",
     "checksum": "f874cb8bef895e0cc3d9fb8d4b579d35",
     "grade": true,
     "grade_id": "cell-33ee7883b8b5e4e8",
     "locked": true,
     "points": 1,
     "schema_version": 3,
     "solution": false,
     "task": false
    }
   },
   "outputs": [],
   "source": [
    "t.test_1_1_1(den_syl_plot)"
   ]
  },
  {
   "cell_type": "code",
   "execution_count": null,
   "metadata": {
    "deletable": false,
    "editable": false,
    "nbgrader": {
     "cell_type": "code",
     "checksum": "787d5b2cc206ac789b15adaaa1418cff",
     "grade": true,
     "grade_id": "cell-5b138fe1a762f523",
     "locked": true,
     "points": 1,
     "schema_version": 3,
     "solution": false,
     "task": false
    }
   },
   "outputs": [],
   "source": [
    "t.test_1_1_2(den_syl_plot)"
   ]
  },
  {
   "cell_type": "markdown",
   "metadata": {},
   "source": [
    "**Question 1.2** <br> {points: 1} \n",
    "\n",
    "If you look carefully at the plot `den_syl_plot` from **Question 1.1**, you'll notice that the data appears to cluster in groups in the scatter plot. \n",
    "Can you find a categorical variable in this dataframe that roughly explains this clustering?\n",
    "\n",
    "Using the plot `den_syl_plot`, add a colour channel to the plot that reflects this categorical variable. \n",
    "\n",
    "*Save this plot in an object named `coloured_den_syl_plot`.*"
   ]
  },
  {
   "cell_type": "code",
   "execution_count": null,
   "metadata": {
    "deletable": false,
    "nbgrader": {
     "cell_type": "code",
     "checksum": "bc8b01e9953132d6666240f314afd399",
     "grade": false,
     "grade_id": "cell-b37b3c2414d18066",
     "locked": false,
     "schema_version": 3,
     "solution": true,
     "task": false
    }
   },
   "outputs": [],
   "source": [
    "coloured_den_syl_plot = None\n",
    "\n",
    "# your code here\n",
    "raise NotImplementedError # No Answer - remove if you provide an answer\n",
    "\n",
    "coloured_den_syl_plot"
   ]
  },
  {
   "cell_type": "code",
   "execution_count": null,
   "metadata": {
    "deletable": false,
    "editable": false,
    "nbgrader": {
     "cell_type": "code",
     "checksum": "485c425a455c6f3261e350d7879618f5",
     "grade": true,
     "grade_id": "cell-7566c677956e3f14",
     "locked": true,
     "points": 1,
     "schema_version": 3,
     "solution": false,
     "task": false
    }
   },
   "outputs": [],
   "source": [
    "t.test_1_2(coloured_den_syl_plot)"
   ]
  },
  {
   "cell_type": "markdown",
   "metadata": {},
   "source": [
    "**Question 1.3** <br> {points: 2} \n",
    "\n",
    "It appears that there is an language that appears to be in the middle of the two groups in our plot above. \n",
    "\n",
    "Which language does not fit in with the groups from the above plot? \n",
    "\n",
    "\n",
    "*Save the language that appears to not fit in with it's group as a string to an object named `middle_lang`.*"
   ]
  },
  {
   "cell_type": "code",
   "execution_count": null,
   "metadata": {
    "deletable": false,
    "nbgrader": {
     "cell_type": "code",
     "checksum": "0be57b67665b10104a3705ea9e503382",
     "grade": false,
     "grade_id": "cell-f39e98f72b7eb932",
     "locked": false,
     "schema_version": 3,
     "solution": true,
     "task": false
    }
   },
   "outputs": [],
   "source": [
    "middle_lang = None\n",
    "\n",
    "# your code here\n",
    "raise NotImplementedError # No Answer - remove if you provide an answer\n",
    "\n",
    "middle_lang"
   ]
  },
  {
   "cell_type": "code",
   "execution_count": null,
   "metadata": {
    "deletable": false,
    "editable": false,
    "nbgrader": {
     "cell_type": "code",
     "checksum": "2b936eafea44d92f79c1b2704200c61e",
     "grade": true,
     "grade_id": "cell-613bd4be4ac40dcb",
     "locked": true,
     "points": 2,
     "schema_version": 3,
     "solution": false,
     "task": false
    }
   },
   "outputs": [],
   "source": [
    "# check that the variable exists\n",
    "assert 'middle_lang' in globals(\n",
    "), \"Please make sure that your solution is named 'middle_lang'\"\n",
    "\n",
    "# This test has been intentionally hidden. It will be up to you to decide if your solution\n",
    "# is sufficiently good."
   ]
  },
  {
   "cell_type": "markdown",
   "metadata": {},
   "source": [
    "**Question 1.4** <br> {points: 1}\n",
    "\n",
    "Filter the dataframe `lang_df` to only contain the outlying language(s) from **Question 1.3**. \n",
    "\n",
    "*Save the dataframe in an object named `outlier_lang_df`.*"
   ]
  },
  {
   "cell_type": "code",
   "execution_count": null,
   "metadata": {
    "deletable": false,
    "nbgrader": {
     "cell_type": "code",
     "checksum": "4bfb2fed081bea1d8a007d6678e39bef",
     "grade": false,
     "grade_id": "cell-1615fd91d31dd6dc",
     "locked": false,
     "schema_version": 3,
     "solution": true,
     "task": false
    }
   },
   "outputs": [],
   "source": [
    "outlier_lang_df = None\n",
    "\n",
    "# your code here\n",
    "raise NotImplementedError # No Answer - remove if you provide an answer\n",
    "outlier_lang_df"
   ]
  },
  {
   "cell_type": "code",
   "execution_count": null,
   "metadata": {
    "deletable": false,
    "editable": false,
    "nbgrader": {
     "cell_type": "code",
     "checksum": "7aac5616addcb1665340dd54ebf3ada3",
     "grade": true,
     "grade_id": "cell-bc54a32d19b212c2",
     "locked": true,
     "points": 1,
     "schema_version": 3,
     "solution": false,
     "task": false
    }
   },
   "outputs": [],
   "source": [
    "t.test_1_4(outlier_lang_df)"
   ]
  },
  {
   "cell_type": "markdown",
   "metadata": {},
   "source": [
    "**Question 1.5** <br> {points: 2}\n",
    "\n",
    "Take the dataframe `outlier_lang_df` from **Question 1.4** and create a `mark_text` plot that annotates the language(s) deemed as outliers. Name this plot `text_plot`. You may want to change the position of the text so that it's not hiding the point it's annotating. \n",
    "\n",
    "Add `text_plot` to `coloured_den_syl_plot` and save this layered plot in an object named `annotated_plot`.  An appropriate title should be added to the combined plots and not the plots individually (This is because we will be presenting this plot with others in part 5)."
   ]
  },
  {
   "cell_type": "code",
   "execution_count": null,
   "metadata": {
    "deletable": false,
    "nbgrader": {
     "cell_type": "code",
     "checksum": "389de93eaf4388b74818838bd4d841fe",
     "grade": false,
     "grade_id": "cell-d9fa88dc1b3d54ab",
     "locked": false,
     "schema_version": 3,
     "solution": true,
     "task": false
    }
   },
   "outputs": [],
   "source": [
    "text = None\n",
    "annotated_plot = None\n",
    "\n",
    "# your code here\n",
    "raise NotImplementedError # No Answer - remove if you provide an answer\n",
    "\n",
    "\n",
    "annotated_plot"
   ]
  },
  {
   "cell_type": "code",
   "execution_count": null,
   "metadata": {
    "deletable": false,
    "editable": false,
    "nbgrader": {
     "cell_type": "code",
     "checksum": "111329f0ebbdd159949ad9e282cc6273",
     "grade": true,
     "grade_id": "cell-cdbff619eece1945",
     "locked": true,
     "points": 1,
     "schema_version": 3,
     "solution": false,
     "task": false
    }
   },
   "outputs": [],
   "source": [
    "t.test_1_5_1(text_plot)"
   ]
  },
  {
   "cell_type": "code",
   "execution_count": null,
   "metadata": {
    "deletable": false,
    "editable": false,
    "nbgrader": {
     "cell_type": "code",
     "checksum": "6a261a090fe492dccff6394c96acec91",
     "grade": true,
     "grade_id": "cell-5c282c21b449d7f0",
     "locked": true,
     "points": 1,
     "schema_version": 3,
     "solution": false,
     "task": false
    }
   },
   "outputs": [],
   "source": [
    "t.test_1_5_2(annotated_plot)"
   ]
  },
  {
   "cell_type": "markdown",
   "metadata": {},
   "source": [
    "**Question 1.6** <br> {points: 2}\n",
    "\n",
    "Which of the following observations can be made from the plot `annotated_plot` above? \n",
    "\n",
    "Select all that apply:\n",
    "\n",
    "i) Asian languages tend to have a positive relationship between the number of distinct syllables and their information density. \n",
    "\n",
    "ii) European languages tend to have a positive relationship between the number of distinct syllables and their information density.\n",
    "\n",
    "iii) Asian languages appear to have less distinct syllables for a language's information density than European languages. \n",
    "\n",
    "iv) Asian languages tend to have a lower information density than European Languages. \n",
    "\n",
    "v) European languages appear to have more distinct syllables. \n",
    "\n",
    "*To answer the question, select all that apply and add the letter(s) associated with the correct answer(s) to a list and assign it to a variable named `answer1_6`. For example, if you believe that i) and ii) are True, then your answer would look like this:*\n",
    "\n",
    "`answer1_6 = [\"i\", \"ii\"]`"
   ]
  },
  {
   "cell_type": "code",
   "execution_count": null,
   "metadata": {
    "deletable": false,
    "nbgrader": {
     "cell_type": "code",
     "checksum": "8da5bd510e7fa03a90cc45ef06c56b64",
     "grade": false,
     "grade_id": "cell-e3d0e7d3bc9a6409",
     "locked": false,
     "schema_version": 3,
     "solution": true,
     "task": false
    }
   },
   "outputs": [],
   "source": [
    "answer1_6 = None\n",
    "\n",
    "# your code here\n",
    "raise NotImplementedError # No Answer - remove if you provide an answer\n",
    "answer1_6"
   ]
  },
  {
   "cell_type": "code",
   "execution_count": null,
   "metadata": {
    "deletable": false,
    "editable": false,
    "nbgrader": {
     "cell_type": "code",
     "checksum": "5f5637cb22db689c80a1aa404d900468",
     "grade": true,
     "grade_id": "cell-f9bd45cd59f63a47",
     "locked": true,
     "points": 2,
     "schema_version": 3,
     "solution": false,
     "task": false
    }
   },
   "outputs": [],
   "source": [
    "t.test_1_6(answer1_6)"
   ]
  },
  {
   "cell_type": "markdown",
   "metadata": {},
   "source": [
    "# 2. Speech Rate and Information Density\n",
    "\n",
    "Hmm... what an intriguing pattern we just revealed... let’s keep these clusters in mind while exploring whether to continue our exploration. The two variables that determine the information rate of a language **(IR)** are its information density **(ID)** (bits of information per syllable) and the rate at which it is spoken (syllables per second) **(SR)**. \n",
    "\n",
    "\n",
    "$IR = ID * SR$ \n",
    "\n",
    "([Source: Equation 6](https://advances.sciencemag.org/content/5/9/eaaw2594))\n",
    "\n",
    "\n",
    "A high value in both would indicate a high information rate and efficient communication (a higher number of information bits conveyed per second).\n",
    "\n",
    "\n",
    "\n",
    "While the information density of each language has already been provided to us, we will have to approximate the speech rate (syllables per second) of each language using the `spoken_texts` dataset.\n",
    "\n",
    "This data was collected by the different candidates reading excepts in their native language. Excerpts such as the following were translated into all 17 languages and read by their respective candidates: \n",
    "\n",
    "- *I have a problem with my water softener. The water-level is too high and the overflow keeps\n",
    "dripping. Could you arrange to send an engineer on Tuesday morning please? It's the only day I can\n",
    "manage this week. I'd be grateful if you could confirm the arrangement in writing.*\n",
    "\n",
    "\n",
    "- *Municipal Fire Service speaking. We're trying to locate an emergency caller who rang off\n",
    "without giving any personal details. He appeared to be on the local network. He connected on our line\n",
    "number 762 584. We'd appreciate immediate attempts to trace him because he sounded desperate* \n",
    "\n",
    "\n",
    "- *Can you give me a list of the restaurants in the neighbourhood? I live in Clancy Street, NW1.\n",
    "I'm interested in something a little more exotic than usual. Perhaps a Polynesian place, for example. I'd\n",
    "prefer it not to be vegetarian.*"
   ]
  },
  {
   "cell_type": "markdown",
   "metadata": {},
   "source": [
    "**Question 2.1** <br> {points: 1}  \n",
    "\n",
    "Read in the `spoken-texts.csv` data. \n",
    "\n",
    "*Save the dataframe in an object named `speech_df`*. "
   ]
  },
  {
   "cell_type": "code",
   "execution_count": null,
   "metadata": {
    "deletable": false,
    "nbgrader": {
     "cell_type": "code",
     "checksum": "18d1e54b298d6870bde349103789d048",
     "grade": false,
     "grade_id": "cell-7cb9d21c1a0756c5",
     "locked": false,
     "schema_version": 3,
     "solution": true,
     "task": false
    }
   },
   "outputs": [],
   "source": [
    "speech_df = None\n",
    "\n",
    "# your code here\n",
    "raise NotImplementedError # No Answer - remove if you provide an answer\n",
    "\n",
    "speech_df.head()"
   ]
  },
  {
   "cell_type": "code",
   "execution_count": null,
   "metadata": {
    "deletable": false,
    "editable": false,
    "nbgrader": {
     "cell_type": "code",
     "checksum": "f3966ab94f5e081b185bf4e763889f52",
     "grade": true,
     "grade_id": "cell-d925b1d465e7decd",
     "locked": true,
     "points": 1,
     "schema_version": 3,
     "solution": false,
     "task": false
    }
   },
   "outputs": [],
   "source": [
    "t.test_2_1(speech_df)"
   ]
  },
  {
   "cell_type": "markdown",
   "metadata": {},
   "source": [
    "**Question 2.2** <br> {points: 1}  \n",
    "\n",
    "To explore the speech rate, we will have to calculate it first from columns in the `speech_df` dataframe. \n",
    "\n",
    "Create a new dataframe that contains all the columns from `speech_df` as well as a newly calculated `speech_rate` column that calculates the speech rate from the `syllables` and `duration` columns. \n",
    "\n",
    "Using the same equation as the [study in Science Advances](https://advances.sciencemag.org/content/5/9/eaaw2594), speech rate can be calculated as:\n",
    "\n",
    "$\\text{speech rate} = \\frac{\\text{Number of syllables}}{\\text{duration}}$\n",
    "\n",
    "This new column will calculate the speech rate for each observation in the `speech_df`.\n",
    "\n",
    "*Save the dataframe in an object named `speech_rate_df`*. "
   ]
  },
  {
   "cell_type": "code",
   "execution_count": null,
   "metadata": {
    "deletable": false,
    "nbgrader": {
     "cell_type": "code",
     "checksum": "6ee967d71e95fdb3e5cbc4ef001f7dbc",
     "grade": false,
     "grade_id": "cell-aeefbcf582041aaf",
     "locked": false,
     "schema_version": 3,
     "solution": true,
     "task": false
    }
   },
   "outputs": [],
   "source": [
    "speech_rate_df = None\n",
    "\n",
    "# your code here\n",
    "raise NotImplementedError # No Answer - remove if you provide an answer\n",
    "\n",
    "speech_rate_df"
   ]
  },
  {
   "cell_type": "code",
   "execution_count": null,
   "metadata": {
    "deletable": false,
    "editable": false,
    "nbgrader": {
     "cell_type": "code",
     "checksum": "751765bbd088c77d89918a9f52280d97",
     "grade": true,
     "grade_id": "cell-e980c4514147dffa",
     "locked": true,
     "points": 1,
     "schema_version": 3,
     "solution": false,
     "task": false
    }
   },
   "outputs": [],
   "source": [
    "t.test_2_2(speech_rate_df)"
   ]
  },
  {
   "cell_type": "markdown",
   "metadata": {},
   "source": [
    "**Question 2.3** <br> {points: 1}  \n",
    "\n",
    "Since we are exploring *language* information rates and not just the speech rate of individuals, we are going to have to calculate the average `speech_df` for each of the languages in our dataset. \n",
    "\n",
    "Calculate the mean speech rate of each of the languages from `speech_rate_df`. This should be a dataframe that only contains the `iso_lang` column, the `speech_rate` and an index with integer values. \n",
    "\n",
    "*Hint: You may need to reset your index.* \n",
    "\n",
    "\n",
    "*Save the dataframe in an object named `lang_speech_rt_df`*. "
   ]
  },
  {
   "cell_type": "code",
   "execution_count": null,
   "metadata": {
    "deletable": false,
    "nbgrader": {
     "cell_type": "code",
     "checksum": "a20a1779bf2d3d943a8ec5a44c75918d",
     "grade": false,
     "grade_id": "cell-7ec2d60f391fb4b9",
     "locked": false,
     "schema_version": 3,
     "solution": true,
     "task": false
    }
   },
   "outputs": [],
   "source": [
    "lang_speech_rt_df = None \n",
    "\n",
    "# your code here\n",
    "raise NotImplementedError # No Answer - remove if you provide an answer\n",
    "\n",
    "\n",
    "lang_speech_rt_df"
   ]
  },
  {
   "cell_type": "code",
   "execution_count": null,
   "metadata": {
    "deletable": false,
    "editable": false,
    "nbgrader": {
     "cell_type": "code",
     "checksum": "602c04cc63e66589f2453e1f8e375334",
     "grade": true,
     "grade_id": "cell-8ee5871eeebbbcf1",
     "locked": true,
     "points": 1,
     "schema_version": 3,
     "solution": false,
     "task": false
    }
   },
   "outputs": [],
   "source": [
    "t.test_2_3(lang_speech_rt_df)"
   ]
  },
  {
   "cell_type": "markdown",
   "metadata": {},
   "source": [
    "**Question 2.4** <br> {points: 1}  \n",
    "\n",
    "\n",
    "Combine the `lang_speech_rt_df` dataframe with our original language dataframe `lang_df` so that we can resume our language analysis and assess the information rates of different languages. Make sure that you are merging using a common key column name.\n",
    "\n",
    "\n",
    "*Save the dataframe in an object named `lang_rates_df`*. "
   ]
  },
  {
   "cell_type": "code",
   "execution_count": null,
   "metadata": {
    "deletable": false,
    "nbgrader": {
     "cell_type": "code",
     "checksum": "9f32b980e65f1c516a2b917c861b7d22",
     "grade": false,
     "grade_id": "cell-3781ab7206299ca2",
     "locked": false,
     "schema_version": 3,
     "solution": true,
     "task": false
    }
   },
   "outputs": [],
   "source": [
    "lang_rates_df = None\n",
    "\n",
    "# your code here\n",
    "raise NotImplementedError # No Answer - remove if you provide an answer\n",
    "lang_rates_df"
   ]
  },
  {
   "cell_type": "code",
   "execution_count": null,
   "metadata": {
    "deletable": false,
    "editable": false,
    "nbgrader": {
     "cell_type": "code",
     "checksum": "474f40fdb3859ddfaa53cc95fc7e5914",
     "grade": true,
     "grade_id": "cell-50b7a2a6af44d109",
     "locked": true,
     "points": 1,
     "schema_version": 3,
     "solution": false,
     "task": false
    }
   },
   "outputs": [],
   "source": [
    "t.test_2_4(lang_rates_df)"
   ]
  },
  {
   "cell_type": "markdown",
   "metadata": {},
   "source": [
    "**Question 2.5** <br> {points: 3}  \n",
    "\n",
    "Alright! Now we can finally take a look at our information rates via the two columns `information_density` and `speech_rate`. \n",
    "\n",
    "Create a scatter plot that maps the information density on the x-axis and the speech rate on the y-axis for each of the languages from the `lang_rates_df`  dataframe. Zoom in to the extent of the data instead of forcing zero to be in the axis and assign a size of 50 to each point. \n",
    "\n",
    "Use a colour channel for the same column as in the scatter plot from **Question 1.2**.  \n",
    "\n",
    "Make sure to give each axis a label and an appropriate title. \n",
    "\n",
    "\n",
    "\n",
    "*Save the plot in an object named `info_rate_plot`*. "
   ]
  },
  {
   "cell_type": "code",
   "execution_count": null,
   "metadata": {
    "deletable": false,
    "nbgrader": {
     "cell_type": "code",
     "checksum": "2ed7d9d082201a28f9a6813014b1a7a4",
     "grade": false,
     "grade_id": "cell-d45a3e15c32e369a",
     "locked": false,
     "schema_version": 3,
     "solution": true,
     "task": false
    }
   },
   "outputs": [],
   "source": [
    "info_rate_plot = None\n",
    "\n",
    "# your code here\n",
    "raise NotImplementedError # No Answer - remove if you provide an answer\n",
    "info_rate_plot"
   ]
  },
  {
   "cell_type": "code",
   "execution_count": null,
   "metadata": {
    "deletable": false,
    "editable": false,
    "nbgrader": {
     "cell_type": "code",
     "checksum": "e125d8375e41083267d400e48faa49cb",
     "grade": true,
     "grade_id": "cell-a1329034790f2d03",
     "locked": true,
     "points": 1,
     "schema_version": 3,
     "solution": false,
     "task": false
    }
   },
   "outputs": [],
   "source": [
    "t.test_2_5_1(info_rate_plot)"
   ]
  },
  {
   "cell_type": "code",
   "execution_count": null,
   "metadata": {
    "deletable": false,
    "editable": false,
    "nbgrader": {
     "cell_type": "code",
     "checksum": "622cfce60713ff4ee848bb89de70418a",
     "grade": true,
     "grade_id": "cell-beddea82aca8c6db",
     "locked": true,
     "points": 1,
     "schema_version": 3,
     "solution": false,
     "task": false
    }
   },
   "outputs": [],
   "source": [
    "t.test_2_5_2(info_rate_plot)"
   ]
  },
  {
   "cell_type": "code",
   "execution_count": null,
   "metadata": {
    "deletable": false,
    "editable": false,
    "nbgrader": {
     "cell_type": "code",
     "checksum": "c7d9c3895219152b471a57cf24046223",
     "grade": true,
     "grade_id": "cell-90a6bcf9b294c004",
     "locked": true,
     "points": 1,
     "schema_version": 3,
     "solution": false,
     "task": false
    }
   },
   "outputs": [],
   "source": [
    "t.test_titles(info_rate_plot)"
   ]
  },
  {
   "cell_type": "markdown",
   "metadata": {},
   "source": [
    "**Question 2.6** <br> {points: 2}\n",
    "\n",
    "Alright, what have we learned about the information rates of languages? Which of the following observations can be said regarding the plot `info_rate_plot` from the question above?\n",
    "\n",
    "***Remember that a high value in both speech rate and information density indicates a high information rate.***\n",
    "\n",
    "Select all that apply:\n",
    "\n",
    "i) There seems to be a big difference between Asia and European languages. \n",
    "\n",
    "ii) There does not seem to be any big differences between Asia and European languages. \n",
    "\n",
    "iii) There seems to be no languages that have a really high information rate (upper right corner of the plot).\n",
    "\n",
    "iv) There seems to be no languages that have a really low information rate (lower left corner of the plot).\n",
    "\n",
    "v) Information density and speech rate appear to have a linear positive relationship.\n",
    "\n",
    "*To answer the question, select all that apply and add the letter(s) associated with the correct answer(s) to a list and assign it to a variable named `answer2_6`. For example, if you believe that i) and ii) are True, then your answer would look like this:*\n",
    "\n",
    "`answer2_6 = [\"i\", \"ii\"]`"
   ]
  },
  {
   "cell_type": "code",
   "execution_count": null,
   "metadata": {
    "deletable": false,
    "nbgrader": {
     "cell_type": "code",
     "checksum": "e61c8fcc0b48f9b5e842b399da9ed8b5",
     "grade": false,
     "grade_id": "cell-367101099c0bf707",
     "locked": false,
     "schema_version": 3,
     "solution": true,
     "task": false
    }
   },
   "outputs": [],
   "source": [
    "answer2_6 = None\n",
    "\n",
    "# your code here\n",
    "raise NotImplementedError # No Answer - remove if you provide an answer\n",
    "answer2_6"
   ]
  },
  {
   "cell_type": "code",
   "execution_count": null,
   "metadata": {
    "deletable": false,
    "editable": false,
    "nbgrader": {
     "cell_type": "code",
     "checksum": "2ade715d4ca16cf980ebf2e2ca05af7f",
     "grade": true,
     "grade_id": "cell-383520488864c933",
     "locked": true,
     "points": 2,
     "schema_version": 3,
     "solution": false,
     "task": false
    }
   },
   "outputs": [],
   "source": [
    "t.test_2_6(answer2_6)"
   ]
  },
  {
   "cell_type": "markdown",
   "metadata": {},
   "source": [
    "# 3. Language information rate\n",
    "\n",
    "Oh those results are very interesting…\n",
    "\n",
    "It looks like there is no language that is both high in information density and speech rate. This may be indicative  that the human mind is not good at processing auditory information beyond a certain rate. (You can read more in the [article](https://advances.sciencemag.org/content/5/9/eaaw2594) if you're interested). \n",
    "\n",
    "In the previous question we looked at the average speech rate of each language, however, we learned that it's important to look at the distributions and not just a single value always. Since we are looking at many different candidates speaking there are going to be different speech rates and therefore different rates at which information is communicated. \n",
    "\n",
    "Let’s directly plot the distribution  at which information is conveyed with an \"information rate\" measure and see if there are at least small differences between them. This might help our analysis and answer our question if all languages convey information at a similar rate. \n"
   ]
  },
  {
   "cell_type": "markdown",
   "metadata": {},
   "source": [
    "**Question 3.1** <br> {points: 1}\n",
    "\n",
    "Before we can begin to plot, we need to add a few columns to our `speech_rate_df` dataframe so that we can calculate each speaker's information rate.\n",
    "\n",
    "First, select the `iso_lang`, `information_density`, `continent`, `language`, `id` and `lat` and `lon` columns from the `lang_rates_df` dataframe and merge them with the `speech_rate_df` dataframe. This will help us differentiate between the two continents and let us calculate the information rate for each speaker in the `speech_rate_df`. \n",
    "\n",
    "*Save the dataframe in an object named `speech_larger_df`*. "
   ]
  },
  {
   "cell_type": "code",
   "execution_count": null,
   "metadata": {
    "deletable": false,
    "nbgrader": {
     "cell_type": "code",
     "checksum": "ae98dc68a72461552acdb17c2ab989f3",
     "grade": false,
     "grade_id": "cell-bb0409ce018a89d0",
     "locked": false,
     "schema_version": 3,
     "solution": true,
     "task": false
    }
   },
   "outputs": [],
   "source": [
    "speech_larger_df = None\n",
    "\n",
    "# your code here\n",
    "raise NotImplementedError # No Answer - remove if you provide an answer\n",
    "speech_larger_df"
   ]
  },
  {
   "cell_type": "code",
   "execution_count": null,
   "metadata": {
    "deletable": false,
    "editable": false,
    "nbgrader": {
     "cell_type": "code",
     "checksum": "c44dd92981e8b53d3a6385f8fe6b78e2",
     "grade": true,
     "grade_id": "cell-47f7b255e13254a3",
     "locked": true,
     "points": 1,
     "schema_version": 3,
     "solution": false,
     "task": false
    }
   },
   "outputs": [],
   "source": [
    "t.test_3_1(speech_larger_df)"
   ]
  },
  {
   "cell_type": "markdown",
   "metadata": {},
   "source": [
    "**Question 3.2** <br> {points: 2}\n",
    "\n",
    "Ok, let's now calculate the information rate for each speaker and add it as a new column named `information_rate` in the `speech_larger_df` dataframe.\n",
    "\n",
    "information rate can be calculated (with units as the number of bits of information per second) with the following equation: \n",
    "\n",
    "$\\text{information rate} = \\text{speech rate} * \\text{information density}$ \n",
    "\n",
    "Since we will have multiple information rates for each language, we can visualize them in a distribution and attempt to answer our question if all languages convey information at a similar rate.\n",
    "\n",
    "\n",
    "*Save the dataframe in an object named `speech_full_df`*. "
   ]
  },
  {
   "cell_type": "code",
   "execution_count": null,
   "metadata": {
    "deletable": false,
    "nbgrader": {
     "cell_type": "code",
     "checksum": "ce8e5f72583f043b34650154e9351080",
     "grade": false,
     "grade_id": "cell-13a4a9bd3fc50e15",
     "locked": false,
     "schema_version": 3,
     "solution": true,
     "task": false
    }
   },
   "outputs": [],
   "source": [
    "speech_full_df = None\n",
    "\n",
    "# your code here\n",
    "raise NotImplementedError # No Answer - remove if you provide an answer\n",
    "speech_full_df"
   ]
  },
  {
   "cell_type": "code",
   "execution_count": null,
   "metadata": {
    "deletable": false,
    "editable": false,
    "nbgrader": {
     "cell_type": "code",
     "checksum": "1b46c9e713ba3ae4b0eb228d42a78f25",
     "grade": true,
     "grade_id": "cell-71ba054ed1219c60",
     "locked": true,
     "points": 2,
     "schema_version": 3,
     "solution": false,
     "task": false
    }
   },
   "outputs": [],
   "source": [
    "t.test_3_2(speech_full_df)"
   ]
  },
  {
   "cell_type": "markdown",
   "metadata": {},
   "source": [
    "**Question 3.3** <br> {points: 1}\n",
    "\n",
    "What is the average information rate for each language? Create a pandas series that contains the name of the language and the mean information rate for each language and sort it in ascending order.\n",
    "\n",
    "*Save the **panda series** in an object named `mean_info_rate`*."
   ]
  },
  {
   "cell_type": "code",
   "execution_count": null,
   "metadata": {
    "deletable": false,
    "nbgrader": {
     "cell_type": "code",
     "checksum": "a523258f901327fa4a8cd85e5b4a2f5d",
     "grade": false,
     "grade_id": "cell-28849128fd67ea35",
     "locked": false,
     "schema_version": 3,
     "solution": true,
     "task": false
    }
   },
   "outputs": [],
   "source": [
    "mean_info_rate = None \n",
    "\n",
    "# your code here\n",
    "raise NotImplementedError # No Answer - remove if you provide an answer\n",
    "mean_info_rate"
   ]
  },
  {
   "cell_type": "code",
   "execution_count": null,
   "metadata": {
    "deletable": false,
    "editable": false,
    "nbgrader": {
     "cell_type": "code",
     "checksum": "d54db15f0b9dc6c4a1de22c1cce75dab",
     "grade": true,
     "grade_id": "cell-f14147e239b3afbc",
     "locked": true,
     "points": 1,
     "schema_version": 3,
     "solution": false,
     "task": false
    }
   },
   "outputs": [],
   "source": [
    "t.test_3_3(mean_info_rate)"
   ]
  },
  {
   "cell_type": "markdown",
   "metadata": {},
   "source": [
    "**Question 3.4** <br> {points: 3}\n",
    "\n",
    "Create a rug plot using the `speech_full_df` dataframe mapping the language on one axis and the information rate on the other. Colour this by the same variable as in the previous two scatter plots. Set opacity to 0.3 and a size of 10 for the marks. Make sure you scale your x-axis so that zero is not required in your plot.\n",
    "\n",
    "Make sure that you sort the languages in order of **ascending mean information rate**\n",
    "*Hint: You'll have to use `mean_info_rate` here*.\n",
    "Make sure to give each axis a label. Since we will be layering this plot, there is no need to add a title yet. \n",
    "\n",
    "*Save the plot in an object named `info_rate_dist`*. "
   ]
  },
  {
   "cell_type": "code",
   "execution_count": null,
   "metadata": {
    "deletable": false,
    "nbgrader": {
     "cell_type": "code",
     "checksum": "6b093f5b170a0b907ffaca9c5f04e9f6",
     "grade": false,
     "grade_id": "cell-f870188b6623146c",
     "locked": false,
     "schema_version": 3,
     "solution": true,
     "task": false
    }
   },
   "outputs": [],
   "source": [
    "info_rate_dist = None \n",
    "\n",
    "# your code here\n",
    "raise NotImplementedError # No Answer - remove if you provide an answer\n",
    "info_rate_dist"
   ]
  },
  {
   "cell_type": "code",
   "execution_count": null,
   "metadata": {
    "deletable": false,
    "editable": false,
    "nbgrader": {
     "cell_type": "code",
     "checksum": "cff2ff81a66be2335462ab68bd450dba",
     "grade": true,
     "grade_id": "cell-77afe11f96b2dfc4",
     "locked": true,
     "points": 1,
     "schema_version": 3,
     "solution": false,
     "task": false
    }
   },
   "outputs": [],
   "source": [
    "t.test_3_4_1(info_rate_dist)"
   ]
  },
  {
   "cell_type": "code",
   "execution_count": null,
   "metadata": {
    "deletable": false,
    "editable": false,
    "nbgrader": {
     "cell_type": "code",
     "checksum": "61a38cb30abdc0a682b1a6216dd60384",
     "grade": true,
     "grade_id": "cell-608d8689e7de7629",
     "locked": true,
     "points": 1,
     "schema_version": 3,
     "solution": false,
     "task": false
    }
   },
   "outputs": [],
   "source": [
    "t.test_3_4_2(info_rate_dist)"
   ]
  },
  {
   "cell_type": "code",
   "execution_count": null,
   "metadata": {
    "deletable": false,
    "editable": false,
    "nbgrader": {
     "cell_type": "code",
     "checksum": "d70fc4fd555d37aa96ef892a2a0f71b9",
     "grade": true,
     "grade_id": "cell-363685a16e231170",
     "locked": true,
     "points": 1,
     "schema_version": 3,
     "solution": false,
     "task": false
    }
   },
   "outputs": [],
   "source": [
    "t.test_3_4_3(info_rate_dist)"
   ]
  },
  {
   "cell_type": "markdown",
   "metadata": {},
   "source": [
    "**Question 3.5** <br> {points: 3}\n",
    "\n",
    "This time, we want to include a mean value in our plot. Create a `.mark_circle()` plot **chained from the plot `info_rate_dist` from Question 3.4**, however this should only plot the mean information rate for each language. The point should be black and size 40. Save this in an object named `mean_info_plot`. \n",
    "\n",
    "\n",
    "Next, layer the plots `info_rate_dist` from **Question 3.4** and `mean_info_plot` together and save it in an object named `info_dists`.\n",
    "\n",
    "An appropriate title should be added to the combined plots and not the plots individually (This is because we will be presenting this plot with others in part 5).\n",
    "\n"
   ]
  },
  {
   "cell_type": "code",
   "execution_count": null,
   "metadata": {
    "deletable": false,
    "nbgrader": {
     "cell_type": "code",
     "checksum": "1c529aa596f54a5577b2e56adf7bc837",
     "grade": false,
     "grade_id": "cell-1f006f26c56bf34d",
     "locked": false,
     "schema_version": 3,
     "solution": true,
     "task": false
    }
   },
   "outputs": [],
   "source": [
    "mean_info_plot = None \n",
    "info_dists = None \n",
    "\n",
    "# your code here\n",
    "raise NotImplementedError # No Answer - remove if you provide an answer\n",
    "info_dists"
   ]
  },
  {
   "cell_type": "code",
   "execution_count": null,
   "metadata": {
    "deletable": false,
    "editable": false,
    "nbgrader": {
     "cell_type": "code",
     "checksum": "686e0c1a117d6b886fca6255694b7eda",
     "grade": true,
     "grade_id": "cell-3f42890eaffbb7d3",
     "locked": true,
     "points": 1,
     "schema_version": 3,
     "solution": false,
     "task": false
    }
   },
   "outputs": [],
   "source": [
    "t.test_3_5_1(info_dists)"
   ]
  },
  {
   "cell_type": "code",
   "execution_count": null,
   "metadata": {
    "deletable": false,
    "editable": false,
    "nbgrader": {
     "cell_type": "code",
     "checksum": "4621785e6f6f4042fefff009277130d3",
     "grade": true,
     "grade_id": "cell-a89e8c978e9f5e1b",
     "locked": true,
     "points": 1,
     "schema_version": 3,
     "solution": false,
     "task": false
    }
   },
   "outputs": [],
   "source": [
    "t.test_3_5_2(info_dists)"
   ]
  },
  {
   "cell_type": "code",
   "execution_count": null,
   "metadata": {
    "deletable": false,
    "editable": false,
    "nbgrader": {
     "cell_type": "code",
     "checksum": "f1789a97ff6bf79c8f6427f582a7fcbd",
     "grade": true,
     "grade_id": "cell-59060283081ad5e6",
     "locked": true,
     "points": 1,
     "schema_version": 3,
     "solution": false,
     "task": false
    }
   },
   "outputs": [],
   "source": [
    "t.test_3_5_3(info_dists)"
   ]
  },
  {
   "cell_type": "markdown",
   "metadata": {},
   "source": [
    "**Question 3.6** <br> {points: 3}\n",
    "\n",
    "Which language has the highest mean information rate for each continent? \n",
    "\n",
    "Save each language as a string in an object named `asian_highest` and `european_highest`. "
   ]
  },
  {
   "cell_type": "code",
   "execution_count": null,
   "metadata": {
    "deletable": false,
    "nbgrader": {
     "cell_type": "code",
     "checksum": "cb57df4ab75f6201692f583a6f5b83fe",
     "grade": false,
     "grade_id": "cell-49d7a9f7d0b821a4",
     "locked": false,
     "schema_version": 3,
     "solution": true,
     "task": false
    }
   },
   "outputs": [],
   "source": [
    "asian_highest = None \n",
    "european_highest = None \n",
    "\n",
    "# your code here\n",
    "raise NotImplementedError # No Answer - remove if you provide an answer"
   ]
  },
  {
   "cell_type": "code",
   "execution_count": null,
   "metadata": {
    "deletable": false,
    "editable": false,
    "nbgrader": {
     "cell_type": "code",
     "checksum": "ddf900a67acce3e5e392fb5e9ff37a9d",
     "grade": true,
     "grade_id": "cell-8b6ee51b91411987",
     "locked": true,
     "points": 1,
     "schema_version": 3,
     "solution": false,
     "task": false
    }
   },
   "outputs": [],
   "source": [
    "t.test_3_6_1(european_highest)"
   ]
  },
  {
   "cell_type": "code",
   "execution_count": null,
   "metadata": {
    "deletable": false,
    "editable": false,
    "nbgrader": {
     "cell_type": "code",
     "checksum": "5d2743a99f477526fb7c9e20148d85e5",
     "grade": true,
     "grade_id": "cell-dd5c264dd280daf5",
     "locked": true,
     "points": 2,
     "schema_version": 3,
     "solution": false,
     "task": false
    }
   },
   "outputs": [],
   "source": [
    "# check that the variable exists\n",
    "assert 'asian_highest' in globals(\n",
    "), \"Please make sure that your solution is named 'asian_highest'\"\n",
    "\n",
    "# This test has been intentionally hidden. It will be up to you to decide if your solution\n",
    "# is sufficiently good."
   ]
  },
  {
   "cell_type": "markdown",
   "metadata": {},
   "source": [
    "**Question 3.7** <br> {points: 2}\n",
    "\n",
    "Which language has the lowest mean information rate for each continent? \n",
    "\n",
    "Save each language as a string in an object named `asian_lowest` and `european_lowest`. "
   ]
  },
  {
   "cell_type": "code",
   "execution_count": null,
   "metadata": {
    "deletable": false,
    "nbgrader": {
     "cell_type": "code",
     "checksum": "68d7dd12acbf39bb1f713c9c03f84b3e",
     "grade": false,
     "grade_id": "cell-f2017b9dfe44613e",
     "locked": false,
     "schema_version": 3,
     "solution": true,
     "task": false
    }
   },
   "outputs": [],
   "source": [
    "asian_lowest = None\n",
    "european_lowest = None \n",
    "\n",
    "# your code here\n",
    "raise NotImplementedError # No Answer - remove if you provide an answer\n"
   ]
  },
  {
   "cell_type": "code",
   "execution_count": null,
   "metadata": {
    "deletable": false,
    "editable": false,
    "nbgrader": {
     "cell_type": "code",
     "checksum": "22d0fca751bef0d16a87cd86662e1abf",
     "grade": true,
     "grade_id": "cell-20cd1c29be341482",
     "locked": true,
     "points": 1,
     "schema_version": 3,
     "solution": false,
     "task": false
    }
   },
   "outputs": [],
   "source": [
    "t.test_3_7_1(european_lowest)"
   ]
  },
  {
   "cell_type": "code",
   "execution_count": null,
   "metadata": {
    "deletable": false,
    "editable": false,
    "nbgrader": {
     "cell_type": "code",
     "checksum": "da365eb76f7d8c6fa5d095f1617cdfc0",
     "grade": true,
     "grade_id": "cell-d52e6d1f7ee65044",
     "locked": true,
     "points": 1,
     "schema_version": 3,
     "solution": false,
     "task": false
    }
   },
   "outputs": [],
   "source": [
    "t.test_3_7_2(asian_lowest)"
   ]
  },
  {
   "cell_type": "markdown",
   "metadata": {},
   "source": [
    "**Question 3.8** <br> {points: 1}\n",
    "\n",
    "Which language appears to be the least consistent (greatest range of values) when it comes to communicating information? \n",
    "\n",
    "Save your answer as a string in an object named `answer3_8`."
   ]
  },
  {
   "cell_type": "code",
   "execution_count": null,
   "metadata": {
    "deletable": false,
    "nbgrader": {
     "cell_type": "code",
     "checksum": "b8220648bad7031b3036d350d16025d9",
     "grade": false,
     "grade_id": "cell-e4fa2639686506ff",
     "locked": false,
     "schema_version": 3,
     "solution": true,
     "task": false
    }
   },
   "outputs": [],
   "source": [
    "answer3_8 = None\n",
    "\n",
    "# your code here\n",
    "raise NotImplementedError # No Answer - remove if you provide an answer"
   ]
  },
  {
   "cell_type": "code",
   "execution_count": null,
   "metadata": {
    "deletable": false,
    "editable": false,
    "nbgrader": {
     "cell_type": "code",
     "checksum": "31f5f7ce2443735cc553041c9d68d28f",
     "grade": true,
     "grade_id": "cell-bfd5c8e2989af6b6",
     "locked": true,
     "points": 1,
     "schema_version": 3,
     "solution": false,
     "task": false
    }
   },
   "outputs": [],
   "source": [
    "t.test_3_8(answer3_8)"
   ]
  },
  {
   "cell_type": "markdown",
   "metadata": {},
   "source": [
    "**Question 3.9** <br> {points: 1}\n",
    "\n",
    "Let's return back to our original question **\"Do all languages convey information at a a similar rate\"**. \n",
    "Although we would need more statistical methods to answer this properly, generally speaking, how would you answer it by looking at the plot above? \n",
    "\n",
    "\n",
    "A) Languages generally communicate information at approximately similar rate (within 20 units). \n",
    "\n",
    "B) There is quite a bit of variation between the rates at which information is communicated.\n",
    "\n",
    "C) Languages from the same continent communicate information at a similar rate.\n",
    "\n",
    "To answer the question, assign the letter associated with the correct answer to a variable in the code cell below.\n",
    "\n",
    "*Answer in the cell below using the uppercase letter associated with your answer. Place your answer between `\"\"`, assign the correct answer to an object called `answer3_9`.*\n"
   ]
  },
  {
   "cell_type": "code",
   "execution_count": null,
   "metadata": {
    "deletable": false,
    "nbgrader": {
     "cell_type": "code",
     "checksum": "31c341a6c7a229c4169d01bf4987bd9e",
     "grade": false,
     "grade_id": "cell-8600d0911cbaf71d",
     "locked": false,
     "schema_version": 3,
     "solution": true,
     "task": false
    }
   },
   "outputs": [],
   "source": [
    "answer3_9 = None\n",
    "\n",
    "# your code here\n",
    "raise NotImplementedError # No Answer - remove if you provide an answer\n",
    "answer3_9"
   ]
  },
  {
   "cell_type": "code",
   "execution_count": null,
   "metadata": {
    "deletable": false,
    "editable": false,
    "nbgrader": {
     "cell_type": "code",
     "checksum": "0880587ee8d5c58acb7cb229c282998a",
     "grade": true,
     "grade_id": "cell-7a418e15aa3ad3cc",
     "locked": true,
     "points": 1,
     "schema_version": 3,
     "solution": false,
     "task": false
    }
   },
   "outputs": [],
   "source": [
    "t.test_3_9(answer3_9)"
   ]
  },
  {
   "cell_type": "markdown",
   "metadata": {},
   "source": [
    "# 4. Making Maps \n",
    "\n",
    "What a perfect opportunity to practice the mapping skills we just learned. Since we are using geographical columns, using a geographical map may be a better way to communicate the mean information rate of each language instead of simply making a chart or a plot.\n",
    "\n",
    "In this questions, we will be using the `world_110m` TopoJSON file of world countries (at 110-meter resolution) from the `vega_datasets` library. "
   ]
  },
  {
   "cell_type": "code",
   "execution_count": null,
   "metadata": {},
   "outputs": [],
   "source": [
    "world_data = data.world_110m"
   ]
  },
  {
   "cell_type": "markdown",
   "metadata": {},
   "source": [
    "**Question 4.1** <br> {points: 1}\n",
    "\n",
    "In the lecture, you learned that the TopoJSON is a specialized format, that needs to be parsed using Altair to select  the desired feature object from the topology. \n",
    "\n",
    "Fill in the code below to indicating that we wish to extract the GeoJSON features from the `world_data` data for the countries object:\n",
    "\n",
    "*Save the data in an object named `world_map`.*"
   ]
  },
  {
   "cell_type": "code",
   "execution_count": null,
   "metadata": {
    "deletable": false,
    "nbgrader": {
     "cell_type": "code",
     "checksum": "8ad652092ed05b444491a5eea4f5cdc4",
     "grade": false,
     "grade_id": "cell-7716c7552869a8af",
     "locked": false,
     "schema_version": 3,
     "solution": true,
     "task": false
    }
   },
   "outputs": [],
   "source": [
    "# world_map = alt....(....url, ...)\n",
    "\n",
    "# your code here\n",
    "raise NotImplementedError # No Answer - remove if you provide an answer"
   ]
  },
  {
   "cell_type": "code",
   "execution_count": null,
   "metadata": {
    "deletable": false,
    "editable": false,
    "nbgrader": {
     "cell_type": "code",
     "checksum": "b73fe9a07a26aab891aaf713e8a62a49",
     "grade": true,
     "grade_id": "cell-4e29cbf6c42993cb",
     "locked": true,
     "points": 1,
     "schema_version": 3,
     "solution": false,
     "task": false
    }
   },
   "outputs": [],
   "source": [
    "t.test_4_1(world_map)"
   ]
  },
  {
   "cell_type": "markdown",
   "metadata": {},
   "source": [
    "**Question 4.2** <br> {points: 1}\n",
    "\n",
    "Although the `world_map` data provides what we need to make a map, the reason for making this map is to communicate the mean information rate of each language. Using the `speech_full_df` dataframe we made in **Question 3.2**, make a new dataframe where you groupby the columns:\n",
    "- `language`\n",
    "- `id`(The [ISO 3166-1 numeric code](https://en.wikipedia.org/wiki/ISO_3166-1_numeric) of the country)\n",
    "- `lat`, and\n",
    "- `lon`\n",
    "\n",
    "Then obtain the mean values of all other columns we did not group in from `speech_df`. Don't forget to reset your index, to make sure that `language` and  `id` are still available to Altair to use. \n",
    "\n",
    "*Save this in a dataframe named `mean_rates_df`.*"
   ]
  },
  {
   "cell_type": "code",
   "execution_count": null,
   "metadata": {
    "deletable": false,
    "nbgrader": {
     "cell_type": "code",
     "checksum": "23c454ee050ed428de76747fb4a9eeeb",
     "grade": false,
     "grade_id": "cell-7660f6a7447db9ed",
     "locked": false,
     "schema_version": 3,
     "solution": true,
     "task": false
    }
   },
   "outputs": [],
   "source": [
    "mean_rates_df = None\n",
    "\n",
    "# your code here\n",
    "raise NotImplementedError # No Answer - remove if you provide an answer\n",
    "\n",
    "mean_rates_df"
   ]
  },
  {
   "cell_type": "code",
   "execution_count": null,
   "metadata": {
    "deletable": false,
    "editable": false,
    "nbgrader": {
     "cell_type": "code",
     "checksum": "4dfe5e022774eeceaafbb025f935b7aa",
     "grade": true,
     "grade_id": "cell-f0ef453150370458",
     "locked": true,
     "points": 1,
     "schema_version": 3,
     "solution": false,
     "task": false
    }
   },
   "outputs": [],
   "source": [
    "t.test_4_2(mean_rates_df)"
   ]
  },
  {
   "cell_type": "markdown",
   "metadata": {},
   "source": [
    "**Question 4.3** <br> {points: 3}\n",
    "\n",
    "Ok, now we've prepared our data, it's time to make the map.\n",
    "\n",
    "Since this code is a little tricky, we've provided you with the majority of it, while we expect you to *fill in the \"blanks\"* or more so \"*replace the `...` with the necessary code*\". \n",
    "\n",
    "Let's explain the code below before you start.\n",
    "\n",
    "To make this map, we use 2 Chart objects;`background` and `foreground`.  \n",
    "We need to use the `world_map` data for the `background` map and both `world_map` and `mean_rates_df` for the `foreground` map where we want to colour the countries based on the `information_rate` values. \n",
    "\n",
    "Since the `foreground` map is joining 2 data sources we need to use `.transform_lookup()` and `.LookupData()` to merge them together using `id` in each source as the common column. The columns we wish to fetch from the `mean_rates_df` dataframe are `information_rate` and `language`. \n",
    "This may be a little confusing but feel free to look at the documentation we've provided [here](https://altair-viz.github.io/user_guide/transform/lookup.html#example-lookup-transforms-for-geographical-visualization).\n",
    "\n",
    "We also are assigning both the `language` and `information_rate` column to the `tooltip` channel which will help us confirm exact values and labels. \n",
    "\n",
    "You can use any colour scheme you think is appropriate but take a look [here](https://vega.github.io/vega/docs/schemes/) for suggestions.\n",
    "\n",
    "Finally, we layer these two charts together in `lang_map` and make sure we give it an `naturalEarth1` projection with the plot zoomed in to `200` and panned to `120, 260`. "
   ]
  },
  {
   "cell_type": "code",
   "execution_count": null,
   "metadata": {
    "deletable": false,
    "nbgrader": {
     "cell_type": "code",
     "checksum": "c6b5088abb4ed3e5db33b4866f52adba",
     "grade": false,
     "grade_id": "cell-3a258f6fb9d5c081",
     "locked": false,
     "schema_version": 3,
     "solution": true,
     "task": false
    }
   },
   "outputs": [],
   "source": [
    "# background = alt.Chart(...).mark_geoshape(color='white', stroke=\"grey\")\n",
    "#\n",
    "# foreground = (\n",
    "#     alt.Chart(...)\n",
    "#     ....(stroke=\"black\", strokeWidth=0.15)\n",
    "#     .encode(\n",
    "#         color=alt.Color(\n",
    "#             \"...:Q\", scale=alt.Scale(...=\"...\"), title = 'Mean information Rate (info bits/second)'\n",
    "#         ),\n",
    "#         tooltip=[\n",
    "#             alt.Tooltip(\"...:N\", title=\"Language\"),\n",
    "#             alt.Tooltip(\"...:Q\", title=\"Mean information Rate (info bits/second)\", format='.2f'),\n",
    "#         ],\n",
    "#     )....(\n",
    "#         ...=\"id\",\n",
    "#         from_=alt....(mean_rates_df, \"id\", [\"...\", \"...\"]),\n",
    "#     )\n",
    "# )\n",
    "\n",
    "# lang_map = (\n",
    "#     (... + ...)\n",
    "#     .properties(width=650, height=300)\n",
    "#     ....(\"...\", scale=..., ...=[120, 260])\n",
    "# )\n",
    "\n",
    "\n",
    "# your code here\n",
    "raise NotImplementedError # No Answer - remove if you provide an answer\n",
    "\n",
    "lang_map"
   ]
  },
  {
   "cell_type": "code",
   "execution_count": null,
   "metadata": {
    "deletable": false,
    "editable": false,
    "nbgrader": {
     "cell_type": "code",
     "checksum": "24a4f32b5f6bacb4ae69a613d36157c9",
     "grade": true,
     "grade_id": "cell-75c9f172615ebd71",
     "locked": true,
     "points": 1,
     "schema_version": 3,
     "solution": false,
     "task": false
    }
   },
   "outputs": [],
   "source": [
    "t.test_4_3_1(lang_map)"
   ]
  },
  {
   "cell_type": "code",
   "execution_count": null,
   "metadata": {
    "deletable": false,
    "editable": false,
    "nbgrader": {
     "cell_type": "code",
     "checksum": "c59f82fe7c1f0826a311b632b873800d",
     "grade": true,
     "grade_id": "cell-9962bc29bf5a83d6",
     "locked": true,
     "points": 1,
     "schema_version": 3,
     "solution": false,
     "task": false
    }
   },
   "outputs": [],
   "source": [
    "t.test_4_3_2(lang_map)"
   ]
  },
  {
   "cell_type": "code",
   "execution_count": null,
   "metadata": {
    "deletable": false,
    "editable": false,
    "nbgrader": {
     "cell_type": "code",
     "checksum": "c7cac610abf79621d455295b44549602",
     "grade": true,
     "grade_id": "cell-7dd02ca611ad51d4",
     "locked": true,
     "points": 1,
     "schema_version": 3,
     "solution": false,
     "task": false
    }
   },
   "outputs": [],
   "source": [
    "t.test_4_3_3(lang_map)"
   ]
  },
  {
   "cell_type": "markdown",
   "metadata": {},
   "source": [
    "**Question 4.4** <br> {points: 2}\n",
    "\n",
    "Looking at the map above, which language has the greatest information rate? \n",
    "\n",
    "*Save your answer as a string in an object named `answer4_4`*. "
   ]
  },
  {
   "cell_type": "code",
   "execution_count": null,
   "metadata": {
    "deletable": false,
    "nbgrader": {
     "cell_type": "code",
     "checksum": "95e19984d3184a11bc01aa9867dd1411",
     "grade": false,
     "grade_id": "cell-5421142888027ebf",
     "locked": false,
     "schema_version": 3,
     "solution": true,
     "task": false
    }
   },
   "outputs": [],
   "source": [
    "answer4_4 = None\n",
    "\n",
    "# your code here\n",
    "raise NotImplementedError # No Answer - remove if you provide an answer\n",
    "answer4_4"
   ]
  },
  {
   "cell_type": "code",
   "execution_count": null,
   "metadata": {
    "deletable": false,
    "editable": false,
    "nbgrader": {
     "cell_type": "code",
     "checksum": "c360a68f6e28b76c7eeecbbb86194f42",
     "grade": true,
     "grade_id": "cell-9fd14135996932c9",
     "locked": true,
     "points": 2,
     "schema_version": 3,
     "solution": false,
     "task": false
    }
   },
   "outputs": [],
   "source": [
    "# check that the variable exists\n",
    "assert 'answer4_4' in globals(\n",
    "), \"Please make sure that your solution is named 'answer4_4'\"\n",
    "\n",
    "# This test has been intentionally hidden. It will be up to you to decide if your solution\n",
    "# is sufficiently good."
   ]
  },
  {
   "cell_type": "markdown",
   "metadata": {},
   "source": [
    "**Question 4.5** <br> {points: 3}\n",
    "\n",
    "What about a point map but this time mapping the speech rate to the size channel of each point. \n",
    "\n",
    "Let's explain the code below. \n",
    "\n",
    "To make this map, we use 2 Chart objects;`background` and `points`.  \n",
    "We again use the `world_map` data for the `background` map and `mean_rates_df` for the `points` map where we want to assign the point's size to the`speech_rate` of each country. \n",
    "\n",
    "Unlike before, we no longer need to join the 2 data sources since we have `lat` and `lon` values we can use to place the points. that means we that for the `points` chart we simply have to use `mean_rates_df` as a source and then map `lat` and `lon` to the `latitude` and `longitude` channels and then map `speach_rate` to the `size` channel. \n",
    "\n",
    "Just like we have in th previous question, we are assigning the `language` and `speech_rate` column to the `tooltip` channel which will help us confirm exact values and labels. \n",
    "\n",
    "Finally, we layer these two charts together in `point_map` and make sure we give it an `naturalEarth1` projection with the plot zoomed in to `280` and panned to `90, 370`. \n"
   ]
  },
  {
   "cell_type": "code",
   "execution_count": null,
   "metadata": {
    "deletable": false,
    "nbgrader": {
     "cell_type": "code",
     "checksum": "cc42fe1a4f1f26b91dd72b34c2225190",
     "grade": false,
     "grade_id": "cell-59b6c6b00c60a4e8",
     "locked": false,
     "schema_version": 3,
     "solution": true,
     "task": false
    }
   },
   "outputs": [],
   "source": [
    "# background = alt.Chart(...)....(color='white', stroke=\"grey\")\n",
    "\n",
    "# points = (\n",
    "#     alt.Chart(...)\n",
    "#     ....()\n",
    "#     .encode(\n",
    "#         ...='lon',\n",
    "#         ...='lat',\n",
    "#         ...=alt.Size('...', scale=alt.Scale(domain=[4,9], range=[50,500]), title=\"Average Speech Rate (syllables/sec)\"),\n",
    "#         tooltip=[\n",
    "#             alt.Tooltip(\"...:N\", title=\"Language\"),\n",
    "#             alt.Tooltip(\"...:Q\", title=\"Average Speech Rate (syllables/sec)\", format='.2f'),\n",
    "#         ]\n",
    "# ))\n",
    "\n",
    "\n",
    "# point_map = (\n",
    "#     (... + ...)\n",
    "#     .properties(width=680, height=320)\n",
    "#     ....(\"...\", scale=280, ...)\n",
    "# )\n",
    "\n",
    "\n",
    "# your code here\n",
    "raise NotImplementedError # No Answer - remove if you provide an answer\n",
    "\n",
    "point_map"
   ]
  },
  {
   "cell_type": "code",
   "execution_count": null,
   "metadata": {
    "deletable": false,
    "editable": false,
    "nbgrader": {
     "cell_type": "code",
     "checksum": "42fcac22d6e4b7f1811c438592887e42",
     "grade": true,
     "grade_id": "cell-0ece6d0a2c1a73a0",
     "locked": true,
     "points": 1,
     "schema_version": 3,
     "solution": false,
     "task": false
    }
   },
   "outputs": [],
   "source": [
    "t.test_4_5_1(point_map)"
   ]
  },
  {
   "cell_type": "code",
   "execution_count": null,
   "metadata": {
    "deletable": false,
    "editable": false,
    "nbgrader": {
     "cell_type": "code",
     "checksum": "0973aba89a3b453338ec5eca7766c615",
     "grade": true,
     "grade_id": "cell-d9f3956b0647bf22",
     "locked": true,
     "points": 1,
     "schema_version": 3,
     "solution": false,
     "task": false
    }
   },
   "outputs": [],
   "source": [
    "t.test_4_5_2(point_map)"
   ]
  },
  {
   "cell_type": "code",
   "execution_count": null,
   "metadata": {
    "deletable": false,
    "editable": false,
    "nbgrader": {
     "cell_type": "code",
     "checksum": "553eedb4a509e2b908a454f2463cbbc3",
     "grade": true,
     "grade_id": "cell-f6ef75ea8ecbc3fb",
     "locked": true,
     "points": 1,
     "schema_version": 3,
     "solution": false,
     "task": false
    }
   },
   "outputs": [],
   "source": [
    "t.test_4_5_3(point_map)"
   ]
  },
  {
   "cell_type": "markdown",
   "metadata": {},
   "source": [
    "**Question 4.6** <br> {points: 1}\n",
    "\n",
    "Which map is more effective at communicating their respective rates? (There may be data missing from plot `lang_map`. And consider how the data is presented.)\n",
    "\n",
    "\n",
    "A) `lang_map` from **Question 4.3** \n",
    "\n",
    "B) `point_map` from **Question 4.5** \n",
    "\n",
    "To answer the question, assign the letter associated with the correct answer to a variable in the code cell below.\n",
    "\n",
    "*Answer in the cell below using the uppercase letter associated with your answer. Place your answer between `\"\"`, assign the correct answer to an object called `answer4_6`.*"
   ]
  },
  {
   "cell_type": "code",
   "execution_count": null,
   "metadata": {
    "deletable": false,
    "nbgrader": {
     "cell_type": "code",
     "checksum": "0013d66fec277f888cd77d22a1c5fe8e",
     "grade": false,
     "grade_id": "cell-353926df7be525ea",
     "locked": false,
     "schema_version": 3,
     "solution": true,
     "task": false
    }
   },
   "outputs": [],
   "source": [
    "answer4_6 = None\n",
    "\n",
    "# your code here\n",
    "raise NotImplementedError # No Answer - remove if you provide an answer\n",
    "answer4_6"
   ]
  },
  {
   "cell_type": "code",
   "execution_count": null,
   "metadata": {
    "deletable": false,
    "editable": false,
    "nbgrader": {
     "cell_type": "code",
     "checksum": "4a2e54b5628d9404250865858f58141f",
     "grade": true,
     "grade_id": "cell-9948dc2834c72a89",
     "locked": true,
     "points": 1,
     "schema_version": 3,
     "solution": false,
     "task": false
    }
   },
   "outputs": [],
   "source": [
    "t.test_4_6(answer4_6)"
   ]
  },
  {
   "cell_type": "markdown",
   "metadata": {},
   "source": [
    "# 5. Figure Composition and Narrative\n",
    "\n",
    "\n",
    "Now that we have the individual figures, the final step for us here is to compile our figures into the same layout for presentation and give it a strong narrative. \n",
    "\n",
    "This will help communicate with your reader your findings in the most efficient way possible. "
   ]
  },
  {
   "cell_type": "markdown",
   "metadata": {},
   "source": [
    "**Question 5.1** <br> {points: 1}\n",
    "\n",
    "Using the plots `annotated_plot` from **Question 1.5**, `info_rate_plot` from **Question 2.5** compile the two plots horizontally. \n",
    "\n",
    "Give each plot a height and width of 150 and 180 respective and remove any titles instead giving one overall title.(The test cannot check this so please take care that you are removing individual plot titles) \n",
    "Make sure to anchor your overall title in the middle of the plot. \n",
    "\n",
    "*Save your combined plots in an object named `presentation_scatter`.*"
   ]
  },
  {
   "cell_type": "code",
   "execution_count": null,
   "metadata": {
    "deletable": false,
    "nbgrader": {
     "cell_type": "code",
     "checksum": "56125861252ae1e0d3dd06ff444a06a3",
     "grade": false,
     "grade_id": "cell-4ece4c3e00857110",
     "locked": false,
     "schema_version": 3,
     "solution": true,
     "task": false
    }
   },
   "outputs": [],
   "source": [
    "presentation_scatter = None\n",
    "\n",
    "# your code here\n",
    "raise NotImplementedError # No Answer - remove if you provide an answer\n",
    "\n",
    "presentation_scatter"
   ]
  },
  {
   "cell_type": "code",
   "execution_count": null,
   "metadata": {
    "deletable": false,
    "editable": false,
    "nbgrader": {
     "cell_type": "code",
     "checksum": "ae4ce2df14fdfa347604c49bb651845f",
     "grade": true,
     "grade_id": "cell-cd06c679c1ba7ab0",
     "locked": true,
     "points": 1,
     "schema_version": 3,
     "solution": false,
     "task": false
    }
   },
   "outputs": [],
   "source": [
    "t.test_5_1(presentation_scatter)"
   ]
  },
  {
   "cell_type": "markdown",
   "metadata": {},
   "source": [
    "**Question 5.2** <br> {points: 5}\n",
    "\n",
    "Using the plots `annotated_plot` from **Question 1.5**, `info_rate_plot` from **Question 2.5**, `info_dists` from **Question 3.5**,  and `lang_map` from **Question 4.3**, arrange these plots into a layout worthy for a presentation. \n",
    "The overall layout should look even.\n",
    "Set only 1 overall title and subtitle for the entire plot presentation. \n",
    "\n",
    "*Save your combined plots in an object named `presentation_large`.*"
   ]
  },
  {
   "cell_type": "code",
   "execution_count": null,
   "metadata": {
    "deletable": false,
    "nbgrader": {
     "cell_type": "code",
     "checksum": "50f8818a0c5836d16f1a3cd39dee10cf",
     "grade": false,
     "grade_id": "cell-7b3552304adf6607",
     "locked": false,
     "schema_version": 3,
     "solution": true,
     "task": false
    }
   },
   "outputs": [],
   "source": [
    "presentation_large = None \n",
    "\n",
    "# your code here\n",
    "raise NotImplementedError # No Answer - remove if you provide an answer\n",
    "\n",
    "presentation_large"
   ]
  },
  {
   "cell_type": "code",
   "execution_count": null,
   "metadata": {
    "deletable": false,
    "editable": false,
    "nbgrader": {
     "cell_type": "code",
     "checksum": "914e21f0e18630ee8f260a713662ca7a",
     "grade": true,
     "grade_id": "cell-93eab09c42b4a6ec",
     "locked": true,
     "points": 2,
     "schema_version": 3,
     "solution": false,
     "task": false
    }
   },
   "outputs": [],
   "source": [
    "t.test_5_2_1(presentation_large)"
   ]
  },
  {
   "cell_type": "code",
   "execution_count": null,
   "metadata": {
    "deletable": false,
    "editable": false,
    "nbgrader": {
     "cell_type": "code",
     "checksum": "675cf66a562ae93358f867bd20de0ae5",
     "grade": true,
     "grade_id": "cell-f923544db7b089e0",
     "locked": true,
     "points": 1,
     "schema_version": 3,
     "solution": false,
     "task": false
    }
   },
   "outputs": [],
   "source": [
    "t.test_5_2_2(presentation_large)"
   ]
  },
  {
   "cell_type": "code",
   "execution_count": null,
   "metadata": {
    "deletable": false,
    "editable": false,
    "nbgrader": {
     "cell_type": "code",
     "checksum": "3d3037304e760161cfe1bbc355f19993",
     "grade": true,
     "grade_id": "cell-61ad91e8d1b295d8",
     "locked": true,
     "points": 2,
     "schema_version": 3,
     "solution": false,
     "task": false
    }
   },
   "outputs": [],
   "source": [
    "t.test_5_2_3(presentation_large)"
   ]
  },
  {
   "cell_type": "markdown",
   "metadata": {},
   "source": [
    "**Question 5.3** <br> {points: 2}\n",
    "\n",
    "These results are looking pretty promising, now we just need to add a narrative so that it will be easy for others to follow along with what we have done here. \n",
    "\n",
    "Below we have told 2 stories using the three plots we have created. \n",
    "\n",
    "\n",
    "Which of the following stories is most clear about what the plots are telling us and how it motivates the next plot we're making.  There should be a clear storyline for the reader to follow as well as a clear take-home message.\n",
    "\n",
    "##### Narrative A\n",
    "\n",
    "> This dataset explores the different languages across the world and how they translate and communicate information among speakers. While looking at the relationship between the number of distinct syllables and the information density, we discovered that the French language does not follow a trend similar to its European cousins and appeared to resemble more like Asian languages. With that in tow, we see that there is a strong positive relationship between the number of distinct syllables and the information density.\n",
    ">\n",
    "> The plot from with information rate on the x-axis and the number of syllables on the y-axis, in contrast to the first plot, shows a negative relationship but this time between information density and speech rate. It appears that the faster the language is spoken, the lower the information density. It seems there is a trade-off between the speed at which a language is spoken and information density.\n",
    ">\n",
    "> Segue into our last plots with information rate on the x-axis and the languages on the y-axis, we learn that most languages in our data have a similar mean information rate even though the distributions are quite varied. The language with the greatest information rate appears to be French and the language with the lowest information rate is Thai. That being said it appears that there is some limitation that prevents humans from processing information through language most efficiently.\n",
    "\n",
    "\n",
    "##### Narrative B \n",
    "\n",
    "> Here we explored the amount of information conveyed by languages of European and Asian descent. First, we examined the relationship between the number of distinct syllables in these languages and their information density (i.e. bits of information per syllable). We discovered that as the number of distinct syllables increased, so did the information density. This finding could suggest that speakers from languages with a higher number of distinct syllables may have an advantage in conveying more information to others, compared to speakers who speak languages with a lower number of distinct syllables. Given that speech is how information is conveyed, we turned to spoken language and the rate of spoken language to see if such an advantage exists.\n",
    "> \n",
    "> To determine if more information is conveyed by one language group over another, we specifically looked at the rate at which syllables are spoken (labelled as speech rate). Here we observed slower speech rates for speakers of languages with a higher information density. This relationship is displayed in the plot with information rate on the x-axis and the languages on the y-axis. This finding suggests that there may be a balance between the information density of a language and the rate at which syllables of that language can be spoken. We hypothesized that there may be some cognitive limitations that are causing this relationship.\n",
    ">\n",
    "> If there was indeed a human cognitive limit on receiving auditory information, then we would predict that the information receiving rate (referred to as information rate in our plots) should be a close range for all human languages. When we explored the the information rate for all languages in our dataset we observed that most languages clustered together around an information rate of 40 to 45 bits per second conveyed. There was some variation, however,. With English and French having the highest information rates, while Thai and Hungarian had the lowest information rates.\n",
    "\n",
    "\n",
    "\n",
    "*Answer in the cell below either specifying `\"Narrative A\"` or `\"Narrative B\"` as a string and  assign the correct answer to an object called `answer5_2`.*"
   ]
  },
  {
   "cell_type": "code",
   "execution_count": null,
   "metadata": {
    "deletable": false,
    "nbgrader": {
     "cell_type": "code",
     "checksum": "9279760d8f172373dcb1f16398f34a89",
     "grade": false,
     "grade_id": "cell-c7c3a170258c0682",
     "locked": false,
     "schema_version": 3,
     "solution": true,
     "task": false
    }
   },
   "outputs": [],
   "source": [
    "answer5_3 = None\n",
    "\n",
    "# your code here\n",
    "raise NotImplementedError # No Answer - remove if you provide an answer\n",
    "answer5_3"
   ]
  },
  {
   "cell_type": "code",
   "execution_count": null,
   "metadata": {
    "deletable": false,
    "editable": false,
    "nbgrader": {
     "cell_type": "code",
     "checksum": "754409eb47c68bd73139bb711e87a557",
     "grade": true,
     "grade_id": "cell-fa3183feb2291a30",
     "locked": true,
     "points": 2,
     "schema_version": 3,
     "solution": false,
     "task": false
    }
   },
   "outputs": [],
   "source": [
    "t.test_5_3(answer5_3)"
   ]
  },
  {
   "cell_type": "markdown",
   "metadata": {},
   "source": [
    "# 6. Presenting Figures to a General or a Technical Audience \n",
    "\n",
    "Below you can see the original figure from [the scientific article in “Science Advances”](https://advances.sciencemag.org/content/5/9/eaaw2594)</a> and the [simplified version that was published in The Economist](https://www.economist.com/graphic-detail/2019/09/28/why-are-some-languages-spoken-faster-than-others)\n",
    "\n",
    "(you can create a free account to read the article, no need to pay or use the trial).\n",
    "There is also [an R Markdown file for how they did their analysis](https://advances.sciencemag.org/highwire/filestream/218792/field_highwire_adjunct_files/1/aaw2594_Analysis_script_file_S1.zip) in case you're interested.\n",
    "\n",
    "## Scientific figure\n",
    "\n",
    "![image.png](img/scientific.jpg)\n",
    "\n",
    "\n",
    "\n",
    "## Economist figure\n",
    "\n",
    "![image.png](img/economist_plot.png)"
   ]
  },
  {
   "cell_type": "markdown",
   "metadata": {},
   "source": [
    "**Question 6.1** <br> {points: 2}\n",
    "\n",
    "Looking at the 2 plots above, how has the Economist improved the figure from the original scientific publication?\n",
    "\n",
    "Select all that apply:\n",
    "\n",
    "i) Removed language family colours to reduce the distraction. \n",
    "\n",
    "ii) Removed some of the languages.\n",
    "\n",
    "iii) Removed title annotations.\n",
    "\n",
    "iv) Adding more data insights so the plots communicate more to the reader. \n",
    "\n",
    "v) Replaced abbreviations with full names of languages, countries and variables.\n",
    "\n",
    "vi) Added extra explanatory labels which explain the variables better.\n",
    "\n",
    "vii) Resorted the languages in a systematic way.\n",
    "\n",
    "*To answer the question, select all that apply and add the letter(s) associated with the correct answer(s) to a list and assign it to a variable named `answer6_1`. For example, if you believe that i) and ii) are True, then your answer would look like this:*\n",
    "\n",
    "`answer6_1 = [\"i\", \"ii\"]`\n"
   ]
  },
  {
   "cell_type": "code",
   "execution_count": null,
   "metadata": {
    "deletable": false,
    "nbgrader": {
     "cell_type": "code",
     "checksum": "228fb9f4b278ec04c095e8d1e9782856",
     "grade": false,
     "grade_id": "cell-2322ef3882a4eed4",
     "locked": false,
     "schema_version": 3,
     "solution": true,
     "task": false
    }
   },
   "outputs": [],
   "source": [
    "answer6_1 = None\n",
    "\n",
    "# your code here\n",
    "raise NotImplementedError # No Answer - remove if you provide an answer\n",
    "answer6_1"
   ]
  },
  {
   "cell_type": "code",
   "execution_count": null,
   "metadata": {
    "deletable": false,
    "editable": false,
    "nbgrader": {
     "cell_type": "code",
     "checksum": "99ee8d89e36b7e3b880f007c49cb3e72",
     "grade": true,
     "grade_id": "cell-b4c9e783b6df34d4",
     "locked": true,
     "points": 2,
     "schema_version": 3,
     "solution": false,
     "task": false
    }
   },
   "outputs": [],
   "source": [
    "t.test_6_1(answer6_1)"
   ]
  },
  {
   "cell_type": "markdown",
   "metadata": {},
   "source": [
    "**Question 6.2** <br> {points: 2}\n",
    "\n",
    "Do you agree with the choices made by the Economist? Is there anything you think could have been done differently or additionally, that would have communicated the findings more clearly to a general/popular science audience? \n",
    "\n",
    "Select all that apply:\n",
    "\n",
    "i) Used colour to highlight something interesting (continents) while not overwhelming the visualization.\n",
    "\n",
    "ii) Added rug plots to the densities to communicate more information. \n",
    "\n",
    "iii) Removed title annotations.\n",
    "\n",
    "iv) Added a subtitle with a clear take-home message. \n",
    "\n",
    "v) Kept the median or mean line for all languages to use as a reference point. \n",
    "\n",
    "vi) Sorted by the information rate since that is what the article was focusing on. \n",
    "\n",
    "*To answer the question, select all that apply and add the letter(s) associated with the correct answer(s) to a list and assign it to a variable named `answer6_2`. For example, if you believe that i) and ii) are True, then your answer would look like this:*\n",
    "\n",
    "`answer6_2 = [\"i\", \"ii\"]`"
   ]
  },
  {
   "cell_type": "code",
   "execution_count": null,
   "metadata": {
    "deletable": false,
    "nbgrader": {
     "cell_type": "code",
     "checksum": "425d436da6a8d32c40e0e4d4b245c346",
     "grade": false,
     "grade_id": "cell-d1c64f755e9a5667",
     "locked": false,
     "schema_version": 3,
     "solution": true,
     "task": false
    }
   },
   "outputs": [],
   "source": [
    "answer6_2 = None\n",
    "\n",
    "# your code here\n",
    "raise NotImplementedError # No Answer - remove if you provide an answer\n",
    "answer6_2"
   ]
  },
  {
   "cell_type": "code",
   "execution_count": null,
   "metadata": {
    "deletable": false,
    "editable": false,
    "nbgrader": {
     "cell_type": "code",
     "checksum": "9a7f357ffbb0be2ef148f4c7698a6667",
     "grade": true,
     "grade_id": "cell-5b0e8ca752c6a3db",
     "locked": true,
     "points": 2,
     "schema_version": 3,
     "solution": false,
     "task": false
    }
   },
   "outputs": [],
   "source": [
    "t.test_6_2(answer6_2)"
   ]
  },
  {
   "cell_type": "markdown",
   "metadata": {},
   "source": [
    "## Before Submitting \n",
    "\n",
    "Before submitting your assignment please do the following:\n",
    "\n",
    "- Read through your solutions\n",
    "- **Restart your kernel, clear output and rerun your cells from top to bottom** \n",
    "- Makes sure that none of your code is broken \n",
    "- Verify that the tests from the questions you answered have obtained the output \"Success\"\n",
    "\n",
    "This is a simple way to make sure that you are submitting all the variables needed to mark the assignment. This method should help avoid losing marks due to changes in your environment.  "
   ]
  },
  {
   "cell_type": "markdown",
   "metadata": {},
   "source": [
    "## Attributions\n",
    "\n",
    "\n",
    "- Coupé, C., Oh, Y., Dediu, D., &amp; Pellegrino, F. (2019, September 01). Different languages, similar encoding efficiency: Comparable information rates across the human communicative niche. Retrieved March 02, 2021, from https://advances.sciencemag.org/content/5/9/eaaw2594\n",
    "\n",
    "- The Economist (2019, September 28). Why are some languages spoken faster than others? . Retrieved March 02, 2021, from https://www.economist.com/graphic-detail/2019/09/28/why-are-some-languages-spoken-faster-than-others\n",
    "\n",
    "- Datasest processed and uploaded by Joel Ostblom \n",
    "\n",
    "- MDS DSCI 531: Data Visualization I - [MDS's GitHub website](https://github.com/UBC-MDS/DSCI_531_viz-1) "
   ]
  },
  {
   "cell_type": "code",
   "execution_count": null,
   "metadata": {},
   "outputs": [],
   "source": []
  }
 ],
 "metadata": {
  "kernelspec": {
   "display_name": "Python 3",
   "language": "python",
   "name": "python3"
  },
  "language_info": {
   "codemirror_mode": {
    "name": "ipython",
    "version": 3
   },
   "file_extension": ".py",
   "mimetype": "text/x-python",
   "name": "python",
   "nbconvert_exporter": "python",
   "pygments_lexer": "ipython3",
   "version": "3.8.5"
  },
  "toc": {
   "base_numbering": 1,
   "nav_menu": {},
   "number_sections": false,
   "sideBar": true,
   "skip_h1_title": false,
   "title_cell": "Table of Contents",
   "title_sidebar": "Contents",
   "toc_cell": false,
   "toc_position": {
    "height": "calc(100% - 180px)",
    "left": "10px",
    "top": "150px",
    "width": "360.742px"
   },
   "toc_section_display": true,
   "toc_window_display": false
  }
 },
 "nbformat": 4,
 "nbformat_minor": 4
}
