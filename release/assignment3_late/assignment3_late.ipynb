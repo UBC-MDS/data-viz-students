{
 "cells": [
  {
   "cell_type": "markdown",
   "metadata": {},
   "source": [
    "# Data Visualization\n",
    "\n",
    "## Assignment 3: Visualizing Distributions"
   ]
  },
  {
   "cell_type": "markdown",
   "metadata": {},
   "source": [
    "You can't learn technical subjects without hands-on practice. The assignments are an important part of the course. To submit this assignment you will need to make sure that you save your Jupyter notebook. \n",
    "\n",
    "Below are the links to 2 videos that explain:\n",
    "\n",
    "1. [How to save your Jupyter notebook](https://youtu.be/0aoLgBoAUSA) and,       \n",
    "2. [How to answer a question in a Jupyter notebook assignment](https://youtu.be/7j0WKhI3W4s)."
   ]
  },
  {
   "cell_type": "markdown",
   "metadata": {},
   "source": [
    "<div class=\"alert alert-info\" style=\"color:black\">\n",
    "    \n",
    "### Assignment Learning Goals:\n",
    "\n",
    "By the end of the module, students are expected to:\n",
    "\n",
    "- Select an appropriate distribution plot for the data.\n",
    "- Create density plots to compare a few distributions.\n",
    "- Create boxplots to compare many distributions.\n",
    "\n",
    "\n",
    "This assignment covers [Module 3](https://viz-learn.mds.ubc.ca/en/module3) of the online course. You should complete this module before attempting this assignment.\n",
    " \n",
    "</div>"
   ]
  },
  {
   "cell_type": "markdown",
   "metadata": {},
   "source": [
    "Any place you see `...`, you must fill in the function, variable, or data to complete the code. Substitute the `None` and the `raise NotImplementedError # No Answer - remove if you provide an answer` with your completed code and answers then proceed to run the cell!"
   ]
  },
  {
   "cell_type": "markdown",
   "metadata": {},
   "source": [
    "Note that some of the questions in this assignment will have hidden tests. This means that no feedback will be given as to the correctness of your solution. It will be left up to you to decide if your answer is sufficiently correct. These questions are worth 2 points."
   ]
  },
  {
   "cell_type": "code",
   "execution_count": null,
   "metadata": {},
   "outputs": [],
   "source": [
    "# Import libraries needed for this assignment\n",
    "from hashlib import sha1\n",
    "import altair as alt\n",
    "import pandas as pd\n",
    "import numpy as np\n",
    "from hashlib import sha1\n",
    "import test_assignment3 as t"
   ]
  },
  {
   "cell_type": "markdown",
   "metadata": {},
   "source": [
    "## 0. Motivation \n",
    "\n",
    "Welcome back to another episode of \"Learning how to do data visualizations\"! Tonight's topic of interest consists of whether or not we should start a new business venture. We've seen that the number of online streaming services has increased in availability over the years and since it's such a lucrative business, why not try to capitalize on it?\n",
    "\n",
    "Before putting everything on the line financially, we need to understand the movie market better so that we can get a competitive edge over existing services. How can we outshine our competitors?\n",
    "\n",
    "We need an aspiring data wrangler and future **VIZARD** to help understand the current market. \n",
    "\n",
    "This is where you come in!\n",
    "\n",
    "\n",
    "\n",
    "<img src='img/vizard.png' width=40%>\n",
    "\n",
    "\n",
    "\n",
    "\n",
    "<div>Icons made by <a href=\"https://www.freepik.com\" title=\"Freepik\">Freepik</a> from <a href=\"https://www.flaticon.com/\" title=\"Flaticon\">www.flaticon.com</a></div>"
   ]
  },
  {
   "cell_type": "markdown",
   "metadata": {},
   "source": [
    "Which companies produce what kind of movies,\n",
    "and which receive good scores? What films are currently being offered in the streaming market? \n",
    "It's our job to attempt to answer these questions so that we what type of market we are entering and further only pick specific films for our platform (less scrolling - am I right?). How has no one has thought of this before!\n",
    "\n",
    "We've even come up with a unique name for this service: Betterflix™.\n",
    "\n",
    "<img src='img/betterflix.png' width=40%>\n",
    "\n",
    "Ok, let's get started!"
   ]
  },
  {
   "cell_type": "markdown",
   "metadata": {},
   "source": [
    "# 1. Opening Scene - Non-Visual Exploratory Data Analysis\n",
    "\n",
    "When we begin EDA, it can be good to look at some textual summaries, just to get an idea of what to plot. We've done this in the previous course, so it's our instinct to want to do it here as well. "
   ]
  },
  {
   "cell_type": "markdown",
   "metadata": {},
   "source": [
    "**Question 1.1** \n",
    "    <br> {points: 1}\n",
    "\n",
    "Read in the data `movies.json`. This data is stored in a `.json` file and not a `csv` which means you are going to need a different pandas tool than `pd.read_csv()`. Take a look at the documentation for [`.read_json()`](https://pandas.pydata.org/pandas-docs/stable/reference/api/pandas.read_json.html) if you need any more help. \n",
    "\n",
    "*Assign your data to a variable named` movies_df`.*"
   ]
  },
  {
   "cell_type": "code",
   "execution_count": null,
   "metadata": {
    "deletable": false,
    "nbgrader": {
     "cell_type": "code",
     "checksum": "9cf5e35ad28af6778457c69e699d8c16",
     "grade": false,
     "grade_id": "cell-8bc15e5150631c21",
     "locked": false,
     "schema_version": 3,
     "solution": true,
     "task": false
    }
   },
   "outputs": [],
   "source": [
    "movies_df = None\n",
    "\n",
    "# your code here\n",
    "raise NotImplementedError # No Answer - remove if you provide an answer\n",
    "movies_df"
   ]
  },
  {
   "cell_type": "code",
   "execution_count": null,
   "metadata": {
    "deletable": false,
    "editable": false,
    "nbgrader": {
     "cell_type": "code",
     "checksum": "f5726cbe5191553e9c2dc9199a838cdf",
     "grade": true,
     "grade_id": "cell-d88b7d3e8c552200",
     "locked": true,
     "points": 1,
     "schema_version": 3,
     "solution": false,
     "task": false
    }
   },
   "outputs": [],
   "source": [
    "t.test_1_1(movies_df)"
   ]
  },
  {
   "cell_type": "markdown",
   "metadata": {},
   "source": [
    "\n",
    "Display information about all columns, data types, and number of NaN values in the cell below and answer the following questions:\n",
    "\n",
    "\n",
    "*Hint: How do you get **info**-rmation from a dataframe?*"
   ]
  },
  {
   "cell_type": "code",
   "execution_count": null,
   "metadata": {
    "deletable": false,
    "nbgrader": {
     "cell_type": "code",
     "checksum": "d1a992fe6ca132768507f8df369e1558",
     "grade": false,
     "grade_id": "cell-36d5cf12815c72e2",
     "locked": false,
     "schema_version": 3,
     "solution": true,
     "task": false
    }
   },
   "outputs": [],
   "source": [
    "# your code here\n",
    "raise NotImplementedError # No Answer - remove if you provide an answer"
   ]
  },
  {
   "cell_type": "markdown",
   "metadata": {},
   "source": [
    "**Question 1.2** \n",
    "    <br> {points: 1}\n",
    "    \n",
    "How many columns are there of Dtype `object`? \n",
    "\n",
    "*Save the answer in the cell below to an object of type `int` called `answer1_2`.*"
   ]
  },
  {
   "cell_type": "code",
   "execution_count": null,
   "metadata": {
    "deletable": false,
    "nbgrader": {
     "cell_type": "code",
     "checksum": "cada63c7484739bf3543bef2b3226605",
     "grade": false,
     "grade_id": "cell-ce86c08eb601db3a",
     "locked": false,
     "schema_version": 3,
     "solution": true,
     "task": false
    }
   },
   "outputs": [],
   "source": [
    "answer1_2 = None\n",
    "\n",
    "# your code here\n",
    "raise NotImplementedError # No Answer - remove if you provide an answer\n",
    "answer1_2"
   ]
  },
  {
   "cell_type": "code",
   "execution_count": null,
   "metadata": {
    "deletable": false,
    "editable": false,
    "nbgrader": {
     "cell_type": "code",
     "checksum": "af65eadbcffd3a488438f9e10b3765ad",
     "grade": true,
     "grade_id": "cell-7b66c1fae300bd40",
     "locked": true,
     "points": 1,
     "schema_version": 3,
     "solution": false,
     "task": false
    }
   },
   "outputs": [],
   "source": [
    "t.test_1_2(answer1_2)"
   ]
  },
  {
   "cell_type": "markdown",
   "metadata": {},
   "source": [
    "**Question 1.3** \n",
    "    <br> {points: 2}\n",
    "\n",
    "How many columns have null values?\n",
    "\n",
    "\n",
    "*Save the answer in the cell below to an object of type `int` called `answer1_3`.*"
   ]
  },
  {
   "cell_type": "code",
   "execution_count": null,
   "metadata": {
    "deletable": false,
    "nbgrader": {
     "cell_type": "code",
     "checksum": "d9fd36392d148d3ac202b80cbeee9ce3",
     "grade": false,
     "grade_id": "cell-b48c879e654ab44e",
     "locked": false,
     "schema_version": 3,
     "solution": true,
     "task": false
    }
   },
   "outputs": [],
   "source": [
    "answer1_3 = None\n",
    "\n",
    "# your code here\n",
    "raise NotImplementedError # No Answer - remove if you provide an answer\n",
    "answer1_3"
   ]
  },
  {
   "cell_type": "code",
   "execution_count": null,
   "metadata": {
    "deletable": false,
    "editable": false,
    "nbgrader": {
     "cell_type": "code",
     "checksum": "849d258a50597c231b629911f753fe5e",
     "grade": true,
     "grade_id": "cell-8c7163be38ef359f",
     "locked": true,
     "points": 2,
     "schema_version": 3,
     "solution": false,
     "task": false
    }
   },
   "outputs": [],
   "source": [
    "\n",
    "# check that the variable exists\n",
    "assert 'answer1_3' in globals(\n",
    "), \"Please make sure that your solution is named 'answer1_3'\"\n",
    "\n",
    "# This test has been intentionally hidden. It will be up to you to decide if your solution\n",
    "# is sufficiently good."
   ]
  },
  {
   "cell_type": "markdown",
   "metadata": {},
   "source": [
    "**Question 1.4** \n",
    "<br> {points: 1}\n",
    "\n",
    "Let's obtain some summary statistics to get a bit of an idea of our data. \n",
    "\n",
    "use the appropriate function and make sure to `include='all'` the column stats. \n",
    "\n",
    "*Save the dataframe in the cell below in an object named `movie_stats`.*"
   ]
  },
  {
   "cell_type": "code",
   "execution_count": null,
   "metadata": {
    "deletable": false,
    "nbgrader": {
     "cell_type": "code",
     "checksum": "24a0b6e6222b72d9d2a8dc5d5876e417",
     "grade": false,
     "grade_id": "cell-b8302a60280f4b6a",
     "locked": false,
     "schema_version": 3,
     "solution": true,
     "task": false
    }
   },
   "outputs": [],
   "source": [
    "movie_stats = None\n",
    "\n",
    "# your code here\n",
    "raise NotImplementedError # No Answer - remove if you provide an answer\n",
    "movie_stats"
   ]
  },
  {
   "cell_type": "code",
   "execution_count": null,
   "metadata": {
    "deletable": false,
    "editable": false,
    "nbgrader": {
     "cell_type": "code",
     "checksum": "095a060c99c8c7e14ab6df4a4fc508cc",
     "grade": true,
     "grade_id": "cell-b7146deb1f7706b9",
     "locked": true,
     "points": 1,
     "schema_version": 3,
     "solution": false,
     "task": false
    }
   },
   "outputs": [],
   "source": [
    "t.test_1_4(movie_stats)"
   ]
  },
  {
   "cell_type": "markdown",
   "metadata": {},
   "source": [
    "**Question 1.5** \n",
    "<br> {points: 1}\n",
    "\n",
    "How many unique titles are in the database?\n",
    "\n",
    "*Save the answer in the cell below to an object of type `int` named `answer1_5`.*"
   ]
  },
  {
   "cell_type": "code",
   "execution_count": null,
   "metadata": {
    "deletable": false,
    "nbgrader": {
     "cell_type": "code",
     "checksum": "b8e4fcc5557029164a0cd22a7b7b8770",
     "grade": false,
     "grade_id": "cell-6a605b6f28dc2487",
     "locked": false,
     "schema_version": 3,
     "solution": true,
     "task": false
    }
   },
   "outputs": [],
   "source": [
    "answer1_5 = None\n",
    "\n",
    "# your code here\n",
    "raise NotImplementedError # No Answer - remove if you provide an answer\n",
    "answer1_5"
   ]
  },
  {
   "cell_type": "code",
   "execution_count": null,
   "metadata": {
    "deletable": false,
    "editable": false,
    "nbgrader": {
     "cell_type": "code",
     "checksum": "c9314085cf7b0410af7febf22a507134",
     "grade": true,
     "grade_id": "cell-698bc0cdc037d91a",
     "locked": true,
     "points": 1,
     "schema_version": 3,
     "solution": false,
     "task": false
    }
   },
   "outputs": [],
   "source": [
    "t.test_1_5(answer1_5)"
   ]
  },
  {
   "cell_type": "markdown",
   "metadata": {},
   "source": [
    "**Question 1.6** \n",
    "<br> {points: 1}\n",
    "\n",
    "What was the highest budget from the dataset?\n",
    "\n",
    "*Save the answer in the cell below to an object of type `int` or `float` named `answer1_6`.*"
   ]
  },
  {
   "cell_type": "code",
   "execution_count": null,
   "metadata": {
    "deletable": false,
    "nbgrader": {
     "cell_type": "code",
     "checksum": "dbff9518488c8c0e0fd59bc9af781592",
     "grade": false,
     "grade_id": "cell-10bce1b470ae811e",
     "locked": false,
     "schema_version": 3,
     "solution": true,
     "task": false
    }
   },
   "outputs": [],
   "source": [
    "answer1_6 = None\n",
    "\n",
    "# your code here\n",
    "raise NotImplementedError # No Answer - remove if you provide an answer\n",
    "answer1_6"
   ]
  },
  {
   "cell_type": "code",
   "execution_count": null,
   "metadata": {
    "deletable": false,
    "editable": false,
    "nbgrader": {
     "cell_type": "code",
     "checksum": "7d49fcb4a4de83f10e4ab41965a4e45c",
     "grade": true,
     "grade_id": "cell-21ce3755a47074b3",
     "locked": true,
     "points": 1,
     "schema_version": 3,
     "solution": false,
     "task": false
    }
   },
   "outputs": [],
   "source": [
    "t.test_1_6(answer1_6)"
   ]
  },
  {
   "cell_type": "markdown",
   "metadata": {},
   "source": [
    "**Question 1.7** \n",
    "<br> {points: 1}\n",
    "\n",
    "How many drama films are in the dataset?\n",
    "\n",
    "*Save the answer in the cell below to an object of type `int` named `answer1_7`.*"
   ]
  },
  {
   "cell_type": "code",
   "execution_count": null,
   "metadata": {
    "deletable": false,
    "nbgrader": {
     "cell_type": "code",
     "checksum": "5aba04cc8f9b35696cb3ccdda98141cd",
     "grade": false,
     "grade_id": "cell-f18bfcf9e1236887",
     "locked": false,
     "schema_version": 3,
     "solution": true,
     "task": false
    }
   },
   "outputs": [],
   "source": [
    "answer1_7 = None\n",
    "\n",
    "# your code here\n",
    "raise NotImplementedError # No Answer - remove if you provide an answer\n",
    "answer1_7"
   ]
  },
  {
   "cell_type": "code",
   "execution_count": null,
   "metadata": {
    "deletable": false,
    "editable": false,
    "nbgrader": {
     "cell_type": "code",
     "checksum": "963bb46cee4dfe09187486ad3dd70e18",
     "grade": true,
     "grade_id": "cell-fbb34695c29dcb27",
     "locked": true,
     "points": 1,
     "schema_version": 3,
     "solution": false,
     "task": false
    }
   },
   "outputs": [],
   "source": [
    "t.test_1_7(answer1_7)"
   ]
  },
  {
   "cell_type": "markdown",
   "metadata": {},
   "source": [
    "**Question 1.8** \n",
    "<br> {points: 1}\n",
    "\n",
    "To 2 decimal places, what was the average runtime of the films in the database? \n",
    "\n",
    "*Save the answer in the cell below to an object of type `float` named `answer1_8`.*"
   ]
  },
  {
   "cell_type": "code",
   "execution_count": null,
   "metadata": {
    "deletable": false,
    "nbgrader": {
     "cell_type": "code",
     "checksum": "3ea7e508117bfc963ff1b7f996cb2b2d",
     "grade": false,
     "grade_id": "cell-0b1daabb809d72a6",
     "locked": false,
     "schema_version": 3,
     "solution": true,
     "task": false
    }
   },
   "outputs": [],
   "source": [
    "answer1_8 = None\n",
    "\n",
    "# your code here\n",
    "raise NotImplementedError # No Answer - remove if you provide an answer\n",
    "answer1_8"
   ]
  },
  {
   "cell_type": "code",
   "execution_count": null,
   "metadata": {
    "deletable": false,
    "editable": false,
    "nbgrader": {
     "cell_type": "code",
     "checksum": "8cdfce8b2bb4c0bf37239ff753be83a0",
     "grade": true,
     "grade_id": "cell-47116ee1d9a98556",
     "locked": true,
     "points": 1,
     "schema_version": 3,
     "solution": false,
     "task": false
    }
   },
   "outputs": [],
   "source": [
    "t.test_1_8(answer1_8)"
   ]
  },
  {
   "cell_type": "markdown",
   "metadata": {},
   "source": [
    "# 2.  Let's get Visual!\n",
    "\n",
    "Alright, let's start making some plots that will help us answer some questions regarding our data. \n",
    "\n",
    "Betterflix™ wants to select films that are \"better than the rest\". Revenue is a good tell of how successful and well-received a film is. It would be interesting to see if films made by collaborating studios have higher producing revenue? If films that work in collaboration have higher revenue, that makes it easy for Betterflix™ to simply select films for their streaming service that have worked with multiple studios. "
   ]
  },
  {
   "cell_type": "markdown",
   "metadata": {},
   "source": [
    "**Question 2.1** <br> {points: 1}  \n",
    "\n",
    "Before we dive into answering our question, let's examine the studios and studios that collaborate from the data. Create a bar chart that shows the number of films each studio produced. \n",
    "\n",
    "Think about how the plot should be rotated. It's a good idea to sort your plot as well in an appropriate order. Give the plot an appropriate title, axis labels and set the height and width to 800 and 600 respectively.\n",
    "\n",
    "*Save the plot in an object named `studio_plot`.*"
   ]
  },
  {
   "cell_type": "code",
   "execution_count": null,
   "metadata": {
    "deletable": false,
    "nbgrader": {
     "cell_type": "code",
     "checksum": "3aecc16bd156b06d65da875fa3992153",
     "grade": false,
     "grade_id": "cell-0037d95225dc3213",
     "locked": false,
     "schema_version": 3,
     "solution": true,
     "task": false
    }
   },
   "outputs": [],
   "source": [
    "studio_plot = None\n",
    "\n",
    "# your code here\n",
    "raise NotImplementedError # No Answer - remove if you provide an answer\n",
    "studio_plot"
   ]
  },
  {
   "cell_type": "code",
   "execution_count": null,
   "metadata": {
    "deletable": false,
    "editable": false,
    "nbgrader": {
     "cell_type": "code",
     "checksum": "02fb3939034b0f3cf43d8a26689a5fda",
     "grade": true,
     "grade_id": "cell-92d9de6a4c3e02c3",
     "locked": true,
     "points": 1,
     "schema_version": 3,
     "solution": false,
     "task": false
    }
   },
   "outputs": [],
   "source": [
    "t.test_2_1(studio_plot)"
   ]
  },
  {
   "cell_type": "markdown",
   "metadata": {},
   "source": [
    "**Question 2.2** <br> {points: 1}  \n",
    "\n",
    "Which 2 studios produce the most amount of films together? (take a look at the bar graph in 2.1)\n",
    "\n",
    "\n",
    "*To answer the question, add the names of the studios as elements of type `str` to a list and assign it to a variable named `answer2_2`. For example, if you believe that Warner Bros. and Marvel Studios produce the greatest number of films together, then your answer would look like this:*\n",
    "\n",
    "`answer2_2 = [\"Pixar Animation Studios\", \"Walt Disney Pictures\"]`"
   ]
  },
  {
   "cell_type": "code",
   "execution_count": null,
   "metadata": {
    "deletable": false,
    "nbgrader": {
     "cell_type": "code",
     "checksum": "5ece8eb5e929bc335eaa098874a703c5",
     "grade": false,
     "grade_id": "cell-41b7309ff4cc831c",
     "locked": false,
     "schema_version": 3,
     "solution": true,
     "task": false
    }
   },
   "outputs": [],
   "source": [
    "answer2_2 = None\n",
    "\n",
    "# your code here\n",
    "raise NotImplementedError # No Answer - remove if you provide an answer\n",
    "answer2_2"
   ]
  },
  {
   "cell_type": "code",
   "execution_count": null,
   "metadata": {
    "deletable": false,
    "editable": false,
    "nbgrader": {
     "cell_type": "code",
     "checksum": "60d41037f1142859c7c6dac0e532dfcd",
     "grade": true,
     "grade_id": "cell-9418a793d3b95399",
     "locked": true,
     "points": 1,
     "schema_version": 3,
     "solution": false,
     "task": false
    }
   },
   "outputs": [],
   "source": [
    "t.test_2_2(answer2_2)"
   ]
  },
  {
   "cell_type": "markdown",
   "metadata": {},
   "source": [
    "**Question 2.3** <br> {points: 2}  \n",
    "\n",
    "We want to examine if films that have been produced in collaboration have higher revenue so we need to distinguish between these films! \n",
    "\n",
    "Add a column to the dataframe `movies_df` named `collaboration` that returns `True` if the list in the `studios` column is greater than 1. \n",
    "\n",
    "*Save the new dataframe in an object named `collab_df`.*"
   ]
  },
  {
   "cell_type": "code",
   "execution_count": null,
   "metadata": {
    "deletable": false,
    "nbgrader": {
     "cell_type": "code",
     "checksum": "ef1c2a4f6aa542043f80be71a1d4f912",
     "grade": false,
     "grade_id": "cell-b70c130de15ee74b",
     "locked": false,
     "schema_version": 3,
     "solution": true,
     "task": false
    }
   },
   "outputs": [],
   "source": [
    "collab_df = None\n",
    "\n",
    "# your code here\n",
    "raise NotImplementedError # No Answer - remove if you provide an answer\n",
    "collab_df.head()"
   ]
  },
  {
   "cell_type": "code",
   "execution_count": null,
   "metadata": {
    "deletable": false,
    "editable": false,
    "nbgrader": {
     "cell_type": "code",
     "checksum": "bddff805c4cbc5eee9260af0fdc4adfb",
     "grade": true,
     "grade_id": "cell-7e6d761d0adc987a",
     "locked": true,
     "points": 2,
     "schema_version": 3,
     "solution": false,
     "task": false
    }
   },
   "outputs": [],
   "source": [
    "t.test_2_3(collab_df)"
   ]
  },
  {
   "cell_type": "markdown",
   "metadata": {},
   "source": [
    "**Question 2.4** <br> {points: 2}  \n",
    "\n",
    "How many films in our dataset have been collaborations? \n",
    "\n",
    "Plot the counts of the `collaboration` column that we made in **Question 2.3** from the `collab_df` dataframe. Give the plot a title and a width and height of 300.\n",
    "\n",
    "*Save the plot in an object named `studio_dist`.*"
   ]
  },
  {
   "cell_type": "code",
   "execution_count": null,
   "metadata": {
    "deletable": false,
    "nbgrader": {
     "cell_type": "code",
     "checksum": "7b74747979d35a03c5bb5ef2433e944e",
     "grade": false,
     "grade_id": "cell-0e6a66fcfb8c1e55",
     "locked": false,
     "schema_version": 3,
     "solution": true,
     "task": false
    }
   },
   "outputs": [],
   "source": [
    "studio_dist = None\n",
    "\n",
    "# your code here\n",
    "raise NotImplementedError # No Answer - remove if you provide an answer\n",
    "studio_dist"
   ]
  },
  {
   "cell_type": "code",
   "execution_count": null,
   "metadata": {
    "deletable": false,
    "editable": false,
    "nbgrader": {
     "cell_type": "code",
     "checksum": "c68c2acbb459bc8f3d1f679fade727ac",
     "grade": true,
     "grade_id": "cell-0922075b54cd56d8",
     "locked": true,
     "points": 2,
     "schema_version": 3,
     "solution": false,
     "task": false
    }
   },
   "outputs": [],
   "source": [
    "t.test_2_4(studio_dist)"
   ]
  },
  {
   "cell_type": "markdown",
   "metadata": {},
   "source": [
    "**Question 2.5** <br> {points: 2}\n",
    "\n",
    "Which of the following statements is correct? \n",
    "\n",
    "\n",
    "\n",
    "A) In our dataset, films are more often made by multiple studios.\n",
    "\n",
    "B) In our dataset, films are more often made by a single studio.\n",
    "\n",
    "C) In our dataset, films are made equally as often in collaboration as they are singular. \n",
    "\n",
    "\n",
    "*Answer in the cell below using the uppercase letter associated with your answer. Place your answer between `\"\"`, assign the correct answer to an object called `answer2_5`.*"
   ]
  },
  {
   "cell_type": "code",
   "execution_count": null,
   "metadata": {
    "deletable": false,
    "nbgrader": {
     "cell_type": "code",
     "checksum": "7ef5ad56922d9c64a76af71fc03b9df3",
     "grade": false,
     "grade_id": "cell-c1674c6c9783508e",
     "locked": false,
     "schema_version": 3,
     "solution": true,
     "task": false
    }
   },
   "outputs": [],
   "source": [
    "answer2_5 = None\n",
    "\n",
    "# your code here\n",
    "raise NotImplementedError # No Answer - remove if you provide an answer\n",
    "answer2_5"
   ]
  },
  {
   "cell_type": "code",
   "execution_count": null,
   "metadata": {
    "deletable": false,
    "editable": false,
    "nbgrader": {
     "cell_type": "code",
     "checksum": "47f367f386a5108464d7f139b1c3a65c",
     "grade": true,
     "grade_id": "cell-42daff87d21e11b7",
     "locked": true,
     "points": 2,
     "schema_version": 3,
     "solution": false,
     "task": false
    }
   },
   "outputs": [],
   "source": [
    "\n",
    "# check that the variable exists\n",
    "assert 'answer2_5' in globals(\n",
    "), \"Please make sure that your solution is named 'answer2_5'\"\n",
    "\n",
    "# This test has been intentionally hidden. It will be up to you to decide if your solution\n",
    "# is sufficiently good."
   ]
  },
  {
   "cell_type": "markdown",
   "metadata": {},
   "source": [
    "**Question 2.6** <br> {points: 2}  \n",
    "\n",
    "We want to find out if films made in collaboration produce more revenue, but first, it's a good idea to see how the revenue values are distributed in our data. \n",
    "\n",
    "What kind of films are included in our dataset? Do we only have big blockbuster films at our disposal or are there also smaller indie films in our dataset? \n",
    "\n",
    "Take a look at the `revenue` column from the `collab_df` dataframe.\n",
    "Create a single histogram of the column, set the number of bins to `50`. Don't forget to give the plot a title and proper axis labels.\n",
    "\n",
    "*Save the plot in an object named `revenue_plot`.*"
   ]
  },
  {
   "cell_type": "code",
   "execution_count": null,
   "metadata": {
    "deletable": false,
    "nbgrader": {
     "cell_type": "code",
     "checksum": "9f102de9f07e0c7ba25c27d8fa7438ac",
     "grade": false,
     "grade_id": "cell-cf4db4309fcdae25",
     "locked": false,
     "schema_version": 3,
     "solution": true,
     "task": false
    }
   },
   "outputs": [],
   "source": [
    "revenue_plot = None\n",
    "\n",
    "# your code here\n",
    "raise NotImplementedError # No Answer - remove if you provide an answer\n",
    "revenue_plot"
   ]
  },
  {
   "cell_type": "code",
   "execution_count": null,
   "metadata": {
    "deletable": false,
    "editable": false,
    "nbgrader": {
     "cell_type": "code",
     "checksum": "1d7ad2098daca1f56e446459a0f84262",
     "grade": true,
     "grade_id": "cell-6c78142bc0140693",
     "locked": true,
     "points": 2,
     "schema_version": 3,
     "solution": false,
     "task": false
    }
   },
   "outputs": [],
   "source": [
    "t.test_2_6(revenue_plot)"
   ]
  },
  {
   "cell_type": "markdown",
   "metadata": {},
   "source": [
    "**Question 2.7** <br> {points: 1}\n",
    "\n",
    "What can we tell from the graph above? \n",
    "\n",
    "\n",
    "A) Revenue is uniformly distributed among blockbuster films and lower revenue ones. \n",
    "\n",
    "B) Revenue is normally distributed (bell-shaped curved) \n",
    " \n",
    "C) There appears to be a few films generating much higher revenue.\n",
    "\n",
    "D) There appears to be a few films generating much lower revenue.\n",
    "\n",
    "\n",
    "*Answer in the cell below using the uppercase letter associated with your answer. Place your answer between `\"\"`, assign the correct answer to an object called `answer2_7`.*"
   ]
  },
  {
   "cell_type": "code",
   "execution_count": null,
   "metadata": {
    "deletable": false,
    "nbgrader": {
     "cell_type": "code",
     "checksum": "7a0804e7da65e53daf4cb2137106a4cf",
     "grade": false,
     "grade_id": "cell-0204d3aeb256bd1c",
     "locked": false,
     "schema_version": 3,
     "solution": true,
     "task": false
    }
   },
   "outputs": [],
   "source": [
    "answer2_7 = None\n",
    "\n",
    "# your code here\n",
    "raise NotImplementedError # No Answer - remove if you provide an answer\n",
    "answer2_7"
   ]
  },
  {
   "cell_type": "code",
   "execution_count": null,
   "metadata": {
    "deletable": false,
    "editable": false,
    "nbgrader": {
     "cell_type": "code",
     "checksum": "81a6a19791b69885afb9c44e766bc7e9",
     "grade": true,
     "grade_id": "cell-35792a33638a082b",
     "locked": true,
     "points": 1,
     "schema_version": 3,
     "solution": false,
     "task": false
    }
   },
   "outputs": [],
   "source": [
    "t.test_2_7(answer2_7)"
   ]
  },
  {
   "cell_type": "markdown",
   "metadata": {},
   "source": [
    "**Question 2.8** <br> {points: 1}  \n",
    "\n",
    "Alright, let's start answering our big picture question now - Do films made in collaboration generally generate more revenue? \n",
    "\n",
    "We can attempt to answer this question by taking the plot `revenue_plot` from **Question 2.6** and faceting it by the column `collaboration`. \n",
    "\n",
    "*Save the plot in an object named `revenue_plot_facet`.*"
   ]
  },
  {
   "cell_type": "code",
   "execution_count": null,
   "metadata": {
    "deletable": false,
    "nbgrader": {
     "cell_type": "code",
     "checksum": "cdda462a91bba4b40f30b830f8e969b6",
     "grade": false,
     "grade_id": "cell-06ecc11a6de9da9c",
     "locked": false,
     "schema_version": 3,
     "solution": true,
     "task": false
    }
   },
   "outputs": [],
   "source": [
    "revenue_plot_facet = None\n",
    "\n",
    "# your code here\n",
    "raise NotImplementedError # No Answer - remove if you provide an answer\n",
    "revenue_plot_facet"
   ]
  },
  {
   "cell_type": "code",
   "execution_count": null,
   "metadata": {
    "deletable": false,
    "editable": false,
    "nbgrader": {
     "cell_type": "code",
     "checksum": "a23673b77735443fae39aa9a442b0e5e",
     "grade": true,
     "grade_id": "cell-7396b67b2187e90b",
     "locked": true,
     "points": 1,
     "schema_version": 3,
     "solution": false,
     "task": false
    }
   },
   "outputs": [],
   "source": [
    "t.test_2_8(revenue_plot_facet)"
   ]
  },
  {
   "cell_type": "markdown",
   "metadata": {},
   "source": [
    "**Question 2.9** <br> {points: 1}  \n",
    "\n",
    "Ok, so that last plot didn't seem to help us that much. The two plot distributions are quite difficult to compare. We should fix that by giving each faceted plot it's own independent y-axis.\n",
    "\n",
    "Take the plot `revenue_plot_facet` from **Question 2.8** and adjust the axis scaling so its done independently. \n",
    "\n",
    "*Save the plot in an object named `revenue_plot_facet2`.*"
   ]
  },
  {
   "cell_type": "code",
   "execution_count": null,
   "metadata": {
    "deletable": false,
    "nbgrader": {
     "cell_type": "code",
     "checksum": "5fa560c00a56d5a4690cfb9ddb7ecc27",
     "grade": false,
     "grade_id": "cell-ab58ac8fcf748535",
     "locked": false,
     "schema_version": 3,
     "solution": true,
     "task": false
    }
   },
   "outputs": [],
   "source": [
    "revenue_plot_facet2 = None\n",
    "\n",
    "# your code here\n",
    "raise NotImplementedError # No Answer - remove if you provide an answer\n",
    "revenue_plot_facet2"
   ]
  },
  {
   "cell_type": "code",
   "execution_count": null,
   "metadata": {
    "deletable": false,
    "editable": false,
    "nbgrader": {
     "cell_type": "code",
     "checksum": "32c02bc3c8e33fd93aa145c0a8b53212",
     "grade": true,
     "grade_id": "cell-4c02dc98217713c8",
     "locked": true,
     "points": 1,
     "schema_version": 3,
     "solution": false,
     "task": false
    }
   },
   "outputs": [],
   "source": [
    "t.test_2_9(revenue_plot_facet2)"
   ]
  },
  {
   "cell_type": "markdown",
   "metadata": {},
   "source": [
    "**Question 2.10** <br> {points: 1}  \n",
    "\n",
    "Finally, we can now advise Betterflix™. What would you inform Betterflix™ regarding films that work in collaboration? <br>\n",
    "Which of the following is ***most*** appropriate?\n",
    "\n",
    "A) It's clear that films produced in collaboration have more success at the box office (higher revenue). \n",
    "\n",
    "B) It's clear that films produced in collaboration have less success at the box office (lower revenue). \n",
    "\n",
    "C) It appears there is no difference between the success at the box office between films that have collaboration or not.\n",
    "\n",
    "D) It's not especially clear if collaboration has an impact on the success at the box office particularly since there are not that many movies produced by multiple studios. We would likely have to follow up with formal statistical testing to determine if there is a difference.\n",
    "\n",
    "*Answer in the cell below using the uppercase letter associated with your answer. Place your answer between `\"\"`, assign the correct answer to an object called `answer2_10`.*"
   ]
  },
  {
   "cell_type": "code",
   "execution_count": null,
   "metadata": {
    "deletable": false,
    "nbgrader": {
     "cell_type": "code",
     "checksum": "e8ab6aaf9e095e7a1573987318603d16",
     "grade": false,
     "grade_id": "cell-30a07c9635c6502c",
     "locked": false,
     "schema_version": 3,
     "solution": true,
     "task": false
    }
   },
   "outputs": [],
   "source": [
    "answer2_10 = None\n",
    "\n",
    "# your code here\n",
    "raise NotImplementedError # No Answer - remove if you provide an answer\n",
    "answer2_10"
   ]
  },
  {
   "cell_type": "code",
   "execution_count": null,
   "metadata": {
    "deletable": false,
    "editable": false,
    "nbgrader": {
     "cell_type": "code",
     "checksum": "f440003f6626bd39019dfb2753f5e7b3",
     "grade": true,
     "grade_id": "cell-e94bb8e98844b173",
     "locked": true,
     "points": 1,
     "schema_version": 3,
     "solution": false,
     "task": false
    }
   },
   "outputs": [],
   "source": [
    "t.test_2_10(answer2_10)"
   ]
  },
  {
   "cell_type": "markdown",
   "metadata": {},
   "source": [
    "# 3. Exploring Genre and Studio Categories\n",
    "\n",
    "Are certain studios or movie genres producing more successful films at the box office? If Betterflix™ was hosting films from particularly popular genres and studios that might help their competitive edge! Well, Disney+ is doing it! \n",
    "\n",
    "This could be valuable information for Betterflix™ so let’s get to it!\n"
   ]
  },
  {
   "cell_type": "markdown",
   "metadata": {},
   "source": [
    "Let's start with the movie genres.\n",
    "\n",
    "If you look at the data frame, you can see that each film can have multiple genres in a list.\n",
    "\n",
    "This is a little problematic and means we must decide if we are counting the film once per genre or once overall. Since we have no information on what the main genres are for each movie, it's a good idea to produce multiple rows per genre in the genres column."
   ]
  },
  {
   "cell_type": "code",
   "execution_count": null,
   "metadata": {},
   "outputs": [],
   "source": [
    "movies_df.head()"
   ]
  },
  {
   "cell_type": "markdown",
   "metadata": {},
   "source": [
    "**Question 3.1** \n",
    "<br> {points: 1}\n",
    "\n",
    "Replicate each row once per genre in the genres column. There is a pandas method called [`.explode()`](https://pandas.pydata.org/pandas-docs/stable/reference/api/pandas.Series.explode.html) for this that can help us produce multiples rows for each genre in the genres list. \n",
    "\n",
    "Exploding multiple columns in a dataframe at a time runs a risk of duplicated rows if not mapped correctly which could affect your analysis. Note that for these assignments we will using `.explode()` with a single column at a time to avoid this. \n",
    "\n",
    "Create a new dataframe that will create rows for every existing genre in the `genres` column. Look at the documentation provided if you need any guidance. \n",
    "\n",
    "\n",
    "*Save this new dataframe in an object named `movie_genres_df`.*"
   ]
  },
  {
   "cell_type": "code",
   "execution_count": null,
   "metadata": {
    "deletable": false,
    "nbgrader": {
     "cell_type": "code",
     "checksum": "94eb3dd1cb1580d0846ef451e47da758",
     "grade": false,
     "grade_id": "cell-96a11807f1ee9522",
     "locked": false,
     "schema_version": 3,
     "solution": true,
     "task": false
    }
   },
   "outputs": [],
   "source": [
    "movie_genres_df = None\n",
    "\n",
    "# your code here\n",
    "raise NotImplementedError # No Answer - remove if you provide an answer\n",
    "movie_genres_df.head()"
   ]
  },
  {
   "cell_type": "code",
   "execution_count": null,
   "metadata": {
    "deletable": false,
    "editable": false,
    "nbgrader": {
     "cell_type": "code",
     "checksum": "1fff38e611c3e76520d3399c33b0687a",
     "grade": true,
     "grade_id": "cell-d35d35f2838bf0ea",
     "locked": true,
     "points": 1,
     "schema_version": 3,
     "solution": false,
     "task": false
    }
   },
   "outputs": [],
   "source": [
    "t.test_3_1(movie_genres_df)"
   ]
  },
  {
   "cell_type": "markdown",
   "metadata": {},
   "source": [
    "**Question 3.2** \n",
    "<br> {points: 1}\n",
    "\n",
    "What are all the unique movie genres?\n",
    "\n",
    "How many different movie genres are there? \n",
    "\n",
    "*Save all the unique movie genres in a list named `movie_genres`. Save the total number of genres in an object named `genres_tot` of type `int`.*"
   ]
  },
  {
   "cell_type": "code",
   "execution_count": null,
   "metadata": {
    "deletable": false,
    "nbgrader": {
     "cell_type": "code",
     "checksum": "4c854c94f1e1d17351e38804e1a7756e",
     "grade": false,
     "grade_id": "cell-4d4a747261f5f35e",
     "locked": false,
     "schema_version": 3,
     "solution": true,
     "task": false
    }
   },
   "outputs": [],
   "source": [
    "movie_genres = None\n",
    "genres_tot = None\n",
    "\n",
    "# your code here\n",
    "raise NotImplementedError # No Answer - remove if you provide an answer\n",
    "print(movie_genres)\n",
    "print(genres_tot)"
   ]
  },
  {
   "cell_type": "code",
   "execution_count": null,
   "metadata": {
    "deletable": false,
    "editable": false,
    "nbgrader": {
     "cell_type": "code",
     "checksum": "0411944ec82159007214230bc93e9d93",
     "grade": true,
     "grade_id": "cell-5cd634cfb719b112",
     "locked": true,
     "points": 1,
     "schema_version": 3,
     "solution": false,
     "task": false
    }
   },
   "outputs": [],
   "source": [
    "t.test_3_2(movie_genres)"
   ]
  },
  {
   "cell_type": "markdown",
   "metadata": {},
   "source": [
    "**Question 3.3** \n",
    "<br> {points: 2}\n",
    "\n",
    "Which movie genres have the highest **median** gross revenue? Sort the genres by ascending median gross revenue. \n",
    "\n",
    "*Hint: You will need to groupby each genre, find the median of the revenue, sort the values by the index and convert it to a list (`.sort_values().index.to_list()` may be helpful here)*\n",
    "\n",
    "*Assign the sorted list to an object named `genres_by_revenue`.* \n"
   ]
  },
  {
   "cell_type": "code",
   "execution_count": null,
   "metadata": {
    "deletable": false,
    "nbgrader": {
     "cell_type": "code",
     "checksum": "8a6f53caf72146c893bb4fe94cd6b461",
     "grade": false,
     "grade_id": "cell-1c7ff9f4abf7b71c",
     "locked": false,
     "schema_version": 3,
     "solution": true,
     "task": false
    }
   },
   "outputs": [],
   "source": [
    "genres_by_revenue = None\n",
    "\n",
    "# your code here\n",
    "raise NotImplementedError # No Answer - remove if you provide an answer\n",
    "genres_by_revenue"
   ]
  },
  {
   "cell_type": "code",
   "execution_count": null,
   "metadata": {
    "deletable": false,
    "editable": false,
    "nbgrader": {
     "cell_type": "code",
     "checksum": "939b251e9e83d4d658fd79b4e66b5ecb",
     "grade": true,
     "grade_id": "cell-1ebb62d1b8c27149",
     "locked": true,
     "points": 2,
     "schema_version": 3,
     "solution": false,
     "task": false
    }
   },
   "outputs": [],
   "source": [
    "t.test_3_3(genres_by_revenue)"
   ]
  },
  {
   "cell_type": "markdown",
   "metadata": {},
   "source": [
    "**Question 3.4** \n",
    "<br> {points: 1}\n",
    "\n",
    "Use the new dataframe `movie_genres_df` that was made in **Question 3.1** and create multiple boxplots inside a single figure. Map the genres on the y-axis and gross revenue on the x-axis.\n",
    "\n",
    "Remember that Boxplots can only be sorted by passing an explicit list of the sort column, in this case, the genre's values. Sort the genres by using the list from `genres_by_revenue` from **Question 3.3**, so that the median lines of the box plot are nicely sorted. Don't forget to give the plot a title.\n",
    "\n",
    "\n",
    "*Save the plot in an object named `rev_boxplot`.*"
   ]
  },
  {
   "cell_type": "code",
   "execution_count": null,
   "metadata": {
    "deletable": false,
    "nbgrader": {
     "cell_type": "code",
     "checksum": "3621ab3ed5c0ae27c29c463cf7b1bc23",
     "grade": false,
     "grade_id": "cell-6316956ef2461193",
     "locked": false,
     "schema_version": 3,
     "solution": true,
     "task": false
    }
   },
   "outputs": [],
   "source": [
    "rev_boxplot = None\n",
    "\n",
    "# your code here\n",
    "raise NotImplementedError # No Answer - remove if you provide an answer\n",
    "rev_boxplot"
   ]
  },
  {
   "cell_type": "code",
   "execution_count": null,
   "metadata": {
    "deletable": false,
    "editable": false,
    "nbgrader": {
     "cell_type": "code",
     "checksum": "e6d803a1e1140e07b5066bb2be0cab93",
     "grade": true,
     "grade_id": "cell-5297ddf62a6b6304",
     "locked": true,
     "points": 1,
     "schema_version": 3,
     "solution": false,
     "task": false
    }
   },
   "outputs": [],
   "source": [
    "t.test_3_4(rev_boxplot)"
   ]
  },
  {
   "cell_type": "markdown",
   "metadata": {},
   "source": [
    "**Question 3.5**  \n",
    "<br> {points: 2}\n",
    "\n",
    "One of the great things about boxplots is they allows us to see some of the outliers that occur in each category. The high revenue outliers of each category are definitely films that Betterflix™ should host.\n",
    "\n",
    "Let's see find out the revenue amount is for films in the 99.9th percentile of each genre. \n",
    "\n",
    "This means we need to look at what the 99.9th quantile is for `revenue` in each `genres`. \n",
    "\n",
    "You can solve this using a combination of `.groupby()` selecting and you'll need the [`.quantile()`](https://pandas.pydata.org/pandas-docs/stable/reference/api/pandas.core.groupby.DataFrameGroupBy.quantile.html) method as well. \n",
    "\n",
    "*Save the revenue value for each genre in a Pandas Series assigned to an object named `quantile_999`.*"
   ]
  },
  {
   "cell_type": "code",
   "execution_count": null,
   "metadata": {
    "deletable": false,
    "nbgrader": {
     "cell_type": "code",
     "checksum": "292854cbadaff1a152a6145763fde15c",
     "grade": false,
     "grade_id": "cell-093fc8644c60b67b",
     "locked": false,
     "schema_version": 3,
     "solution": true,
     "task": false
    }
   },
   "outputs": [],
   "source": [
    "quantile_999 = None\n",
    "\n",
    "# your code here\n",
    "raise NotImplementedError # No Answer - remove if you provide an answer\n",
    "quantile_999"
   ]
  },
  {
   "cell_type": "code",
   "execution_count": null,
   "metadata": {
    "deletable": false,
    "editable": false,
    "nbgrader": {
     "cell_type": "code",
     "checksum": "58a53dc52955c0bb4c8714508795f2bc",
     "grade": true,
     "grade_id": "cell-eeccbc07c083cbb2",
     "locked": true,
     "points": 2,
     "schema_version": 3,
     "solution": false,
     "task": false
    }
   },
   "outputs": [],
   "source": [
    "t.test_3_5(quantile_999)"
   ]
  },
  {
   "cell_type": "markdown",
   "metadata": {},
   "source": [
    "**Question 3.6**  \n",
    "<br> {points: 2}\n",
    "\n",
    "Let's see which film the outlier in the animation box plot could be. We definitely want that one for Betterflix™! Does anyone have any guesses? \n",
    "\n",
    "There are several ways you can find outliers in a dataframe but for simplicity, you can filter the `movie_genres_df` for the animation films that have a revenue value greater than the value for the animation genres in the `quantile_999` object. \n",
    "\n",
    "\n",
    "*Save the title as a string in an object named `animation_outlier`.*"
   ]
  },
  {
   "cell_type": "code",
   "execution_count": null,
   "metadata": {
    "deletable": false,
    "nbgrader": {
     "cell_type": "code",
     "checksum": "3d6d909622f09a2a247958adb77964a1",
     "grade": false,
     "grade_id": "cell-2dac1bb339859d67",
     "locked": false,
     "schema_version": 3,
     "solution": true,
     "task": false
    }
   },
   "outputs": [],
   "source": [
    "animation_outlier = None\n",
    "\n",
    "# your code here\n",
    "raise NotImplementedError # No Answer - remove if you provide an answer\n",
    "animation_outlier"
   ]
  },
  {
   "cell_type": "code",
   "execution_count": null,
   "metadata": {
    "deletable": false,
    "editable": false,
    "nbgrader": {
     "cell_type": "code",
     "checksum": "3f107aa1f0f4fa2f35afbbb3ceb58948",
     "grade": true,
     "grade_id": "cell-b6ce71dc34390eb7",
     "locked": true,
     "points": 2,
     "schema_version": 3,
     "solution": false,
     "task": false
    }
   },
   "outputs": [],
   "source": [
    "# check that the variable exists\n",
    "assert 'animation_outlier' in globals(\n",
    "), \"Please make sure that your solution is named 'animation_outlier'\"\n",
    "\n",
    "# This test has been intentionally hidden. It will be up to you to decide if your solution\n",
    "# is sufficiently good."
   ]
  },
  {
   "cell_type": "markdown",
   "metadata": {},
   "source": [
    "**Question 3.7**  \n",
    "<br> {points: 1}\n",
    "\n",
    "What about the far-right outlier in the Science Fiction genre. Which film could that be?\n",
    "\n",
    "Filter the `movie_genres_df` for the Science Fiction films that have a revenue value greater than the respective value in the `quantile_999` object. \n",
    "\n",
    "\n",
    "*Save the title as a string in an object named `sf_outlier`.*"
   ]
  },
  {
   "cell_type": "code",
   "execution_count": null,
   "metadata": {
    "deletable": false,
    "nbgrader": {
     "cell_type": "code",
     "checksum": "39650ebe1d3324432c0a677d02348faa",
     "grade": false,
     "grade_id": "cell-70fe5ac3c5d3320a",
     "locked": false,
     "schema_version": 3,
     "solution": true,
     "task": false
    }
   },
   "outputs": [],
   "source": [
    "sf_outlier = None\n",
    "\n",
    "# your code here\n",
    "raise NotImplementedError # No Answer - remove if you provide an answer\n",
    "sf_outlier"
   ]
  },
  {
   "cell_type": "code",
   "execution_count": null,
   "metadata": {
    "deletable": false,
    "editable": false,
    "nbgrader": {
     "cell_type": "code",
     "checksum": "7a3d622f31063277cad76fb4a8d508ca",
     "grade": true,
     "grade_id": "cell-151f60d54e399ba4",
     "locked": true,
     "points": 1,
     "schema_version": 3,
     "solution": false,
     "task": false
    }
   },
   "outputs": [],
   "source": [
    "t.test_3_7(sf_outlier)"
   ]
  },
  {
   "cell_type": "markdown",
   "metadata": {},
   "source": [
    "Did you expect those films to be the outliers in their respective genres? "
   ]
  },
  {
   "cell_type": "markdown",
   "metadata": {},
   "source": [
    "**Question 3.8**  \n",
    "<br> {points: 1}\n",
    "\n",
    "Remember that boxplots hide how many observations there are in each group, so you would need to check this manually. Before coding this answer, glance at your plot above again and reflect for yourself: which do you think is the biggest and smallest category and how many observations does there appear to be in each? Can you tell at all?\n",
    "\n",
    "Now let's see how close your guess is to the true answer. Make a barplot with the counts on the x-axis and the genres on the y-axis sorted by count and with the biggest bar closest to the x-axis. Don't forget to give the plot a title and appropriate axis labels.\n",
    "\n",
    "\n",
    "\n",
    "*Save the plot in an object named `genre_bar`.*"
   ]
  },
  {
   "cell_type": "code",
   "execution_count": null,
   "metadata": {
    "deletable": false,
    "nbgrader": {
     "cell_type": "code",
     "checksum": "97a5cc2f7599832e29521df42405b30c",
     "grade": false,
     "grade_id": "cell-52579a1fcab0da77",
     "locked": false,
     "schema_version": 3,
     "solution": true,
     "task": false
    }
   },
   "outputs": [],
   "source": [
    "genre_bar = None\n",
    "\n",
    "# your code here\n",
    "raise NotImplementedError # No Answer - remove if you provide an answer\n",
    "genre_bar"
   ]
  },
  {
   "cell_type": "code",
   "execution_count": null,
   "metadata": {
    "deletable": false,
    "editable": false,
    "nbgrader": {
     "cell_type": "code",
     "checksum": "635d4417c34765c1bc1d7a6925442918",
     "grade": true,
     "grade_id": "cell-5284f6d0a9e77002",
     "locked": true,
     "points": 1,
     "schema_version": 3,
     "solution": false,
     "task": false
    }
   },
   "outputs": [],
   "source": [
    "t.test_3_8(genre_bar)"
   ]
  },
  {
   "cell_type": "markdown",
   "metadata": {},
   "source": [
    "**Question 3.9**  \n",
    "<br> {points: 1}\n",
    "\n",
    "Now let's take a look and see if any particular studios are producing more blockbuster revenue-driving films. Then Betterflix™ can host more films coming from a particular studio. \n",
    "\n",
    "Similar to what you did in **Question 3.1**, create multiple rows for each of the studios from the `studios` column from the `movies_df` dataframe. \n",
    "\n",
    "*Save this new dataframe in an object named `movie_studios_df`.*"
   ]
  },
  {
   "cell_type": "code",
   "execution_count": null,
   "metadata": {
    "deletable": false,
    "nbgrader": {
     "cell_type": "code",
     "checksum": "5606bfbfeabe4a215095d6458daf0557",
     "grade": false,
     "grade_id": "cell-b399ec741158250b",
     "locked": false,
     "schema_version": 3,
     "solution": true,
     "task": false
    }
   },
   "outputs": [],
   "source": [
    "movie_studios_df = None\n",
    "\n",
    "# your code here\n",
    "raise NotImplementedError # No Answer - remove if you provide an answer\n",
    "movie_studios_df.head()"
   ]
  },
  {
   "cell_type": "code",
   "execution_count": null,
   "metadata": {
    "deletable": false,
    "editable": false,
    "nbgrader": {
     "cell_type": "code",
     "checksum": "4b7161613f2c02e631cf5c83cd421b13",
     "grade": true,
     "grade_id": "cell-39e23573fccfe533",
     "locked": true,
     "points": 1,
     "schema_version": 3,
     "solution": false,
     "task": false
    }
   },
   "outputs": [],
   "source": [
    "t.test_3_9(movie_studios_df)"
   ]
  },
  {
   "cell_type": "markdown",
   "metadata": {},
   "source": [
    "**Question 3.10**\n",
    "<br> {points: 1}\n",
    "\n",
    "Since we can't tell from the boxplots, before we plot the revenue for each studio, let's see how many films each studio produced?\n",
    "\n",
    "Make a barplot that maps the counts on the x-axis and the studio on the y-axis sorted by count, with the biggest bar closest to the x-axis. Don't forget to give the plot a title.\n",
    "\n",
    "\n",
    "*Save the plot in an object named `studio_bar`.*"
   ]
  },
  {
   "cell_type": "code",
   "execution_count": null,
   "metadata": {
    "deletable": false,
    "nbgrader": {
     "cell_type": "code",
     "checksum": "bbe6a1460a767b202bf773d8632df10b",
     "grade": false,
     "grade_id": "cell-f60545636ccee972",
     "locked": false,
     "schema_version": 3,
     "solution": true,
     "task": false
    }
   },
   "outputs": [],
   "source": [
    "studio_bar = None\n",
    "\n",
    "# your code here\n",
    "raise NotImplementedError # No Answer - remove if you provide an answer\n",
    "studio_bar"
   ]
  },
  {
   "cell_type": "code",
   "execution_count": null,
   "metadata": {
    "deletable": false,
    "editable": false,
    "nbgrader": {
     "cell_type": "code",
     "checksum": "0bad20a60736193b4506072d467edfbd",
     "grade": true,
     "grade_id": "cell-643801c7dc4df2ac",
     "locked": true,
     "points": 1,
     "schema_version": 3,
     "solution": false,
     "task": false
    }
   },
   "outputs": [],
   "source": [
    "t.test_3_10(studio_bar)"
   ]
  },
  {
   "cell_type": "markdown",
   "metadata": {},
   "source": [
    "**Question 3.11** \n",
    "<br> {points: 2}\n",
    "\n",
    "Which studios have the highest **median** revenue? \n",
    "Sort the studios in ascending order. \n",
    "\n",
    "*Hint: You will need to groupby each studio, find the median of the revenue, sort the values by the index and convert it to a list (`.sort_values().index.to_list()` may be helpful here)*\n",
    "\n",
    "*Assign the sorted list to an object named `studios_by_revenue`.* \n"
   ]
  },
  {
   "cell_type": "code",
   "execution_count": null,
   "metadata": {
    "deletable": false,
    "nbgrader": {
     "cell_type": "code",
     "checksum": "d63b4402bbdfcef73dfb17bcef10f4a9",
     "grade": false,
     "grade_id": "cell-68075207996ee1a6",
     "locked": false,
     "schema_version": 3,
     "solution": true,
     "task": false
    }
   },
   "outputs": [],
   "source": [
    "studios_by_revenue = None\n",
    "\n",
    "# your code here\n",
    "raise NotImplementedError # No Answer - remove if you provide an answer\n",
    "studios_by_revenue"
   ]
  },
  {
   "cell_type": "code",
   "execution_count": null,
   "metadata": {
    "deletable": false,
    "editable": false,
    "nbgrader": {
     "cell_type": "code",
     "checksum": "0fd7f1baeede2070e00474bebd9bd485",
     "grade": true,
     "grade_id": "cell-fefd064a57eb83f4",
     "locked": true,
     "points": 2,
     "schema_version": 3,
     "solution": false,
     "task": false
    }
   },
   "outputs": [],
   "source": [
    "t.test_3_11(studios_by_revenue)"
   ]
  },
  {
   "cell_type": "markdown",
   "metadata": {},
   "source": [
    "**Question 3.12** \n",
    "<br> {points: 1}\n",
    "\n",
    "Using the new dataframe `movie_studios_df` that was made in **Question 3.9**, Map the studios on the y-axis and revenue on the x-axis and create a boxplot for each of the studios. \n",
    "\n",
    "Sort the studios using the list from `studios_by_revenue` from **Question 3.11**, so that the median lines of the box plot are nicely sorted. Don't forget to give the plot a title.\n",
    "\n",
    "\n",
    "*Save the plot in an object named `rev_boxplot`.*"
   ]
  },
  {
   "cell_type": "code",
   "execution_count": null,
   "metadata": {
    "deletable": false,
    "nbgrader": {
     "cell_type": "code",
     "checksum": "4812c80edb826fdaa1a8a67978d3c90c",
     "grade": false,
     "grade_id": "cell-35fc5d3175d644a6",
     "locked": false,
     "schema_version": 3,
     "solution": true,
     "task": false
    }
   },
   "outputs": [],
   "source": [
    "rev_boxplot = None\n",
    "\n",
    "# your code here\n",
    "raise NotImplementedError # No Answer - remove if you provide an answer\n",
    "rev_boxplot"
   ]
  },
  {
   "cell_type": "code",
   "execution_count": null,
   "metadata": {
    "deletable": false,
    "editable": false,
    "nbgrader": {
     "cell_type": "code",
     "checksum": "56482a3c7f86f89ebd4c6106dc10debe",
     "grade": true,
     "grade_id": "cell-c6c0977034f957dd",
     "locked": true,
     "points": 1,
     "schema_version": 3,
     "solution": false,
     "task": false
    }
   },
   "outputs": [],
   "source": [
    "t.test_3_12(rev_boxplot)"
   ]
  },
  {
   "cell_type": "markdown",
   "metadata": {},
   "source": [
    "**Question 3.13** \n",
    "<br> {points: 1}\n",
    "\n",
    "Which studio has the highest minimum revenue? These films are an excellent choice to add to Betterflix™ since films tend to \"flop\" less from this studio. \n",
    "\n",
    "\n",
    "*Save the studio name as a string in an object named `answer3_13`.*"
   ]
  },
  {
   "cell_type": "code",
   "execution_count": null,
   "metadata": {
    "deletable": false,
    "nbgrader": {
     "cell_type": "code",
     "checksum": "32459fab83d7d73958290da94f7d2889",
     "grade": false,
     "grade_id": "cell-ff8b88f3ed13bda3",
     "locked": false,
     "schema_version": 3,
     "solution": true,
     "task": false
    }
   },
   "outputs": [],
   "source": [
    "answer3_13 = None\n",
    "\n",
    "# your code here\n",
    "raise NotImplementedError # No Answer - remove if you provide an answer\n",
    "answer3_13"
   ]
  },
  {
   "cell_type": "code",
   "execution_count": null,
   "metadata": {
    "deletable": false,
    "editable": false,
    "nbgrader": {
     "cell_type": "code",
     "checksum": "e2eaa1c27c429ef1f9c8cab827d9d991",
     "grade": true,
     "grade_id": "cell-51196d3e758f14de",
     "locked": true,
     "points": 1,
     "schema_version": 3,
     "solution": false,
     "task": false
    }
   },
   "outputs": [],
   "source": [
    "t.test_3_13(answer3_13)"
   ]
  },
  {
   "cell_type": "markdown",
   "metadata": {},
   "source": [
    "**Question 3.14** \n",
    "<br> {points: 1}\n",
    "\n",
    "Which studio produces films that are the most unpredictable in revenue (has the greatest range in revenue)?\n",
    "\n",
    "*Save the studio name as a string in an object named `answer3_14`.*"
   ]
  },
  {
   "cell_type": "code",
   "execution_count": null,
   "metadata": {
    "deletable": false,
    "nbgrader": {
     "cell_type": "code",
     "checksum": "7be7f27b4bded08836e03e013b92cf8e",
     "grade": false,
     "grade_id": "cell-858be56a817c28d5",
     "locked": false,
     "schema_version": 3,
     "solution": true,
     "task": false
    }
   },
   "outputs": [],
   "source": [
    "answer3_14 = None\n",
    "\n",
    "# your code here\n",
    "raise NotImplementedError # No Answer - remove if you provide an answer\n",
    "answer3_14"
   ]
  },
  {
   "cell_type": "code",
   "execution_count": null,
   "metadata": {
    "deletable": false,
    "editable": false,
    "nbgrader": {
     "cell_type": "code",
     "checksum": "fe36a768b1fa26e3d881213b5e4a5adc",
     "grade": true,
     "grade_id": "cell-6635571ee2f670c8",
     "locked": true,
     "points": 1,
     "schema_version": 3,
     "solution": false,
     "task": false
    }
   },
   "outputs": [],
   "source": [
    "t.test_3_14(answer3_14)"
   ]
  },
  {
   "cell_type": "markdown",
   "metadata": {},
   "source": [
    "**Question 3.15** \n",
    "<br> {points: 1}\n",
    "\n",
    "Which studio has the highest median? \n",
    "\n",
    "*Save the studio name as a string in an object named `answer3_15`.*"
   ]
  },
  {
   "cell_type": "code",
   "execution_count": null,
   "metadata": {
    "deletable": false,
    "nbgrader": {
     "cell_type": "code",
     "checksum": "c4ebe3895ebb9d6b9c2f876ad6742f6e",
     "grade": false,
     "grade_id": "cell-55e8e21845b34981",
     "locked": false,
     "schema_version": 3,
     "solution": true,
     "task": false
    }
   },
   "outputs": [],
   "source": [
    "answer3_15 = None\n",
    "\n",
    "# your code here\n",
    "raise NotImplementedError # No Answer - remove if you provide an answer\n",
    "answer3_15"
   ]
  },
  {
   "cell_type": "code",
   "execution_count": null,
   "metadata": {
    "deletable": false,
    "editable": false,
    "nbgrader": {
     "cell_type": "code",
     "checksum": "64d9cc4da9597e0f3984f7712cc93b3c",
     "grade": true,
     "grade_id": "cell-987876faebc5466e",
     "locked": true,
     "points": 1,
     "schema_version": 3,
     "solution": false,
     "task": false
    }
   },
   "outputs": [],
   "source": [
    "t.test_3_15(answer3_15)"
   ]
  },
  {
   "cell_type": "markdown",
   "metadata": {},
   "source": [
    "It's important to note that the data is not specifying the production year of each film. This means that some variables may not be completely telling since we are not accounting for inflation. \n",
    "\n",
    "One example of not having all the information is that New line Cinema no longer produces films and [was acquired in 2008](https://en.wikipedia.org/wiki/New_Line_Cinema) by  Warner Bros. \n",
    "\n",
    "This is one of the reasons why it's so important that you understand your data so that you can produce accurate and meaningful insights. "
   ]
  },
  {
   "cell_type": "markdown",
   "metadata": {},
   "source": [
    "# 4. Exploring Voting Average\n",
    "\n",
    "Up until this point, we have been looking at the revenue generated from each film as a way to measure how well a film was received. In this data, we also have a variable named `vote_average` which measures how viewers rated the film collectively. Betterflix™ wants to know how people are receiving certain films, that's how we can make sure that we have a competitive edge and only hosting films people will enjoy!\n",
    "\n",
    "\n",
    "The first thing we've done is categorized the top 10% revenue-producing filmed in the dataframe as `blockbusters` in a new `revenue_size` column and assigned it to a new dataframe named `blockbuster_df`. \n",
    "\n",
    "In this question, we will make a few different plots types for the same `vote_average` column and at the end, we are doing to observe which plot does the best job of answering our questions **\"Do films generating the top 10% of revenue produce higher received films by voting average?\"** and **\"Are there some hidden gems that make less revenue, but are very well received?\"**.  \n",
    "\n",
    "Let's start by adding a new column in our dataframe that categorizes each film at a top 10% revenue producer or not. "
   ]
  },
  {
   "cell_type": "code",
   "execution_count": null,
   "metadata": {},
   "outputs": [],
   "source": [
    "blockbuster_df = movies_df.assign(revenue_size=np.where(movies_df['revenue']>=  movies_df['revenue'].quantile(0.90), 'Blockbuster', 'Not top 10%'))\n",
    "blockbuster_df.head(10)"
   ]
  },
  {
   "cell_type": "markdown",
   "metadata": {},
   "source": [
    "[There is a bug that occurs when you plot histograms containing different groups](https://github.com/vega/vega-lite/issues/6991) which can affect the placement of each of the group's bars (whether a certain group has it's bars in front of another groups bars, is not consistent). \n",
    "\n",
    "For this reason, we are going to order this dataframe to avoid this error. "
   ]
  },
  {
   "cell_type": "code",
   "execution_count": null,
   "metadata": {},
   "outputs": [],
   "source": [
    "blockbuster_df = blockbuster_df.sort_values('revenue_size', ascending=False)\n",
    "blockbuster_df.head()"
   ]
  },
  {
   "cell_type": "markdown",
   "metadata": {},
   "source": [
    "**Question 4.1** <br> {points: 2}  \n",
    "\n",
    "First, let's look at all the observations and their `vote_average` from the data using a rug plot. We also want to map the colour channel to the film's `revenue_size`. It's also a good idea to set the opacity to 0.5. Make sure to assign a proper title and axis labels. \n",
    "\n",
    "\n",
    "*Save the plot in an object named `rug_plot`.*"
   ]
  },
  {
   "cell_type": "code",
   "execution_count": null,
   "metadata": {
    "deletable": false,
    "nbgrader": {
     "cell_type": "code",
     "checksum": "9cb7368588f5e95b765016a7e40460fa",
     "grade": false,
     "grade_id": "cell-2bf90cef316657b5",
     "locked": false,
     "schema_version": 3,
     "solution": true,
     "task": false
    }
   },
   "outputs": [],
   "source": [
    "rug_plot = None\n",
    "\n",
    "# your code here\n",
    "raise NotImplementedError # No Answer - remove if you provide an answer\n",
    "\n",
    "rug_plot"
   ]
  },
  {
   "cell_type": "code",
   "execution_count": null,
   "metadata": {
    "deletable": false,
    "editable": false,
    "nbgrader": {
     "cell_type": "code",
     "checksum": "699aa5d81c72d45933255cee65a24a6a",
     "grade": true,
     "grade_id": "cell-9a538104a94c321f",
     "locked": true,
     "points": 2,
     "schema_version": 3,
     "solution": false,
     "task": false
    }
   },
   "outputs": [],
   "source": [
    "t.test_4_1(rug_plot)"
   ]
  },
  {
   "cell_type": "markdown",
   "metadata": {},
   "source": [
    "**Question 4.2** <br> {points: 2}  \n",
    "\n",
    "Following the rug plot, make a stacked histogram that bins the voting average values on the x-axis and counts the number of films on the y-axis. \n",
    "Make sure to assign a colour channel to `revenue_size` and set `maxbins=30`. Don't forget to give the plot a title and proper axis labels.\n",
    "\n",
    "\n",
    "*Save the plot in an object named `histogram_plot`.*"
   ]
  },
  {
   "cell_type": "code",
   "execution_count": null,
   "metadata": {
    "deletable": false,
    "nbgrader": {
     "cell_type": "code",
     "checksum": "89c5ee99c58e73fe874745df38a124e2",
     "grade": false,
     "grade_id": "cell-d7a220f89bc85d22",
     "locked": false,
     "schema_version": 3,
     "solution": true,
     "task": false
    }
   },
   "outputs": [],
   "source": [
    "histogram_plot = None\n",
    "\n",
    "# your code here\n",
    "raise NotImplementedError # No Answer - remove if you provide an answer\n",
    "\n",
    "histogram_plot"
   ]
  },
  {
   "cell_type": "code",
   "execution_count": null,
   "metadata": {
    "deletable": false,
    "editable": false,
    "nbgrader": {
     "cell_type": "code",
     "checksum": "ced58b8a901bf594b1bda73756b41700",
     "grade": true,
     "grade_id": "cell-a83ea4ee767e90e9",
     "locked": true,
     "points": 2,
     "schema_version": 3,
     "solution": false,
     "task": false
    }
   },
   "outputs": [],
   "source": [
    "t.test_4_2(histogram_plot)"
   ]
  },
  {
   "cell_type": "markdown",
   "metadata": {},
   "source": [
    "**Question 4.3** <br> {points: 1}  \n",
    "\n",
    "Let's next take `histogram_plot` from **Question 4.2** and layer the bars instead of stacking them. Set the opacity to 0.5. \n",
    "Make sure that this plot has an appropriate title and proper axis labels.\n",
    "\n",
    "\n",
    "*Save the plot in an object named `layered_histogram_plot`.*"
   ]
  },
  {
   "cell_type": "code",
   "execution_count": null,
   "metadata": {
    "deletable": false,
    "nbgrader": {
     "cell_type": "code",
     "checksum": "3431f187f2820ac63b6ce5910c60baa1",
     "grade": false,
     "grade_id": "cell-82322b50edb1e423",
     "locked": false,
     "schema_version": 3,
     "solution": true,
     "task": false
    }
   },
   "outputs": [],
   "source": [
    "layered_histogram_plot = None\n",
    "\n",
    "# your code here\n",
    "raise NotImplementedError # No Answer - remove if you provide an answer\n",
    "\n",
    "layered_histogram_plot"
   ]
  },
  {
   "cell_type": "code",
   "execution_count": null,
   "metadata": {
    "deletable": false,
    "editable": false,
    "nbgrader": {
     "cell_type": "code",
     "checksum": "644e671c36eadea90d89ac2b060332f0",
     "grade": true,
     "grade_id": "cell-ac0eb912b661dbf4",
     "locked": true,
     "points": 1,
     "schema_version": 3,
     "solution": false,
     "task": false
    }
   },
   "outputs": [],
   "source": [
    "t.test_4_3(layered_histogram_plot)"
   ]
  },
  {
   "cell_type": "markdown",
   "metadata": {},
   "source": [
    "**Question 4.4** <br> {points: 2} \n",
    "\n",
    "\n",
    "Let's next make a density plot visualizing the film voting average column just like the previous question (you knew this one was coming). Take the  `blockbuster_df` data and make a density plot using `vote_average`. Groupby the `revenue_size` and Make sure to give a name of `density_vals` to the KDE values. Give the plot an opacity of 0.5 and make sure to encode `density_vals:Q` on the y-axis and map `revenue_size` to the colour channel.  \n",
    "Don't forget to give it an appropriate title and axis labels.\n",
    "\n",
    "*Save the plot in an object named `density_plot`.*\n"
   ]
  },
  {
   "cell_type": "code",
   "execution_count": null,
   "metadata": {
    "deletable": false,
    "nbgrader": {
     "cell_type": "code",
     "checksum": "4ae20f63e7f4cd2b998b092cbf064490",
     "grade": false,
     "grade_id": "cell-306d5b8f643a91db",
     "locked": false,
     "schema_version": 3,
     "solution": true,
     "task": false
    }
   },
   "outputs": [],
   "source": [
    "density_plot = None\n",
    "\n",
    "# your code here\n",
    "raise NotImplementedError # No Answer - remove if you provide an answer\n",
    "density_plot"
   ]
  },
  {
   "cell_type": "code",
   "execution_count": null,
   "metadata": {
    "deletable": false,
    "editable": false,
    "nbgrader": {
     "cell_type": "code",
     "checksum": "3f1ca3e3e00ab5eed13f74795c6ed357",
     "grade": true,
     "grade_id": "cell-2d6aad97004b4614",
     "locked": true,
     "points": 2,
     "schema_version": 3,
     "solution": false,
     "task": false
    }
   },
   "outputs": [],
   "source": [
    "t.test_4_4(density_plot)"
   ]
  },
  {
   "cell_type": "markdown",
   "metadata": {},
   "source": [
    "**Question 4.5** <br> {points: 2} \n",
    "\n",
    "Finally, for the last visualization, take the plot `density_plot` from **Question 4.4** and facet by `revenue_size` in a single column.\n",
    "\n",
    "*Save the plot in an object named `faceted_density_plot`.*"
   ]
  },
  {
   "cell_type": "code",
   "execution_count": null,
   "metadata": {
    "deletable": false,
    "nbgrader": {
     "cell_type": "code",
     "checksum": "cb0807c5b463b27a7ec17a6ad53d1176",
     "grade": false,
     "grade_id": "cell-d45975ce3815e4a4",
     "locked": false,
     "schema_version": 3,
     "solution": true,
     "task": false
    }
   },
   "outputs": [],
   "source": [
    "faceted_density_plot = None\n",
    "\n",
    "# your code here\n",
    "raise NotImplementedError # No Answer - remove if you provide an answer\n",
    "faceted_density_plot"
   ]
  },
  {
   "cell_type": "code",
   "execution_count": null,
   "metadata": {
    "deletable": false,
    "editable": false,
    "nbgrader": {
     "cell_type": "code",
     "checksum": "8e3900e2c979790ba45e926629d2366c",
     "grade": true,
     "grade_id": "cell-404bd015e08dfd1b",
     "locked": true,
     "points": 2,
     "schema_version": 3,
     "solution": false,
     "task": false
    }
   },
   "outputs": [],
   "source": [
    "t.test_4_5(faceted_density_plot)"
   ]
  },
  {
   "cell_type": "markdown",
   "metadata": {},
   "source": [
    "**Question 4.6** <br> {points: 2} \n",
    "\n",
    "Which plot best answers our original question **Do films generating revenue in the top 10%, produce higher received films by voting average?** \n",
    "\n",
    "A) `rug_plot` from **Question 4.1** \n",
    "\n",
    "B) `histogram_plot` from **Question 4.2** \n",
    " \n",
    "C) `layered_histogram_plot` from **Question 4.3** \n",
    "\n",
    "D) `density_plot` from **Question 4.4** \n",
    "\n",
    "E) `faceted_density_plot` from **Question 4.5** \n",
    "\n",
    "\n",
    "*Answer in the cell below using the uppercase letter associated with your answer. Place your answer between `\"\"`, assign the correct answer to an object called `answer4_6`.*"
   ]
  },
  {
   "cell_type": "code",
   "execution_count": null,
   "metadata": {
    "deletable": false,
    "nbgrader": {
     "cell_type": "code",
     "checksum": "bf14a7e61de8637658e250a0e875966e",
     "grade": false,
     "grade_id": "cell-7d1ba0a9bd7f7ea9",
     "locked": false,
     "schema_version": 3,
     "solution": true,
     "task": false
    }
   },
   "outputs": [],
   "source": [
    "answer4_6 = None\n",
    "\n",
    "# your code here\n",
    "raise NotImplementedError # No Answer - remove if you provide an answer\n",
    "answer4_6"
   ]
  },
  {
   "cell_type": "code",
   "execution_count": null,
   "metadata": {
    "deletable": false,
    "editable": false,
    "nbgrader": {
     "cell_type": "code",
     "checksum": "23707c4a6fcaa567675ab797697e38f8",
     "grade": true,
     "grade_id": "cell-0591be7710a89944",
     "locked": true,
     "points": 2,
     "schema_version": 3,
     "solution": false,
     "task": false
    }
   },
   "outputs": [],
   "source": [
    "# check that the variable exists\n",
    "assert 'answer4_6' in globals(\n",
    "), \"Please make sure that your solution is named 'answer4_6'\"\n",
    "\n",
    "# This test has been intentionally hidden. It will be up to you to decide if your solution\n",
    "# is sufficiently good."
   ]
  },
  {
   "cell_type": "markdown",
   "metadata": {},
   "source": [
    "**Question 4.7** <br> {points: 1} \n",
    "\n",
    "How would you answer this question after seeing all the plots above - **Are there some hidden gems that make less revenue, but are very well received?**\n",
    "Choose the best most complete answer from the options below. \n",
    "\n",
    "\n",
    "A) Yes, we can tell that the films with the highest average rating in the dataset are from non-blockbuster films.  \n",
    "\n",
    "B) Yes, there are some hidden gems but overal the highest-rated films by voting average tend to be blockbuster films. \n",
    "\n",
    "C) No, the only top-rated films are blockbuster films. \n",
    "\n",
    "\n",
    "*Answer in the cell below using the uppercase letter associated with your answer. Place your answer between `\"\"`, assign the correct answer to an object called `answer4_7`.*"
   ]
  },
  {
   "cell_type": "code",
   "execution_count": null,
   "metadata": {
    "deletable": false,
    "nbgrader": {
     "cell_type": "code",
     "checksum": "19993d69470feaa2d78a21e313a5d237",
     "grade": false,
     "grade_id": "cell-547967580197c019",
     "locked": false,
     "schema_version": 3,
     "solution": true,
     "task": false
    }
   },
   "outputs": [],
   "source": [
    "answer4_7 = None\n",
    "\n",
    "# your code here\n",
    "raise NotImplementedError # No Answer - remove if you provide an answer\n",
    "answer4_7"
   ]
  },
  {
   "cell_type": "code",
   "execution_count": null,
   "metadata": {
    "deletable": false,
    "editable": false,
    "nbgrader": {
     "cell_type": "code",
     "checksum": "d1c1d827de2bbbd3d0a00496f6007832",
     "grade": true,
     "grade_id": "cell-edb04e8d4ff1c06f",
     "locked": true,
     "points": 1,
     "schema_version": 3,
     "solution": false,
     "task": false
    }
   },
   "outputs": [],
   "source": [
    "t.test_4_7(answer4_7)"
   ]
  },
  {
   "cell_type": "markdown",
   "metadata": {},
   "source": [
    "Excellent work!! We're proud of your efforts to get Betterflix™ off the ground. This first report will really help us with our pitch for acquiring funding!\n",
    "\n",
    "Don't worry! We are not quite ready to launch and market to customers. In the next assignment we will continue our research."
   ]
  },
  {
   "cell_type": "markdown",
   "metadata": {},
   "source": [
    "## Before Submitting \n",
    "\n",
    "Before submitting your assignment please do the following:\n",
    "\n",
    "- Read through your solutions\n",
    "- **Restart your kernel, clear output and rerun your cells from top to bottom** \n",
    "- Makes sure that none of your code is broken \n",
    "- Verify that the tests from the questions you answered have obtained the output \"Success\"\n",
    "\n",
    "This is a simple way to make sure that you are submitting all the variables needed to mark the assignment. This method should help avoid losing marks due to changes in your environment.  "
   ]
  },
  {
   "cell_type": "markdown",
   "metadata": {},
   "source": [
    "## Attributions\n",
    "\n",
    "- MDS DSCI 531: Data Visualization I - [MDS's GitHub website](https://github.com/UBC-MDS/DSCI_531_viz-1) \n"
   ]
  }
 ],
 "metadata": {
  "kernelspec": {
   "display_name": "Python 3",
   "language": "python",
   "name": "python3"
  },
  "language_info": {
   "codemirror_mode": {
    "name": "ipython",
    "version": 3
   },
   "file_extension": ".py",
   "mimetype": "text/x-python",
   "name": "python",
   "nbconvert_exporter": "python",
   "pygments_lexer": "ipython3",
   "version": "3.8.5"
  },
  "toc": {
   "base_numbering": 1,
   "nav_menu": {},
   "number_sections": false,
   "sideBar": true,
   "skip_h1_title": false,
   "title_cell": "Table of Contents",
   "title_sidebar": "Contents",
   "toc_cell": false,
   "toc_position": {
    "height": "calc(100% - 180px)",
    "left": "10px",
    "top": "150px",
    "width": "384.792px"
   },
   "toc_section_display": true,
   "toc_window_display": true
  },
  "vscode": {
   "interpreter": {
    "hash": "3d597f4c481aa0f25dceb95d2a0067e73c0966dcbd003d741d821a7208527ecf"
   }
  }
 },
 "nbformat": 4,
 "nbformat_minor": 4
}
